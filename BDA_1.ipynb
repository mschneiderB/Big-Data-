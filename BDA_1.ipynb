{
 "cells": [
  {
   "cell_type": "code",
   "execution_count": 1,
   "id": "bc1eeaa2-a48b-4592-8c4c-fe77524c3b2d",
   "metadata": {},
   "outputs": [],
   "source": [
    "import pandas as pd\n",
    "import ast"
   ]
  },
  {
   "cell_type": "code",
   "execution_count": 2,
   "id": "72be9ab9-deeb-41d2-94c3-c0bead26a8f7",
   "metadata": {},
   "outputs": [],
   "source": [
    "main_data=pd.read_csv(\"real_domains.csv\",names=[\"Top level domain\",\"MX-Record from the name server\",\"A-Record of the specific domain\",\"Timestamp of scraping process\"])#,\n",
    "                      #converters={\"Top level domain\":str,\"MX-Record from the name server\":str,\"Timestamp of scraping process\":str})"
   ]
  },
  {
   "cell_type": "code",
   "execution_count": 3,
   "id": "5107a7f8-0398-44e0-a304-98a14ea4ad6a",
   "metadata": {},
   "outputs": [
    {
     "data": {
      "text/html": [
       "<div>\n",
       "<style scoped>\n",
       "    .dataframe tbody tr th:only-of-type {\n",
       "        vertical-align: middle;\n",
       "    }\n",
       "\n",
       "    .dataframe tbody tr th {\n",
       "        vertical-align: top;\n",
       "    }\n",
       "\n",
       "    .dataframe thead th {\n",
       "        text-align: right;\n",
       "    }\n",
       "</style>\n",
       "<table border=\"1\" class=\"dataframe\">\n",
       "  <thead>\n",
       "    <tr style=\"text-align: right;\">\n",
       "      <th></th>\n",
       "      <th>Top level domain</th>\n",
       "      <th>MX-Record from the name server</th>\n",
       "      <th>A-Record of the specific domain</th>\n",
       "      <th>Timestamp of scraping process</th>\n",
       "    </tr>\n",
       "  </thead>\n",
       "  <tbody>\n",
       "    <tr>\n",
       "      <th>0</th>\n",
       "      <td>0--1.de</td>\n",
       "      <td>[\"mail.0--1.de\",\"mxf993.netcup.net\"]</td>\n",
       "      <td>[\"46.38.249.145\"]</td>\n",
       "      <td>2020-12-13 15:36:05</td>\n",
       "    </tr>\n",
       "    <tr>\n",
       "      <th>1</th>\n",
       "      <td>0--2.de</td>\n",
       "      <td>[\"mxf993.netcup.net\",\"mail.0--2.de\"]</td>\n",
       "      <td>[\"212.227.212.163\"]</td>\n",
       "      <td>2020-12-13 15:36:05</td>\n",
       "    </tr>\n",
       "    <tr>\n",
       "      <th>2</th>\n",
       "      <td>0-0-0-0-0.de</td>\n",
       "      <td>[\"smtp-02.tld.t-online.de\",\"smtp-01.tld.t-onli...</td>\n",
       "      <td>[\"80.150.6.143\"]</td>\n",
       "      <td>2020-12-13 15:36:05</td>\n",
       "    </tr>\n",
       "    <tr>\n",
       "      <th>3</th>\n",
       "      <td>0-0-0-1.de</td>\n",
       "      <td>[\"smtp-02.tld.t-online.de\",\"smtp-01.tld.t-onli...</td>\n",
       "      <td>[\"80.150.6.143\"]</td>\n",
       "      <td>2020-12-13 15:36:05</td>\n",
       "    </tr>\n",
       "    <tr>\n",
       "      <th>4</th>\n",
       "      <td>0-0.de</td>\n",
       "      <td>[]</td>\n",
       "      <td>[\"185.53.178.13\"]</td>\n",
       "      <td>2020-12-13 15:36:05</td>\n",
       "    </tr>\n",
       "  </tbody>\n",
       "</table>\n",
       "</div>"
      ],
      "text/plain": [
       "  Top level domain                     MX-Record from the name server  \\\n",
       "0          0--1.de               [\"mail.0--1.de\",\"mxf993.netcup.net\"]   \n",
       "1          0--2.de               [\"mxf993.netcup.net\",\"mail.0--2.de\"]   \n",
       "2     0-0-0-0-0.de  [\"smtp-02.tld.t-online.de\",\"smtp-01.tld.t-onli...   \n",
       "3       0-0-0-1.de  [\"smtp-02.tld.t-online.de\",\"smtp-01.tld.t-onli...   \n",
       "4           0-0.de                                                 []   \n",
       "\n",
       "  A-Record of the specific domain Timestamp of scraping process  \n",
       "0               [\"46.38.249.145\"]           2020-12-13 15:36:05  \n",
       "1             [\"212.227.212.163\"]           2020-12-13 15:36:05  \n",
       "2                [\"80.150.6.143\"]           2020-12-13 15:36:05  \n",
       "3                [\"80.150.6.143\"]           2020-12-13 15:36:05  \n",
       "4               [\"185.53.178.13\"]           2020-12-13 15:36:05  "
      ]
     },
     "execution_count": 3,
     "metadata": {},
     "output_type": "execute_result"
    }
   ],
   "source": [
    "main_data.head()"
   ]
  },
  {
   "cell_type": "code",
   "execution_count": 4,
   "id": "5722eb69-b131-4c67-935e-8ad68e51c975",
   "metadata": {},
   "outputs": [
    {
     "data": {
      "text/html": [
       "<div>\n",
       "<style scoped>\n",
       "    .dataframe tbody tr th:only-of-type {\n",
       "        vertical-align: middle;\n",
       "    }\n",
       "\n",
       "    .dataframe tbody tr th {\n",
       "        vertical-align: top;\n",
       "    }\n",
       "\n",
       "    .dataframe thead th {\n",
       "        text-align: right;\n",
       "    }\n",
       "</style>\n",
       "<table border=\"1\" class=\"dataframe\">\n",
       "  <thead>\n",
       "    <tr style=\"text-align: right;\">\n",
       "      <th></th>\n",
       "      <th>Top level domain</th>\n",
       "      <th>MX-Record from the name server</th>\n",
       "      <th>A-Record of the specific domain</th>\n",
       "      <th>Timestamp of scraping process</th>\n",
       "    </tr>\n",
       "  </thead>\n",
       "  <tbody>\n",
       "    <tr>\n",
       "      <th>945622</th>\n",
       "      <td>derproviantmeister.de</td>\n",
       "      <td>[\"mx01.kundenserver.de\",\"mx00.kundenserver.de\"]</td>\n",
       "      <td>[\"217.160.0.200\"]</td>\n",
       "      <td>2020-12-09 20:04:42</td>\n",
       "    </tr>\n",
       "    <tr>\n",
       "      <th>945623</th>\n",
       "      <td>derprovider.de</td>\n",
       "      <td>[\"localhost\"]</td>\n",
       "      <td>[\"91.195.241.137\"]</td>\n",
       "      <td>2020-12-09 20:04:42</td>\n",
       "    </tr>\n",
       "    <tr>\n",
       "      <th>945624</th>\n",
       "      <td>derproviderserver.de</td>\n",
       "      <td>[\"dps123.derproviderserver.de\",\"dps13.derprovi...</td>\n",
       "      <td>[\"83.243.40.214\"]</td>\n",
       "      <td>2020-12-09 20:04:42</td>\n",
       "    </tr>\n",
       "    <tr>\n",
       "      <th>945625</th>\n",
       "      <td>derprovokateur.de</td>\n",
       "      <td>[\"localhost\"]</td>\n",
       "      <td>[\"91.195.241.137\"]</td>\n",
       "      <td>2020-12-09 20:04:42</td>\n",
       "    </tr>\n",
       "    <tr>\n",
       "      <th>945626</th>\n",
       "      <td>derprozessor.de</td>\n",
       "      <td>[\"mx01.kundenserver.de\",\"mx00.kundenserver.de\"]</td>\n",
       "      <td>[\"217.160.0.147\"]</td>\n",
       "      <td>2020-12-09 20:04:42</td>\n",
       "    </tr>\n",
       "    <tr>\n",
       "      <th>945627</th>\n",
       "      <td>derpruefdienstleister.de</td>\n",
       "      <td>[\"mx00.ionos.de\",\"mx01.ionos.de\"]</td>\n",
       "      <td>[\"217.160.0.61\"]</td>\n",
       "      <td>2020-12-09 20:04:42</td>\n",
       "    </tr>\n",
       "    <tr>\n",
       "      <th>945628</th>\n",
       "      <td>derpsychologedesboesen.de</td>\n",
       "      <td>[]</td>\n",
       "      <td>[\"94.130.50.195\"]</td>\n",
       "      <td>2020-12-09 20:04:42</td>\n",
       "    </tr>\n",
       "  </tbody>\n",
       "</table>\n",
       "</div>"
      ],
      "text/plain": [
       "                 Top level domain  \\\n",
       "945622      derproviantmeister.de   \n",
       "945623             derprovider.de   \n",
       "945624       derproviderserver.de   \n",
       "945625          derprovokateur.de   \n",
       "945626            derprozessor.de   \n",
       "945627   derpruefdienstleister.de   \n",
       "945628  derpsychologedesboesen.de   \n",
       "\n",
       "                           MX-Record from the name server  \\\n",
       "945622    [\"mx01.kundenserver.de\",\"mx00.kundenserver.de\"]   \n",
       "945623                                      [\"localhost\"]   \n",
       "945624  [\"dps123.derproviderserver.de\",\"dps13.derprovi...   \n",
       "945625                                      [\"localhost\"]   \n",
       "945626    [\"mx01.kundenserver.de\",\"mx00.kundenserver.de\"]   \n",
       "945627                  [\"mx00.ionos.de\",\"mx01.ionos.de\"]   \n",
       "945628                                                 []   \n",
       "\n",
       "       A-Record of the specific domain Timestamp of scraping process  \n",
       "945622               [\"217.160.0.200\"]           2020-12-09 20:04:42  \n",
       "945623              [\"91.195.241.137\"]           2020-12-09 20:04:42  \n",
       "945624               [\"83.243.40.214\"]           2020-12-09 20:04:42  \n",
       "945625              [\"91.195.241.137\"]           2020-12-09 20:04:42  \n",
       "945626               [\"217.160.0.147\"]           2020-12-09 20:04:42  \n",
       "945627                [\"217.160.0.61\"]           2020-12-09 20:04:42  \n",
       "945628               [\"94.130.50.195\"]           2020-12-09 20:04:42  "
      ]
     },
     "execution_count": 4,
     "metadata": {},
     "output_type": "execute_result"
    }
   ],
   "source": [
    "main_data[945622:945629]"
   ]
  },
  {
   "cell_type": "code",
   "execution_count": 4,
   "id": "06948254-fe2b-4130-ae80-29ea3255dacd",
   "metadata": {},
   "outputs": [
    {
     "data": {
      "text/html": [
       "<div>\n",
       "<style scoped>\n",
       "    .dataframe tbody tr th:only-of-type {\n",
       "        vertical-align: middle;\n",
       "    }\n",
       "\n",
       "    .dataframe tbody tr th {\n",
       "        vertical-align: top;\n",
       "    }\n",
       "\n",
       "    .dataframe thead th {\n",
       "        text-align: right;\n",
       "    }\n",
       "</style>\n",
       "<table border=\"1\" class=\"dataframe\">\n",
       "  <thead>\n",
       "    <tr style=\"text-align: right;\">\n",
       "      <th></th>\n",
       "      <th>Top level domain</th>\n",
       "      <th>MX-Record from the name server</th>\n",
       "      <th>A-Record of the specific domain</th>\n",
       "      <th>Timestamp of scraping process</th>\n",
       "    </tr>\n",
       "  </thead>\n",
       "  <tbody>\n",
       "    <tr>\n",
       "      <th>945624</th>\n",
       "      <td>derproviderserver.de</td>\n",
       "      <td>[\"dps123.derproviderserver.de\",\"dps13.derprovi...</td>\n",
       "      <td>[\"83.243.40.214\"]</td>\n",
       "      <td>2020-12-09 20:04:42</td>\n",
       "    </tr>\n",
       "    <tr>\n",
       "      <th>1048480</th>\n",
       "      <td>domservice.de</td>\n",
       "      <td>[\"mail01-f.domservice.de\",\"mail01-c.domservice...</td>\n",
       "      <td>[\"213.179.64.5\"]</td>\n",
       "      <td>2020-12-09 22:26:48</td>\n",
       "    </tr>\n",
       "    <tr>\n",
       "      <th>3520446</th>\n",
       "      <td>redleadsmarketing.de</td>\n",
       "      <td>[\"99smtp-v0.redleadsmarketing.de\",\"99smtp-v1.r...</td>\n",
       "      <td>[]</td>\n",
       "      <td>2020-12-12 08:05:05</td>\n",
       "    </tr>\n",
       "  </tbody>\n",
       "</table>\n",
       "</div>"
      ],
      "text/plain": [
       "             Top level domain  \\\n",
       "945624   derproviderserver.de   \n",
       "1048480         domservice.de   \n",
       "3520446  redleadsmarketing.de   \n",
       "\n",
       "                            MX-Record from the name server  \\\n",
       "945624   [\"dps123.derproviderserver.de\",\"dps13.derprovi...   \n",
       "1048480  [\"mail01-f.domservice.de\",\"mail01-c.domservice...   \n",
       "3520446  [\"99smtp-v0.redleadsmarketing.de\",\"99smtp-v1.r...   \n",
       "\n",
       "        A-Record of the specific domain Timestamp of scraping process  \n",
       "945624                [\"83.243.40.214\"]           2020-12-09 20:04:42  \n",
       "1048480                [\"213.179.64.5\"]           2020-12-09 22:26:48  \n",
       "3520446                              []           2020-12-12 08:05:05  "
      ]
     },
     "execution_count": 4,
     "metadata": {},
     "output_type": "execute_result"
    }
   ],
   "source": [
    "main_data[~(main_data[\"MX-Record from the name server\"].str.contains(']',case=False))]"
   ]
  },
  {
   "cell_type": "code",
   "execution_count": 10,
   "id": "c6e2ab06-10d1-407d-88cf-1aa67f51bffd",
   "metadata": {},
   "outputs": [
    {
     "data": {
      "text/plain": [
       "Int64Index([945624, 1048480, 3520446], dtype='int64')"
      ]
     },
     "execution_count": 10,
     "metadata": {},
     "output_type": "execute_result"
    }
   ],
   "source": [
    "main_data[~(main_data[\"MX-Record from the name server\"].str.contains(']',case=False))].index"
   ]
  },
  {
   "cell_type": "code",
   "execution_count": 12,
   "id": "8666c6ae-fe3e-4589-b370-fbf21eaf8e9f",
   "metadata": {},
   "outputs": [],
   "source": [
    "main_data_2 = main_data.drop([main_data.index[945624], main_data.index[1048480], main_data.index[3520446]])"
   ]
  },
  {
   "cell_type": "code",
   "execution_count": 47,
   "id": "0c1a3da1-0655-4788-8c4a-6ad0962b18b3",
   "metadata": {},
   "outputs": [
    {
     "name": "stdout",
     "output_type": "stream",
     "text": [
      "<class 'pandas.core.frame.DataFrame'>\n",
      "RangeIndex: 4860885 entries, 0 to 4860884\n",
      "Data columns (total 4 columns):\n",
      " #   Column                           Dtype \n",
      "---  ------                           ----- \n",
      " 0   Top level domain                 object\n",
      " 1   MX-Record from the name server   object\n",
      " 2   A-Record of the specific domain  object\n",
      " 3   Timestamp of scraping process    object\n",
      "dtypes: object(4)\n",
      "memory usage: 148.3+ MB\n"
     ]
    }
   ],
   "source": [
    "main_data.info()"
   ]
  },
  {
   "cell_type": "markdown",
   "id": "9fd7b712-c4eb-475d-b0b7-a38412abf666",
   "metadata": {},
   "source": [
    "* Top level domain: Namensserver; das, was Personen sich merken können\n",
    "* Ein MX Resource Record weist einem Namen einen Mailserver zu. Er stellt eine Besonderheit dar, da er sich auf einen speziellen Dienst im Internet, nämlich die E-Mailzustellung mittels SMTP, bezieht. Alle anderen Dienste nutzen CNAME, A und AAAA Resource Records für die Namensauflösung.\n",
    "* Ein A Resource Record weist einem Namen eine IPv4-Adresse zu.\n",
    "* alles Object Werte"
   ]
  },
  {
   "cell_type": "code",
   "execution_count": 48,
   "id": "89d6c284-050a-4a76-a966-9c8475b85fc1",
   "metadata": {},
   "outputs": [
    {
     "data": {
      "text/plain": [
       "auge-herzberg.de                    1\n",
       "xn--trockeneisstrahlen-sd-sic.de    1\n",
       "pjog.de                             1\n",
       "fomaonline.de                       1\n",
       "elektro-kienhoefer.de               1\n",
       "                                   ..\n",
       "canelovsrockyfielding.de            1\n",
       "kuehlen-umwelttechnik.de            1\n",
       "oncoming.de                         1\n",
       "pellets2go.de                       1\n",
       "mytopaz.de                          1\n",
       "Name: Top level domain, Length: 4860885, dtype: int64"
      ]
     },
     "execution_count": 48,
     "metadata": {},
     "output_type": "execute_result"
    }
   ],
   "source": [
    "main_data[\"Top level domain\"].value_counts()"
   ]
  },
  {
   "cell_type": "code",
   "execution_count": 49,
   "id": "6af60008-0711-454d-86b2-260949cb2cf1",
   "metadata": {},
   "outputs": [
    {
     "data": {
      "text/plain": [
       "Series([], Name: Top level domain, dtype: int64)"
      ]
     },
     "execution_count": 49,
     "metadata": {},
     "output_type": "execute_result"
    }
   ],
   "source": [
    "tmp_vc=main_data[\"Top level domain\"].value_counts()\n",
    "tmp_vc[tmp_vc>2]"
   ]
  },
  {
   "cell_type": "markdown",
   "id": "d281d22f-b886-4440-a2de-d096a99938c8",
   "metadata": {},
   "source": [
    "* es gibt keine Domain, die doppelt vorkommt"
   ]
  },
  {
   "cell_type": "code",
   "execution_count": 69,
   "id": "52f3a916-ea91-469c-8f1d-14898071851e",
   "metadata": {},
   "outputs": [
    {
     "ename": "AttributeError",
     "evalue": "'str' object has no attribute 'list'",
     "output_type": "error",
     "traceback": [
      "\u001b[0;31m---------------------------------------------------------------------------\u001b[0m",
      "\u001b[0;31mAttributeError\u001b[0m                            Traceback (most recent call last)",
      "\u001b[0;32m<ipython-input-69-afdbbad4e1dd>\u001b[0m in \u001b[0;36m<module>\u001b[0;34m\u001b[0m\n\u001b[1;32m      1\u001b[0m \u001b[0;31m#main_data.iloc[0,1].replace(\"\\\"\\\"\", \"\\\"\")\u001b[0m\u001b[0;34m\u001b[0m\u001b[0;34m\u001b[0m\u001b[0;34m\u001b[0m\u001b[0m\n\u001b[0;32m----> 2\u001b[0;31m \u001b[0mmain_data\u001b[0m\u001b[0;34m.\u001b[0m\u001b[0miloc\u001b[0m\u001b[0;34m[\u001b[0m\u001b[0;36m0\u001b[0m\u001b[0;34m,\u001b[0m\u001b[0;36m1\u001b[0m\u001b[0;34m]\u001b[0m\u001b[0;34m.\u001b[0m\u001b[0mlist\u001b[0m\u001b[0;34m(\u001b[0m\u001b[0;34m)\u001b[0m\u001b[0;34m\u001b[0m\u001b[0;34m\u001b[0m\u001b[0m\n\u001b[0m",
      "\u001b[0;31mAttributeError\u001b[0m: 'str' object has no attribute 'list'"
     ]
    }
   ],
   "source": [
    "#main_data.iloc[0,1].replace(\"\\\"\\\"\", \"\\\"\")\n",
    "main_data.iloc[0,1].list()"
   ]
  },
  {
   "cell_type": "code",
   "execution_count": 13,
   "id": "b97e171a-2834-4391-9f78-f4d160eae4cf",
   "metadata": {},
   "outputs": [],
   "source": [
    "main_data_2[\"MX-Record from the name server\"]=main_data_2[\"MX-Record from the name server\"].apply(lambda x: ast.literal_eval(x))"
   ]
  },
  {
   "cell_type": "code",
   "execution_count": null,
   "id": "555cee61-9fdd-4b7c-8f78-6056c2f981e5",
   "metadata": {},
   "outputs": [],
   "source": [
    "main_data.head()"
   ]
  },
  {
   "cell_type": "code",
   "execution_count": 10,
   "id": "3fafb6e5-c10a-4656-94a2-bb7278618a8e",
   "metadata": {},
   "outputs": [],
   "source": [
    "main_data.to_csv(\"test1.csv\")"
   ]
  },
  {
   "cell_type": "code",
   "execution_count": 53,
   "id": "c6695389-c1a0-470a-8287-ed5e0c4ea960",
   "metadata": {},
   "outputs": [
    {
     "data": {
      "text/plain": [
       "[]                                             634415\n",
       "[smtpin.rzone.de]                              509127\n",
       "[localhost]                                    303839\n",
       "[mx01.kundenserver.de,mx00.kundenserver.de]    176491\n",
       "[mx00.kundenserver.de,mx01.kundenserver.de]    176182\n",
       "                                                ...  \n",
       "[mail.remotezuhause.de]                             1\n",
       "[mail.rksoftware.de]                                1\n",
       "[mail.dachbeschichtungsprofi.de]                    1\n",
       "[mail.n8ly.de]                                      1\n",
       "[w0129c7a.kasserver.com]                            1\n",
       "Name: MX-Record from the name server, Length: 1294739, dtype: int64"
      ]
     },
     "execution_count": 53,
     "metadata": {},
     "output_type": "execute_result"
    }
   ],
   "source": [
    "main_data[\"MX-Record from the name server\"].value_counts()"
   ]
  },
  {
   "cell_type": "markdown",
   "id": "6766dfcd-40cd-4dda-82be-8241264769c1",
   "metadata": {},
   "source": [
    "* es gibt eine Kummulation bei bestimmten MX-Records. Das bedeutet, dass verschiedenste Domains den gleichen Mailserver nutzen (oder gar keinen).\n",
    "* Teileweise gibt es mehrere MX-Records pro Domain"
   ]
  },
  {
   "cell_type": "code",
   "execution_count": 3,
   "id": "6011433f-20d2-42e3-8044-c542ce2dc2b6",
   "metadata": {},
   "outputs": [
    {
     "data": {
      "text/html": [
       "<div>\n",
       "<style scoped>\n",
       "    .dataframe tbody tr th:only-of-type {\n",
       "        vertical-align: middle;\n",
       "    }\n",
       "\n",
       "    .dataframe tbody tr th {\n",
       "        vertical-align: top;\n",
       "    }\n",
       "\n",
       "    .dataframe thead th {\n",
       "        text-align: right;\n",
       "    }\n",
       "</style>\n",
       "<table border=\"1\" class=\"dataframe\">\n",
       "  <thead>\n",
       "    <tr style=\"text-align: right;\">\n",
       "      <th></th>\n",
       "      <th>os</th>\n",
       "    </tr>\n",
       "  </thead>\n",
       "  <tbody>\n",
       "    <tr>\n",
       "      <th>0</th>\n",
       "      <td>[smtp-02.tld.t-online.de, smtp-02.tld.t-online...</td>\n",
       "    </tr>\n",
       "    <tr>\n",
       "      <th>1</th>\n",
       "      <td>[smtp-01.tld.t-online.de]</td>\n",
       "    </tr>\n",
       "    <tr>\n",
       "      <th>2</th>\n",
       "      <td>[smtp-02.tld.t-online.de,smtp-01.tld.t-online.de]</td>\n",
       "    </tr>\n",
       "  </tbody>\n",
       "</table>\n",
       "</div>"
      ],
      "text/plain": [
       "                                                  os\n",
       "0  [smtp-02.tld.t-online.de, smtp-02.tld.t-online...\n",
       "1                          [smtp-01.tld.t-online.de]\n",
       "2  [smtp-02.tld.t-online.de,smtp-01.tld.t-online.de]"
      ]
     },
     "execution_count": 3,
     "metadata": {},
     "output_type": "execute_result"
    }
   ],
   "source": [
    "data={\"os\":[[\"smtp-02.tld.t-online.de\",\"smtp-02.tld.t-online.de\",\"smtp-01.tld.t-online.de\"],\"[smtp-01.tld.t-online.de]\",\"[smtp-02.tld.t-online.de,smtp-01.tld.t-online.de]\"]}\n",
    "test=pd.DataFrame(data)\n",
    "test.head()"
   ]
  },
  {
   "cell_type": "code",
   "execution_count": 5,
   "id": "92b3a4d8-3059-4a41-9537-78cdc00b8739",
   "metadata": {},
   "outputs": [],
   "source": [
    "#main_data[\"length_mx\"]=main_data[\"MX-Record from the name server\"].str.len()\n",
    "test[\"length_mx\"] = test[\"os\"].apply(lambda x: len(x))"
   ]
  },
  {
   "cell_type": "code",
   "execution_count": 6,
   "id": "1c6f125a-4d42-454d-a705-277b15ae3221",
   "metadata": {},
   "outputs": [
    {
     "data": {
      "text/html": [
       "<div>\n",
       "<style scoped>\n",
       "    .dataframe tbody tr th:only-of-type {\n",
       "        vertical-align: middle;\n",
       "    }\n",
       "\n",
       "    .dataframe tbody tr th {\n",
       "        vertical-align: top;\n",
       "    }\n",
       "\n",
       "    .dataframe thead th {\n",
       "        text-align: right;\n",
       "    }\n",
       "</style>\n",
       "<table border=\"1\" class=\"dataframe\">\n",
       "  <thead>\n",
       "    <tr style=\"text-align: right;\">\n",
       "      <th></th>\n",
       "      <th>os</th>\n",
       "      <th>length_mx</th>\n",
       "    </tr>\n",
       "  </thead>\n",
       "  <tbody>\n",
       "    <tr>\n",
       "      <th>0</th>\n",
       "      <td>[smtp-02.tld.t-online.de, smtp-02.tld.t-online...</td>\n",
       "      <td>3</td>\n",
       "    </tr>\n",
       "    <tr>\n",
       "      <th>1</th>\n",
       "      <td>[smtp-01.tld.t-online.de]</td>\n",
       "      <td>25</td>\n",
       "    </tr>\n",
       "    <tr>\n",
       "      <th>2</th>\n",
       "      <td>[smtp-02.tld.t-online.de,smtp-01.tld.t-online.de]</td>\n",
       "      <td>49</td>\n",
       "    </tr>\n",
       "  </tbody>\n",
       "</table>\n",
       "</div>"
      ],
      "text/plain": [
       "                                                  os  length_mx\n",
       "0  [smtp-02.tld.t-online.de, smtp-02.tld.t-online...          3\n",
       "1                          [smtp-01.tld.t-online.de]         25\n",
       "2  [smtp-02.tld.t-online.de,smtp-01.tld.t-online.de]         49"
      ]
     },
     "execution_count": 6,
     "metadata": {},
     "output_type": "execute_result"
    }
   ],
   "source": [
    "test.head()"
   ]
  },
  {
   "cell_type": "code",
   "execution_count": null,
   "id": "c03763d8-fbfc-4305-8848-e1c7e249734b",
   "metadata": {},
   "outputs": [],
   "source": [
    "test2=main_data[\"MX-Record from the name server\"].str.split(\"\\\"\",expand=True)\n",
    "test2.head(20)"
   ]
  },
  {
   "cell_type": "code",
   "execution_count": 14,
   "id": "4b3db527-6f1f-43c5-9945-8788a4bbaf2a",
   "metadata": {},
   "outputs": [],
   "source": [
    "main_data_2[\"length_mx\"]=main_data_2[\"MX-Record from the name server\"].apply(lambda x: len(x))"
   ]
  },
  {
   "cell_type": "code",
   "execution_count": 16,
   "id": "7f70cb57-bd84-420a-9e10-239a7f9399d3",
   "metadata": {},
   "outputs": [
    {
     "data": {
      "text/html": [
       "<div>\n",
       "<style scoped>\n",
       "    .dataframe tbody tr th:only-of-type {\n",
       "        vertical-align: middle;\n",
       "    }\n",
       "\n",
       "    .dataframe tbody tr th {\n",
       "        vertical-align: top;\n",
       "    }\n",
       "\n",
       "    .dataframe thead th {\n",
       "        text-align: right;\n",
       "    }\n",
       "</style>\n",
       "<table border=\"1\" class=\"dataframe\">\n",
       "  <thead>\n",
       "    <tr style=\"text-align: right;\">\n",
       "      <th></th>\n",
       "      <th>Top level domain</th>\n",
       "      <th>MX-Record from the name server</th>\n",
       "      <th>A-Record of the specific domain</th>\n",
       "      <th>Timestamp of scraping process</th>\n",
       "      <th>length_mx</th>\n",
       "    </tr>\n",
       "  </thead>\n",
       "  <tbody>\n",
       "    <tr>\n",
       "      <th>0</th>\n",
       "      <td>0--1.de</td>\n",
       "      <td>[mail.0--1.de, mxf993.netcup.net]</td>\n",
       "      <td>[\"46.38.249.145\"]</td>\n",
       "      <td>2020-12-13 15:36:05</td>\n",
       "      <td>2</td>\n",
       "    </tr>\n",
       "    <tr>\n",
       "      <th>1</th>\n",
       "      <td>0--2.de</td>\n",
       "      <td>[mxf993.netcup.net, mail.0--2.de]</td>\n",
       "      <td>[\"212.227.212.163\"]</td>\n",
       "      <td>2020-12-13 15:36:05</td>\n",
       "      <td>2</td>\n",
       "    </tr>\n",
       "    <tr>\n",
       "      <th>2</th>\n",
       "      <td>0-0-0-0-0.de</td>\n",
       "      <td>[smtp-02.tld.t-online.de, smtp-01.tld.t-online...</td>\n",
       "      <td>[\"80.150.6.143\"]</td>\n",
       "      <td>2020-12-13 15:36:05</td>\n",
       "      <td>2</td>\n",
       "    </tr>\n",
       "    <tr>\n",
       "      <th>3</th>\n",
       "      <td>0-0-0-1.de</td>\n",
       "      <td>[smtp-02.tld.t-online.de, smtp-01.tld.t-online...</td>\n",
       "      <td>[\"80.150.6.143\"]</td>\n",
       "      <td>2020-12-13 15:36:05</td>\n",
       "      <td>2</td>\n",
       "    </tr>\n",
       "    <tr>\n",
       "      <th>4</th>\n",
       "      <td>0-0.de</td>\n",
       "      <td>[]</td>\n",
       "      <td>[\"185.53.178.13\"]</td>\n",
       "      <td>2020-12-13 15:36:05</td>\n",
       "      <td>0</td>\n",
       "    </tr>\n",
       "    <tr>\n",
       "      <th>5</th>\n",
       "      <td>0-01.de</td>\n",
       "      <td>[mail.0-01.de]</td>\n",
       "      <td>[\"193.34.145.200\"]</td>\n",
       "      <td>2020-12-13 15:36:05</td>\n",
       "      <td>1</td>\n",
       "    </tr>\n",
       "    <tr>\n",
       "      <th>6</th>\n",
       "      <td>0-1.de</td>\n",
       "      <td>[localhost]</td>\n",
       "      <td>[\"91.195.241.137\"]</td>\n",
       "      <td>2020-12-13 15:36:05</td>\n",
       "      <td>1</td>\n",
       "    </tr>\n",
       "    <tr>\n",
       "      <th>7</th>\n",
       "      <td>0-10.de</td>\n",
       "      <td>[]</td>\n",
       "      <td>[]</td>\n",
       "      <td>2020-12-13 15:36:05</td>\n",
       "      <td>0</td>\n",
       "    </tr>\n",
       "    <tr>\n",
       "      <th>8</th>\n",
       "      <td>0-1000.de</td>\n",
       "      <td>[localhost]</td>\n",
       "      <td>[\"91.195.241.137\"]</td>\n",
       "      <td>2020-12-13 15:36:06</td>\n",
       "      <td>1</td>\n",
       "    </tr>\n",
       "    <tr>\n",
       "      <th>9</th>\n",
       "      <td>0-100kmh.de</td>\n",
       "      <td>[smtpin.rzone.de]</td>\n",
       "      <td>[\"81.169.145.95\"]</td>\n",
       "      <td>2020-12-13 15:36:06</td>\n",
       "      <td>1</td>\n",
       "    </tr>\n",
       "    <tr>\n",
       "      <th>10</th>\n",
       "      <td>0-12.de</td>\n",
       "      <td>[localhost]</td>\n",
       "      <td>[\"91.195.241.137\"]</td>\n",
       "      <td>2020-12-13 15:36:06</td>\n",
       "      <td>1</td>\n",
       "    </tr>\n",
       "    <tr>\n",
       "      <th>11</th>\n",
       "      <td>0-17.de</td>\n",
       "      <td>[localhost]</td>\n",
       "      <td>[\"91.195.241.137\"]</td>\n",
       "      <td>2020-12-13 15:36:06</td>\n",
       "      <td>1</td>\n",
       "    </tr>\n",
       "    <tr>\n",
       "      <th>12</th>\n",
       "      <td>0-2.de</td>\n",
       "      <td>[localhost]</td>\n",
       "      <td>[\"127.0.0.1\"]</td>\n",
       "      <td>2020-12-13 15:36:07</td>\n",
       "      <td>1</td>\n",
       "    </tr>\n",
       "    <tr>\n",
       "      <th>13</th>\n",
       "      <td>0-24domain.de</td>\n",
       "      <td>[pmx.bestcpanel.eu, smx.bestcpanel.eu, bmx.bes...</td>\n",
       "      <td>[\"194.38.104.220\"]</td>\n",
       "      <td>2020-12-13 15:36:07</td>\n",
       "      <td>3</td>\n",
       "    </tr>\n",
       "    <tr>\n",
       "      <th>14</th>\n",
       "      <td>0-24h.de</td>\n",
       "      <td>[mxlb.ispgateway.de]</td>\n",
       "      <td>[\"134.209.177.247\"]</td>\n",
       "      <td>2020-12-13 15:36:07</td>\n",
       "      <td>1</td>\n",
       "    </tr>\n",
       "    <tr>\n",
       "      <th>15</th>\n",
       "      <td>0-24leasing.de</td>\n",
       "      <td>[]</td>\n",
       "      <td>[]</td>\n",
       "      <td>2020-12-13 15:36:07</td>\n",
       "      <td>0</td>\n",
       "    </tr>\n",
       "    <tr>\n",
       "      <th>16</th>\n",
       "      <td>0-24versicherung.de</td>\n",
       "      <td>[]</td>\n",
       "      <td>[]</td>\n",
       "      <td>2020-12-13 15:36:07</td>\n",
       "      <td>0</td>\n",
       "    </tr>\n",
       "    <tr>\n",
       "      <th>17</th>\n",
       "      <td>0-263475.de</td>\n",
       "      <td>[]</td>\n",
       "      <td>[\"176.9.76.101\"]</td>\n",
       "      <td>2020-12-13 15:36:07</td>\n",
       "      <td>0</td>\n",
       "    </tr>\n",
       "    <tr>\n",
       "      <th>18</th>\n",
       "      <td>0-3-0.de</td>\n",
       "      <td>[]</td>\n",
       "      <td>[]</td>\n",
       "      <td>2020-12-13 15:36:07</td>\n",
       "      <td>0</td>\n",
       "    </tr>\n",
       "    <tr>\n",
       "      <th>19</th>\n",
       "      <td>0-3.de</td>\n",
       "      <td>[teller.ggeg.eu, smtp.ggeg.eu]</td>\n",
       "      <td>[\"185.163.116.240\"]</td>\n",
       "      <td>2020-12-13 15:36:07</td>\n",
       "      <td>2</td>\n",
       "    </tr>\n",
       "  </tbody>\n",
       "</table>\n",
       "</div>"
      ],
      "text/plain": [
       "       Top level domain                     MX-Record from the name server  \\\n",
       "0               0--1.de                  [mail.0--1.de, mxf993.netcup.net]   \n",
       "1               0--2.de                  [mxf993.netcup.net, mail.0--2.de]   \n",
       "2          0-0-0-0-0.de  [smtp-02.tld.t-online.de, smtp-01.tld.t-online...   \n",
       "3            0-0-0-1.de  [smtp-02.tld.t-online.de, smtp-01.tld.t-online...   \n",
       "4                0-0.de                                                 []   \n",
       "5               0-01.de                                     [mail.0-01.de]   \n",
       "6                0-1.de                                        [localhost]   \n",
       "7               0-10.de                                                 []   \n",
       "8             0-1000.de                                        [localhost]   \n",
       "9           0-100kmh.de                                  [smtpin.rzone.de]   \n",
       "10              0-12.de                                        [localhost]   \n",
       "11              0-17.de                                        [localhost]   \n",
       "12               0-2.de                                        [localhost]   \n",
       "13        0-24domain.de  [pmx.bestcpanel.eu, smx.bestcpanel.eu, bmx.bes...   \n",
       "14             0-24h.de                               [mxlb.ispgateway.de]   \n",
       "15       0-24leasing.de                                                 []   \n",
       "16  0-24versicherung.de                                                 []   \n",
       "17          0-263475.de                                                 []   \n",
       "18             0-3-0.de                                                 []   \n",
       "19               0-3.de                     [teller.ggeg.eu, smtp.ggeg.eu]   \n",
       "\n",
       "   A-Record of the specific domain Timestamp of scraping process  length_mx  \n",
       "0                [\"46.38.249.145\"]           2020-12-13 15:36:05          2  \n",
       "1              [\"212.227.212.163\"]           2020-12-13 15:36:05          2  \n",
       "2                 [\"80.150.6.143\"]           2020-12-13 15:36:05          2  \n",
       "3                 [\"80.150.6.143\"]           2020-12-13 15:36:05          2  \n",
       "4                [\"185.53.178.13\"]           2020-12-13 15:36:05          0  \n",
       "5               [\"193.34.145.200\"]           2020-12-13 15:36:05          1  \n",
       "6               [\"91.195.241.137\"]           2020-12-13 15:36:05          1  \n",
       "7                               []           2020-12-13 15:36:05          0  \n",
       "8               [\"91.195.241.137\"]           2020-12-13 15:36:06          1  \n",
       "9                [\"81.169.145.95\"]           2020-12-13 15:36:06          1  \n",
       "10              [\"91.195.241.137\"]           2020-12-13 15:36:06          1  \n",
       "11              [\"91.195.241.137\"]           2020-12-13 15:36:06          1  \n",
       "12                   [\"127.0.0.1\"]           2020-12-13 15:36:07          1  \n",
       "13              [\"194.38.104.220\"]           2020-12-13 15:36:07          3  \n",
       "14             [\"134.209.177.247\"]           2020-12-13 15:36:07          1  \n",
       "15                              []           2020-12-13 15:36:07          0  \n",
       "16                              []           2020-12-13 15:36:07          0  \n",
       "17                [\"176.9.76.101\"]           2020-12-13 15:36:07          0  \n",
       "18                              []           2020-12-13 15:36:07          0  \n",
       "19             [\"185.163.116.240\"]           2020-12-13 15:36:07          2  "
      ]
     },
     "execution_count": 16,
     "metadata": {},
     "output_type": "execute_result"
    }
   ],
   "source": [
    "main_data_2.head(20)"
   ]
  },
  {
   "cell_type": "code",
   "execution_count": null,
   "id": "e66f1bdc-3237-4f8e-bdbb-0379c2d00426",
   "metadata": {},
   "outputs": [],
   "source": [
    "main_data[\"A-Record of the specific domain\"].value_counts()"
   ]
  },
  {
   "cell_type": "markdown",
   "id": "59fb0953-4a71-4b40-91c9-e63960f2076a",
   "metadata": {},
   "source": [
    "* es gibt eine Kummulation bei bestimmten A-Records. Das bedeutet, dass verschiedenste Domains die gleiche IP Adresse haben(oder gar keine???).\n",
    "* Teileweise gibt es mehrere A-Records pro Domain"
   ]
  },
  {
   "cell_type": "markdown",
   "id": "ff9da87f-238b-4290-8fd0-67c4047fab19",
   "metadata": {},
   "source": [
    "### Zusätzliche Datensätze"
   ]
  },
  {
   "cell_type": "code",
   "execution_count": null,
   "id": "cb11601b-686b-42ae-8129-2be86cc227ac",
   "metadata": {},
   "outputs": [],
   "source": [
    "asnip4=pd.read_csv(\"GeoLite2-ASN-CSV_20210608/GeoLite2-ASN-Blocks-IPv4.csv\")\n",
    "asnip4.head()"
   ]
  },
  {
   "cell_type": "code",
   "execution_count": null,
   "id": "3c87c4ca-8a9c-4fcc-be91-74469c5e6225",
   "metadata": {},
   "outputs": [],
   "source": [
    "asnip4[asnip4[\"autonomous_system_organization\"].str.match(\".*?FLAR\")==True]"
   ]
  },
  {
   "cell_type": "code",
   "execution_count": null,
   "id": "74c64ff2-19df-4ed3-893a-f1c85d0b6fab",
   "metadata": {},
   "outputs": [],
   "source": [
    "asnip6=pd.read_csv(\"GeoLite2-ASN-CSV_20210608/GeoLite2-ASN-Blocks-IPv6.csv\")\n",
    "asnip6.head()"
   ]
  },
  {
   "cell_type": "code",
   "execution_count": null,
   "id": "8975f187-5448-4000-8af5-25034b73e9d0",
   "metadata": {},
   "outputs": [],
   "source": [
    "cityip4=pd.read_csv(\"GeoLite2-City-CSV_20210608/GeoLite2-City-Blocks-IPv4.csv\")\n",
    "cityip4.head()"
   ]
  },
  {
   "cell_type": "code",
   "execution_count": null,
   "id": "264da485-7ace-4621-993a-2951cd1a2e14",
   "metadata": {},
   "outputs": [],
   "source": [
    "cityip6=pd.read_csv(\"GeoLite2-City-CSV_20210608/GeoLite2-City-Blocks-IPv6.csv\")\n",
    "cityip6.head()"
   ]
  },
  {
   "cell_type": "code",
   "execution_count": null,
   "id": "f15b2ac8-c3b3-4a1d-9172-b4d9835936df",
   "metadata": {},
   "outputs": [],
   "source": [
    "cityloc=pd.read_csv(\"GeoLite2-City-CSV_20210608/GeoLite2-City-Locations-de.csv\")\n",
    "cityloc.head()"
   ]
  },
  {
   "cell_type": "code",
   "execution_count": null,
   "id": "0316eab3-2698-4055-9479-225ef25d1045",
   "metadata": {},
   "outputs": [],
   "source": [
    "countryip4=pd.read_csv(\"GeoLite2-Country-CSV_20210608/GeoLite2-Country-Blocks-IPv4.csv\")\n",
    "countryip4.head()"
   ]
  },
  {
   "cell_type": "code",
   "execution_count": null,
   "id": "b5a6dc7b-53e5-4dfc-8c69-b1232dc886ef",
   "metadata": {},
   "outputs": [],
   "source": [
    "countryip6=pd.read_csv(\"GeoLite2-Country-CSV_20210608/GeoLite2-Country-Blocks-IPv6.csv\")\n",
    "countryip6.head()"
   ]
  },
  {
   "cell_type": "code",
   "execution_count": null,
   "id": "6007fcdc-ad7a-4981-a2f8-007f6887223f",
   "metadata": {},
   "outputs": [],
   "source": [
    "countryloc=pd.read_csv(\"GeoLite2-Country-CSV_20210608/GeoLite2-Country-Locations-de.csv\")\n",
    "countryloc.head()"
   ]
  }
 ],
 "metadata": {
  "kernelspec": {
   "display_name": "Python 3",
   "language": "python",
   "name": "python3"
  },
  "language_info": {
   "codemirror_mode": {
    "name": "ipython",
    "version": 3
   },
   "file_extension": ".py",
   "mimetype": "text/x-python",
   "name": "python",
   "nbconvert_exporter": "python",
   "pygments_lexer": "ipython3",
   "version": "3.8.10"
  }
 },
 "nbformat": 4,
 "nbformat_minor": 5
}
