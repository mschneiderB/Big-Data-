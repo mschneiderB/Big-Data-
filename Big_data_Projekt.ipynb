{
 "cells": [
  {
   "cell_type": "code",
   "execution_count": 1,
   "id": "6a56a10d",
   "metadata": {},
   "outputs": [],
   "source": [
    "from pyspark import SparkContext\n",
    "from pyspark.sql import SparkSession\n",
    "\n",
    "spark = SparkSession.builder.getOrCreate()"
   ]
  },
  {
   "cell_type": "code",
   "execution_count": 2,
   "id": "baff155d",
   "metadata": {},
   "outputs": [],
   "source": [
    "sc = SparkContext.getOrCreate()"
   ]
  },
  {
   "cell_type": "code",
   "execution_count": 5,
   "id": "2ce6617e",
   "metadata": {},
   "outputs": [],
   "source": [
    "RealdomainsNames = sc.textFile(\"data/names/real_domains.csv\")"
   ]
  },
  {
   "cell_type": "code",
   "execution_count": 7,
   "id": "d67fccd2",
   "metadata": {},
   "outputs": [
    {
     "data": {
      "text/plain": [
       "['\"0--1.de\",\"[\"\"mail.0--1.de\"\",\"\"mxf993.netcup.net\"\"]\",\"[\"\"46.38.249.145\"\"]\",\"2020-12-13 15:36:05\"',\n",
       " '\"0--2.de\",\"[\"\"mxf993.netcup.net\"\",\"\"mail.0--2.de\"\"]\",\"[\"\"212.227.212.163\"\"]\",\"2020-12-13 15:36:05\"',\n",
       " '\"0-0-0-0-0.de\",\"[\"\"smtp-02.tld.t-online.de\"\",\"\"smtp-01.tld.t-online.de\"\"]\",\"[\"\"80.150.6.143\"\"]\",\"2020-12-13 15:36:05\"',\n",
       " '\"0-0-0-1.de\",\"[\"\"smtp-02.tld.t-online.de\"\",\"\"smtp-01.tld.t-online.de\"\"]\",\"[\"\"80.150.6.143\"\"]\",\"2020-12-13 15:36:05\"',\n",
       " '\"0-0.de\",\"[]\",\"[\"\"185.53.178.13\"\"]\",\"2020-12-13 15:36:05\"']"
      ]
     },
     "execution_count": 7,
     "metadata": {},
     "output_type": "execute_result"
    }
   ],
   "source": [
    "RealdomainsNames.take(5)"
   ]
  },
  {
   "cell_type": "code",
   "execution_count": 8,
   "id": "8283a7e6",
   "metadata": {},
   "outputs": [
    {
     "data": {
      "text/plain": [
       "4860885"
      ]
     },
     "execution_count": 8,
     "metadata": {},
     "output_type": "execute_result"
    }
   ],
   "source": [
    "RealdomainsNames.count()"
   ]
  },
  {
   "cell_type": "code",
   "execution_count": 9,
   "id": "67bb86e5",
   "metadata": {},
   "outputs": [
    {
     "data": {
      "text/plain": [
       "[['\"0--1.de\"',\n",
       "  '\"[\"\"mail.0--1.de\"\"',\n",
       "  '\"\"mxf993.netcup.net\"\"]\"',\n",
       "  '\"[\"\"46.38.249.145\"\"]\"',\n",
       "  '\"2020-12-13 15:36:05\"'],\n",
       " ['\"0--2.de\"',\n",
       "  '\"[\"\"mxf993.netcup.net\"\"',\n",
       "  '\"\"mail.0--2.de\"\"]\"',\n",
       "  '\"[\"\"212.227.212.163\"\"]\"',\n",
       "  '\"2020-12-13 15:36:05\"'],\n",
       " ['\"0-0-0-0-0.de\"',\n",
       "  '\"[\"\"smtp-02.tld.t-online.de\"\"',\n",
       "  '\"\"smtp-01.tld.t-online.de\"\"]\"',\n",
       "  '\"[\"\"80.150.6.143\"\"]\"',\n",
       "  '\"2020-12-13 15:36:05\"'],\n",
       " ['\"0-0-0-1.de\"',\n",
       "  '\"[\"\"smtp-02.tld.t-online.de\"\"',\n",
       "  '\"\"smtp-01.tld.t-online.de\"\"]\"',\n",
       "  '\"[\"\"80.150.6.143\"\"]\"',\n",
       "  '\"2020-12-13 15:36:05\"'],\n",
       " ['\"0-0.de\"', '\"[]\"', '\"[\"\"185.53.178.13\"\"]\"', '\"2020-12-13 15:36:05\"'],\n",
       " ['\"0-01.de\"',\n",
       "  '\"[\"\"mail.0-01.de\"\"]\"',\n",
       "  '\"[\"\"193.34.145.200\"\"]\"',\n",
       "  '\"2020-12-13 15:36:05\"'],\n",
       " ['\"0-1.de\"',\n",
       "  '\"[\"\"localhost\"\"]\"',\n",
       "  '\"[\"\"91.195.241.137\"\"]\"',\n",
       "  '\"2020-12-13 15:36:05\"'],\n",
       " ['\"0-10.de\"', '\"[]\"', '\"[]\"', '\"2020-12-13 15:36:05\"'],\n",
       " ['\"0-1000.de\"',\n",
       "  '\"[\"\"localhost\"\"]\"',\n",
       "  '\"[\"\"91.195.241.137\"\"]\"',\n",
       "  '\"2020-12-13 15:36:06\"'],\n",
       " ['\"0-100kmh.de\"',\n",
       "  '\"[\"\"smtpin.rzone.de\"\"]\"',\n",
       "  '\"[\"\"81.169.145.95\"\"]\"',\n",
       "  '\"2020-12-13 15:36:06\"'],\n",
       " ['\"0-12.de\"',\n",
       "  '\"[\"\"localhost\"\"]\"',\n",
       "  '\"[\"\"91.195.241.137\"\"]\"',\n",
       "  '\"2020-12-13 15:36:06\"'],\n",
       " ['\"0-17.de\"',\n",
       "  '\"[\"\"localhost\"\"]\"',\n",
       "  '\"[\"\"91.195.241.137\"\"]\"',\n",
       "  '\"2020-12-13 15:36:06\"'],\n",
       " ['\"0-2.de\"',\n",
       "  '\"[\"\"localhost\"\"]\"',\n",
       "  '\"[\"\"127.0.0.1\"\"]\"',\n",
       "  '\"2020-12-13 15:36:07\"'],\n",
       " ['\"0-24domain.de\"',\n",
       "  '\"[\"\"pmx.bestcpanel.eu\"\"',\n",
       "  '\"\"smx.bestcpanel.eu\"\"',\n",
       "  '\"\"bmx.bestcpanel.eu\"\"]\"',\n",
       "  '\"[\"\"194.38.104.220\"\"]\"',\n",
       "  '\"2020-12-13 15:36:07\"'],\n",
       " ['\"0-24h.de\"',\n",
       "  '\"[\"\"mxlb.ispgateway.de\"\"]\"',\n",
       "  '\"[\"\"134.209.177.247\"\"]\"',\n",
       "  '\"2020-12-13 15:36:07\"'],\n",
       " ['\"0-24leasing.de\"', '\"[]\"', '\"[]\"', '\"2020-12-13 15:36:07\"'],\n",
       " ['\"0-24versicherung.de\"', '\"[]\"', '\"[]\"', '\"2020-12-13 15:36:07\"'],\n",
       " ['\"0-263475.de\"', '\"[]\"', '\"[\"\"176.9.76.101\"\"]\"', '\"2020-12-13 15:36:07\"'],\n",
       " ['\"0-3-0.de\"', '\"[]\"', '\"[]\"', '\"2020-12-13 15:36:07\"'],\n",
       " ['\"0-3.de\"',\n",
       "  '\"[\"\"teller.ggeg.eu\"\"',\n",
       "  '\"\"smtp.ggeg.eu\"\"]\"',\n",
       "  '\"[\"\"185.163.116.240\"\"]\"',\n",
       "  '\"2020-12-13 15:36:07\"']]"
      ]
     },
     "execution_count": 9,
     "metadata": {},
     "output_type": "execute_result"
    }
   ],
   "source": [
    "RealdomainsNames.map(lambda x: x.split(\",\")).take(20)"
   ]
  },
  {
   "cell_type": "code",
   "execution_count": null,
   "id": "1a361bff",
   "metadata": {},
   "outputs": [],
   "source": []
  }
 ],
 "metadata": {
  "kernelspec": {
   "display_name": "Python 3",
   "language": "python",
   "name": "python3"
  },
  "language_info": {
   "codemirror_mode": {
    "name": "ipython",
    "version": 3
   },
   "file_extension": ".py",
   "mimetype": "text/x-python",
   "name": "python",
   "nbconvert_exporter": "python",
   "pygments_lexer": "ipython3",
   "version": "3.9.4"
  }
 },
 "nbformat": 4,
 "nbformat_minor": 5
}
