{
 "cells": [
  {
   "cell_type": "code",
   "execution_count": 99,
   "id": "d9713242",
   "metadata": {
    "id": "43f37e56"
   },
   "outputs": [],
   "source": [
    "from pyspark import SparkContext\n",
    "from pyspark.sql import SparkSession\n",
    "from pyspark.sql import Row\n",
    "from pyspark.sql.types import StructType, StructField, IntegerType, StringType, StructType, BooleanType, ArrayType\n",
    "import pyspark\n",
    "import pyspark.sql.functions as f\n",
    "from pyspark.sql.functions import *\n",
    "from pyspark.sql.functions import struct\n",
    "from pyspark.sql.functions import monotonically_increasing_id\n",
    "from pyspark.sql.functions import udf\n",
    "from pyspark.sql.functions import col\n",
    "import re\n",
    "import ipaddress #import ip_network, ip_address\n",
    "from ipaddress import ip_network, ip_address\n",
    "import time\n",
    "import pandas as pd\n",
    "#import envspark\n",
    "\n",
    "#Starten ohne Spark-Cluster\n",
    "spark = SparkSession.builder.getOrCreate()"
   ]
  },
  {
   "cell_type": "code",
   "execution_count": 2,
   "id": "76fd3acb",
   "metadata": {},
   "outputs": [],
   "source": [
    "#spark.sparkContext.setSystemProperty(\"spark.driver.memory\", \"12g\")\n",
    "#spark.sparkContext.setSystemProperty('spark.executor.memory', '12g')\n",
    "#spark.sparkContext.setSystemProperty(\"spark.executor.cores\", \"6\")"
   ]
  },
  {
   "cell_type": "code",
   "execution_count": 3,
   "id": "106f83f6",
   "metadata": {
    "id": "8198c047"
   },
   "outputs": [],
   "source": [
    "# Verbindung zu Minio\n",
    "spark.sparkContext.setSystemProperty(\"com.amazonaws.services.s3.enableV4\", \"true\")\n",
    "spark.sparkContext._jsc.hadoopConfiguration().set(\"fs.s3a.access.key\", \"minio\")\n",
    "spark.sparkContext._jsc.hadoopConfiguration().set(\"fs.s3a.secret.key\", \"minio123\")\n",
    "spark.sparkContext._jsc.hadoopConfiguration().set(\"com.amazonaws.services.s3.enableV4\", \"true\")\n",
    "spark.sparkContext._jsc.hadoopConfiguration().set(\"fs.s3a.impl\", \"org.apache.hadoop.fs.s3a.S3AFileSystem\")\n",
    "spark.sparkContext._jsc.hadoopConfiguration().set(\"fs.s3a.path.style.access\", \"true\")\n",
    "spark.sparkContext._jsc.hadoopConfiguration().set(\"fs.s3a.endpoint\", \"http://minio1:9000\")"
   ]
  },
  {
   "cell_type": "code",
   "execution_count": 4,
   "id": "def6b5f9",
   "metadata": {
    "id": "2958adb5"
   },
   "outputs": [],
   "source": [
    "schema = StructType([\n",
    "    StructField(\"Top level domain\", StringType(), True),\n",
    "    StructField(\"MX-Record from the name server\", StringType(), True),\n",
    "    StructField(\"A-Record of the specific domain\", StringType(), True),\n",
    "    StructField(\"Timestamp\", StringType(), True)])\n",
    "\n",
    "df = spark.read.csv(\"s3a://bucket/real_new.csv\",header=False,sep=\";\",schema=schema)"
   ]
  },
  {
   "cell_type": "markdown",
   "id": "884a2726",
   "metadata": {
    "id": "0385f596"
   },
   "source": [
    "# Datenbeschreibung"
   ]
  },
  {
   "cell_type": "markdown",
   "id": "16bd173d",
   "metadata": {
    "id": "1384cf25"
   },
   "source": [
    "## real_domains"
   ]
  },
  {
   "cell_type": "markdown",
   "id": "d2791fe3",
   "metadata": {
    "id": "e449ac5e"
   },
   "source": [
    "### Allgemein"
   ]
  },
  {
   "cell_type": "code",
   "execution_count": 5,
   "id": "7ce33317",
   "metadata": {
    "id": "4aad1d6d",
    "outputId": "0d211dc2-2b63-4a62-8009-d10ef3e650bd",
    "scrolled": false
   },
   "outputs": [
    {
     "name": "stdout",
     "output_type": "stream",
     "text": [
      "+----------------+------------------------------+-------------------------------+-------------------+\n",
      "|Top level domain|MX-Record from the name server|A-Record of the specific domain|          Timestamp|\n",
      "+----------------+------------------------------+-------------------------------+-------------------+\n",
      "|         0--1.de|          \"[\"\"mail.0--1.de\"...|           \"[\"\"46.38.249.145...|2020-12-13 15:36:05|\n",
      "|         0--2.de|          \"[\"\"mxf993.netcup...|           \"[\"\"212.227.212.1...|2020-12-13 15:36:05|\n",
      "|    0-0-0-0-0.de|          \"[\"\"smtp-02.tld.t...|           \"[\"\"80.150.6.143\"\"]\"|2020-12-13 15:36:05|\n",
      "|      0-0-0-1.de|          \"[\"\"smtp-02.tld.t...|           \"[\"\"80.150.6.143\"\"]\"|2020-12-13 15:36:05|\n",
      "|          0-0.de|                            []|           \"[\"\"185.53.178.13...|2020-12-13 15:36:05|\n",
      "+----------------+------------------------------+-------------------------------+-------------------+\n",
      "only showing top 5 rows\n",
      "\n"
     ]
    }
   ],
   "source": [
    "df.show(5)"
   ]
  },
  {
   "cell_type": "markdown",
   "id": "471594e1",
   "metadata": {
    "id": "a0e494be"
   },
   "source": [
    "* Top level domain: Namensserver; das, was Personen sich merken können\n",
    "* Ein MX Resource Record weist einem Namen einen Mailserver zu. Er stellt eine Besonderheit dar, da er sich auf einen speziellen Dienst im Internet, nämlich die E-Mailzustellung mittels SMTP, bezieht. Alle anderen Dienste nutzen CNAME, A und AAAA Resource Records für die Namensauflösung.\n",
    "* Ein A Resource Record weist einem Namen eine IPv4-Adresse zu."
   ]
  },
  {
   "cell_type": "code",
   "execution_count": 6,
   "id": "9a58d950",
   "metadata": {
    "id": "acd62a51"
   },
   "outputs": [],
   "source": [
    "df= df.withColumn(\"id\", monotonically_increasing_id())"
   ]
  },
  {
   "cell_type": "code",
   "execution_count": 7,
   "id": "2a6100b3",
   "metadata": {
    "id": "61334fba"
   },
   "outputs": [],
   "source": [
    "df=df.select(\"Top level domain\",\"MX-Record from the name server\",\"A-Record of the specific domain\")"
   ]
  },
  {
   "cell_type": "markdown",
   "id": "3e0ce7f4",
   "metadata": {
    "id": "c0653bcc"
   },
   "source": [
    "* die Spalte Timestamp wird nicht benötigt"
   ]
  },
  {
   "cell_type": "code",
   "execution_count": 8,
   "id": "700b3cbc",
   "metadata": {
    "id": "babc4fdb"
   },
   "outputs": [],
   "source": [
    "df=df.withColumnRenamed(\"MX-Record from the name server\", \"MX-Record\")"
   ]
  },
  {
   "cell_type": "code",
   "execution_count": 9,
   "id": "3184ad0b",
   "metadata": {
    "id": "1c05186b"
   },
   "outputs": [],
   "source": [
    "df=df.withColumnRenamed(\"A-Record of the specific domain\", \"A-Record\")"
   ]
  },
  {
   "cell_type": "code",
   "execution_count": 10,
   "id": "aba181ba",
   "metadata": {
    "id": "da0996af",
    "outputId": "559bf01c-4346-4359-af96-6d54706a9259",
    "scrolled": true
   },
   "outputs": [
    {
     "data": {
      "text/plain": [
       "pyspark.sql.dataframe.DataFrame"
      ]
     },
     "execution_count": 10,
     "metadata": {},
     "output_type": "execute_result"
    }
   ],
   "source": [
    "type(df)"
   ]
  },
  {
   "cell_type": "code",
   "execution_count": 11,
   "id": "897d18fe",
   "metadata": {
    "id": "14d9dc3c",
    "outputId": "22e0734a-2833-44fa-a388-b9681fb67120",
    "scrolled": true
   },
   "outputs": [
    {
     "data": {
      "text/plain": [
       "4860885"
      ]
     },
     "execution_count": 11,
     "metadata": {},
     "output_type": "execute_result"
    }
   ],
   "source": [
    "df.count()"
   ]
  },
  {
   "cell_type": "code",
   "execution_count": 12,
   "id": "e2daa0aa",
   "metadata": {
    "id": "0d60e8f1",
    "outputId": "6d4b0a7d-08cf-4a75-972c-bc17566bd629"
   },
   "outputs": [
    {
     "data": {
      "text/plain": [
       "4860885"
      ]
     },
     "execution_count": 12,
     "metadata": {},
     "output_type": "execute_result"
    }
   ],
   "source": [
    "df.dropDuplicates().count()"
   ]
  },
  {
   "cell_type": "markdown",
   "id": "29f534ff",
   "metadata": {
    "id": "01e12b86"
   },
   "source": [
    "* es gibt keine Duplikate in dem Datensatz"
   ]
  },
  {
   "cell_type": "code",
   "execution_count": 13,
   "id": "a02592bb",
   "metadata": {
    "id": "4478aaba",
    "scrolled": true
   },
   "outputs": [],
   "source": [
    "#df.filter(df[\"MX-Record\"].contains(']')).count()"
   ]
  },
  {
   "cell_type": "markdown",
   "id": "a9bcdebd",
   "metadata": {
    "id": "16116eb8"
   },
   "source": [
    "* es gibt 3 Zeilen, wo die Aufzeichnung von MX Records abgebrochen wurde"
   ]
  },
  {
   "cell_type": "code",
   "execution_count": 14,
   "id": "734a5b38",
   "metadata": {
    "id": "61e56fc6"
   },
   "outputs": [],
   "source": [
    "#df=df.filter(df[\"MX-Record\"].contains(']'))"
   ]
  },
  {
   "cell_type": "markdown",
   "id": "4680d63f",
   "metadata": {
    "id": "8fc12ed5"
   },
   "source": [
    "* diese Zeilen werden entfernt, da sie sich nicht reparieren lassen"
   ]
  },
  {
   "cell_type": "code",
   "execution_count": 15,
   "id": "6fc0503e",
   "metadata": {
    "id": "c70f3c4c",
    "outputId": "4c4e7e09-9a95-4f04-d351-76aabd5817e4"
   },
   "outputs": [
    {
     "name": "stdout",
     "output_type": "stream",
     "text": [
      "root\n",
      " |-- Top level domain: string (nullable = true)\n",
      " |-- MX-Record: string (nullable = true)\n",
      " |-- A-Record: string (nullable = true)\n",
      "\n"
     ]
    }
   ],
   "source": [
    "df.printSchema()"
   ]
  },
  {
   "cell_type": "code",
   "execution_count": 16,
   "id": "cccb3199",
   "metadata": {},
   "outputs": [
    {
     "name": "stdout",
     "output_type": "stream",
     "text": [
      "+----------------+---------+--------+\n",
      "|Top level domain|MX-Record|A-Record|\n",
      "+----------------+---------+--------+\n",
      "|               0|        0|       0|\n",
      "+----------------+---------+--------+\n",
      "\n"
     ]
    }
   ],
   "source": [
    "df.select([count(when(isnan(c) | col(c).isNull(), c)).alias(c) for c in df.columns]).show()"
   ]
  },
  {
   "cell_type": "markdown",
   "id": "eb0b64e0",
   "metadata": {
    "id": "0937bbbe"
   },
   "source": [
    "### Top Level Domain"
   ]
  },
  {
   "cell_type": "code",
   "execution_count": 17,
   "id": "3d7a6968",
   "metadata": {
    "id": "e4777ed5",
    "outputId": "c97e0487-1265-49a3-deff-7ba99ba4462c",
    "scrolled": true
   },
   "outputs": [
    {
     "data": {
      "text/plain": [
       "0"
      ]
     },
     "execution_count": 17,
     "metadata": {},
     "output_type": "execute_result"
    }
   ],
   "source": [
    "df.filter(df[\"Top level domain\"]==\"null\").count()"
   ]
  },
  {
   "cell_type": "markdown",
   "id": "7e1adb6f",
   "metadata": {
    "id": "db1b60f1"
   },
   "source": [
    "* keine Null Values"
   ]
  },
  {
   "cell_type": "code",
   "execution_count": 18,
   "id": "664872de",
   "metadata": {
    "id": "1007ddf3",
    "outputId": "c5e768d3-1c18-45c2-a71c-6bff4a981542"
   },
   "outputs": [
    {
     "name": "stdout",
     "output_type": "stream",
     "text": [
      "+----------------+-----+\n",
      "|Top level domain|count|\n",
      "+----------------+-----+\n",
      "|     0-ahnung.de|    1|\n",
      "|          007.de|    1|\n",
      "|        01640.de|    1|\n",
      "|        06404.de|    1|\n",
      "|0711-31577708.de|    1|\n",
      "+----------------+-----+\n",
      "only showing top 5 rows\n",
      "\n"
     ]
    }
   ],
   "source": [
    "dfTCount=df.groupBy(\"Top level domain\").count()\n",
    "dfTCount.orderBy(col(\"count\").desc()).show(5)"
   ]
  },
  {
   "cell_type": "markdown",
   "id": "9b54fca8",
   "metadata": {
    "id": "d1a166c9"
   },
   "source": [
    "* es gibt keine doppelte TLD"
   ]
  },
  {
   "cell_type": "markdown",
   "id": "7c3d5d18",
   "metadata": {
    "id": "1a6e56fc"
   },
   "source": [
    "### MX Records"
   ]
  },
  {
   "cell_type": "code",
   "execution_count": 19,
   "id": "11e41b6f",
   "metadata": {
    "id": "12f9653f",
    "outputId": "70e5abd7-b86a-49dd-8241-83beab2f9b20",
    "scrolled": true
   },
   "outputs": [
    {
     "data": {
      "text/plain": [
       "0"
      ]
     },
     "execution_count": 19,
     "metadata": {},
     "output_type": "execute_result"
    }
   ],
   "source": [
    "df.filter(df[\"MX-Record\"]==\"null\").count()"
   ]
  },
  {
   "cell_type": "markdown",
   "id": "c509e9bd",
   "metadata": {
    "id": "2bb53989"
   },
   "source": [
    "* keine Null Values"
   ]
  },
  {
   "cell_type": "code",
   "execution_count": 20,
   "id": "0fec21b1",
   "metadata": {
    "id": "63216dbd",
    "outputId": "b4984250-e2a9-40bf-e1c3-28a032fa4e1d"
   },
   "outputs": [
    {
     "name": "stdout",
     "output_type": "stream",
     "text": [
      "+-----------------------------------------------------+------+\n",
      "|MX-Record                                            |count |\n",
      "+-----------------------------------------------------+------+\n",
      "|[]                                                   |633040|\n",
      "|\"[\"\"smtpin.rzone.de\"\"]\"                              |509127|\n",
      "|\"[\"\"localhost\"\"]\"                                    |303839|\n",
      "|\"[\"\"mx01.kundenserver.de\"\",\"\"mx00.kundenserver.de\"\"]\"|176491|\n",
      "|\"[\"\"mx00.kundenserver.de\"\",\"\"mx01.kundenserver.de\"\"]\"|176182|\n",
      "+-----------------------------------------------------+------+\n",
      "only showing top 5 rows\n",
      "\n"
     ]
    }
   ],
   "source": [
    "dfMxCount=df.groupBy(\"MX-Record\").count()\n",
    "dfMxCount.orderBy(col(\"count\").desc()).show(5,False)"
   ]
  },
  {
   "cell_type": "markdown",
   "id": "da1a0c14",
   "metadata": {
    "id": "6f365831"
   },
   "source": [
    "### A Records"
   ]
  },
  {
   "cell_type": "code",
   "execution_count": 21,
   "id": "9ea26bf4",
   "metadata": {
    "id": "26357e64",
    "outputId": "322e2146-7a7d-4135-ca5e-879af912fb0a",
    "scrolled": false
   },
   "outputs": [
    {
     "data": {
      "text/plain": [
       "10732"
      ]
     },
     "execution_count": 21,
     "metadata": {},
     "output_type": "execute_result"
    }
   ],
   "source": [
    "df.filter(df[\"A-Record\"]==\"null\").count()"
   ]
  },
  {
   "cell_type": "markdown",
   "id": "01f2591c",
   "metadata": {
    "id": "7e0c21ec"
   },
   "source": [
    "* es gibt 10.732 Null Values\n",
    "* diese können mit [] ersetzt werde"
   ]
  },
  {
   "cell_type": "code",
   "execution_count": 22,
   "id": "24a5a13e",
   "metadata": {
    "id": "1bbf940e"
   },
   "outputs": [],
   "source": [
    "df=df.na.replace({\"null\": \"[]\"})"
   ]
  },
  {
   "cell_type": "code",
   "execution_count": 23,
   "id": "2a213bbb",
   "metadata": {
    "id": "1b343d82",
    "outputId": "6edd4eb5-7d56-4aaa-d6bb-709c66e0e8a8",
    "scrolled": true
   },
   "outputs": [
    {
     "name": "stdout",
     "output_type": "stream",
     "text": [
      "+----------------------+------+\n",
      "|A-Record              |count |\n",
      "+----------------------+------+\n",
      "|\"[\"\"91.195.241.137\"\"]\"|303204|\n",
      "|[]                    |172019|\n",
      "|\"[\"\"80.150.6.143\"\"]\"  |150156|\n",
      "|\"[\"\"23.236.62.147\"\"]\" |59034 |\n",
      "|\"[\"\"52.58.78.16\"\"]\"   |49200 |\n",
      "+----------------------+------+\n",
      "only showing top 5 rows\n",
      "\n"
     ]
    }
   ],
   "source": [
    "dfACount=df.groupBy(\"A-Record\").count()\n",
    "dfACount.orderBy(col(\"count\").desc()).show(5, False)"
   ]
  },
  {
   "cell_type": "markdown",
   "id": "d64342cf",
   "metadata": {
    "id": "82698d50"
   },
   "source": [
    "## asn ip4 Blocks"
   ]
  },
  {
   "cell_type": "markdown",
   "id": "38956a05",
   "metadata": {
    "id": "a6ac9fdf"
   },
   "source": [
    "### Allgemein"
   ]
  },
  {
   "cell_type": "code",
   "execution_count": 24,
   "id": "79fbca3f",
   "metadata": {
    "id": "bf0cc010"
   },
   "outputs": [],
   "source": [
    "schema_blocks = StructType([\n",
    "    StructField(\"network\", StringType(), True),\n",
    "    StructField(\"autonomous_system_number\", IntegerType(), True),\n",
    "    StructField(\"autonomous_system_organization\", StringType(), True)\n",
    "])\n",
    "\n",
    "df_asn_blocks_ipv4 = spark.read.csv(\"s3a://bucket/GeoLite2-ASN-Blocks-IPv4.csv\", header=True, schema=schema_blocks).cache()"
   ]
  },
  {
   "cell_type": "code",
   "execution_count": 25,
   "id": "d644348f",
   "metadata": {
    "id": "03cd5152",
    "outputId": "d6cab5bf-2d97-4bc7-f07d-f3e51de0dfba"
   },
   "outputs": [
    {
     "name": "stdout",
     "output_type": "stream",
     "text": [
      "+------------+------------------------+------------------------------+\n",
      "|     network|autonomous_system_number|autonomous_system_organization|\n",
      "+------------+------------------------+------------------------------+\n",
      "|  1.0.0.0/24|                   13335|                 CLOUDFLARENET|\n",
      "|  1.0.4.0/22|                   38803|          Wirefreebroadband...|\n",
      "| 1.0.64.0/18|                   18144|          Energia Communica...|\n",
      "|1.0.128.0/17|                   23969|          TOT Public Compan...|\n",
      "|  1.1.1.0/24|                   13335|                 CLOUDFLARENET|\n",
      "+------------+------------------------+------------------------------+\n",
      "only showing top 5 rows\n",
      "\n"
     ]
    }
   ],
   "source": [
    "df_asn_blocks_ipv4.show(5)"
   ]
  },
  {
   "cell_type": "code",
   "execution_count": 26,
   "id": "c1f0677d",
   "metadata": {
    "id": "53ede5d7",
    "outputId": "53172ed0-31ea-46f0-e3b9-616f2afaab6f"
   },
   "outputs": [
    {
     "data": {
      "text/plain": [
       "461902"
      ]
     },
     "execution_count": 26,
     "metadata": {},
     "output_type": "execute_result"
    }
   ],
   "source": [
    "df_asn_blocks_ipv4.count()"
   ]
  },
  {
   "cell_type": "code",
   "execution_count": 27,
   "id": "b4ff4731",
   "metadata": {
    "id": "e86dc5e1",
    "outputId": "173f5426-da59-4283-e7d3-95ee5d612958"
   },
   "outputs": [
    {
     "data": {
      "text/plain": [
       "461902"
      ]
     },
     "execution_count": 27,
     "metadata": {},
     "output_type": "execute_result"
    }
   ],
   "source": [
    "df_asn_blocks_ipv4.dropDuplicates().count()"
   ]
  },
  {
   "cell_type": "markdown",
   "id": "a1c54721",
   "metadata": {
    "id": "bd85820c"
   },
   "source": [
    "* es gibt keine Duplikate in dem Datensatz"
   ]
  },
  {
   "cell_type": "code",
   "execution_count": 28,
   "id": "ed32914c",
   "metadata": {
    "id": "71b043c8",
    "outputId": "630b17b7-5063-4048-c7a7-c131a3b1be39"
   },
   "outputs": [
    {
     "name": "stdout",
     "output_type": "stream",
     "text": [
      "root\n",
      " |-- network: string (nullable = true)\n",
      " |-- autonomous_system_number: integer (nullable = true)\n",
      " |-- autonomous_system_organization: string (nullable = true)\n",
      "\n"
     ]
    }
   ],
   "source": [
    "df_asn_blocks_ipv4.printSchema()"
   ]
  },
  {
   "cell_type": "markdown",
   "id": "a5fcdbb2",
   "metadata": {
    "id": "826cc7a7"
   },
   "source": [
    "### Anlayse der Spalten"
   ]
  },
  {
   "cell_type": "code",
   "execution_count": 29,
   "id": "42067a5c",
   "metadata": {},
   "outputs": [
    {
     "name": "stdout",
     "output_type": "stream",
     "text": [
      "+-------+------------------------+------------------------------+\n",
      "|network|autonomous_system_number|autonomous_system_organization|\n",
      "+-------+------------------------+------------------------------+\n",
      "|      0|                       0|                             0|\n",
      "+-------+------------------------+------------------------------+\n",
      "\n"
     ]
    }
   ],
   "source": [
    "df_asn_blocks_ipv4.select([count(when(isnan(c) | col(c).isNull(), c)).alias(c) for c in df_asn_blocks_ipv4.columns]).show()"
   ]
  },
  {
   "cell_type": "markdown",
   "id": "e26808f9",
   "metadata": {
    "id": "f045456f"
   },
   "source": [
    "## GeoLite2-Country-Locations-en"
   ]
  },
  {
   "cell_type": "code",
   "execution_count": 30,
   "id": "106a302b",
   "metadata": {
    "id": "3752be46"
   },
   "outputs": [],
   "source": [
    "schema_country = StructType([\n",
    "    StructField(\"geoname_id\", IntegerType(), True),\n",
    "    StructField(\"locale_code\", StringType(), True),\n",
    "    StructField(\"continent_code\", StringType(), True),\n",
    "    StructField(\"continent_name\", StringType(), True),\n",
    "    StructField(\"country_iso_code\", StringType(), True),\n",
    "    StructField(\"country_name\", StringType(), True),\n",
    "    StructField(\"is_in_european_union\", StringType(), True)\n",
    "])\n",
    "\n",
    "df_country = spark.read.csv(\"s3a://bucket/GeoLite2-Country-Locations-en.csv\", header=True, schema=schema_country).cache()"
   ]
  },
  {
   "cell_type": "code",
   "execution_count": 31,
   "id": "848908ce",
   "metadata": {
    "id": "3fdd4a92",
    "outputId": "97bea168-0cff-430b-9d14-0db8a11108e4"
   },
   "outputs": [
    {
     "name": "stdout",
     "output_type": "stream",
     "text": [
      "+----------+-----------+--------------+--------------+----------------+------------+--------------------+\n",
      "|geoname_id|locale_code|continent_code|continent_name|country_iso_code|country_name|is_in_european_union|\n",
      "+----------+-----------+--------------+--------------+----------------+------------+--------------------+\n",
      "|     49518|         en|            AF|        Africa|              RW|      Rwanda|                   0|\n",
      "|     51537|         en|            AF|        Africa|              SO|     Somalia|                   0|\n",
      "|     69543|         en|            AS|          Asia|              YE|       Yemen|                   0|\n",
      "|     99237|         en|            AS|          Asia|              IQ|        Iraq|                   0|\n",
      "|    102358|         en|            AS|          Asia|              SA|Saudi Arabia|                   0|\n",
      "+----------+-----------+--------------+--------------+----------------+------------+--------------------+\n",
      "only showing top 5 rows\n",
      "\n"
     ]
    }
   ],
   "source": [
    "df_country.show(5)"
   ]
  },
  {
   "cell_type": "code",
   "execution_count": 32,
   "id": "72cbf789",
   "metadata": {
    "id": "bf96c56c",
    "outputId": "68a8290b-3de8-41e0-a0c3-400a5cab7165",
    "scrolled": true
   },
   "outputs": [
    {
     "name": "stdout",
     "output_type": "stream",
     "text": [
      "root\n",
      " |-- geoname_id: integer (nullable = true)\n",
      " |-- locale_code: string (nullable = true)\n",
      " |-- continent_code: string (nullable = true)\n",
      " |-- continent_name: string (nullable = true)\n",
      " |-- country_iso_code: string (nullable = true)\n",
      " |-- country_name: string (nullable = true)\n",
      " |-- is_in_european_union: string (nullable = true)\n",
      "\n"
     ]
    }
   ],
   "source": [
    "df_country.printSchema()"
   ]
  },
  {
   "cell_type": "code",
   "execution_count": 33,
   "id": "ad20cf25",
   "metadata": {
    "id": "2c370c0f",
    "outputId": "fe686eba-8eb6-44e7-e1fb-daa7ba254abc"
   },
   "outputs": [
    {
     "data": {
      "text/plain": [
       "252"
      ]
     },
     "execution_count": 33,
     "metadata": {},
     "output_type": "execute_result"
    }
   ],
   "source": [
    "df_country.count()"
   ]
  },
  {
   "cell_type": "code",
   "execution_count": 34,
   "id": "80ace8a2",
   "metadata": {
    "id": "3bf3f3a8",
    "outputId": "0d067e03-1dc3-413d-9ee8-e77eb31eaaa7",
    "scrolled": true
   },
   "outputs": [
    {
     "data": {
      "text/plain": [
       "252"
      ]
     },
     "execution_count": 34,
     "metadata": {},
     "output_type": "execute_result"
    }
   ],
   "source": [
    "df_country.dropDuplicates().count()"
   ]
  },
  {
   "cell_type": "markdown",
   "id": "e40861a5",
   "metadata": {
    "id": "125816b9"
   },
   "source": [
    "* es gibt keine Duplikate in dem Datensatz"
   ]
  },
  {
   "cell_type": "code",
   "execution_count": 35,
   "id": "3ecc9a7e",
   "metadata": {},
   "outputs": [
    {
     "name": "stdout",
     "output_type": "stream",
     "text": [
      "+----------+-----------+--------------+--------------+----------------+------------+--------------------+\n",
      "|geoname_id|locale_code|continent_code|continent_name|country_iso_code|country_name|is_in_european_union|\n",
      "+----------+-----------+--------------+--------------+----------------+------------+--------------------+\n",
      "|         0|          0|             0|             0|               2|           2|                   0|\n",
      "+----------+-----------+--------------+--------------+----------------+------------+--------------------+\n",
      "\n"
     ]
    }
   ],
   "source": [
    "df_country.select([count(when(isnan(c) | col(c).isNull(), c)).alias(c) for c in df_country.columns]).show()"
   ]
  },
  {
   "cell_type": "markdown",
   "id": "886d3290",
   "metadata": {
    "id": "9f681a5c"
   },
   "source": [
    "* keine Null Values"
   ]
  },
  {
   "cell_type": "markdown",
   "id": "6d48770f",
   "metadata": {
    "id": "4b51e142"
   },
   "source": [
    "## Unbenötigte Spalten im Datensatz asn ip4 country entfernen "
   ]
  },
  {
   "cell_type": "code",
   "execution_count": 36,
   "id": "e6ecb4d0",
   "metadata": {
    "id": "4d1b11cb",
    "outputId": "dc6959f6-aab4-4ff1-e2df-4ad096277660"
   },
   "outputs": [],
   "source": [
    "df_country = df_country.drop(\"locale_code\", \"continent_code\", \"continent_name\", \"country_iso_code\", \"is_in_european_union\")"
   ]
  },
  {
   "cell_type": "code",
   "execution_count": 37,
   "id": "170656a1",
   "metadata": {
    "id": "161c8f0b",
    "outputId": "f8c6a3dc-7900-42bb-8a70-51e497401a61",
    "scrolled": true
   },
   "outputs": [
    {
     "name": "stdout",
     "output_type": "stream",
     "text": [
      "+----------+--------------------+\n",
      "|geoname_id|        country_name|\n",
      "+----------+--------------------+\n",
      "|     49518|              Rwanda|\n",
      "|     51537|             Somalia|\n",
      "|     69543|               Yemen|\n",
      "|     99237|                Iraq|\n",
      "|    102358|        Saudi Arabia|\n",
      "|    130758|                Iran|\n",
      "|    146669|              Cyprus|\n",
      "|    149590|            Tanzania|\n",
      "|    163843|               Syria|\n",
      "|    174982|             Armenia|\n",
      "|    192950|               Kenya|\n",
      "|    203312|            DR Congo|\n",
      "|    223816|            Djibouti|\n",
      "|    226074|              Uganda|\n",
      "|    239880|Central African R...|\n",
      "|    241170|          Seychelles|\n",
      "|    248816|              Jordan|\n",
      "|    272103|             Lebanon|\n",
      "|    285570|              Kuwait|\n",
      "|    286963|                Oman|\n",
      "+----------+--------------------+\n",
      "only showing top 20 rows\n",
      "\n"
     ]
    }
   ],
   "source": [
    "df_country.show()"
   ]
  },
  {
   "cell_type": "markdown",
   "id": "38c26293",
   "metadata": {
    "id": "e15b00c3"
   },
   "source": [
    "## GeoLite2-City-Locations-en"
   ]
  },
  {
   "cell_type": "code",
   "execution_count": 38,
   "id": "ba4c7e17",
   "metadata": {
    "id": "abbad8e1"
   },
   "outputs": [],
   "source": [
    "schema_city = StructType([\n",
    "    StructField(\"geoname_id\", IntegerType(), True),\n",
    "    StructField(\"locale_code\", StringType(), True),\n",
    "    StructField(\"continent_code\", StringType(), True),\n",
    "    StructField(\"continent_name\", StringType(), True),\n",
    "    StructField(\"country_iso_code\", StringType(), True),\n",
    "    StructField(\"country_name\", StringType(), True),\n",
    "    StructField(\"subdivision_1_iso_code\", StringType(), True),\n",
    "    StructField(\"subdivision_1_name\", StringType(), True),\n",
    "    StructField(\"subdivision_2_iso_code\", StringType(), True),\n",
    "    StructField(\"subdivision_2_name\", StringType(), True),\n",
    "    StructField(\"city_name\", StringType(), True),\n",
    "    StructField(\"metro_code\", StringType(), True),\n",
    "    StructField(\"time_zone\", StringType(), True),\n",
    "    StructField(\"is_in_european_union\", StringType(), True)\n",
    "])\n",
    "\n",
    "df_city = spark.read.csv(\"s3a://bucket/GeoLite2-City-Locations-en.csv\", header=True, schema = schema_city).cache()"
   ]
  },
  {
   "cell_type": "code",
   "execution_count": 39,
   "id": "0bfb9e07",
   "metadata": {
    "id": "94824859",
    "outputId": "43493ccd-54b2-48b7-a436-03dcfca635fc"
   },
   "outputs": [
    {
     "name": "stdout",
     "output_type": "stream",
     "text": [
      "+----------+-----------+--------------+--------------+----------------+------------+----------------------+------------------+----------------------+------------------+---------+----------+----------------+--------------------+\n",
      "|geoname_id|locale_code|continent_code|continent_name|country_iso_code|country_name|subdivision_1_iso_code|subdivision_1_name|subdivision_2_iso_code|subdivision_2_name|city_name|metro_code|       time_zone|is_in_european_union|\n",
      "+----------+-----------+--------------+--------------+----------------+------------+----------------------+------------------+----------------------+------------------+---------+----------+----------------+--------------------+\n",
      "|     49518|         en|            AF|        Africa|              RW|      Rwanda|                  null|              null|                  null|              null|     null|      null|   Africa/Kigali|                   0|\n",
      "|     49747|         en|            AF|        Africa|              SO|     Somalia|                    BK|            Bakool|                  null|              null|    Oddur|      null|Africa/Mogadishu|                   0|\n",
      "|     51537|         en|            AF|        Africa|              SO|     Somalia|                  null|              null|                  null|              null|     null|      null|Africa/Mogadishu|                   0|\n",
      "|     53654|         en|            AF|        Africa|              SO|     Somalia|                    BN|          Banaadir|                  null|              null|Mogadishu|      null|Africa/Mogadishu|                   0|\n",
      "|     54225|         en|            AF|        Africa|              SO|     Somalia|                    SH|   Lower Shabeelle|                  null|              null|    Merca|      null|Africa/Mogadishu|                   0|\n",
      "+----------+-----------+--------------+--------------+----------------+------------+----------------------+------------------+----------------------+------------------+---------+----------+----------------+--------------------+\n",
      "only showing top 5 rows\n",
      "\n"
     ]
    }
   ],
   "source": [
    "df_city.show(5)"
   ]
  },
  {
   "cell_type": "code",
   "execution_count": 40,
   "id": "18b0de29",
   "metadata": {
    "id": "c142eef9",
    "outputId": "e6e41504-25d9-48bb-8739-065a11dd9cd1"
   },
   "outputs": [
    {
     "name": "stdout",
     "output_type": "stream",
     "text": [
      "root\n",
      " |-- geoname_id: integer (nullable = true)\n",
      " |-- locale_code: string (nullable = true)\n",
      " |-- continent_code: string (nullable = true)\n",
      " |-- continent_name: string (nullable = true)\n",
      " |-- country_iso_code: string (nullable = true)\n",
      " |-- country_name: string (nullable = true)\n",
      " |-- subdivision_1_iso_code: string (nullable = true)\n",
      " |-- subdivision_1_name: string (nullable = true)\n",
      " |-- subdivision_2_iso_code: string (nullable = true)\n",
      " |-- subdivision_2_name: string (nullable = true)\n",
      " |-- city_name: string (nullable = true)\n",
      " |-- metro_code: string (nullable = true)\n",
      " |-- time_zone: string (nullable = true)\n",
      " |-- is_in_european_union: string (nullable = true)\n",
      "\n"
     ]
    }
   ],
   "source": [
    "df_city.printSchema()"
   ]
  },
  {
   "cell_type": "code",
   "execution_count": 41,
   "id": "2fb52caf",
   "metadata": {
    "id": "82108c05",
    "outputId": "35516206-f9cd-4cc7-f16e-1a8f4d4ab38f"
   },
   "outputs": [
    {
     "data": {
      "text/plain": [
       "121754"
      ]
     },
     "execution_count": 41,
     "metadata": {},
     "output_type": "execute_result"
    }
   ],
   "source": [
    "df_city.count()"
   ]
  },
  {
   "cell_type": "code",
   "execution_count": 42,
   "id": "8356316f",
   "metadata": {
    "id": "97e10060",
    "outputId": "72ed259e-05f3-43f8-960c-f6efc41edf8c"
   },
   "outputs": [
    {
     "data": {
      "text/plain": [
       "121754"
      ]
     },
     "execution_count": 42,
     "metadata": {},
     "output_type": "execute_result"
    }
   ],
   "source": [
    "df_city.dropDuplicates().count()"
   ]
  },
  {
   "cell_type": "markdown",
   "id": "e765b3ae",
   "metadata": {
    "id": "805acf90"
   },
   "source": [
    "* es gibt keine Duplikate in dem Datensatz"
   ]
  },
  {
   "cell_type": "code",
   "execution_count": 43,
   "id": "9240a9f1",
   "metadata": {},
   "outputs": [
    {
     "name": "stdout",
     "output_type": "stream",
     "text": [
      "+----------+-----------+--------------+--------------+----------------+------------+----------------------+------------------+----------------------+------------------+---------+----------+---------+--------------------+\n",
      "|geoname_id|locale_code|continent_code|continent_name|country_iso_code|country_name|subdivision_1_iso_code|subdivision_1_name|subdivision_2_iso_code|subdivision_2_name|city_name|metro_code|time_zone|is_in_european_union|\n",
      "+----------+-----------+--------------+--------------+----------------+------------+----------------------+------------------+----------------------+------------------+---------+----------+---------+--------------------+\n",
      "|         0|          0|             0|             0|               2|           2|                   801|               795|                 84330|             84330|      728|    100941|        0|                   0|\n",
      "+----------+-----------+--------------+--------------+----------------+------------+----------------------+------------------+----------------------+------------------+---------+----------+---------+--------------------+\n",
      "\n"
     ]
    }
   ],
   "source": [
    "df_city.select([count(when(isnan(c) | col(c).isNull(), c)).alias(c) for c in df_city.columns]).show()"
   ]
  },
  {
   "cell_type": "markdown",
   "id": "93a2c50b",
   "metadata": {
    "id": "7a38c008"
   },
   "source": [
    "* Keine Null Values"
   ]
  },
  {
   "cell_type": "markdown",
   "id": "3a62b9ef",
   "metadata": {
    "id": "46b353fc"
   },
   "source": [
    "## Unbenötigte Spalten im Datensatz asn ip4 city entfernen"
   ]
  },
  {
   "cell_type": "code",
   "execution_count": 44,
   "id": "b0c402bf",
   "metadata": {
    "id": "b969a7af"
   },
   "outputs": [],
   "source": [
    "df_city = df_city.drop(\"locale_code\", \"continent_code\", \"continent_name\", \"country_iso_code\", \"country_name\", \n",
    "                             \"subdivision_1_iso_code\", \"subdivision_1_name\", \"subdivision_2_iso_code\", \"subdivision_2_name\",\n",
    "                             \"metro_code\", \"time_zone\", \"is_in_european_union\")"
   ]
  },
  {
   "cell_type": "code",
   "execution_count": 45,
   "id": "8053557d",
   "metadata": {
    "id": "7c265c95",
    "outputId": "5805f93d-2618-488f-ca9b-978ade8bd816",
    "scrolled": true
   },
   "outputs": [
    {
     "name": "stdout",
     "output_type": "stream",
     "text": [
      "+----------+------------+\n",
      "|geoname_id|   city_name|\n",
      "+----------+------------+\n",
      "|     49518|        null|\n",
      "|     49747|       Oddur|\n",
      "|     51537|        null|\n",
      "|     53654|   Mogadishu|\n",
      "|     54225|       Merca|\n",
      "|     55671|     Kismayo|\n",
      "|     56335|      Giohar|\n",
      "|     57289|    Hargeisa|\n",
      "|     57723|    Gurmeyso|\n",
      "|     58933|     Garoowe|\n",
      "|     58994|Garbahaarrey|\n",
      "|     59611|   Gaalkacyo|\n",
      "|     60928| Dusa Marreb|\n",
      "|     62691|     Erigavo|\n",
      "|     63795|       Burao|\n",
      "|     63949|     Bu'aale|\n",
      "|     64013|      Bosaso|\n",
      "|     64460|  Beledweyne|\n",
      "|     64536|      Baidoa|\n",
      "|     69426|    Zinjibar|\n",
      "+----------+------------+\n",
      "only showing top 20 rows\n",
      "\n"
     ]
    }
   ],
   "source": [
    "df_city.show()"
   ]
  },
  {
   "cell_type": "markdown",
   "id": "b1bdee26",
   "metadata": {},
   "source": [
    "# GeoLite2-City-Blocks-IPv4"
   ]
  },
  {
   "cell_type": "code",
   "execution_count": 46,
   "id": "488a01a4",
   "metadata": {},
   "outputs": [],
   "source": [
    "schema_city_blocks = StructType([\n",
    "    StructField(\"network\", StringType(), True),\n",
    "    StructField(\"geoname_id\", IntegerType(), True),\n",
    "    StructField(\"registered_country_geoname_id\", IntegerType(), True),\n",
    "    StructField(\"represented_country_geoname_id\", IntegerType(), True),\n",
    "    StructField(\"is_anonymous_proxy\", StringType(), True),\n",
    "    StructField(\"is_satellite_provider\", StringType(), True),\n",
    "    StructField(\"postal_code\", StringType(), True),\n",
    "    StructField(\"latitude\", StringType(), True),\n",
    "    StructField(\"longitude\", StringType(), True),\n",
    "    StructField(\"accuracy_radius\", StringType(), True)\n",
    "])\n",
    "\n",
    "\n",
    "df_city_blocks = spark.read.csv(\"s3a://bucket/GeoLite2-City-Blocks-IPv4.csv\", header=True, schema = schema_city_blocks).cache()"
   ]
  },
  {
   "cell_type": "code",
   "execution_count": 47,
   "id": "048a03f7",
   "metadata": {},
   "outputs": [
    {
     "name": "stdout",
     "output_type": "stream",
     "text": [
      "+----------+----------+-----------------------------+------------------------------+------------------+---------------------+-----------+--------+---------+---------------+\n",
      "|   network|geoname_id|registered_country_geoname_id|represented_country_geoname_id|is_anonymous_proxy|is_satellite_provider|postal_code|latitude|longitude|accuracy_radius|\n",
      "+----------+----------+-----------------------------+------------------------------+------------------+---------------------+-----------+--------+---------+---------------+\n",
      "|1.0.0.0/24|   2077456|                      2077456|                          null|                 0|                    0|       null|-33.4940| 143.2104|           1000|\n",
      "|1.0.1.0/24|   1814991|                      1814991|                          null|                 0|                    0|       null| 34.7732| 113.7220|           1000|\n",
      "|1.0.2.0/23|   1814991|                      1814991|                          null|                 0|                    0|       null| 34.7732| 113.7220|           1000|\n",
      "|1.0.4.0/22|   2077456|                      2077456|                          null|                 0|                    0|       null|-33.4940| 143.2104|           1000|\n",
      "|1.0.8.0/21|   1814991|                      1814991|                          null|                 0|                    0|       null| 34.7732| 113.7220|           1000|\n",
      "+----------+----------+-----------------------------+------------------------------+------------------+---------------------+-----------+--------+---------+---------------+\n",
      "only showing top 5 rows\n",
      "\n"
     ]
    }
   ],
   "source": [
    "df_city_blocks.show(5)"
   ]
  },
  {
   "cell_type": "code",
   "execution_count": 48,
   "id": "b56bbe89",
   "metadata": {},
   "outputs": [
    {
     "data": {
      "text/plain": [
       "3576464"
      ]
     },
     "execution_count": 48,
     "metadata": {},
     "output_type": "execute_result"
    }
   ],
   "source": [
    "df_city_blocks.count()"
   ]
  },
  {
   "cell_type": "code",
   "execution_count": 49,
   "id": "07fa60c4",
   "metadata": {},
   "outputs": [
    {
     "data": {
      "text/plain": [
       "3576464"
      ]
     },
     "execution_count": 49,
     "metadata": {},
     "output_type": "execute_result"
    }
   ],
   "source": [
    "df_city_blocks.dropDuplicates().count()"
   ]
  },
  {
   "cell_type": "code",
   "execution_count": 50,
   "id": "4195f4f1",
   "metadata": {},
   "outputs": [
    {
     "name": "stdout",
     "output_type": "stream",
     "text": [
      "+-------+----------+-----------------------------+------------------------------+------------------+---------------------+-----------+--------+---------+---------------+\n",
      "|network|geoname_id|registered_country_geoname_id|represented_country_geoname_id|is_anonymous_proxy|is_satellite_provider|postal_code|latitude|longitude|accuracy_radius|\n",
      "+-------+----------+-----------------------------+------------------------------+------------------+---------------------+-----------+--------+---------+---------------+\n",
      "|      0|      1909|                         3444|                       3576238|                 0|                    0|     575145|    1909|     1909|           1909|\n",
      "+-------+----------+-----------------------------+------------------------------+------------------+---------------------+-----------+--------+---------+---------------+\n",
      "\n"
     ]
    }
   ],
   "source": [
    "df_city_blocks.select([count(when(isnan(c) | col(c).isNull(), c)).alias(c) for c in df_city_blocks.columns]).show()"
   ]
  },
  {
   "cell_type": "code",
   "execution_count": 51,
   "id": "99ce35cf",
   "metadata": {},
   "outputs": [
    {
     "name": "stdout",
     "output_type": "stream",
     "text": [
      "root\n",
      " |-- network: string (nullable = true)\n",
      " |-- geoname_id: integer (nullable = true)\n",
      " |-- registered_country_geoname_id: integer (nullable = true)\n",
      " |-- represented_country_geoname_id: integer (nullable = true)\n",
      " |-- is_anonymous_proxy: string (nullable = true)\n",
      " |-- is_satellite_provider: string (nullable = true)\n",
      " |-- postal_code: string (nullable = true)\n",
      " |-- latitude: string (nullable = true)\n",
      " |-- longitude: string (nullable = true)\n",
      " |-- accuracy_radius: string (nullable = true)\n",
      "\n"
     ]
    }
   ],
   "source": [
    "df_city_blocks.printSchema()"
   ]
  },
  {
   "cell_type": "markdown",
   "id": "3261ef16",
   "metadata": {},
   "source": [
    "# GeoLite2-Country-Blocks-IPv4"
   ]
  },
  {
   "cell_type": "code",
   "execution_count": 52,
   "id": "654b0918",
   "metadata": {},
   "outputs": [],
   "source": [
    "schema_country_blocks = StructType([\n",
    "    StructField(\"network\", StringType(), True),\n",
    "    StructField(\"geoname_id\", IntegerType(), True),\n",
    "    StructField(\"registered_country_geoname_id\", IntegerType(), True),\n",
    "    StructField(\"represented_country_geoname_id\", IntegerType(), True),\n",
    "    StructField(\"is_anonymous_proxy\", StringType(), True),\n",
    "    StructField(\"is_satellite_provider\", StringType(), True)\n",
    "])\n",
    "\n",
    "df_country_blocks = spark.read.csv(\"s3a://bucket/GeoLite2-Country-Blocks-IPv4.csv\", header=True, schema=schema_country_blocks).cache()"
   ]
  },
  {
   "cell_type": "code",
   "execution_count": 53,
   "id": "a8a600cd",
   "metadata": {},
   "outputs": [
    {
     "name": "stdout",
     "output_type": "stream",
     "text": [
      "+----------+----------+-----------------------------+------------------------------+------------------+---------------------+\n",
      "|   network|geoname_id|registered_country_geoname_id|represented_country_geoname_id|is_anonymous_proxy|is_satellite_provider|\n",
      "+----------+----------+-----------------------------+------------------------------+------------------+---------------------+\n",
      "|1.0.0.0/24|   2077456|                      2077456|                          null|                 0|                    0|\n",
      "|1.0.1.0/24|   1814991|                      1814991|                          null|                 0|                    0|\n",
      "|1.0.2.0/23|   1814991|                      1814991|                          null|                 0|                    0|\n",
      "|1.0.4.0/22|   2077456|                      2077456|                          null|                 0|                    0|\n",
      "|1.0.8.0/21|   1814991|                      1814991|                          null|                 0|                    0|\n",
      "+----------+----------+-----------------------------+------------------------------+------------------+---------------------+\n",
      "only showing top 5 rows\n",
      "\n"
     ]
    }
   ],
   "source": [
    "df_country_blocks.show(5)"
   ]
  },
  {
   "cell_type": "code",
   "execution_count": 54,
   "id": "b0793c06",
   "metadata": {},
   "outputs": [
    {
     "data": {
      "text/plain": [
       "334879"
      ]
     },
     "execution_count": 54,
     "metadata": {},
     "output_type": "execute_result"
    }
   ],
   "source": [
    "df_country_blocks.count()"
   ]
  },
  {
   "cell_type": "code",
   "execution_count": 55,
   "id": "d8fd8aab",
   "metadata": {},
   "outputs": [
    {
     "data": {
      "text/plain": [
       "334879"
      ]
     },
     "execution_count": 55,
     "metadata": {},
     "output_type": "execute_result"
    }
   ],
   "source": [
    "df_country_blocks.dropDuplicates().count()"
   ]
  },
  {
   "cell_type": "code",
   "execution_count": 56,
   "id": "34f6887e",
   "metadata": {},
   "outputs": [
    {
     "name": "stdout",
     "output_type": "stream",
     "text": [
      "+-------+----------+-----------------------------+------------------------------+------------------+---------------------+\n",
      "|network|geoname_id|registered_country_geoname_id|represented_country_geoname_id|is_anonymous_proxy|is_satellite_provider|\n",
      "+-------+----------+-----------------------------+------------------------------+------------------+---------------------+\n",
      "|      0|      1909|                          783|                        334697|                 0|                    0|\n",
      "+-------+----------+-----------------------------+------------------------------+------------------+---------------------+\n",
      "\n"
     ]
    }
   ],
   "source": [
    "df_country_blocks.select([count(when(isnan(c) | col(c).isNull(), c)).alias(c) for c in df_country_blocks.columns]).show()"
   ]
  },
  {
   "cell_type": "code",
   "execution_count": 57,
   "id": "32331443",
   "metadata": {},
   "outputs": [
    {
     "name": "stdout",
     "output_type": "stream",
     "text": [
      "root\n",
      " |-- network: string (nullable = true)\n",
      " |-- geoname_id: integer (nullable = true)\n",
      " |-- registered_country_geoname_id: integer (nullable = true)\n",
      " |-- represented_country_geoname_id: integer (nullable = true)\n",
      " |-- is_anonymous_proxy: string (nullable = true)\n",
      " |-- is_satellite_provider: string (nullable = true)\n",
      "\n"
     ]
    }
   ],
   "source": [
    "df_country_blocks.printSchema()"
   ]
  },
  {
   "cell_type": "markdown",
   "id": "c39f9451",
   "metadata": {
    "id": "b1540534"
   },
   "source": [
    "# Data Cleaning"
   ]
  },
  {
   "cell_type": "markdown",
   "id": "f6e04388",
   "metadata": {
    "id": "a4d81780"
   },
   "source": [
    "## Entfernen von Sonderzeichen im Datensatz real Domains"
   ]
  },
  {
   "cell_type": "code",
   "execution_count": 58,
   "id": "14f4247e",
   "metadata": {
    "id": "3fddb3d0"
   },
   "outputs": [],
   "source": [
    "commaRep = udf(lambda x: re.sub('\"','', x))\n",
    "commaRep2 = udf(lambda x: re.sub(']','', x))\n",
    "commaRep3 = udf(lambda x: re.sub('\\[','', x))\n",
    "commaRep5 = udf(lambda x: re.sub('\\.','', x))"
   ]
  },
  {
   "cell_type": "code",
   "execution_count": 59,
   "id": "8cb78c7a",
   "metadata": {
    "id": "31f773c8",
    "outputId": "c00ae093-df3b-4cac-b263-d68b563a9c23"
   },
   "outputs": [
    {
     "name": "stdout",
     "output_type": "stream",
     "text": [
      "+----------------+-----------------------------------------------+-----------------------+\n",
      "|Top level domain|MX-Record                                      |A-Record               |\n",
      "+----------------+-----------------------------------------------+-----------------------+\n",
      "|0--1.de         |mail.0--1.de,mxf993.netcup.net                 |\"[\"\"46.38.249.145\"\"]\"  |\n",
      "|0--2.de         |mxf993.netcup.net,mail.0--2.de                 |\"[\"\"212.227.212.163\"\"]\"|\n",
      "|0-0-0-0-0.de    |smtp-02.tld.t-online.de,smtp-01.tld.t-online.de|\"[\"\"80.150.6.143\"\"]\"   |\n",
      "+----------------+-----------------------------------------------+-----------------------+\n",
      "only showing top 3 rows\n",
      "\n"
     ]
    }
   ],
   "source": [
    "df_MXClean=df.withColumn('MX-Record',commaRep('MX-Record'))\n",
    "df_MXClean=df_MXClean.withColumn('MX-Record',commaRep2('MX-Record'))\n",
    "df_MXClean=df_MXClean.withColumn('MX-Record',commaRep3('MX-Record'))\n",
    "df_MXClean.show(3, False)"
   ]
  },
  {
   "cell_type": "code",
   "execution_count": 60,
   "id": "c85b3a76",
   "metadata": {
    "id": "b5bad9c7",
    "outputId": "f59107b6-6608-4ec1-9852-4f895ba51f22"
   },
   "outputs": [
    {
     "name": "stdout",
     "output_type": "stream",
     "text": [
      "+----------------+-----------------------------------------------------------+---------------+\n",
      "|Top level domain|MX-Record                                                  |A-Record       |\n",
      "+----------------+-----------------------------------------------------------+---------------+\n",
      "|0--1.de         |\"[\"\"mail.0--1.de\"\",\"\"mxf993.netcup.net\"\"]\"                 |46.38.249.145  |\n",
      "|0--2.de         |\"[\"\"mxf993.netcup.net\"\",\"\"mail.0--2.de\"\"]\"                 |212.227.212.163|\n",
      "|0-0-0-0-0.de    |\"[\"\"smtp-02.tld.t-online.de\"\",\"\"smtp-01.tld.t-online.de\"\"]\"|80.150.6.143   |\n",
      "+----------------+-----------------------------------------------------------+---------------+\n",
      "only showing top 3 rows\n",
      "\n"
     ]
    }
   ],
   "source": [
    "df_AClean=df.withColumn('A-Record',commaRep('A-Record'))\n",
    "df_AClean=df_AClean.withColumn('A-Record',commaRep2('A-Record'))\n",
    "df_AClean=df_AClean.withColumn('A-Record',commaRep3('A-Record'))\n",
    "df_AClean.show(3, False)"
   ]
  },
  {
   "cell_type": "markdown",
   "id": "8a730dfb",
   "metadata": {
    "id": "47819ed3"
   },
   "source": [
    " ## Splitten der Spalten im Datensatz real_domains"
   ]
  },
  {
   "cell_type": "code",
   "execution_count": 61,
   "id": "afcc121d",
   "metadata": {
    "id": "acb746f5",
    "outputId": "a26fc5ed-d5f5-4f05-a0a5-3aea5fbb065b"
   },
   "outputs": [
    {
     "name": "stdout",
     "output_type": "stream",
     "text": [
      "+----------------+--------------------+--------------------+------+--------------------+\n",
      "|Top level domain|            A-Record|           MX-Record|pos_MX|              val_MX|\n",
      "+----------------+--------------------+--------------------+------+--------------------+\n",
      "|         0--1.de|\"[\"\"46.38.249.145...|[mail.0--1.de, mx...|     0|        mail.0--1.de|\n",
      "|         0--1.de|\"[\"\"46.38.249.145...|[mail.0--1.de, mx...|     1|   mxf993.netcup.net|\n",
      "|         0--2.de|\"[\"\"212.227.212.1...|[mxf993.netcup.ne...|     0|   mxf993.netcup.net|\n",
      "|         0--2.de|\"[\"\"212.227.212.1...|[mxf993.netcup.ne...|     1|        mail.0--2.de|\n",
      "|    0-0-0-0-0.de|\"[\"\"80.150.6.143\"\"]\"|[smtp-02.tld.t-on...|     0|smtp-02.tld.t-onl...|\n",
      "+----------------+--------------------+--------------------+------+--------------------+\n",
      "only showing top 5 rows\n",
      "\n"
     ]
    }
   ],
   "source": [
    "df_MXSplit=df_MXClean.select(\n",
    "        \"Top level domain\", \"A-Record\",\n",
    "        f.split(\"MX-Record\", \",\").alias(\"MX-Record\"),\n",
    "        f.posexplode(f.split(\"MX-Record\", \",\")).alias(\"pos_MX\", \"val_MX\")\n",
    "    )\n",
    "df_MXSplit.show(5)"
   ]
  },
  {
   "cell_type": "code",
   "execution_count": 62,
   "id": "88058d9a",
   "metadata": {
    "id": "1a9cfea3",
    "outputId": "fae0df60-c8b0-4eb4-c188-e6e7c57cb6b6",
    "scrolled": true
   },
   "outputs": [
    {
     "name": "stdout",
     "output_type": "stream",
     "text": [
      "+-------------------+--------------------+-----------------+-----+---------------+\n",
      "|   Top level domain|           MX-Record|         A-Record|pos_A|          val_A|\n",
      "+-------------------+--------------------+-----------------+-----+---------------+\n",
      "|            0--1.de|\"[\"\"mail.0--1.de\"...|  [46.38.249.145]|    0|  46.38.249.145|\n",
      "|            0--2.de|\"[\"\"mxf993.netcup...|[212.227.212.163]|    0|212.227.212.163|\n",
      "|       0-0-0-0-0.de|\"[\"\"smtp-02.tld.t...|   [80.150.6.143]|    0|   80.150.6.143|\n",
      "|         0-0-0-1.de|\"[\"\"smtp-02.tld.t...|   [80.150.6.143]|    0|   80.150.6.143|\n",
      "|             0-0.de|                  []|  [185.53.178.13]|    0|  185.53.178.13|\n",
      "|            0-01.de|\"[\"\"mail.0-01.de\"\"]\"| [193.34.145.200]|    0| 193.34.145.200|\n",
      "|             0-1.de|   \"[\"\"localhost\"\"]\"| [91.195.241.137]|    0| 91.195.241.137|\n",
      "|            0-10.de|                  []|               []|    0|               |\n",
      "|          0-1000.de|   \"[\"\"localhost\"\"]\"| [91.195.241.137]|    0| 91.195.241.137|\n",
      "|        0-100kmh.de|\"[\"\"smtpin.rzone....|  [81.169.145.95]|    0|  81.169.145.95|\n",
      "|            0-12.de|   \"[\"\"localhost\"\"]\"| [91.195.241.137]|    0| 91.195.241.137|\n",
      "|            0-17.de|   \"[\"\"localhost\"\"]\"| [91.195.241.137]|    0| 91.195.241.137|\n",
      "|             0-2.de|   \"[\"\"localhost\"\"]\"|      [127.0.0.1]|    0|      127.0.0.1|\n",
      "|      0-24domain.de|\"[\"\"pmx.bestcpane...| [194.38.104.220]|    0| 194.38.104.220|\n",
      "|           0-24h.de|\"[\"\"mxlb.ispgatew...|[134.209.177.247]|    0|134.209.177.247|\n",
      "|     0-24leasing.de|                  []|               []|    0|               |\n",
      "|0-24versicherung.de|                  []|               []|    0|               |\n",
      "|        0-263475.de|                  []|   [176.9.76.101]|    0|   176.9.76.101|\n",
      "|           0-3-0.de|                  []|               []|    0|               |\n",
      "|             0-3.de|\"[\"\"teller.ggeg.e...|[185.163.116.240]|    0|185.163.116.240|\n",
      "+-------------------+--------------------+-----------------+-----+---------------+\n",
      "only showing top 20 rows\n",
      "\n"
     ]
    }
   ],
   "source": [
    "df_ASplit=df_AClean.select(\n",
    "        \"Top level domain\", \"MX-Record\",\n",
    "        f.split(\"A-Record\", \", \").alias(\"A-Record\"),\n",
    "        f.posexplode(f.split(\"A-Record\", \",\")).alias(\"pos_A\", \"val_A\")\n",
    "    )\n",
    "df_ASplit.show(20)"
   ]
  },
  {
   "cell_type": "code",
   "execution_count": 63,
   "id": "aabf916f",
   "metadata": {
    "id": "98f9fed8",
    "outputId": "0e9eb8c4-3f5d-41e3-ebd7-de64ad2ae593"
   },
   "outputs": [
    {
     "data": {
      "text/plain": [
       "5540060"
      ]
     },
     "execution_count": 63,
     "metadata": {},
     "output_type": "execute_result"
    }
   ],
   "source": [
    "df_ASplit.count()"
   ]
  },
  {
   "cell_type": "code",
   "execution_count": 64,
   "id": "5332bd5e",
   "metadata": {
    "id": "4b647a59",
    "scrolled": false
   },
   "outputs": [],
   "source": [
    "df_ASplit=df_ASplit.filter(df_ASplit.val_A!=\"\")"
   ]
  },
  {
   "cell_type": "code",
   "execution_count": 65,
   "id": "d5a30443",
   "metadata": {
    "id": "b152a75a",
    "outputId": "7dd54095-c146-4227-b40e-bfacc98d4acf"
   },
   "outputs": [
    {
     "data": {
      "text/plain": [
       "5368041"
      ]
     },
     "execution_count": 65,
     "metadata": {},
     "output_type": "execute_result"
    }
   ],
   "source": [
    "df_ASplit.count()"
   ]
  },
  {
   "cell_type": "code",
   "execution_count": 66,
   "id": "f9e20fa7",
   "metadata": {
    "id": "b84b9d52",
    "outputId": "13741639-1705-47b4-8748-5de6814e7b1f"
   },
   "outputs": [
    {
     "name": "stdout",
     "output_type": "stream",
     "text": [
      "root\n",
      " |-- Top level domain: string (nullable = true)\n",
      " |-- MX-Record: string (nullable = true)\n",
      " |-- A-Record: array (nullable = true)\n",
      " |    |-- element: string (containsNull = true)\n",
      " |-- pos_A: integer (nullable = false)\n",
      " |-- val_A: string (nullable = true)\n",
      "\n"
     ]
    }
   ],
   "source": [
    "df_ASplit.printSchema()"
   ]
  },
  {
   "cell_type": "markdown",
   "id": "244c87d3",
   "metadata": {
    "id": "ba9c450c"
   },
   "source": [
    "## Entfernen von Sonderzeichen im Datensatz asn ip4 Blocks"
   ]
  },
  {
   "cell_type": "code",
   "execution_count": 67,
   "id": "280d39a0",
   "metadata": {
    "id": "67e46621",
    "outputId": "8462e7b7-5646-4aee-8f03-01e9e61e882d",
    "scrolled": true
   },
   "outputs": [
    {
     "name": "stdout",
     "output_type": "stream",
     "text": [
      "+------------+------------------------+------------------------------+--------------+------------+\n",
      "|     network|autonomous_system_number|autonomous_system_organization|network_adress|subnetzmaske|\n",
      "+------------+------------------------+------------------------------+--------------+------------+\n",
      "|  1.0.0.0/24|                   13335|                 CLOUDFLARENET|       1.0.0.0|          24|\n",
      "|  1.0.4.0/22|                   38803|          Wirefreebroadband...|       1.0.4.0|          22|\n",
      "| 1.0.64.0/18|                   18144|          Energia Communica...|      1.0.64.0|          18|\n",
      "|1.0.128.0/17|                   23969|          TOT Public Compan...|     1.0.128.0|          17|\n",
      "|  1.1.1.0/24|                   13335|                 CLOUDFLARENET|       1.1.1.0|          24|\n",
      "|  1.1.8.0/24|                   58543|                     Guangdong|       1.1.8.0|          24|\n",
      "| 1.1.64.0/19|                    2519|          ARTERIA Networks ...|      1.1.64.0|          19|\n",
      "| 1.1.96.0/20|                    2519|          ARTERIA Networks ...|      1.1.96.0|          20|\n",
      "|1.1.112.0/21|                    2519|          ARTERIA Networks ...|     1.1.112.0|          21|\n",
      "|1.1.120.0/22|                    2519|          ARTERIA Networks ...|     1.1.120.0|          22|\n",
      "|1.1.124.0/23|                    2519|          ARTERIA Networks ...|     1.1.124.0|          23|\n",
      "|1.1.126.0/24|                    2519|          ARTERIA Networks ...|     1.1.126.0|          24|\n",
      "|1.1.128.0/17|                   23969|          TOT Public Compan...|     1.1.128.0|          17|\n",
      "|  1.2.4.0/24|                   24151|          China Internet Ne...|       1.2.4.0|          24|\n",
      "|1.2.128.0/17|                   23969|          TOT Public Compan...|     1.2.128.0|          17|\n",
      "|1.4.128.0/17|                   23969|          TOT Public Compan...|     1.4.128.0|          17|\n",
      "|  1.5.0.0/16|                    4725|                SoftBank Corp.|       1.5.0.0|          16|\n",
      "|  1.6.0.0/17|                    9583|                  Sify Limited|       1.6.0.0|          17|\n",
      "|1.6.128.0/21|                    9583|                  Sify Limited|     1.6.128.0|          21|\n",
      "|1.6.136.0/24|                  132215|          Power Grid Corpor...|     1.6.136.0|          24|\n",
      "+------------+------------------------+------------------------------+--------------+------------+\n",
      "only showing top 20 rows\n",
      "\n"
     ]
    }
   ],
   "source": [
    "split_col = f.split(df_asn_blocks_ipv4['network'], '/')\n",
    "df_asn_blocks_ipv4 = df_asn_blocks_ipv4.withColumn('network_adress', split_col.getItem(0))\n",
    "df_asn_blocks_ipv4 = df_asn_blocks_ipv4.withColumn('subnetzmaske', split_col.getItem(1))\n",
    "\n",
    "df_asn_blocks_ipv4.show()"
   ]
  },
  {
   "cell_type": "code",
   "execution_count": 68,
   "id": "016e7c59",
   "metadata": {
    "id": "b6403e24",
    "outputId": "28dbd7ac-528a-4848-bf2d-22773155fbf9"
   },
   "outputs": [
    {
     "data": {
      "text/plain": [
       "461902"
      ]
     },
     "execution_count": 68,
     "metadata": {},
     "output_type": "execute_result"
    }
   ],
   "source": [
    "df_asn_blocks_ipv4.count()"
   ]
  },
  {
   "cell_type": "markdown",
   "id": "5ecdb123",
   "metadata": {
    "id": "ee468b85"
   },
   "source": [
    "# Joining"
   ]
  },
  {
   "cell_type": "markdown",
   "id": "070fade2",
   "metadata": {
    "id": "4e9eefee"
   },
   "source": [
    "## Joining von Tabelle real_new und asn_blocks_ipv4"
   ]
  },
  {
   "cell_type": "code",
   "execution_count": 69,
   "id": "779db542",
   "metadata": {
    "colab": {
     "base_uri": "https://localhost:8080/",
     "height": 226
    },
    "executionInfo": {
     "elapsed": 701,
     "status": "error",
     "timestamp": 1624866445907,
     "user": {
      "displayName": "Miriam Schneider",
      "photoUrl": "",
      "userId": "12431475822727460382"
     },
     "user_tz": -120
    },
    "id": "d435e250",
    "outputId": "783d2d63-3660-4672-ca78-b33eb3587730"
   },
   "outputs": [],
   "source": [
    "def ip_range(ip, network_range):\n",
    "    return ipaddress.IPv4Address(str(ip)) in ipaddress.ip_network(str(network_range))\n",
    "\n",
    "pred = udf(lambda ip, network_range:ipaddress.IPv4Address(str(ip)) in ipaddress.ip_network(str(network_range)), BooleanType())"
   ]
  },
  {
   "cell_type": "markdown",
   "id": "7b9307e8",
   "metadata": {},
   "source": [
    "Auswahl der ersten 50 Daten aus dem ursprünglichen Datensatz"
   ]
  },
  {
   "cell_type": "code",
   "execution_count": 70,
   "id": "a2373ca2",
   "metadata": {},
   "outputs": [],
   "source": [
    "startzeit=time.time()"
   ]
  },
  {
   "cell_type": "code",
   "execution_count": 71,
   "id": "5c3734f2",
   "metadata": {},
   "outputs": [],
   "source": [
    "#Für eine Analyse des ganzen Datensatzes verwendet man\n",
    "#dfJoinATest=df_ASplit\n",
    "#anstatt der folgenden Zeile\n",
    "\n",
    "\n",
    "dfJoinATest=df_ASplit.limit(10)"
   ]
  },
  {
   "cell_type": "code",
   "execution_count": 72,
   "id": "f1c8a428",
   "metadata": {},
   "outputs": [],
   "source": [
    "#dfJoinATest.count()"
   ]
  },
  {
   "cell_type": "code",
   "execution_count": 73,
   "id": "ade20047",
   "metadata": {
    "executionInfo": {
     "elapsed": 8,
     "status": "aborted",
     "timestamp": 1624866445903,
     "user": {
      "displayName": "Miriam Schneider",
      "photoUrl": "",
      "userId": "12431475822727460382"
     },
     "user_tz": -120
    },
    "id": "02cfb122",
    "scrolled": true
   },
   "outputs": [],
   "source": [
    "#dfJoinA=df_ASplit.join(df_asn_blocks_ipv4).where(pred(df_ASplit.val_A, df_asn_blocks_ipv4.network))"
   ]
  },
  {
   "cell_type": "code",
   "execution_count": 74,
   "id": "0780e1e8",
   "metadata": {},
   "outputs": [],
   "source": [
    "dfJoinA=dfJoinATest.join(df_asn_blocks_ipv4).where(pred(dfJoinATest.val_A, df_asn_blocks_ipv4.network)).cache()"
   ]
  },
  {
   "cell_type": "code",
   "execution_count": 75,
   "id": "d1140502",
   "metadata": {},
   "outputs": [
    {
     "name": "stdout",
     "output_type": "stream",
     "text": [
      "+----------------+--------------------+-----------------+-----+---------------+---------------+------------------------+------------------------------+--------------+------------+\n",
      "|Top level domain|           MX-Record|         A-Record|pos_A|          val_A|        network|autonomous_system_number|autonomous_system_organization|network_adress|subnetzmaske|\n",
      "+----------------+--------------------+-----------------+-----+---------------+---------------+------------------------+------------------------------+--------------+------------+\n",
      "|         0--1.de|\"[\"\"mail.0--1.de\"...|  [46.38.249.145]|    0|  46.38.249.145| 46.38.224.0/19|                  197540|                   netcup GmbH|   46.38.224.0|          19|\n",
      "|    0-0-0-0-0.de|\"[\"\"smtp-02.tld.t...|   [80.150.6.143]|    0|   80.150.6.143|  80.144.0.0/13|                    3320|           Deutsche Telekom AG|    80.144.0.0|          13|\n",
      "|      0-0-0-1.de|\"[\"\"smtp-02.tld.t...|   [80.150.6.143]|    0|   80.150.6.143|  80.144.0.0/13|                    3320|           Deutsche Telekom AG|    80.144.0.0|          13|\n",
      "|     0-100kmh.de|\"[\"\"smtpin.rzone....|  [81.169.145.95]|    0|  81.169.145.95|81.169.128.0/17|                    6724|                     Strato AG|  81.169.128.0|          17|\n",
      "|          0-1.de|   \"[\"\"localhost\"\"]\"| [91.195.241.137]|    0| 91.195.241.137|91.195.240.0/23|                   47846|                     SEDO GmbH|  91.195.240.0|          23|\n",
      "|       0-1000.de|   \"[\"\"localhost\"\"]\"| [91.195.241.137]|    0| 91.195.241.137|91.195.240.0/23|                   47846|                     SEDO GmbH|  91.195.240.0|          23|\n",
      "|         0-12.de|   \"[\"\"localhost\"\"]\"| [91.195.241.137]|    0| 91.195.241.137|91.195.240.0/23|                   47846|                     SEDO GmbH|  91.195.240.0|          23|\n",
      "|          0-0.de|                  []|  [185.53.178.13]|    0|  185.53.178.13|185.53.176.0/22|                   61969|              Team Internet AG|  185.53.176.0|          22|\n",
      "|         0-01.de|\"[\"\"mail.0-01.de\"\"]\"| [193.34.145.200]|    0| 193.34.145.200|193.34.144.0/23|                   51167|                  Contabo GmbH|  193.34.144.0|          23|\n",
      "|         0--2.de|\"[\"\"mxf993.netcup...|[212.227.212.163]|    0|212.227.212.163| 212.227.0.0/16|                    8560|                  1&1 Ionos Se|   212.227.0.0|          16|\n",
      "+----------------+--------------------+-----------------+-----+---------------+---------------+------------------------+------------------------------+--------------+------------+\n",
      "\n"
     ]
    }
   ],
   "source": [
    "dfJoinA.show()"
   ]
  },
  {
   "cell_type": "code",
   "execution_count": 76,
   "id": "18541e52",
   "metadata": {},
   "outputs": [],
   "source": [
    "zeitende=time.time()"
   ]
  },
  {
   "cell_type": "code",
   "execution_count": 77,
   "id": "a8868013",
   "metadata": {},
   "outputs": [
    {
     "data": {
      "text/plain": [
       "1.3200237075487773"
      ]
     },
     "execution_count": 77,
     "metadata": {},
     "output_type": "execute_result"
    }
   ],
   "source": [
    "(zeitende-startzeit)/60"
   ]
  },
  {
   "cell_type": "markdown",
   "id": "e027f421",
   "metadata": {
    "id": "3d8b2d78"
   },
   "source": [
    "## Joining von dfjoinA mit df_country_blocks und df_city_blocks"
   ]
  },
  {
   "cell_type": "code",
   "execution_count": 78,
   "id": "35ed1f69",
   "metadata": {
    "id": "cf7d01d1"
   },
   "outputs": [],
   "source": [
    "df_joint_JoinA_mitBlocks = dfJoinA\\\n",
    "            .join(df_country_blocks, dfJoinA[\"network\"] == df_country_blocks[\"network\"])#\\\n",
    "            #.join(df_city_blocks, dfJoinA[\"network\"] == df_city_blocks[\"network\"])"
   ]
  },
  {
   "cell_type": "code",
   "execution_count": 79,
   "id": "73a8c9df",
   "metadata": {
    "id": "239e738b"
   },
   "outputs": [
    {
     "name": "stdout",
     "output_type": "stream",
     "text": [
      "+----------------+--------------------+-----------------+-----+---------------+---------------+------------------------+------------------------------+--------------+------------+---------------+----------+-----------------------------+------------------------------+------------------+---------------------+\n",
      "|Top level domain|           MX-Record|         A-Record|pos_A|          val_A|        network|autonomous_system_number|autonomous_system_organization|network_adress|subnetzmaske|        network|geoname_id|registered_country_geoname_id|represented_country_geoname_id|is_anonymous_proxy|is_satellite_provider|\n",
      "+----------------+--------------------+-----------------+-----+---------------+---------------+------------------------+------------------------------+--------------+------------+---------------+----------+-----------------------------+------------------------------+------------------+---------------------+\n",
      "|         0--1.de|\"[\"\"mail.0--1.de\"...|  [46.38.249.145]|    0|  46.38.249.145| 46.38.224.0/19|                  197540|                   netcup GmbH|   46.38.224.0|          19| 46.38.224.0/19|   2921044|                      2921044|                          null|                 0|                    0|\n",
      "|     0-100kmh.de|\"[\"\"smtpin.rzone....|  [81.169.145.95]|    0|  81.169.145.95|81.169.128.0/17|                    6724|                     Strato AG|  81.169.128.0|          17|81.169.128.0/17|   2921044|                      2921044|                          null|                 0|                    0|\n",
      "|          0-0.de|                  []|  [185.53.178.13]|    0|  185.53.178.13|185.53.176.0/22|                   61969|              Team Internet AG|  185.53.176.0|          22|185.53.176.0/22|   2921044|                      2921044|                          null|                 0|                    0|\n",
      "|         0-01.de|\"[\"\"mail.0-01.de\"\"]\"| [193.34.145.200]|    0| 193.34.145.200|193.34.144.0/23|                   51167|                  Contabo GmbH|  193.34.144.0|          23|193.34.144.0/23|   2921044|                      2921044|                          null|                 0|                    0|\n",
      "|         0--2.de|\"[\"\"mxf993.netcup...|[212.227.212.163]|    0|212.227.212.163| 212.227.0.0/16|                    8560|                  1&1 Ionos Se|   212.227.0.0|          16| 212.227.0.0/16|   2921044|                      2921044|                          null|                 0|                    0|\n",
      "+----------------+--------------------+-----------------+-----+---------------+---------------+------------------------+------------------------------+--------------+------------+---------------+----------+-----------------------------+------------------------------+------------------+---------------------+\n",
      "\n"
     ]
    }
   ],
   "source": [
    "df_joint_JoinA_mitBlocks.show(5)"
   ]
  },
  {
   "cell_type": "markdown",
   "id": "2e218d63",
   "metadata": {},
   "source": [
    "## Joining von allen Dataframes"
   ]
  },
  {
   "cell_type": "code",
   "execution_count": 80,
   "id": "2c8229ab",
   "metadata": {},
   "outputs": [],
   "source": [
    "df_joint_all = df_joint_JoinA_mitBlocks\\\n",
    "            .join(df_country, df_joint_JoinA_mitBlocks[\"geoname_id\"] == df_country[\"geoname_id\"])#\\\n",
    "            #.join(df_city, df_joint_JoinA_mitBlocks[\"geoname_id\"] == df_city[\"geoname_id\"])"
   ]
  },
  {
   "cell_type": "code",
   "execution_count": 81,
   "id": "bf006ddf",
   "metadata": {},
   "outputs": [
    {
     "name": "stdout",
     "output_type": "stream",
     "text": [
      "+----------------+--------------------+-----------------+-----+---------------+---------------+------------------------+------------------------------+--------------+------------+---------------+----------+-----------------------------+------------------------------+------------------+---------------------+----------+------------+\n",
      "|Top level domain|           MX-Record|         A-Record|pos_A|          val_A|        network|autonomous_system_number|autonomous_system_organization|network_adress|subnetzmaske|        network|geoname_id|registered_country_geoname_id|represented_country_geoname_id|is_anonymous_proxy|is_satellite_provider|geoname_id|country_name|\n",
      "+----------------+--------------------+-----------------+-----+---------------+---------------+------------------------+------------------------------+--------------+------------+---------------+----------+-----------------------------+------------------------------+------------------+---------------------+----------+------------+\n",
      "|         0--1.de|\"[\"\"mail.0--1.de\"...|  [46.38.249.145]|    0|  46.38.249.145| 46.38.224.0/19|                  197540|                   netcup GmbH|   46.38.224.0|          19| 46.38.224.0/19|   2921044|                      2921044|                          null|                 0|                    0|   2921044|     Germany|\n",
      "|     0-100kmh.de|\"[\"\"smtpin.rzone....|  [81.169.145.95]|    0|  81.169.145.95|81.169.128.0/17|                    6724|                     Strato AG|  81.169.128.0|          17|81.169.128.0/17|   2921044|                      2921044|                          null|                 0|                    0|   2921044|     Germany|\n",
      "|          0-0.de|                  []|  [185.53.178.13]|    0|  185.53.178.13|185.53.176.0/22|                   61969|              Team Internet AG|  185.53.176.0|          22|185.53.176.0/22|   2921044|                      2921044|                          null|                 0|                    0|   2921044|     Germany|\n",
      "|         0-01.de|\"[\"\"mail.0-01.de\"\"]\"| [193.34.145.200]|    0| 193.34.145.200|193.34.144.0/23|                   51167|                  Contabo GmbH|  193.34.144.0|          23|193.34.144.0/23|   2921044|                      2921044|                          null|                 0|                    0|   2921044|     Germany|\n",
      "|         0--2.de|\"[\"\"mxf993.netcup...|[212.227.212.163]|    0|212.227.212.163| 212.227.0.0/16|                    8560|                  1&1 Ionos Se|   212.227.0.0|          16| 212.227.0.0/16|   2921044|                      2921044|                          null|                 0|                    0|   2921044|     Germany|\n",
      "+----------------+--------------------+-----------------+-----+---------------+---------------+------------------------+------------------------------+--------------+------------+---------------+----------+-----------------------------+------------------------------+------------------+---------------------+----------+------------+\n",
      "\n"
     ]
    }
   ],
   "source": [
    "df_joint_all.show(5)"
   ]
  },
  {
   "cell_type": "markdown",
   "id": "8999f71c",
   "metadata": {
    "id": "3e0b7d2b"
   },
   "source": [
    "## Checken Joining-Datensatz"
   ]
  },
  {
   "cell_type": "code",
   "execution_count": 82,
   "id": "93de4c7a",
   "metadata": {},
   "outputs": [
    {
     "data": {
      "text/plain": [
       "10"
      ]
     },
     "execution_count": 82,
     "metadata": {},
     "output_type": "execute_result"
    }
   ],
   "source": [
    "dfJoinA.count()"
   ]
  },
  {
   "cell_type": "code",
   "execution_count": 83,
   "id": "a44bfbdf",
   "metadata": {},
   "outputs": [
    {
     "data": {
      "text/plain": [
       "5"
      ]
     },
     "execution_count": 83,
     "metadata": {},
     "output_type": "execute_result"
    }
   ],
   "source": [
    "df_joint_JoinA_mitBlocks.count()"
   ]
  },
  {
   "cell_type": "code",
   "execution_count": 84,
   "id": "167fda51",
   "metadata": {},
   "outputs": [
    {
     "data": {
      "text/plain": [
       "5"
      ]
     },
     "execution_count": 84,
     "metadata": {},
     "output_type": "execute_result"
    }
   ],
   "source": [
    "df_joint_all.count()"
   ]
  },
  {
   "cell_type": "markdown",
   "id": "6b7ff78f",
   "metadata": {
    "id": "179caa37"
   },
   "source": [
    "# Analyse"
   ]
  },
  {
   "cell_type": "markdown",
   "id": "55aa53e3",
   "metadata": {
    "id": "144ae606"
   },
   "source": [
    "## What are the Top 10 Companies that own the servers the A records point to?\n"
   ]
  },
  {
   "cell_type": "code",
   "execution_count": 85,
   "id": "a885e358",
   "metadata": {
    "id": "f9b756e7"
   },
   "outputs": [
    {
     "name": "stdout",
     "output_type": "stream",
     "text": [
      "+------------------------------+-----+\n",
      "|autonomous_system_organization|count|\n",
      "+------------------------------+-----+\n",
      "|SEDO GmbH                     |3    |\n",
      "|Deutsche Telekom AG           |2    |\n",
      "|Team Internet AG              |1    |\n",
      "|1&1 Ionos Se                  |1    |\n",
      "|netcup GmbH                   |1    |\n",
      "|Contabo GmbH                  |1    |\n",
      "|Strato AG                     |1    |\n",
      "+------------------------------+-----+\n",
      "\n"
     ]
    }
   ],
   "source": [
    "top_companies=dfJoinA.groupBy(\"autonomous_system_organization\").count()\n",
    "top_companies=top_companies.orderBy(col(\"count\").desc()).limit(10)\n",
    "top_companies.show(20,False)"
   ]
  },
  {
   "cell_type": "code",
   "execution_count": 86,
   "id": "af24db07",
   "metadata": {},
   "outputs": [
    {
     "data": {
      "text/plain": [
       "array([[<AxesSubplot:title={'center':'count'}>]], dtype=object)"
      ]
     },
     "execution_count": 86,
     "metadata": {},
     "output_type": "execute_result"
    },
    {
     "data": {
      "image/png": "[encoded data removed]",
      "text/plain": [
       "<Figure size 432x288 with 1 Axes>"
      ]
     },
     "metadata": {
      "needs_background": "light"
     },
     "output_type": "display_data"
    }
   ],
   "source": [
    "top_companies_p=top_companies.toPandas()\n",
    "top_companies_p.hist('count')"
   ]
  },
  {
   "cell_type": "code",
   "execution_count": 87,
   "id": "59dfa385",
   "metadata": {},
   "outputs": [
    {
     "data": {
      "text/plain": [
       "[Text(0, 0, 'SEDO GmbH'),\n",
       " Text(1, 0, 'Deutsche Telekom AG'),\n",
       " Text(2, 0, 'Team Internet AG'),\n",
       " Text(3, 0, '1&1 Ionos Se'),\n",
       " Text(4, 0, 'netcup GmbH'),\n",
       " Text(5, 0, 'Contabo GmbH'),\n",
       " Text(6, 0, 'Strato AG')]"
      ]
     },
     "execution_count": 87,
     "metadata": {},
     "output_type": "execute_result"
    },
    {
     "data": {
      "image/png": "[encoded data removed]",
      "text/plain": [
       "<Figure size 432x288 with 1 Axes>"
      ]
     },
     "metadata": {
      "needs_background": "light"
     },
     "output_type": "display_data"
    }
   ],
   "source": [
    "xlabels = top_companies.select(\"autonomous_system_organization\").rdd.flatMap(list).collect()\n",
    "top_companies_p.plot(kind='bar').set_xticklabels(xlabels)"
   ]
  },
  {
   "cell_type": "markdown",
   "id": "c95ee1bb",
   "metadata": {},
   "source": [
    "## Where are these companys located?"
   ]
  },
  {
   "cell_type": "code",
   "execution_count": 88,
   "id": "bd82efe9",
   "metadata": {
    "scrolled": true
   },
   "outputs": [
    {
     "name": "stdout",
     "output_type": "stream",
     "text": [
      "+------------------------------+------------+-----+\n",
      "|autonomous_system_organization|country_name|count|\n",
      "+------------------------------+------------+-----+\n",
      "|                     SEDO GmbH|        null|    3|\n",
      "|           Deutsche Telekom AG|        null|    2|\n",
      "|                   netcup GmbH|     Germany|    1|\n",
      "|                  1&1 Ionos Se|     Germany|    1|\n",
      "|              Team Internet AG|     Germany|    1|\n",
      "|                  Contabo GmbH|     Germany|    1|\n",
      "|                     Strato AG|     Germany|    1|\n",
      "+------------------------------+------------+-----+\n",
      "\n"
     ]
    }
   ],
   "source": [
    "top_locate=df_joint_all.join(top_companies,\"autonomous_system_organization\",\"right\").select(\"autonomous_system_organization\",\"country_name\",\"count\").distinct().sort(desc(\"count\"))\n",
    "top_locate.show()"
   ]
  },
  {
   "cell_type": "code",
   "execution_count": 89,
   "id": "b586c70f",
   "metadata": {},
   "outputs": [
    {
     "data": {
      "text/plain": [
       "[Text(0, 0, 'SEDO GmbH'),\n",
       " Text(1, 0, 'Deutsche Telekom AG'),\n",
       " Text(2, 0, 'Team Internet AG'),\n",
       " Text(3, 0, '1&1 Ionos Se'),\n",
       " Text(4, 0, 'netcup GmbH'),\n",
       " Text(5, 0, 'Contabo GmbH'),\n",
       " Text(6, 0, 'Strato AG')]"
      ]
     },
     "execution_count": 89,
     "metadata": {},
     "output_type": "execute_result"
    },
    {
     "data": {
      "image/png": "[encoded data removed]",
      "text/plain": [
       "<Figure size 432x288 with 1 Axes>"
      ]
     },
     "metadata": {
      "needs_background": "light"
     },
     "output_type": "display_data"
    }
   ],
   "source": [
    "xlabels = top_locate.select(\"autonomous_system_organization\").rdd.flatMap(list).collect()\n",
    "top_companies_p.plot(kind='bar').set_xticklabels(xlabels)"
   ]
  },
  {
   "cell_type": "markdown",
   "id": "ef678575",
   "metadata": {
    "id": "54b902ec"
   },
   "source": [
    "## How many websites use Cloudflare?\n"
   ]
  },
  {
   "cell_type": "code",
   "execution_count": 90,
   "id": "6f2b35ff",
   "metadata": {
    "id": "d62591c7",
    "scrolled": true
   },
   "outputs": [
    {
     "name": "stdout",
     "output_type": "stream",
     "text": [
      "+----------------+---------+--------+-----+-----+-------+------------------------+------------------------------+--------------+------------+\n",
      "|Top level domain|MX-Record|A-Record|pos_A|val_A|network|autonomous_system_number|autonomous_system_organization|network_adress|subnetzmaske|\n",
      "+----------------+---------+--------+-----+-----+-------+------------------------+------------------------------+--------------+------------+\n",
      "+----------------+---------+--------+-----+-----+-------+------------------------+------------------------------+--------------+------------+\n",
      "\n"
     ]
    }
   ],
   "source": [
    "dfJoinA.filter(dfJoinA.autonomous_system_organization=='CLOUDFLARENET').show()\n"
   ]
  },
  {
   "cell_type": "code",
   "execution_count": 91,
   "id": "dbbf0309",
   "metadata": {
    "id": "d3bb104e"
   },
   "outputs": [
    {
     "data": {
      "text/plain": [
       "0"
      ]
     },
     "execution_count": 91,
     "metadata": {},
     "output_type": "execute_result"
    }
   ],
   "source": [
    "dfJoinA.filter(dfJoinA.autonomous_system_organization=='CLOUDFLARENET').count()\n"
   ]
  },
  {
   "cell_type": "markdown",
   "id": "940f8e25",
   "metadata": {},
   "source": [
    "6 von 50 Domains nutzen Cloudflare."
   ]
  },
  {
   "cell_type": "markdown",
   "id": "da2c1381",
   "metadata": {
    "id": "b6c6c087"
   },
   "source": [
    "## How many German websites use German hosting providers?\n"
   ]
  },
  {
   "cell_type": "code",
   "execution_count": 92,
   "id": "9f0c06c9",
   "metadata": {},
   "outputs": [
    {
     "data": {
      "text/plain": [
       "5"
      ]
     },
     "execution_count": 92,
     "metadata": {},
     "output_type": "execute_result"
    }
   ],
   "source": [
    "df_joint_all.filter(df_joint_all.country_name==\"Germany\").count()"
   ]
  },
  {
   "cell_type": "code",
   "execution_count": 97,
   "id": "3cd6d304",
   "metadata": {},
   "outputs": [
    {
     "name": "stdout",
     "output_type": "stream",
     "text": [
      "+----------------+--------------------+-----------------+-----+---------------+---------------+------------------------+------------------------------+--------------+------------+---------------+----------+-----------------------------+------------------------------+------------------+---------------------+----------+------------+\n",
      "|Top level domain|           MX-Record|         A-Record|pos_A|          val_A|        network|autonomous_system_number|autonomous_system_organization|network_adress|subnetzmaske|        network|geoname_id|registered_country_geoname_id|represented_country_geoname_id|is_anonymous_proxy|is_satellite_provider|geoname_id|country_name|\n",
      "+----------------+--------------------+-----------------+-----+---------------+---------------+------------------------+------------------------------+--------------+------------+---------------+----------+-----------------------------+------------------------------+------------------+---------------------+----------+------------+\n",
      "|         0--1.de|\"[\"\"mail.0--1.de\"...|  [46.38.249.145]|    0|  46.38.249.145| 46.38.224.0/19|                  197540|                   netcup GmbH|   46.38.224.0|          19| 46.38.224.0/19|   2921044|                      2921044|                          null|                 0|                    0|   2921044|     Germany|\n",
      "|     0-100kmh.de|\"[\"\"smtpin.rzone....|  [81.169.145.95]|    0|  81.169.145.95|81.169.128.0/17|                    6724|                     Strato AG|  81.169.128.0|          17|81.169.128.0/17|   2921044|                      2921044|                          null|                 0|                    0|   2921044|     Germany|\n",
      "|          0-0.de|                  []|  [185.53.178.13]|    0|  185.53.178.13|185.53.176.0/22|                   61969|              Team Internet AG|  185.53.176.0|          22|185.53.176.0/22|   2921044|                      2921044|                          null|                 0|                    0|   2921044|     Germany|\n",
      "|         0-01.de|\"[\"\"mail.0-01.de\"\"]\"| [193.34.145.200]|    0| 193.34.145.200|193.34.144.0/23|                   51167|                  Contabo GmbH|  193.34.144.0|          23|193.34.144.0/23|   2921044|                      2921044|                          null|                 0|                    0|   2921044|     Germany|\n",
      "|         0--2.de|\"[\"\"mxf993.netcup...|[212.227.212.163]|    0|212.227.212.163| 212.227.0.0/16|                    8560|                  1&1 Ionos Se|   212.227.0.0|          16| 212.227.0.0/16|   2921044|                      2921044|                          null|                 0|                    0|   2921044|     Germany|\n",
      "+----------------+--------------------+-----------------+-----+---------------+---------------+------------------------+------------------------------+--------------+------------+---------------+----------+-----------------------------+------------------------------+------------------+---------------------+----------+------------+\n",
      "\n"
     ]
    }
   ],
   "source": [
    "df_joint_all.filter(df_joint_all.country_name==\"Germany\").show()"
   ]
  },
  {
   "cell_type": "markdown",
   "id": "d7fd6204",
   "metadata": {
    "id": "0e3bd96b"
   },
   "source": [
    "# Which email provider are used (MX record)?\n"
   ]
  },
  {
   "cell_type": "code",
   "execution_count": 96,
   "id": "2efefeb1",
   "metadata": {},
   "outputs": [],
   "source": [
    "#Idee: Fehler 'DataFrame' object has no attribute 'MX'\n",
    "\n",
    "#dfJoinA.filter(dfJoinA.MX-Record=='%de').count()\n",
    "#dfJoinA.filter(dfJoinA.MX-Record=='%en').count()\n"
   ]
  }
 ],
 "metadata": {
  "colab": {
   "name": "BDA_2.ipynb",
   "provenance": []
  },
  "kernelspec": {
   "display_name": "Python 3",
   "language": "python",
   "name": "python3"
  },
  "language_info": {
   "codemirror_mode": {
    "name": "ipython",
    "version": 3
   },
   "file_extension": ".py",
   "mimetype": "text/x-python",
   "name": "python",
   "nbconvert_exporter": "python",
   "pygments_lexer": "ipython3",
   "version": "3.9.5"
  }
 },
 "nbformat": 4,
 "nbformat_minor": 5
}
