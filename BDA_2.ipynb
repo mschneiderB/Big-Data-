{
 "cells": [
  {
   "cell_type": "code",
   "execution_count": 41,
   "id": "6a56a10d",
   "metadata": {},
   "outputs": [],
   "source": [
    "from pyspark import SparkContext\n",
    "from pyspark.sql import SparkSession\n",
    "from pyspark.sql.types import StructType, StructField, IntegerType, StringType\n",
    "from pyspark.sql.functions import *\n",
    "import pyspark\n",
    "from pyspark.sql.functions import struct\n",
    "from pyspark.sql.functions import monotonically_increasing_id\n",
    "import pyspark.sql.functions as f\n",
    "from pyspark.sql.functions import udf\n",
    "import re\n",
    "\n",
    "#Starten ohne Spark-Cluster\n",
    "spark = SparkSession.builder.getOrCreate()"
   ]
  },
  {
   "cell_type": "code",
   "execution_count": 42,
   "id": "e497c77c",
   "metadata": {},
   "outputs": [],
   "source": [
    "# Verbindung zu Minio\n",
    "spark.sparkContext.setSystemProperty(\"com.amazonaws.services.s3.enableV4\", \"true\")\n",
    "spark.sparkContext._jsc.hadoopConfiguration().set(\"fs.s3a.access.key\", \"minio\")\n",
    "spark.sparkContext._jsc.hadoopConfiguration().set(\"fs.s3a.secret.key\", \"minio123\")\n",
    "spark.sparkContext._jsc.hadoopConfiguration().set(\"com.amazonaws.services.s3.enableV4\", \"true\")\n",
    "spark.sparkContext._jsc.hadoopConfiguration().set(\"fs.s3a.impl\", \"org.apache.hadoop.fs.s3a.S3AFileSystem\")\n",
    "spark.sparkContext._jsc.hadoopConfiguration().set(\"fs.s3a.path.style.access\", \"true\")\n",
    "spark.sparkContext._jsc.hadoopConfiguration().set(\"fs.s3a.endpoint\", \"http://minio1:9000\")"
   ]
  },
  {
   "cell_type": "code",
   "execution_count": 43,
   "id": "bb54a6d9",
   "metadata": {},
   "outputs": [],
   "source": [
    "schema = StructType([\n",
    "    StructField(\"Top level domain\", StringType(), True),\n",
    "    StructField(\"MX-Record from the name server\", StringType(), True),\n",
    "    StructField(\"A-Record of the specific domain\", StringType(), True),\n",
    "    StructField(\"Timestamp\", StringType(), True)])\n",
    "\n",
    "df = spark.read.csv(\"s3a://bucket/real_new.csv\",header=False,sep=\";\",schema=schema)"
   ]
  },
  {
   "cell_type": "markdown",
   "id": "23088081",
   "metadata": {},
   "source": [
    "### Datenbeschreibung / Data Cleaning"
   ]
  },
  {
   "cell_type": "markdown",
   "id": "aba89af6",
   "metadata": {},
   "source": [
    "#### Allgemein"
   ]
  },
  {
   "cell_type": "code",
   "execution_count": 44,
   "id": "ad7b28bc",
   "metadata": {
    "scrolled": true
   },
   "outputs": [
    {
     "name": "stdout",
     "output_type": "stream",
     "text": [
      "+----------------+------------------------------+-------------------------------+-------------------+\n",
      "|Top level domain|MX-Record from the name server|A-Record of the specific domain|          Timestamp|\n",
      "+----------------+------------------------------+-------------------------------+-------------------+\n",
      "|         0--1.de|          \"[\"\"mail.0--1.de\"...|           \"[\"\"46.38.249.145...|2020-12-13 15:36:05|\n",
      "|         0--2.de|          \"[\"\"mxf993.netcup...|           \"[\"\"212.227.212.1...|2020-12-13 15:36:05|\n",
      "|    0-0-0-0-0.de|          \"[\"\"smtp-02.tld.t...|           \"[\"\"80.150.6.143\"\"]\"|2020-12-13 15:36:05|\n",
      "|      0-0-0-1.de|          \"[\"\"smtp-02.tld.t...|           \"[\"\"80.150.6.143\"\"]\"|2020-12-13 15:36:05|\n",
      "|          0-0.de|                            []|           \"[\"\"185.53.178.13...|2020-12-13 15:36:05|\n",
      "+----------------+------------------------------+-------------------------------+-------------------+\n",
      "only showing top 5 rows\n",
      "\n"
     ]
    }
   ],
   "source": [
    "df.show(5)"
   ]
  },
  {
   "cell_type": "markdown",
   "id": "5d78ba19",
   "metadata": {},
   "source": [
    "* Top level domain: Namensserver; das, was Personen sich merken können\n",
    "* Ein MX Resource Record weist einem Namen einen Mailserver zu. Er stellt eine Besonderheit dar, da er sich auf einen speziellen Dienst im Internet, nämlich die E-Mailzustellung mittels SMTP, bezieht. Alle anderen Dienste nutzen CNAME, A und AAAA Resource Records für die Namensauflösung.\n",
    "* Ein A Resource Record weist einem Namen eine IPv4-Adresse zu."
   ]
  },
  {
   "cell_type": "code",
   "execution_count": 45,
   "id": "d01a10b3",
   "metadata": {},
   "outputs": [],
   "source": [
    "df= df.withColumn(\"id\", monotonically_increasing_id())"
   ]
  },
  {
   "cell_type": "code",
   "execution_count": 46,
   "id": "21821b43",
   "metadata": {},
   "outputs": [],
   "source": [
    "df=df.select(\"Top level domain\",\"MX-Record from the name server\",\"A-Record of the specific domain\")"
   ]
  },
  {
   "cell_type": "markdown",
   "id": "a71636c6",
   "metadata": {},
   "source": [
    "* die Spalte Timestamp wird nicht benötigt"
   ]
  },
  {
   "cell_type": "code",
   "execution_count": 47,
   "id": "728f8007",
   "metadata": {},
   "outputs": [],
   "source": [
    "df=df.withColumnRenamed(\"MX-Record from the name server\", \"MX-Record\")"
   ]
  },
  {
   "cell_type": "code",
   "execution_count": 48,
   "id": "e7678c5e",
   "metadata": {},
   "outputs": [],
   "source": [
    "df=df.withColumnRenamed(\"A-Record of the specific domain\", \"A-Record\")"
   ]
  },
  {
   "cell_type": "code",
   "execution_count": 49,
   "id": "c051290c",
   "metadata": {
    "scrolled": true
   },
   "outputs": [
    {
     "data": {
      "text/plain": [
       "pyspark.sql.dataframe.DataFrame"
      ]
     },
     "execution_count": 49,
     "metadata": {},
     "output_type": "execute_result"
    }
   ],
   "source": [
    "type(df)"
   ]
  },
  {
   "cell_type": "code",
   "execution_count": 50,
   "id": "7e5824cf",
   "metadata": {},
   "outputs": [
    {
     "data": {
      "text/plain": [
       "4860885"
      ]
     },
     "execution_count": 50,
     "metadata": {},
     "output_type": "execute_result"
    }
   ],
   "source": [
    "df.count()"
   ]
  },
  {
   "cell_type": "code",
   "execution_count": 51,
   "id": "453ad177",
   "metadata": {},
   "outputs": [
    {
     "name": "stdout",
     "output_type": "stream",
     "text": [
      "root\n",
      " |-- Top level domain: string (nullable = true)\n",
      " |-- MX-Record: string (nullable = true)\n",
      " |-- A-Record: string (nullable = true)\n",
      "\n"
     ]
    }
   ],
   "source": [
    "df.printSchema()"
   ]
  },
  {
   "cell_type": "markdown",
   "id": "ab494b0e",
   "metadata": {},
   "source": [
    "#### Top Level Domain"
   ]
  },
  {
   "cell_type": "code",
   "execution_count": 52,
   "id": "2eb3caa8",
   "metadata": {
    "scrolled": true
   },
   "outputs": [
    {
     "data": {
      "text/plain": [
       "0"
      ]
     },
     "execution_count": 52,
     "metadata": {},
     "output_type": "execute_result"
    }
   ],
   "source": [
    "df.filter(df[\"Top level domain\"]==\"null\").count()"
   ]
  },
  {
   "cell_type": "markdown",
   "id": "a048c65a",
   "metadata": {},
   "source": [
    "* keine Null Values"
   ]
  },
  {
   "cell_type": "code",
   "execution_count": 53,
   "id": "6203e85e",
   "metadata": {},
   "outputs": [
    {
     "name": "stdout",
     "output_type": "stream",
     "text": [
      "+----------------+-----+\n",
      "|Top level domain|count|\n",
      "+----------------+-----+\n",
      "|     007kaess.de|    1|\n",
      "|        01307.de|    1|\n",
      "|        01800.de|    1|\n",
      "|     030pizza.de|    1|\n",
      "|        04179.de|    1|\n",
      "+----------------+-----+\n",
      "only showing top 5 rows\n",
      "\n"
     ]
    }
   ],
   "source": [
    "dfTCount=df.groupBy(\"Top level domain\").count()\n",
    "dfTCount.orderBy(col(\"count\").desc()).show(5)"
   ]
  },
  {
   "cell_type": "markdown",
   "id": "82f8677c",
   "metadata": {},
   "source": [
    "* es gibt keine doppelte TLD"
   ]
  },
  {
   "cell_type": "markdown",
   "id": "a7c40dad",
   "metadata": {},
   "source": [
    "#### MX Records"
   ]
  },
  {
   "cell_type": "code",
   "execution_count": 54,
   "id": "3896d76d",
   "metadata": {
    "scrolled": true
   },
   "outputs": [
    {
     "data": {
      "text/plain": [
       "0"
      ]
     },
     "execution_count": 54,
     "metadata": {},
     "output_type": "execute_result"
    }
   ],
   "source": [
    "df.filter(df[\"MX-Record\"]==\"null\").count()"
   ]
  },
  {
   "cell_type": "markdown",
   "id": "fb768318",
   "metadata": {},
   "source": [
    "* keine Null Values"
   ]
  },
  {
   "cell_type": "code",
   "execution_count": 55,
   "id": "b43a7edf",
   "metadata": {},
   "outputs": [
    {
     "name": "stdout",
     "output_type": "stream",
     "text": [
      "+-----------------------------------------------------+------+\n",
      "|MX-Record                                            |count |\n",
      "+-----------------------------------------------------+------+\n",
      "|[]                                                   |633040|\n",
      "|\"[\"\"smtpin.rzone.de\"\"]\"                              |509127|\n",
      "|\"[\"\"localhost\"\"]\"                                    |303839|\n",
      "|\"[\"\"mx01.kundenserver.de\"\",\"\"mx00.kundenserver.de\"\"]\"|176491|\n",
      "|\"[\"\"mx00.kundenserver.de\"\",\"\"mx01.kundenserver.de\"\"]\"|176182|\n",
      "+-----------------------------------------------------+------+\n",
      "only showing top 5 rows\n",
      "\n"
     ]
    }
   ],
   "source": [
    "dfMxCount=df.groupBy(\"MX-Record\").count()\n",
    "dfMxCount.orderBy(col(\"count\").desc()).show(5,False)"
   ]
  },
  {
   "cell_type": "markdown",
   "id": "76cfa582",
   "metadata": {},
   "source": [
    "#### A Records"
   ]
  },
  {
   "cell_type": "code",
   "execution_count": 56,
   "id": "64533d1f",
   "metadata": {
    "scrolled": false
   },
   "outputs": [
    {
     "data": {
      "text/plain": [
       "10732"
      ]
     },
     "execution_count": 56,
     "metadata": {},
     "output_type": "execute_result"
    }
   ],
   "source": [
    "df.filter(df[\"A-Record\"]==\"null\").count()"
   ]
  },
  {
   "cell_type": "markdown",
   "id": "40597996",
   "metadata": {},
   "source": [
    "* es gibt 10.732 Null Values\n",
    "* diese können mit [] ersetzt werde"
   ]
  },
  {
   "cell_type": "code",
   "execution_count": 57,
   "id": "22275573",
   "metadata": {},
   "outputs": [],
   "source": [
    "#df = df.withColumn('A-Record of the specific domain', regexp_replace('A-Record of the specific domain', 'null', '[]'))\n",
    "df=df.na.replace({\"null\": \"[]\"})"
   ]
  },
  {
   "cell_type": "code",
   "execution_count": 58,
   "id": "d451422e",
   "metadata": {},
   "outputs": [
    {
     "name": "stdout",
     "output_type": "stream",
     "text": [
      "+----------------------+------+\n",
      "|A-Record              |count |\n",
      "+----------------------+------+\n",
      "|\"[\"\"91.195.241.137\"\"]\"|303204|\n",
      "|[]                    |172019|\n",
      "|\"[\"\"80.150.6.143\"\"]\"  |150156|\n",
      "|\"[\"\"23.236.62.147\"\"]\" |59034 |\n",
      "|\"[\"\"52.58.78.16\"\"]\"   |49200 |\n",
      "+----------------------+------+\n",
      "only showing top 5 rows\n",
      "\n"
     ]
    }
   ],
   "source": [
    "dfACount=df.groupBy(\"A-Record\").count()\n",
    "dfACount.orderBy(col(\"count\").desc()).show(5, False)"
   ]
  },
  {
   "cell_type": "markdown",
   "id": "b1d4a0e3",
   "metadata": {},
   "source": [
    "### Entfernen von Sonderzeichen im Datensatz"
   ]
  },
  {
   "cell_type": "code",
   "execution_count": null,
   "id": "7c332476",
   "metadata": {},
   "outputs": [],
   "source": [
    "commaRep = udf(lambda x: re.sub('\"','', x))\n",
    "commaRep2 = udf(lambda x: re.sub(']','', x))\n",
    "commaRep3 = udf(lambda x: re.sub('\\[','', x))"
   ]
  },
  {
   "cell_type": "markdown",
   "id": "104227e4",
   "metadata": {},
   "source": [
    "#### MX Record"
   ]
  },
  {
   "cell_type": "code",
   "execution_count": 73,
   "id": "da3a251a",
   "metadata": {},
   "outputs": [
    {
     "name": "stdout",
     "output_type": "stream",
     "text": [
      "+----------------+-----------------------------------------------+-----------------------+\n",
      "|Top level domain|MX-Record                                      |A-Record               |\n",
      "+----------------+-----------------------------------------------+-----------------------+\n",
      "|0--1.de         |mail.0--1.de,mxf993.netcup.net                 |\"[\"\"46.38.249.145\"\"]\"  |\n",
      "|0--2.de         |mxf993.netcup.net,mail.0--2.de                 |\"[\"\"212.227.212.163\"\"]\"|\n",
      "|0-0-0-0-0.de    |smtp-02.tld.t-online.de,smtp-01.tld.t-online.de|\"[\"\"80.150.6.143\"\"]\"   |\n",
      "+----------------+-----------------------------------------------+-----------------------+\n",
      "only showing top 3 rows\n",
      "\n"
     ]
    }
   ],
   "source": [
    "df_MXClean=df.withColumn('MX-Record',commaRep('MX-Record'))\n",
    "df_MXClean=df_MXClean.withColumn('MX-Record',commaRep2('MX-Record'))\n",
    "df_MXClean=df_MXClean.withColumn('MX-Record',commaRep3('MX-Record'))\n",
    "df_MXClean.show(3, False)"
   ]
  },
  {
   "cell_type": "markdown",
   "id": "5558cab1",
   "metadata": {},
   "source": [
    "#### A Record"
   ]
  },
  {
   "cell_type": "code",
   "execution_count": 74,
   "id": "bf4369ae",
   "metadata": {},
   "outputs": [
    {
     "name": "stdout",
     "output_type": "stream",
     "text": [
      "+----------------+-----------------------------------------------------------+---------------+\n",
      "|Top level domain|MX-Record                                                  |A-Record       |\n",
      "+----------------+-----------------------------------------------------------+---------------+\n",
      "|0--1.de         |\"[\"\"mail.0--1.de\"\",\"\"mxf993.netcup.net\"\"]\"                 |46.38.249.145  |\n",
      "|0--2.de         |\"[\"\"mxf993.netcup.net\"\",\"\"mail.0--2.de\"\"]\"                 |212.227.212.163|\n",
      "|0-0-0-0-0.de    |\"[\"\"smtp-02.tld.t-online.de\"\",\"\"smtp-01.tld.t-online.de\"\"]\"|80.150.6.143   |\n",
      "+----------------+-----------------------------------------------------------+---------------+\n",
      "only showing top 3 rows\n",
      "\n"
     ]
    }
   ],
   "source": [
    "df_AClean=df.withColumn('A-Record',commaRep('A-Record'))\n",
    "df_AClean=df_AClean.withColumn('A-Record',commaRep2('A-Record'))\n",
    "df_AClean=df_AClean.withColumn('A-Record',commaRep3('A-Record'))\n",
    "df_AClean.show(3, False)"
   ]
  },
  {
   "cell_type": "markdown",
   "id": "6e0fee41",
   "metadata": {},
   "source": [
    " ### Splitten der Spalten"
   ]
  },
  {
   "cell_type": "markdown",
   "id": "174f7cf8",
   "metadata": {},
   "source": [
    "#### MX Record"
   ]
  },
  {
   "cell_type": "code",
   "execution_count": null,
   "id": "30f83569",
   "metadata": {},
   "outputs": [],
   "source": [
    "\"\"\"\n",
    "\n",
    "split_cols = pyspark.sql.functions.split(df['MX-Record'], '\"\",\"\"')\n",
    "df11 = df.withColumn('mx-record1', split_cols.getItem(0)) \\\n",
    "    .withColumn('mx-record2', split_cols.getItem(1)) \\\n",
    "    .withColumn('mx-record3', split_cols.getItem(2))\n",
    "df11.show(3, False)\n",
    "\"\"\""
   ]
  },
  {
   "cell_type": "code",
   "execution_count": null,
   "id": "53451a5e",
   "metadata": {},
   "outputs": [],
   "source": [
    "df_MXSplit=df_MXClean.select(\n",
    "        \"Top level domain\", \"A-Record\",\n",
    "        f.split(\"MX-Record\", \",\").alias(\"MX-Record\"),\n",
    "        f.posexplode(f.split(\"MX-Record\", \",\")).alias(\"pos_MX\", \"val_MX\")\n",
    "    )"
   ]
  },
  {
   "cell_type": "markdown",
   "id": "fc5e83fd",
   "metadata": {},
   "source": [
    "#### A Record"
   ]
  },
  {
   "cell_type": "code",
   "execution_count": null,
   "id": "1ea2d5df",
   "metadata": {},
   "outputs": [],
   "source": [
    "#split_cols = pyspark.sql.functions.split(df['A-Record'], ',')"
   ]
  },
  {
   "cell_type": "code",
   "execution_count": null,
   "id": "08b913d8",
   "metadata": {},
   "outputs": [],
   "source": [
    "\"\"\"\n",
    "df10 = df.withColumn('a-record1', split_cols.getItem(0)) \\\n",
    "    .withColumn('a-record2', split_cols.getItem(1)) \\\n",
    "    .withColumn('a-record3', split_cols.getItem(2)) \\\n",
    "    .withColumn('a-record4', split_cols.getItem(3)) \\\n",
    "    .withColumn('a-record5', split_cols.getItem(4)) \\\n",
    "    .withColumn('a-record6', split_cols.getItem(5)) \\\n",
    "    .withColumn('a-record7', split_cols.getItem(6))\n",
    "\n",
    "df10.show(20)\n",
    "\"\"\""
   ]
  },
  {
   "cell_type": "code",
   "execution_count": null,
   "id": "3f223ef4",
   "metadata": {},
   "outputs": [],
   "source": [
    "#checking ob es bis zu 3 a-records gibt? Ja\n",
    "#df10.select('a-record3').show(200)"
   ]
  },
  {
   "cell_type": "code",
   "execution_count": null,
   "id": "9314262f",
   "metadata": {},
   "outputs": [],
   "source": [
    "#checking ob es bis zu 4 a.records gibt? In den ersten 200 Reihen nein.\n",
    "#df10.select('a-record4').show(200)"
   ]
  },
  {
   "cell_type": "code",
   "execution_count": null,
   "id": "7fd128b2",
   "metadata": {},
   "outputs": [],
   "source": [
    "# Wie viele IPs max. in der Spalte A-Record?\n",
    "#tobedone\n",
    "\n"
   ]
  },
  {
   "cell_type": "code",
   "execution_count": 82,
   "id": "69362952",
   "metadata": {},
   "outputs": [
    {
     "name": "stdout",
     "output_type": "stream",
     "text": [
      "+-------------------+--------------------+--------------------+---+---------------+\n",
      "|   Top level domain|           MX-Record|            A-Record|pos|            val|\n",
      "+-------------------+--------------------+--------------------+---+---------------+\n",
      "|            0--1.de|\"[\"\"mail.0--1.de\"...|     [46.38.249.145]|  0|  46.38.249.145|\n",
      "|            0--2.de|\"[\"\"mxf993.netcup...|   [212.227.212.163]|  0|212.227.212.163|\n",
      "|       0-0-0-0-0.de|\"[\"\"smtp-02.tld.t...|      [80.150.6.143]|  0|   80.150.6.143|\n",
      "|         0-0-0-1.de|\"[\"\"smtp-02.tld.t...|      [80.150.6.143]|  0|   80.150.6.143|\n",
      "|             0-0.de|                  []|     [185.53.178.13]|  0|  185.53.178.13|\n",
      "|            0-01.de|\"[\"\"mail.0-01.de\"\"]\"|    [193.34.145.200]|  0| 193.34.145.200|\n",
      "|             0-1.de|   \"[\"\"localhost\"\"]\"|    [91.195.241.137]|  0| 91.195.241.137|\n",
      "|            0-10.de|                  []|                  []|  0|               |\n",
      "|          0-1000.de|   \"[\"\"localhost\"\"]\"|    [91.195.241.137]|  0| 91.195.241.137|\n",
      "|        0-100kmh.de|\"[\"\"smtpin.rzone....|     [81.169.145.95]|  0|  81.169.145.95|\n",
      "|            0-12.de|   \"[\"\"localhost\"\"]\"|    [91.195.241.137]|  0| 91.195.241.137|\n",
      "|            0-17.de|   \"[\"\"localhost\"\"]\"|    [91.195.241.137]|  0| 91.195.241.137|\n",
      "|             0-2.de|   \"[\"\"localhost\"\"]\"|         [127.0.0.1]|  0|      127.0.0.1|\n",
      "|      0-24domain.de|\"[\"\"pmx.bestcpane...|    [194.38.104.220]|  0| 194.38.104.220|\n",
      "|           0-24h.de|\"[\"\"mxlb.ispgatew...|   [134.209.177.247]|  0|134.209.177.247|\n",
      "|     0-24leasing.de|                  []|                  []|  0|               |\n",
      "|0-24versicherung.de|                  []|                  []|  0|               |\n",
      "|        0-263475.de|                  []|      [176.9.76.101]|  0|   176.9.76.101|\n",
      "|           0-3-0.de|                  []|                  []|  0|               |\n",
      "|             0-3.de|\"[\"\"teller.ggeg.e...|   [185.163.116.240]|  0|185.163.116.240|\n",
      "|            0-32.de|\"[\"\"smtpin.rzone....|     [81.169.145.66]|  0|  81.169.145.66|\n",
      "|           0-5-1.de|\"[\"\"smtp-02.tld.t...|      [80.150.6.143]|  0|   80.150.6.143|\n",
      "|           0-500.de|\"[\"\"mail.0-500.de...|    [213.239.200.93]|  0| 213.239.200.93|\n",
      "|          0-8-16.de|   \"[\"\"localhost\"\"]\"|    [91.195.241.137]|  0| 91.195.241.137|\n",
      "|   0-8-fuenfzehn.de|   \"[\"\"localhost\"\"]\"|    [91.195.241.137]|  0| 91.195.241.137|\n",
      "|             0-8.de|                  []|                  []|  0|               |\n",
      "|          0-9a-z.de|\"[\"\"mail.0-9a-z.d...|[104.24.103.72,10...|  0|  104.24.103.72|\n",
      "|          0-9a-z.de|\"[\"\"mail.0-9a-z.d...|[104.24.103.72,10...|  1|  104.24.102.72|\n",
      "|          0-9a-z.de|\"[\"\"mail.0-9a-z.d...|[104.24.103.72,10...|  2|  172.67.208.86|\n",
      "|        0-ahnung.de|\"[\"\"mail.0-ahnung...|      [85.214.69.88]|  0|   85.214.69.88|\n",
      "+-------------------+--------------------+--------------------+---+---------------+\n",
      "only showing top 30 rows\n",
      "\n"
     ]
    }
   ],
   "source": [
    "df_ASplit=df_AClean.select(\n",
    "        \"Top level domain\", \"MX-Record\",\n",
    "        f.split(\"A-Record\", \", \").alias(\"A-Record\"),\n",
    "        f.posexplode(f.split(\"A-Record\", \",\")).alias(\"pos_A\", \"val_A\")\n",
    "    )"
   ]
  },
  {
   "cell_type": "code",
   "execution_count": null,
   "id": "808ece50",
   "metadata": {},
   "outputs": [],
   "source": []
  }
 ],
 "metadata": {
  "kernelspec": {
   "display_name": "Python 3",
   "language": "python",
   "name": "python3"
  },
  "language_info": {
   "codemirror_mode": {
    "name": "ipython",
    "version": 3
   },
   "file_extension": ".py",
   "mimetype": "text/x-python",
   "name": "python",
   "nbconvert_exporter": "python",
   "pygments_lexer": "ipython3",
   "version": "3.9.4"
  }
 },
 "nbformat": 4,
 "nbformat_minor": 5
}
