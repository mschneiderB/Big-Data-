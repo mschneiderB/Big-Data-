{
 "cells": [
  {
   "cell_type": "code",
   "execution_count": 1,
   "id": "43f37e56",
   "metadata": {},
   "outputs": [],
   "source": [
    "from pyspark import SparkContext\n",
    "from pyspark.sql import SparkSession\n",
    "from pyspark.sql.types import StructType, StructField, IntegerType, StringType\n",
    "from pyspark.sql.functions import *\n",
    "import pyspark\n",
    "from pyspark.sql.functions import struct\n",
    "from pyspark.sql.functions import monotonically_increasing_id\n",
    "import pyspark.sql.functions as f\n",
    "from pyspark.sql.functions import udf\n",
    "import re\n",
    "import ipaddress #import ip_network, ip_address\n",
    "#import geoip2.database\n",
    "\n",
    "#Starten ohne Spark-Cluster\n",
    "spark = SparkSession.builder.getOrCreate()"
   ]
  },
  {
   "cell_type": "code",
   "execution_count": 2,
   "id": "8198c047",
   "metadata": {},
   "outputs": [],
   "source": [
    "# Verbindung zu Minio\n",
    "spark.sparkContext.setSystemProperty(\"com.amazonaws.services.s3.enableV4\", \"true\")\n",
    "spark.sparkContext._jsc.hadoopConfiguration().set(\"fs.s3a.access.key\", \"minio\")\n",
    "spark.sparkContext._jsc.hadoopConfiguration().set(\"fs.s3a.secret.key\", \"minio123\")\n",
    "spark.sparkContext._jsc.hadoopConfiguration().set(\"com.amazonaws.services.s3.enableV4\", \"true\")\n",
    "spark.sparkContext._jsc.hadoopConfiguration().set(\"fs.s3a.impl\", \"org.apache.hadoop.fs.s3a.S3AFileSystem\")\n",
    "spark.sparkContext._jsc.hadoopConfiguration().set(\"fs.s3a.path.style.access\", \"true\")\n",
    "spark.sparkContext._jsc.hadoopConfiguration().set(\"fs.s3a.endpoint\", \"http://minio1:9000\")"
   ]
  },
  {
   "cell_type": "code",
   "execution_count": 3,
   "id": "2958adb5",
   "metadata": {},
   "outputs": [],
   "source": [
    "schema = StructType([\n",
    "    StructField(\"Top level domain\", StringType(), True),\n",
    "    StructField(\"MX-Record from the name server\", StringType(), True),\n",
    "    StructField(\"A-Record of the specific domain\", StringType(), True),\n",
    "    StructField(\"Timestamp\", StringType(), True)])\n",
    "\n",
    "df = spark.read.csv(\"s3a://bucket/real_new.csv\",header=False,sep=\";\",schema=schema)"
   ]
  },
  {
   "cell_type": "markdown",
   "id": "0385f596",
   "metadata": {},
   "source": [
    "# Datenbeschreibung"
   ]
  },
  {
   "cell_type": "markdown",
   "id": "1384cf25",
   "metadata": {},
   "source": [
    "## real_domains"
   ]
  },
  {
   "cell_type": "markdown",
   "id": "e449ac5e",
   "metadata": {},
   "source": [
    "### Allgemein"
   ]
  },
  {
   "cell_type": "code",
   "execution_count": 4,
   "id": "4aad1d6d",
   "metadata": {
    "scrolled": true
   },
   "outputs": [
    {
     "name": "stdout",
     "output_type": "stream",
     "text": [
      "+----------------+------------------------------+-------------------------------+-------------------+\n",
      "|Top level domain|MX-Record from the name server|A-Record of the specific domain|          Timestamp|\n",
      "+----------------+------------------------------+-------------------------------+-------------------+\n",
      "|         0--1.de|          \"[\"\"mail.0--1.de\"...|           \"[\"\"46.38.249.145...|2020-12-13 15:36:05|\n",
      "|         0--2.de|          \"[\"\"mxf993.netcup...|           \"[\"\"212.227.212.1...|2020-12-13 15:36:05|\n",
      "|    0-0-0-0-0.de|          \"[\"\"smtp-02.tld.t...|           \"[\"\"80.150.6.143\"\"]\"|2020-12-13 15:36:05|\n",
      "|      0-0-0-1.de|          \"[\"\"smtp-02.tld.t...|           \"[\"\"80.150.6.143\"\"]\"|2020-12-13 15:36:05|\n",
      "|          0-0.de|                            []|           \"[\"\"185.53.178.13...|2020-12-13 15:36:05|\n",
      "+----------------+------------------------------+-------------------------------+-------------------+\n",
      "only showing top 5 rows\n",
      "\n"
     ]
    }
   ],
   "source": [
    "df.show(5)"
   ]
  },
  {
   "cell_type": "markdown",
   "id": "a0e494be",
   "metadata": {},
   "source": [
    "* Top level domain: Namensserver; das, was Personen sich merken können\n",
    "* Ein MX Resource Record weist einem Namen einen Mailserver zu. Er stellt eine Besonderheit dar, da er sich auf einen speziellen Dienst im Internet, nämlich die E-Mailzustellung mittels SMTP, bezieht. Alle anderen Dienste nutzen CNAME, A und AAAA Resource Records für die Namensauflösung.\n",
    "* Ein A Resource Record weist einem Namen eine IPv4-Adresse zu."
   ]
  },
  {
   "cell_type": "code",
   "execution_count": 5,
   "id": "acd62a51",
   "metadata": {},
   "outputs": [],
   "source": [
    "df= df.withColumn(\"id\", monotonically_increasing_id())"
   ]
  },
  {
   "cell_type": "code",
   "execution_count": 6,
   "id": "61334fba",
   "metadata": {},
   "outputs": [],
   "source": [
    "df=df.select(\"Top level domain\",\"MX-Record from the name server\",\"A-Record of the specific domain\")"
   ]
  },
  {
   "cell_type": "markdown",
   "id": "c0653bcc",
   "metadata": {},
   "source": [
    "* die Spalte Timestamp wird nicht benötigt"
   ]
  },
  {
   "cell_type": "code",
   "execution_count": 7,
   "id": "babc4fdb",
   "metadata": {},
   "outputs": [],
   "source": [
    "df=df.withColumnRenamed(\"MX-Record from the name server\", \"MX-Record\")"
   ]
  },
  {
   "cell_type": "code",
   "execution_count": 8,
   "id": "1c05186b",
   "metadata": {},
   "outputs": [],
   "source": [
    "df=df.withColumnRenamed(\"A-Record of the specific domain\", \"A-Record\")"
   ]
  },
  {
   "cell_type": "code",
   "execution_count": 9,
   "id": "da0996af",
   "metadata": {
    "scrolled": true
   },
   "outputs": [
    {
     "data": {
      "text/plain": [
       "pyspark.sql.dataframe.DataFrame"
      ]
     },
     "execution_count": 9,
     "metadata": {},
     "output_type": "execute_result"
    }
   ],
   "source": [
    "type(df)"
   ]
  },
  {
   "cell_type": "code",
   "execution_count": 10,
   "id": "14d9dc3c",
   "metadata": {
    "scrolled": true
   },
   "outputs": [
    {
     "data": {
      "text/plain": [
       "4860885"
      ]
     },
     "execution_count": 10,
     "metadata": {},
     "output_type": "execute_result"
    }
   ],
   "source": [
    "df.count()"
   ]
  },
  {
   "cell_type": "code",
   "execution_count": 11,
   "id": "0d60e8f1",
   "metadata": {},
   "outputs": [
    {
     "data": {
      "text/plain": [
       "4860885"
      ]
     },
     "execution_count": 11,
     "metadata": {},
     "output_type": "execute_result"
    }
   ],
   "source": [
    "df.dropDuplicates().count()"
   ]
  },
  {
   "cell_type": "markdown",
   "id": "01e12b86",
   "metadata": {},
   "source": [
    "* es gibt keine Duplikate in dem Datensatz"
   ]
  },
  {
   "cell_type": "code",
   "execution_count": 12,
   "id": "4478aaba",
   "metadata": {
    "scrolled": true
   },
   "outputs": [],
   "source": [
    "#df.filter(df[\"MX-Record\"].contains(']')).count()"
   ]
  },
  {
   "cell_type": "markdown",
   "id": "16116eb8",
   "metadata": {},
   "source": [
    "* es gibt 3 Zeilen, wo die Aufzeichnung von MX Records abgebrochen wurde"
   ]
  },
  {
   "cell_type": "code",
   "execution_count": 13,
   "id": "61e56fc6",
   "metadata": {},
   "outputs": [],
   "source": [
    "#df=df.filter(df[\"MX-Record\"].contains(']'))"
   ]
  },
  {
   "cell_type": "markdown",
   "id": "8fc12ed5",
   "metadata": {},
   "source": [
    "* diese Zeilen werden entfernt, da sie sich nicht reparieren lassen"
   ]
  },
  {
   "cell_type": "code",
   "execution_count": 14,
   "id": "c70f3c4c",
   "metadata": {},
   "outputs": [
    {
     "name": "stdout",
     "output_type": "stream",
     "text": [
      "root\n",
      " |-- Top level domain: string (nullable = true)\n",
      " |-- MX-Record: string (nullable = true)\n",
      " |-- A-Record: string (nullable = true)\n",
      "\n"
     ]
    }
   ],
   "source": [
    "df.printSchema()"
   ]
  },
  {
   "cell_type": "markdown",
   "id": "0937bbbe",
   "metadata": {},
   "source": [
    "### Top Level Domain"
   ]
  },
  {
   "cell_type": "code",
   "execution_count": 15,
   "id": "e4777ed5",
   "metadata": {
    "scrolled": true
   },
   "outputs": [
    {
     "data": {
      "text/plain": [
       "0"
      ]
     },
     "execution_count": 15,
     "metadata": {},
     "output_type": "execute_result"
    }
   ],
   "source": [
    "df.filter(df[\"Top level domain\"]==\"null\").count()"
   ]
  },
  {
   "cell_type": "markdown",
   "id": "db1b60f1",
   "metadata": {},
   "source": [
    "* keine Null Values"
   ]
  },
  {
   "cell_type": "code",
   "execution_count": 16,
   "id": "1007ddf3",
   "metadata": {},
   "outputs": [
    {
     "name": "stdout",
     "output_type": "stream",
     "text": [
      "+----------------+-----+\n",
      "|Top level domain|count|\n",
      "+----------------+-----+\n",
      "|         0001.de|    1|\n",
      "|         0068.de|    1|\n",
      "|  01705852694.de|    1|\n",
      "|         01pc.de|    1|\n",
      "|        02045.de|    1|\n",
      "+----------------+-----+\n",
      "only showing top 5 rows\n",
      "\n"
     ]
    }
   ],
   "source": [
    "dfTCount=df.groupBy(\"Top level domain\").count()\n",
    "dfTCount.orderBy(col(\"count\").desc()).show(5)"
   ]
  },
  {
   "cell_type": "markdown",
   "id": "d1a166c9",
   "metadata": {},
   "source": [
    "* es gibt keine doppelte TLD"
   ]
  },
  {
   "cell_type": "markdown",
   "id": "1a6e56fc",
   "metadata": {},
   "source": [
    "### MX Records"
   ]
  },
  {
   "cell_type": "code",
   "execution_count": 17,
   "id": "12f9653f",
   "metadata": {
    "scrolled": true
   },
   "outputs": [
    {
     "data": {
      "text/plain": [
       "0"
      ]
     },
     "execution_count": 17,
     "metadata": {},
     "output_type": "execute_result"
    }
   ],
   "source": [
    "df.filter(df[\"MX-Record\"]==\"null\").count()"
   ]
  },
  {
   "cell_type": "markdown",
   "id": "2bb53989",
   "metadata": {},
   "source": [
    "* keine Null Values"
   ]
  },
  {
   "cell_type": "code",
   "execution_count": 18,
   "id": "63216dbd",
   "metadata": {},
   "outputs": [
    {
     "name": "stdout",
     "output_type": "stream",
     "text": [
      "+-----------------------------------------------------+------+\n",
      "|MX-Record                                            |count |\n",
      "+-----------------------------------------------------+------+\n",
      "|[]                                                   |633040|\n",
      "|\"[\"\"smtpin.rzone.de\"\"]\"                              |509127|\n",
      "|\"[\"\"localhost\"\"]\"                                    |303839|\n",
      "|\"[\"\"mx01.kundenserver.de\"\",\"\"mx00.kundenserver.de\"\"]\"|176491|\n",
      "|\"[\"\"mx00.kundenserver.de\"\",\"\"mx01.kundenserver.de\"\"]\"|176182|\n",
      "+-----------------------------------------------------+------+\n",
      "only showing top 5 rows\n",
      "\n"
     ]
    }
   ],
   "source": [
    "dfMxCount=df.groupBy(\"MX-Record\").count()\n",
    "dfMxCount.orderBy(col(\"count\").desc()).show(5,False)"
   ]
  },
  {
   "cell_type": "markdown",
   "id": "6f365831",
   "metadata": {},
   "source": [
    "### A Records"
   ]
  },
  {
   "cell_type": "code",
   "execution_count": 19,
   "id": "26357e64",
   "metadata": {
    "scrolled": false
   },
   "outputs": [
    {
     "data": {
      "text/plain": [
       "10732"
      ]
     },
     "execution_count": 19,
     "metadata": {},
     "output_type": "execute_result"
    }
   ],
   "source": [
    "df.filter(df[\"A-Record\"]==\"null\").count()"
   ]
  },
  {
   "cell_type": "markdown",
   "id": "7e0c21ec",
   "metadata": {},
   "source": [
    "* es gibt 10.732 Null Values\n",
    "* diese können mit [] ersetzt werde"
   ]
  },
  {
   "cell_type": "code",
   "execution_count": 20,
   "id": "1bbf940e",
   "metadata": {},
   "outputs": [],
   "source": [
    "df=df.na.replace({\"null\": \"[]\"})"
   ]
  },
  {
   "cell_type": "code",
   "execution_count": 21,
   "id": "1b343d82",
   "metadata": {
    "scrolled": true
   },
   "outputs": [
    {
     "name": "stdout",
     "output_type": "stream",
     "text": [
      "+----------------------+------+\n",
      "|A-Record              |count |\n",
      "+----------------------+------+\n",
      "|\"[\"\"91.195.241.137\"\"]\"|303204|\n",
      "|[]                    |172019|\n",
      "|\"[\"\"80.150.6.143\"\"]\"  |150156|\n",
      "|\"[\"\"23.236.62.147\"\"]\" |59034 |\n",
      "|\"[\"\"52.58.78.16\"\"]\"   |49200 |\n",
      "+----------------------+------+\n",
      "only showing top 5 rows\n",
      "\n"
     ]
    }
   ],
   "source": [
    "dfACount=df.groupBy(\"A-Record\").count()\n",
    "dfACount.orderBy(col(\"count\").desc()).show(5, False)"
   ]
  },
  {
   "cell_type": "markdown",
   "id": "82698d50",
   "metadata": {},
   "source": [
    "## asn ip4 Blocks"
   ]
  },
  {
   "cell_type": "markdown",
   "id": "a6ac9fdf",
   "metadata": {},
   "source": [
    "### Allgemein"
   ]
  },
  {
   "cell_type": "code",
   "execution_count": 22,
   "id": "bf0cc010",
   "metadata": {},
   "outputs": [],
   "source": [
    "schema_blocks = StructType([\n",
    "    StructField(\"network\", StringType(), True),\n",
    "    StructField(\"autonomous_system_number\", IntegerType(), True),\n",
    "    StructField(\"autonomous_system_organization\", StringType(), True)\n",
    "])\n",
    "\n",
    "df_asn_blocks_ipv4 = spark.read.csv(\"s3a://bucket/GeoLite2-ASN-Blocks-IPv4.csv\", header=True, schema=schema_blocks).cache()"
   ]
  },
  {
   "cell_type": "code",
   "execution_count": 23,
   "id": "03cd5152",
   "metadata": {},
   "outputs": [
    {
     "name": "stdout",
     "output_type": "stream",
     "text": [
      "+------------+------------------------+------------------------------+\n",
      "|     network|autonomous_system_number|autonomous_system_organization|\n",
      "+------------+------------------------+------------------------------+\n",
      "|  1.0.0.0/24|                   13335|                 CLOUDFLARENET|\n",
      "|  1.0.4.0/22|                   38803|          Wirefreebroadband...|\n",
      "| 1.0.64.0/18|                   18144|          Energia Communica...|\n",
      "|1.0.128.0/17|                   23969|          TOT Public Compan...|\n",
      "|  1.1.1.0/24|                   13335|                 CLOUDFLARENET|\n",
      "+------------+------------------------+------------------------------+\n",
      "only showing top 5 rows\n",
      "\n"
     ]
    }
   ],
   "source": [
    "df_asn_blocks_ipv4.show(5)"
   ]
  },
  {
   "cell_type": "code",
   "execution_count": 24,
   "id": "53ede5d7",
   "metadata": {},
   "outputs": [
    {
     "data": {
      "text/plain": [
       "461902"
      ]
     },
     "execution_count": 24,
     "metadata": {},
     "output_type": "execute_result"
    }
   ],
   "source": [
    "df_asn_blocks_ipv4.count()"
   ]
  },
  {
   "cell_type": "code",
   "execution_count": 25,
   "id": "e86dc5e1",
   "metadata": {},
   "outputs": [
    {
     "data": {
      "text/plain": [
       "461902"
      ]
     },
     "execution_count": 25,
     "metadata": {},
     "output_type": "execute_result"
    }
   ],
   "source": [
    "df_asn_blocks_ipv4.dropDuplicates().count()"
   ]
  },
  {
   "cell_type": "markdown",
   "id": "bd85820c",
   "metadata": {},
   "source": [
    "* es gibt keine Duplikate in dem Datensatz"
   ]
  },
  {
   "cell_type": "code",
   "execution_count": 26,
   "id": "71b043c8",
   "metadata": {},
   "outputs": [
    {
     "name": "stdout",
     "output_type": "stream",
     "text": [
      "root\n",
      " |-- network: string (nullable = true)\n",
      " |-- autonomous_system_number: integer (nullable = true)\n",
      " |-- autonomous_system_organization: string (nullable = true)\n",
      "\n"
     ]
    }
   ],
   "source": [
    "df_asn_blocks_ipv4.printSchema()"
   ]
  },
  {
   "cell_type": "markdown",
   "id": "826cc7a7",
   "metadata": {},
   "source": [
    "### Anlayse der Spalten"
   ]
  },
  {
   "cell_type": "code",
   "execution_count": 27,
   "id": "c55463f4",
   "metadata": {},
   "outputs": [
    {
     "data": {
      "text/plain": [
       "0"
      ]
     },
     "execution_count": 27,
     "metadata": {},
     "output_type": "execute_result"
    }
   ],
   "source": [
    "df_asn_blocks_ipv4.filter(df_asn_blocks_ipv4[\"network\"]==\"null\").count()"
   ]
  },
  {
   "cell_type": "markdown",
   "id": "f2dbcc12",
   "metadata": {},
   "source": [
    "* keine Null Values"
   ]
  },
  {
   "cell_type": "code",
   "execution_count": 28,
   "id": "39e00db1",
   "metadata": {},
   "outputs": [
    {
     "data": {
      "text/plain": [
       "0"
      ]
     },
     "execution_count": 28,
     "metadata": {},
     "output_type": "execute_result"
    }
   ],
   "source": [
    "df_asn_blocks_ipv4.filter(df_asn_blocks_ipv4[\"autonomous_system_number\"]==\"null\").count()"
   ]
  },
  {
   "cell_type": "markdown",
   "id": "cdcf6956",
   "metadata": {},
   "source": [
    "* keine Null Values"
   ]
  },
  {
   "cell_type": "code",
   "execution_count": 29,
   "id": "fcac8545",
   "metadata": {},
   "outputs": [
    {
     "data": {
      "text/plain": [
       "0"
      ]
     },
     "execution_count": 29,
     "metadata": {},
     "output_type": "execute_result"
    }
   ],
   "source": [
    "df_asn_blocks_ipv4.filter(df_asn_blocks_ipv4[\"autonomous_system_organization\"]==\"null\").count()"
   ]
  },
  {
   "cell_type": "markdown",
   "id": "cec3fb2b",
   "metadata": {},
   "source": [
    "* keine Null Values"
   ]
  },
  {
   "cell_type": "markdown",
   "id": "f045456f",
   "metadata": {},
   "source": [
    "## GeoLite2-Country-Locations-en"
   ]
  },
  {
   "cell_type": "code",
   "execution_count": 30,
   "id": "3752be46",
   "metadata": {},
   "outputs": [],
   "source": [
    "schema_country = StructType([\n",
    "    StructField(\"geoname_id\", IntegerType(), True),\n",
    "    StructField(\"locale_code\", StringType(), True),\n",
    "    StructField(\"continent_code\", StringType(), True),\n",
    "    StructField(\"continent_name\", StringType(), True),\n",
    "    StructField(\"country_iso_code\", StringType(), True),\n",
    "    StructField(\"country_name\", StringType(), True),\n",
    "    StructField(\"is_in_european_union\", StringType(), True)\n",
    "])\n",
    "\n",
    "df_country = spark.read.csv(\"s3a://bucket/GeoLite2-Country-Locations-en.csv\", header=True, schema=schema_country).cache()"
   ]
  },
  {
   "cell_type": "code",
   "execution_count": 31,
   "id": "3fdd4a92",
   "metadata": {},
   "outputs": [
    {
     "name": "stdout",
     "output_type": "stream",
     "text": [
      "+----------+-----------+--------------+--------------+----------------+------------+--------------------+\n",
      "|geoname_id|locale_code|continent_code|continent_name|country_iso_code|country_name|is_in_european_union|\n",
      "+----------+-----------+--------------+--------------+----------------+------------+--------------------+\n",
      "|     49518|         en|            AF|        Africa|              RW|      Rwanda|                   0|\n",
      "|     51537|         en|            AF|        Africa|              SO|     Somalia|                   0|\n",
      "|     69543|         en|            AS|          Asia|              YE|       Yemen|                   0|\n",
      "|     99237|         en|            AS|          Asia|              IQ|        Iraq|                   0|\n",
      "|    102358|         en|            AS|          Asia|              SA|Saudi Arabia|                   0|\n",
      "+----------+-----------+--------------+--------------+----------------+------------+--------------------+\n",
      "only showing top 5 rows\n",
      "\n"
     ]
    }
   ],
   "source": [
    "df_country.show(5)"
   ]
  },
  {
   "cell_type": "code",
   "execution_count": 32,
   "id": "bf96c56c",
   "metadata": {
    "scrolled": true
   },
   "outputs": [
    {
     "name": "stdout",
     "output_type": "stream",
     "text": [
      "root\n",
      " |-- geoname_id: integer (nullable = true)\n",
      " |-- locale_code: string (nullable = true)\n",
      " |-- continent_code: string (nullable = true)\n",
      " |-- continent_name: string (nullable = true)\n",
      " |-- country_iso_code: string (nullable = true)\n",
      " |-- country_name: string (nullable = true)\n",
      " |-- is_in_european_union: string (nullable = true)\n",
      "\n"
     ]
    }
   ],
   "source": [
    "df_country.printSchema()"
   ]
  },
  {
   "cell_type": "code",
   "execution_count": 33,
   "id": "2c370c0f",
   "metadata": {},
   "outputs": [
    {
     "data": {
      "text/plain": [
       "252"
      ]
     },
     "execution_count": 33,
     "metadata": {},
     "output_type": "execute_result"
    }
   ],
   "source": [
    "df_country.count()"
   ]
  },
  {
   "cell_type": "code",
   "execution_count": 34,
   "id": "3bf3f3a8",
   "metadata": {},
   "outputs": [
    {
     "data": {
      "text/plain": [
       "252"
      ]
     },
     "execution_count": 34,
     "metadata": {},
     "output_type": "execute_result"
    }
   ],
   "source": [
    "df_country.dropDuplicates().count()"
   ]
  },
  {
   "cell_type": "markdown",
   "id": "125816b9",
   "metadata": {},
   "source": [
    "* es gibt keine Duplikate in dem Datensatz"
   ]
  },
  {
   "cell_type": "code",
   "execution_count": 35,
   "id": "8f8dfac5",
   "metadata": {},
   "outputs": [
    {
     "data": {
      "text/plain": [
       "0"
      ]
     },
     "execution_count": 35,
     "metadata": {},
     "output_type": "execute_result"
    }
   ],
   "source": [
    "df_country.filter(df_country[\"country_name\"]==\"null\").count()"
   ]
  },
  {
   "cell_type": "markdown",
   "id": "9f681a5c",
   "metadata": {},
   "source": [
    "* keine Null Values"
   ]
  },
  {
   "cell_type": "markdown",
   "id": "e15b00c3",
   "metadata": {},
   "source": [
    "## GeoLite2-City-Locations-en"
   ]
  },
  {
   "cell_type": "code",
   "execution_count": 36,
   "id": "abbad8e1",
   "metadata": {},
   "outputs": [],
   "source": [
    "schema_city = StructType([\n",
    "    StructField(\"geoname_id\", IntegerType(), True),\n",
    "    StructField(\"locale_code\", StringType(), True),\n",
    "    StructField(\"continent_code\", StringType(), True),\n",
    "    StructField(\"continent_name\", StringType(), True),\n",
    "    StructField(\"country_iso_code\", StringType(), True),\n",
    "    StructField(\"country_name\", StringType(), True),\n",
    "    StructField(\"subdivision_1_iso_code\", StringType(), True),\n",
    "    StructField(\"subdivision_1_name\", StringType(), True),\n",
    "    StructField(\"subdivision_2_iso_code\", StringType(), True),\n",
    "    StructField(\"subdivision_2_name\", StringType(), True),\n",
    "    StructField(\"city_name\", StringType(), True),\n",
    "    StructField(\"metro_code\", StringType(), True),\n",
    "    StructField(\"time_zone\", StringType(), True),\n",
    "    StructField(\"is_in_european_union\", StringType(), True)\n",
    "])\n",
    "\n",
    "df_city = spark.read.csv(\"s3a://bucket/GeoLite2-City-Locations-en.csv\", header=True, schema = schema_city).cache()"
   ]
  },
  {
   "cell_type": "code",
   "execution_count": 37,
   "id": "94824859",
   "metadata": {},
   "outputs": [
    {
     "name": "stdout",
     "output_type": "stream",
     "text": [
      "+----------+-----------+--------------+--------------+----------------+------------+----------------------+------------------+----------------------+------------------+---------+----------+----------------+--------------------+\n",
      "|geoname_id|locale_code|continent_code|continent_name|country_iso_code|country_name|subdivision_1_iso_code|subdivision_1_name|subdivision_2_iso_code|subdivision_2_name|city_name|metro_code|       time_zone|is_in_european_union|\n",
      "+----------+-----------+--------------+--------------+----------------+------------+----------------------+------------------+----------------------+------------------+---------+----------+----------------+--------------------+\n",
      "|     49518|         en|            AF|        Africa|              RW|      Rwanda|                  null|              null|                  null|              null|     null|      null|   Africa/Kigali|                   0|\n",
      "|     49747|         en|            AF|        Africa|              SO|     Somalia|                    BK|            Bakool|                  null|              null|    Oddur|      null|Africa/Mogadishu|                   0|\n",
      "|     51537|         en|            AF|        Africa|              SO|     Somalia|                  null|              null|                  null|              null|     null|      null|Africa/Mogadishu|                   0|\n",
      "|     53654|         en|            AF|        Africa|              SO|     Somalia|                    BN|          Banaadir|                  null|              null|Mogadishu|      null|Africa/Mogadishu|                   0|\n",
      "|     54225|         en|            AF|        Africa|              SO|     Somalia|                    SH|   Lower Shabeelle|                  null|              null|    Merca|      null|Africa/Mogadishu|                   0|\n",
      "+----------+-----------+--------------+--------------+----------------+------------+----------------------+------------------+----------------------+------------------+---------+----------+----------------+--------------------+\n",
      "only showing top 5 rows\n",
      "\n"
     ]
    }
   ],
   "source": [
    "df_city.show(5)"
   ]
  },
  {
   "cell_type": "code",
   "execution_count": 38,
   "id": "c142eef9",
   "metadata": {},
   "outputs": [
    {
     "name": "stdout",
     "output_type": "stream",
     "text": [
      "root\n",
      " |-- geoname_id: integer (nullable = true)\n",
      " |-- locale_code: string (nullable = true)\n",
      " |-- continent_code: string (nullable = true)\n",
      " |-- continent_name: string (nullable = true)\n",
      " |-- country_iso_code: string (nullable = true)\n",
      " |-- country_name: string (nullable = true)\n",
      " |-- subdivision_1_iso_code: string (nullable = true)\n",
      " |-- subdivision_1_name: string (nullable = true)\n",
      " |-- subdivision_2_iso_code: string (nullable = true)\n",
      " |-- subdivision_2_name: string (nullable = true)\n",
      " |-- city_name: string (nullable = true)\n",
      " |-- metro_code: string (nullable = true)\n",
      " |-- time_zone: string (nullable = true)\n",
      " |-- is_in_european_union: string (nullable = true)\n",
      "\n"
     ]
    }
   ],
   "source": [
    "df_city.printSchema()"
   ]
  },
  {
   "cell_type": "code",
   "execution_count": 39,
   "id": "82108c05",
   "metadata": {},
   "outputs": [
    {
     "data": {
      "text/plain": [
       "121754"
      ]
     },
     "execution_count": 39,
     "metadata": {},
     "output_type": "execute_result"
    }
   ],
   "source": [
    "df_city.count()"
   ]
  },
  {
   "cell_type": "code",
   "execution_count": 40,
   "id": "97e10060",
   "metadata": {},
   "outputs": [
    {
     "data": {
      "text/plain": [
       "121754"
      ]
     },
     "execution_count": 40,
     "metadata": {},
     "output_type": "execute_result"
    }
   ],
   "source": [
    "df_city.dropDuplicates().count()"
   ]
  },
  {
   "cell_type": "markdown",
   "id": "805acf90",
   "metadata": {},
   "source": [
    "* es gibt keine Duplikate in dem Datensatz"
   ]
  },
  {
   "cell_type": "code",
   "execution_count": 41,
   "id": "50b08c0f",
   "metadata": {},
   "outputs": [
    {
     "data": {
      "text/plain": [
       "0"
      ]
     },
     "execution_count": 41,
     "metadata": {},
     "output_type": "execute_result"
    }
   ],
   "source": [
    "df_city.filter(df_city[\"city_name\"]==\"null\").count()"
   ]
  },
  {
   "cell_type": "markdown",
   "id": "7a38c008",
   "metadata": {},
   "source": [
    "* Keine Null Values"
   ]
  },
  {
   "cell_type": "markdown",
   "id": "b1540534",
   "metadata": {},
   "source": [
    "# Data Cleaning"
   ]
  },
  {
   "cell_type": "markdown",
   "id": "a4d81780",
   "metadata": {},
   "source": [
    "## Entfernen von Sonderzeichen im Datensatz real Domains"
   ]
  },
  {
   "cell_type": "code",
   "execution_count": 42,
   "id": "3fddb3d0",
   "metadata": {},
   "outputs": [],
   "source": [
    "commaRep = udf(lambda x: re.sub('\"','', x))\n",
    "commaRep2 = udf(lambda x: re.sub(']','', x))\n",
    "commaRep3 = udf(lambda x: re.sub('\\[','', x))\n",
    "commaRep5 = udf(lambda x: re.sub('\\.','', x))"
   ]
  },
  {
   "cell_type": "code",
   "execution_count": 43,
   "id": "31f773c8",
   "metadata": {},
   "outputs": [
    {
     "name": "stdout",
     "output_type": "stream",
     "text": [
      "+----------------+-----------------------------------------------+-----------------------+\n",
      "|Top level domain|MX-Record                                      |A-Record               |\n",
      "+----------------+-----------------------------------------------+-----------------------+\n",
      "|0--1.de         |mail.0--1.de,mxf993.netcup.net                 |\"[\"\"46.38.249.145\"\"]\"  |\n",
      "|0--2.de         |mxf993.netcup.net,mail.0--2.de                 |\"[\"\"212.227.212.163\"\"]\"|\n",
      "|0-0-0-0-0.de    |smtp-02.tld.t-online.de,smtp-01.tld.t-online.de|\"[\"\"80.150.6.143\"\"]\"   |\n",
      "+----------------+-----------------------------------------------+-----------------------+\n",
      "only showing top 3 rows\n",
      "\n"
     ]
    }
   ],
   "source": [
    "df_MXClean=df.withColumn('MX-Record',commaRep('MX-Record'))\n",
    "df_MXClean=df_MXClean.withColumn('MX-Record',commaRep2('MX-Record'))\n",
    "df_MXClean=df_MXClean.withColumn('MX-Record',commaRep3('MX-Record'))\n",
    "df_MXClean.show(3, False)"
   ]
  },
  {
   "cell_type": "code",
   "execution_count": 44,
   "id": "b5bad9c7",
   "metadata": {},
   "outputs": [
    {
     "name": "stdout",
     "output_type": "stream",
     "text": [
      "+----------------+-----------------------------------------------------------+---------------+\n",
      "|Top level domain|MX-Record                                                  |A-Record       |\n",
      "+----------------+-----------------------------------------------------------+---------------+\n",
      "|0--1.de         |\"[\"\"mail.0--1.de\"\",\"\"mxf993.netcup.net\"\"]\"                 |46.38.249.145  |\n",
      "|0--2.de         |\"[\"\"mxf993.netcup.net\"\",\"\"mail.0--2.de\"\"]\"                 |212.227.212.163|\n",
      "|0-0-0-0-0.de    |\"[\"\"smtp-02.tld.t-online.de\"\",\"\"smtp-01.tld.t-online.de\"\"]\"|80.150.6.143   |\n",
      "+----------------+-----------------------------------------------------------+---------------+\n",
      "only showing top 3 rows\n",
      "\n"
     ]
    }
   ],
   "source": [
    "df_AClean=df.withColumn('A-Record',commaRep('A-Record'))\n",
    "df_AClean=df_AClean.withColumn('A-Record',commaRep2('A-Record'))\n",
    "df_AClean=df_AClean.withColumn('A-Record',commaRep3('A-Record'))\n",
    "df_AClean.show(3, False)"
   ]
  },
  {
   "cell_type": "markdown",
   "id": "47819ed3",
   "metadata": {},
   "source": [
    " ## Splitten der Spalten im Datensatz real_domains"
   ]
  },
  {
   "cell_type": "code",
   "execution_count": 45,
   "id": "acb746f5",
   "metadata": {},
   "outputs": [
    {
     "name": "stdout",
     "output_type": "stream",
     "text": [
      "+----------------+--------------------+--------------------+------+--------------------+\n",
      "|Top level domain|            A-Record|           MX-Record|pos_MX|              val_MX|\n",
      "+----------------+--------------------+--------------------+------+--------------------+\n",
      "|         0--1.de|\"[\"\"46.38.249.145...|[mail.0--1.de, mx...|     0|        mail.0--1.de|\n",
      "|         0--1.de|\"[\"\"46.38.249.145...|[mail.0--1.de, mx...|     1|   mxf993.netcup.net|\n",
      "|         0--2.de|\"[\"\"212.227.212.1...|[mxf993.netcup.ne...|     0|   mxf993.netcup.net|\n",
      "|         0--2.de|\"[\"\"212.227.212.1...|[mxf993.netcup.ne...|     1|        mail.0--2.de|\n",
      "|    0-0-0-0-0.de|\"[\"\"80.150.6.143\"\"]\"|[smtp-02.tld.t-on...|     0|smtp-02.tld.t-onl...|\n",
      "+----------------+--------------------+--------------------+------+--------------------+\n",
      "only showing top 5 rows\n",
      "\n"
     ]
    }
   ],
   "source": [
    "df_MXSplit=df_MXClean.select(\n",
    "        \"Top level domain\", \"A-Record\",\n",
    "        f.split(\"MX-Record\", \",\").alias(\"MX-Record\"),\n",
    "        f.posexplode(f.split(\"MX-Record\", \",\")).alias(\"pos_MX\", \"val_MX\")\n",
    "    )\n",
    "df_MXSplit.show(5)"
   ]
  },
  {
   "cell_type": "code",
   "execution_count": 46,
   "id": "1a9cfea3",
   "metadata": {},
   "outputs": [
    {
     "name": "stdout",
     "output_type": "stream",
     "text": [
      "+-------------------+--------------------+-----------------+-----+---------------+\n",
      "|   Top level domain|           MX-Record|         A-Record|pos_A|          val_A|\n",
      "+-------------------+--------------------+-----------------+-----+---------------+\n",
      "|            0--1.de|\"[\"\"mail.0--1.de\"...|  [46.38.249.145]|    0|  46.38.249.145|\n",
      "|            0--2.de|\"[\"\"mxf993.netcup...|[212.227.212.163]|    0|212.227.212.163|\n",
      "|       0-0-0-0-0.de|\"[\"\"smtp-02.tld.t...|   [80.150.6.143]|    0|   80.150.6.143|\n",
      "|         0-0-0-1.de|\"[\"\"smtp-02.tld.t...|   [80.150.6.143]|    0|   80.150.6.143|\n",
      "|             0-0.de|                  []|  [185.53.178.13]|    0|  185.53.178.13|\n",
      "|            0-01.de|\"[\"\"mail.0-01.de\"\"]\"| [193.34.145.200]|    0| 193.34.145.200|\n",
      "|             0-1.de|   \"[\"\"localhost\"\"]\"| [91.195.241.137]|    0| 91.195.241.137|\n",
      "|            0-10.de|                  []|               []|    0|               |\n",
      "|          0-1000.de|   \"[\"\"localhost\"\"]\"| [91.195.241.137]|    0| 91.195.241.137|\n",
      "|        0-100kmh.de|\"[\"\"smtpin.rzone....|  [81.169.145.95]|    0|  81.169.145.95|\n",
      "|            0-12.de|   \"[\"\"localhost\"\"]\"| [91.195.241.137]|    0| 91.195.241.137|\n",
      "|            0-17.de|   \"[\"\"localhost\"\"]\"| [91.195.241.137]|    0| 91.195.241.137|\n",
      "|             0-2.de|   \"[\"\"localhost\"\"]\"|      [127.0.0.1]|    0|      127.0.0.1|\n",
      "|      0-24domain.de|\"[\"\"pmx.bestcpane...| [194.38.104.220]|    0| 194.38.104.220|\n",
      "|           0-24h.de|\"[\"\"mxlb.ispgatew...|[134.209.177.247]|    0|134.209.177.247|\n",
      "|     0-24leasing.de|                  []|               []|    0|               |\n",
      "|0-24versicherung.de|                  []|               []|    0|               |\n",
      "|        0-263475.de|                  []|   [176.9.76.101]|    0|   176.9.76.101|\n",
      "|           0-3-0.de|                  []|               []|    0|               |\n",
      "|             0-3.de|\"[\"\"teller.ggeg.e...|[185.163.116.240]|    0|185.163.116.240|\n",
      "+-------------------+--------------------+-----------------+-----+---------------+\n",
      "only showing top 20 rows\n",
      "\n"
     ]
    }
   ],
   "source": [
    "df_ASplit=df_AClean.select(\n",
    "        \"Top level domain\", \"MX-Record\",\n",
    "        f.split(\"A-Record\", \", \").alias(\"A-Record\"),\n",
    "        f.posexplode(f.split(\"A-Record\", \",\")).alias(\"pos_A\", \"val_A\")\n",
    "    )\n",
    "df_ASplit.show(20)"
   ]
  },
  {
   "cell_type": "code",
   "execution_count": 48,
   "id": "98f9fed8",
   "metadata": {},
   "outputs": [
    {
     "data": {
      "text/plain": [
       "5540060"
      ]
     },
     "execution_count": 48,
     "metadata": {},
     "output_type": "execute_result"
    }
   ],
   "source": [
    "df_ASplit.count()"
   ]
  },
  {
   "cell_type": "code",
   "execution_count": 49,
   "id": "b84b9d52",
   "metadata": {},
   "outputs": [
    {
     "name": "stdout",
     "output_type": "stream",
     "text": [
      "root\n",
      " |-- Top level domain: string (nullable = true)\n",
      " |-- MX-Record: string (nullable = true)\n",
      " |-- A-Record: array (nullable = true)\n",
      " |    |-- element: string (containsNull = true)\n",
      " |-- pos_A: integer (nullable = false)\n",
      " |-- val_A: string (nullable = true)\n",
      "\n"
     ]
    }
   ],
   "source": [
    "df_ASplit.printSchema()"
   ]
  },
  {
   "cell_type": "markdown",
   "id": "3d9270a6",
   "metadata": {},
   "source": [
    "# Neue Spalte Network in df_ASplit hinzufügen"
   ]
  },
  {
   "cell_type": "code",
   "execution_count": 47,
   "id": "550ea2f5",
   "metadata": {},
   "outputs": [
    {
     "ename": "AddressValueError",
     "evalue": "Expected 4 octets in \"Column<'val_A'>\"",
     "output_type": "error",
     "traceback": [
      "\u001b[0;31m---------------------------------------------------------------------------\u001b[0m",
      "\u001b[0;31mAddressValueError\u001b[0m                         Traceback (most recent call last)",
      "\u001b[0;32m<ipython-input-47-153628cc3a5c>\u001b[0m in \u001b[0;36m<module>\u001b[0;34m\u001b[0m\n\u001b[1;32m      2\u001b[0m \u001b[0;31m#                                .otherwise(lit(\"False\")))\u001b[0m\u001b[0;34m\u001b[0m\u001b[0;34m\u001b[0m\u001b[0;34m\u001b[0m\u001b[0m\n\u001b[1;32m      3\u001b[0m \u001b[0;34m\u001b[0m\u001b[0m\n\u001b[0;32m----> 4\u001b[0;31m df_ASplit = df_ASplit.withColumn('network2', when(ipaddress.IPv4Address(str(df_ASplit.val_A)) in ipaddress.IPv4Network(df_asn_blocks_ipv4.network), lit(\"True\"))\\\n\u001b[0m\u001b[1;32m      5\u001b[0m                                .otherwise(lit(\"False\")))\n\u001b[1;32m      6\u001b[0m \u001b[0;34m\u001b[0m\u001b[0m\n",
      "\u001b[0;32m/opt/conda/lib/python3.9/ipaddress.py\u001b[0m in \u001b[0;36m__init__\u001b[0;34m(self, address)\u001b[0m\n\u001b[1;32m   1300\u001b[0m         \u001b[0;32mif\u001b[0m \u001b[0;34m'/'\u001b[0m \u001b[0;32min\u001b[0m \u001b[0maddr_str\u001b[0m\u001b[0;34m:\u001b[0m\u001b[0;34m\u001b[0m\u001b[0;34m\u001b[0m\u001b[0m\n\u001b[1;32m   1301\u001b[0m             \u001b[0;32mraise\u001b[0m \u001b[0mAddressValueError\u001b[0m\u001b[0;34m(\u001b[0m\u001b[0;34m\"Unexpected '/' in %r\"\u001b[0m \u001b[0;34m%\u001b[0m \u001b[0maddress\u001b[0m\u001b[0;34m)\u001b[0m\u001b[0;34m\u001b[0m\u001b[0;34m\u001b[0m\u001b[0m\n\u001b[0;32m-> 1302\u001b[0;31m         \u001b[0mself\u001b[0m\u001b[0;34m.\u001b[0m\u001b[0m_ip\u001b[0m \u001b[0;34m=\u001b[0m \u001b[0mself\u001b[0m\u001b[0;34m.\u001b[0m\u001b[0m_ip_int_from_string\u001b[0m\u001b[0;34m(\u001b[0m\u001b[0maddr_str\u001b[0m\u001b[0;34m)\u001b[0m\u001b[0;34m\u001b[0m\u001b[0;34m\u001b[0m\u001b[0m\n\u001b[0m\u001b[1;32m   1303\u001b[0m \u001b[0;34m\u001b[0m\u001b[0m\n\u001b[1;32m   1304\u001b[0m     \u001b[0;34m@\u001b[0m\u001b[0mproperty\u001b[0m\u001b[0;34m\u001b[0m\u001b[0;34m\u001b[0m\u001b[0m\n",
      "\u001b[0;32m/opt/conda/lib/python3.9/ipaddress.py\u001b[0m in \u001b[0;36m_ip_int_from_string\u001b[0;34m(cls, ip_str)\u001b[0m\n\u001b[1;32m   1192\u001b[0m         \u001b[0moctets\u001b[0m \u001b[0;34m=\u001b[0m \u001b[0mip_str\u001b[0m\u001b[0;34m.\u001b[0m\u001b[0msplit\u001b[0m\u001b[0;34m(\u001b[0m\u001b[0;34m'.'\u001b[0m\u001b[0;34m)\u001b[0m\u001b[0;34m\u001b[0m\u001b[0;34m\u001b[0m\u001b[0m\n\u001b[1;32m   1193\u001b[0m         \u001b[0;32mif\u001b[0m \u001b[0mlen\u001b[0m\u001b[0;34m(\u001b[0m\u001b[0moctets\u001b[0m\u001b[0;34m)\u001b[0m \u001b[0;34m!=\u001b[0m \u001b[0;36m4\u001b[0m\u001b[0;34m:\u001b[0m\u001b[0;34m\u001b[0m\u001b[0;34m\u001b[0m\u001b[0m\n\u001b[0;32m-> 1194\u001b[0;31m             \u001b[0;32mraise\u001b[0m \u001b[0mAddressValueError\u001b[0m\u001b[0;34m(\u001b[0m\u001b[0;34m\"Expected 4 octets in %r\"\u001b[0m \u001b[0;34m%\u001b[0m \u001b[0mip_str\u001b[0m\u001b[0;34m)\u001b[0m\u001b[0;34m\u001b[0m\u001b[0;34m\u001b[0m\u001b[0m\n\u001b[0m\u001b[1;32m   1195\u001b[0m \u001b[0;34m\u001b[0m\u001b[0m\n\u001b[1;32m   1196\u001b[0m         \u001b[0;32mtry\u001b[0m\u001b[0;34m:\u001b[0m\u001b[0;34m\u001b[0m\u001b[0;34m\u001b[0m\u001b[0m\n",
      "\u001b[0;31mAddressValueError\u001b[0m: Expected 4 octets in \"Column<'val_A'>\""
     ]
    }
   ],
   "source": [
    "\n",
    "\n",
    "#df_ASplit = df_ASplit.withColumn('network2', when(ip_address(str(df_ASplit.val_A)) in ip_network(df_asn_blocks_ipv4.network), lit(\"True\"))\\\n",
    "#                                .otherwise(lit(\"False\")))\n",
    "\n",
    "#df_ASplit = df_ASplit.withColumn('network2', when(ipaddress.IPv4Address(str(df_ASplit.val_A)) in ipaddress.IPv4Network(df_asn_blocks_ipv4.network), lit(\"True\"))\\\n",
    "                               .otherwise(lit(\"False\")))\n",
    "\n",
    "#df_ASplit2.show(3, False)"
   ]
  },
  {
   "cell_type": "markdown",
   "id": "ba9c450c",
   "metadata": {},
   "source": [
    "## Entfernen von Sonderzeichen im Datensatz asn ip4 Blocks"
   ]
  },
  {
   "cell_type": "code",
   "execution_count": 47,
   "id": "790fe0b4",
   "metadata": {},
   "outputs": [],
   "source": [
    "#commaRep4 = udf(lambda x: re.sub('/','', x))"
   ]
  },
  {
   "cell_type": "code",
   "execution_count": 48,
   "id": "67e46621",
   "metadata": {},
   "outputs": [
    {
     "name": "stdout",
     "output_type": "stream",
     "text": [
      "+------------+------------------------+------------------------------+--------------+------------+\n",
      "|     network|autonomous_system_number|autonomous_system_organization|network_adress|subnetzmaske|\n",
      "+------------+------------------------+------------------------------+--------------+------------+\n",
      "|  1.0.0.0/24|                   13335|                 CLOUDFLARENET|       1.0.0.0|          24|\n",
      "|  1.0.4.0/22|                   38803|          Wirefreebroadband...|       1.0.4.0|          22|\n",
      "| 1.0.64.0/18|                   18144|          Energia Communica...|      1.0.64.0|          18|\n",
      "|1.0.128.0/17|                   23969|          TOT Public Compan...|     1.0.128.0|          17|\n",
      "|  1.1.1.0/24|                   13335|                 CLOUDFLARENET|       1.1.1.0|          24|\n",
      "|  1.1.8.0/24|                   58543|                     Guangdong|       1.1.8.0|          24|\n",
      "| 1.1.64.0/19|                    2519|          ARTERIA Networks ...|      1.1.64.0|          19|\n",
      "| 1.1.96.0/20|                    2519|          ARTERIA Networks ...|      1.1.96.0|          20|\n",
      "|1.1.112.0/21|                    2519|          ARTERIA Networks ...|     1.1.112.0|          21|\n",
      "|1.1.120.0/22|                    2519|          ARTERIA Networks ...|     1.1.120.0|          22|\n",
      "|1.1.124.0/23|                    2519|          ARTERIA Networks ...|     1.1.124.0|          23|\n",
      "|1.1.126.0/24|                    2519|          ARTERIA Networks ...|     1.1.126.0|          24|\n",
      "|1.1.128.0/17|                   23969|          TOT Public Compan...|     1.1.128.0|          17|\n",
      "|  1.2.4.0/24|                   24151|          China Internet Ne...|       1.2.4.0|          24|\n",
      "|1.2.128.0/17|                   23969|          TOT Public Compan...|     1.2.128.0|          17|\n",
      "|1.4.128.0/17|                   23969|          TOT Public Compan...|     1.4.128.0|          17|\n",
      "|  1.5.0.0/16|                    4725|                SoftBank Corp.|       1.5.0.0|          16|\n",
      "|  1.6.0.0/17|                    9583|                  Sify Limited|       1.6.0.0|          17|\n",
      "|1.6.128.0/21|                    9583|                  Sify Limited|     1.6.128.0|          21|\n",
      "|1.6.136.0/24|                  132215|          Power Grid Corpor...|     1.6.136.0|          24|\n",
      "+------------+------------------------+------------------------------+--------------+------------+\n",
      "only showing top 20 rows\n",
      "\n"
     ]
    }
   ],
   "source": [
    "split_col = f.split(df_asn_blocks_ipv4['network'], '/')\n",
    "df_asn_blocks_ipv4 = df_asn_blocks_ipv4.withColumn('network_adress', split_col.getItem(0))\n",
    "df_asn_blocks_ipv4 = df_asn_blocks_ipv4.withColumn('subnetzmaske', split_col.getItem(1))\n",
    "\n",
    "df_asn_blocks_ipv4.show()"
   ]
  },
  {
   "cell_type": "markdown",
   "id": "4b51e142",
   "metadata": {},
   "source": [
    "## Unbenötigte Spalten im Datensatz asn ip4 country entfernen "
   ]
  },
  {
   "cell_type": "code",
   "execution_count": 49,
   "id": "4d1b11cb",
   "metadata": {},
   "outputs": [],
   "source": [
    "df_country = df_country.drop(\"locale_code\", \"continent_code\", \"continent_name\", \"country_iso_code\", \"is_in_european_union\")"
   ]
  },
  {
   "cell_type": "code",
   "execution_count": 50,
   "id": "161c8f0b",
   "metadata": {
    "scrolled": true
   },
   "outputs": [
    {
     "name": "stdout",
     "output_type": "stream",
     "text": [
      "+----------+--------------------+\n",
      "|geoname_id|        country_name|\n",
      "+----------+--------------------+\n",
      "|     49518|              Rwanda|\n",
      "|     51537|             Somalia|\n",
      "|     69543|               Yemen|\n",
      "|     99237|                Iraq|\n",
      "|    102358|        Saudi Arabia|\n",
      "|    130758|                Iran|\n",
      "|    146669|              Cyprus|\n",
      "|    149590|            Tanzania|\n",
      "|    163843|               Syria|\n",
      "|    174982|             Armenia|\n",
      "|    192950|               Kenya|\n",
      "|    203312|            DR Congo|\n",
      "|    223816|            Djibouti|\n",
      "|    226074|              Uganda|\n",
      "|    239880|Central African R...|\n",
      "|    241170|          Seychelles|\n",
      "|    248816|              Jordan|\n",
      "|    272103|             Lebanon|\n",
      "|    285570|              Kuwait|\n",
      "|    286963|                Oman|\n",
      "+----------+--------------------+\n",
      "only showing top 20 rows\n",
      "\n"
     ]
    }
   ],
   "source": [
    "df_country.show()"
   ]
  },
  {
   "cell_type": "markdown",
   "id": "46b353fc",
   "metadata": {},
   "source": [
    "## Unbenötigte Spalten im Datensatz asn ip4 city entfernen"
   ]
  },
  {
   "cell_type": "code",
   "execution_count": 51,
   "id": "b969a7af",
   "metadata": {},
   "outputs": [],
   "source": [
    "df_city = df_city.drop(\"locale_code\", \"continent_code\", \"continent_name\", \"country_iso_code\", \"country_name\", \n",
    "                             \"subdivision_1_iso_code\", \"subdivision_1_name\", \"subdivision_2_iso_code\", \"subdivision_2_name\",\n",
    "                             \"metro_code\", \"time_zone\", \"is_in_european_union\")"
   ]
  },
  {
   "cell_type": "code",
   "execution_count": 52,
   "id": "7c265c95",
   "metadata": {
    "scrolled": true
   },
   "outputs": [
    {
     "name": "stdout",
     "output_type": "stream",
     "text": [
      "+----------+------------+\n",
      "|geoname_id|   city_name|\n",
      "+----------+------------+\n",
      "|     49518|        null|\n",
      "|     49747|       Oddur|\n",
      "|     51537|        null|\n",
      "|     53654|   Mogadishu|\n",
      "|     54225|       Merca|\n",
      "|     55671|     Kismayo|\n",
      "|     56335|      Giohar|\n",
      "|     57289|    Hargeisa|\n",
      "|     57723|    Gurmeyso|\n",
      "|     58933|     Garoowe|\n",
      "|     58994|Garbahaarrey|\n",
      "|     59611|   Gaalkacyo|\n",
      "|     60928| Dusa Marreb|\n",
      "|     62691|     Erigavo|\n",
      "|     63795|       Burao|\n",
      "|     63949|     Bu'aale|\n",
      "|     64013|      Bosaso|\n",
      "|     64460|  Beledweyne|\n",
      "|     64536|      Baidoa|\n",
      "|     69426|    Zinjibar|\n",
      "+----------+------------+\n",
      "only showing top 20 rows\n",
      "\n"
     ]
    }
   ],
   "source": [
    "df_city.show()"
   ]
  },
  {
   "cell_type": "markdown",
   "id": "7b6d27a0",
   "metadata": {},
   "source": [
    "## Test"
   ]
  },
  {
   "cell_type": "code",
   "execution_count": 53,
   "id": "256e58ed",
   "metadata": {},
   "outputs": [],
   "source": [
    "ipList = df_asn_blocks_ipv4.select(\"network\").rdd.flatMap(lambda x: x).collect()"
   ]
  },
  {
   "cell_type": "code",
   "execution_count": 55,
   "id": "0dcf017c",
   "metadata": {},
   "outputs": [
    {
     "data": {
      "text/plain": [
       "['1.0.0.0/24',\n",
       " '1.0.4.0/22',\n",
       " '1.0.64.0/18',\n",
       " '1.0.128.0/17',\n",
       " '1.1.1.0/24',\n",
       " '1.1.8.0/24',\n",
       " '1.1.64.0/19',\n",
       " '1.1.96.0/20',\n",
       " '1.1.112.0/21',\n",
       " '1.1.120.0/22',\n",
       " '1.1.124.0/23',\n",
       " '1.1.126.0/24',\n",
       " '1.1.128.0/17',\n",
       " '1.2.4.0/24',\n",
       " '1.2.128.0/17',\n",
       " '1.4.128.0/17',\n",
       " '1.5.0.0/16',\n",
       " '1.6.0.0/17',\n",
       " '1.6.128.0/21',\n",
       " '1.6.136.0/24',\n",
       " '1.6.137.0/24',\n",
       " '1.6.138.0/23',\n",
       " '1.6.140.0/22',\n",
       " '1.6.144.0/20',\n",
       " '1.6.160.0/19',\n",
       " '1.6.192.0/20',\n",
       " '1.6.208.0/21',\n",
       " '1.6.216.0/23',\n",
       " '1.6.218.0/24',\n",
       " '1.6.219.0/24',\n",
       " '1.6.220.0/22',\n",
       " '1.6.224.0/23',\n",
       " '1.6.226.0/23',\n",
       " '1.6.228.0/24',\n",
       " '1.6.229.0/24',\n",
       " '1.6.230.0/24',\n",
       " '1.6.231.0/24',\n",
       " '1.6.232.0/21',\n",
       " '1.6.240.0/20',\n",
       " '1.7.128.0/21',\n",
       " '1.7.136.0/22',\n",
       " '1.7.140.0/23',\n",
       " '1.7.142.0/24',\n",
       " '1.7.143.0/24',\n",
       " '1.7.144.0/22',\n",
       " '1.7.148.0/23',\n",
       " '1.7.150.0/24',\n",
       " '1.7.151.0/24',\n",
       " '1.7.152.0/21',\n",
       " '1.7.160.0/24',\n",
       " '1.7.161.0/24',\n",
       " '1.7.162.0/24',\n",
       " '1.7.163.0/24',\n",
       " '1.7.164.0/22',\n",
       " '1.7.168.0/21',\n",
       " '1.7.176.0/23',\n",
       " '1.7.178.0/24',\n",
       " '1.7.179.0/24',\n",
       " '1.7.180.0/24',\n",
       " '1.7.181.0/24',\n",
       " '1.7.182.0/23',\n",
       " '1.7.184.0/21',\n",
       " '1.7.192.0/21',\n",
       " '1.7.200.0/23',\n",
       " '1.7.202.0/24',\n",
       " '1.7.203.0/24',\n",
       " '1.7.204.0/22',\n",
       " '1.7.208.0/20',\n",
       " '1.7.224.0/20',\n",
       " '1.7.240.0/22',\n",
       " '1.8.1.0/24',\n",
       " '1.8.8.0/24',\n",
       " '1.9.0.0/16',\n",
       " '1.10.128.0/17',\n",
       " '1.11.0.0/21',\n",
       " '1.11.24.0/21',\n",
       " '1.11.40.0/21',\n",
       " '1.11.56.0/21',\n",
       " '1.11.64.0/20',\n",
       " '1.11.80.0/21',\n",
       " '1.11.88.0/22',\n",
       " '1.11.92.0/23',\n",
       " '1.11.94.0/24',\n",
       " '1.11.95.0/24',\n",
       " '1.11.96.0/19',\n",
       " '1.11.128.0/17',\n",
       " '1.12.0.0/14',\n",
       " '1.16.0.0/18',\n",
       " '1.18.116.0/24',\n",
       " '1.18.118.0/24',\n",
       " '1.18.119.0/24',\n",
       " '1.18.123.0/24',\n",
       " '1.18.125.0/24',\n",
       " '1.18.126.0/24',\n",
       " '1.18.127.0/24',\n",
       " '1.18.128.0/23',\n",
       " '1.18.130.0/24',\n",
       " '1.18.132.0/22',\n",
       " '1.20.0.0/19',\n",
       " '1.20.32.0/20',\n",
       " '1.20.48.0/21',\n",
       " '1.20.56.0/22',\n",
       " '1.20.60.0/22',\n",
       " '1.20.64.0/24',\n",
       " '1.20.65.0/24',\n",
       " '1.20.66.0/24',\n",
       " '1.20.67.0/24',\n",
       " '1.20.68.0/22',\n",
       " '1.20.72.0/21',\n",
       " '1.20.80.0/20',\n",
       " '1.20.96.0/20',\n",
       " '1.20.112.0/22',\n",
       " '1.20.116.0/24',\n",
       " '1.20.117.0/24',\n",
       " '1.20.118.0/24',\n",
       " '1.20.119.0/24',\n",
       " '1.20.120.0/23',\n",
       " '1.20.122.0/23',\n",
       " '1.20.124.0/24',\n",
       " '1.20.125.0/24',\n",
       " '1.20.126.0/24',\n",
       " '1.20.127.0/24',\n",
       " '1.20.128.0/17',\n",
       " '1.21.0.0/16',\n",
       " '1.22.3.0/24',\n",
       " '1.22.4.0/23',\n",
       " '1.22.6.0/24',\n",
       " '1.22.8.0/23',\n",
       " '1.22.10.0/24',\n",
       " '1.22.12.0/22',\n",
       " '1.22.16.0/22',\n",
       " '1.22.20.0/24',\n",
       " '1.22.24.0/22',\n",
       " '1.22.28.0/24',\n",
       " '1.22.30.0/23',\n",
       " '1.22.34.0/23',\n",
       " '1.22.36.0/22',\n",
       " '1.22.40.0/21',\n",
       " '1.22.48.0/23',\n",
       " '1.22.50.0/24',\n",
       " '1.22.52.0/22',\n",
       " '1.22.57.0/24',\n",
       " '1.22.58.0/23',\n",
       " '1.22.60.0/23',\n",
       " '1.22.64.0/22',\n",
       " '1.22.69.0/24',\n",
       " '1.22.72.0/22',\n",
       " '1.22.77.0/24',\n",
       " '1.22.78.0/23',\n",
       " '1.22.80.0/22',\n",
       " '1.22.88.0/21',\n",
       " '1.22.96.0/21',\n",
       " '1.22.104.0/22',\n",
       " '1.22.112.0/23',\n",
       " '1.22.116.0/22',\n",
       " '1.22.120.0/21',\n",
       " '1.22.132.0/22',\n",
       " '1.22.136.0/22',\n",
       " '1.22.140.0/24',\n",
       " '1.22.145.0/24',\n",
       " '1.22.146.0/23',\n",
       " '1.22.148.0/22',\n",
       " '1.22.152.0/21',\n",
       " '1.22.160.0/23',\n",
       " '1.22.163.0/24',\n",
       " '1.22.164.0/22',\n",
       " '1.22.170.0/23',\n",
       " '1.22.172.0/23',\n",
       " '1.22.176.0/21',\n",
       " '1.22.184.0/22',\n",
       " '1.22.188.0/23',\n",
       " '1.22.192.0/21',\n",
       " '1.22.200.0/23',\n",
       " '1.22.206.0/23',\n",
       " '1.22.208.0/23',\n",
       " '1.22.210.0/24',\n",
       " '1.22.214.0/23',\n",
       " '1.22.228.0/22',\n",
       " '1.22.232.0/22',\n",
       " '1.22.240.0/22',\n",
       " '1.22.248.0/21',\n",
       " '1.23.0.0/22',\n",
       " '1.23.4.0/23',\n",
       " '1.23.6.0/24',\n",
       " '1.23.10.0/23',\n",
       " '1.23.12.0/23',\n",
       " '1.23.16.0/21',\n",
       " '1.23.25.0/24',\n",
       " '1.23.26.0/23',\n",
       " '1.23.29.0/24',\n",
       " '1.23.30.0/23',\n",
       " '1.23.32.0/21',\n",
       " '1.23.40.0/23',\n",
       " '1.23.43.0/24',\n",
       " '1.23.44.0/22',\n",
       " '1.23.48.0/21',\n",
       " '1.23.56.0/23',\n",
       " '1.23.61.0/24',\n",
       " '1.23.62.0/24',\n",
       " '1.23.68.0/23',\n",
       " '1.23.70.0/24',\n",
       " '1.23.73.0/24',\n",
       " '1.23.74.0/23',\n",
       " '1.23.76.0/22',\n",
       " '1.23.80.0/22',\n",
       " '1.23.84.0/23',\n",
       " '1.23.86.0/24',\n",
       " '1.23.90.0/23',\n",
       " '1.23.93.0/24',\n",
       " '1.23.97.0/24',\n",
       " '1.23.98.0/23',\n",
       " '1.23.100.0/23',\n",
       " '1.23.104.0/21',\n",
       " '1.23.119.0/24',\n",
       " '1.23.121.0/24',\n",
       " '1.23.122.0/23',\n",
       " '1.23.124.0/22',\n",
       " '1.23.128.0/24',\n",
       " '1.23.130.0/24',\n",
       " '1.23.132.0/24',\n",
       " '1.23.140.0/24',\n",
       " '1.23.142.0/23',\n",
       " '1.23.144.0/21',\n",
       " '1.23.160.0/21',\n",
       " '1.23.168.0/22',\n",
       " '1.23.174.0/23',\n",
       " '1.23.176.0/23',\n",
       " '1.23.180.0/22',\n",
       " '1.23.185.0/24',\n",
       " '1.23.186.0/23',\n",
       " '1.23.188.0/22',\n",
       " '1.23.192.0/24',\n",
       " '1.23.194.0/23',\n",
       " '1.23.196.0/24',\n",
       " '1.23.198.0/24',\n",
       " '1.23.204.0/24',\n",
       " '1.23.206.0/24',\n",
       " '1.23.208.0/22',\n",
       " '1.23.212.0/23',\n",
       " '1.23.214.0/24',\n",
       " '1.23.216.0/23',\n",
       " '1.23.220.0/24',\n",
       " '1.23.224.0/20',\n",
       " '1.23.240.0/22',\n",
       " '1.23.245.0/24',\n",
       " '1.23.246.0/23',\n",
       " '1.23.248.0/22',\n",
       " '1.23.252.0/23',\n",
       " '1.23.254.0/24',\n",
       " '1.24.0.0/19',\n",
       " '1.24.32.0/21',\n",
       " '1.24.40.0/21',\n",
       " '1.24.48.0/20',\n",
       " '1.24.64.0/20',\n",
       " '1.24.80.0/21',\n",
       " '1.24.88.0/22',\n",
       " '1.24.92.0/23',\n",
       " '1.24.94.0/24',\n",
       " '1.24.95.0/24',\n",
       " '1.24.96.0/19',\n",
       " '1.24.128.0/18',\n",
       " '1.24.192.0/21',\n",
       " '1.24.200.0/21',\n",
       " '1.24.208.0/21',\n",
       " '1.24.216.0/22',\n",
       " '1.24.220.0/22',\n",
       " '1.24.224.0/21',\n",
       " '1.24.232.0/22',\n",
       " '1.24.236.0/22',\n",
       " '1.24.240.0/20',\n",
       " '1.25.0.0/21',\n",
       " '1.25.8.0/21',\n",
       " '1.25.16.0/21',\n",
       " '1.25.24.0/21',\n",
       " '1.25.32.0/22',\n",
       " '1.25.36.0/22',\n",
       " '1.25.40.0/21',\n",
       " '1.25.48.0/20',\n",
       " '1.25.64.0/20',\n",
       " '1.25.80.0/21',\n",
       " '1.25.88.0/22',\n",
       " '1.25.92.0/22',\n",
       " '1.25.96.0/19',\n",
       " '1.25.128.0/21',\n",
       " '1.25.136.0/21',\n",
       " '1.25.144.0/20',\n",
       " '1.25.160.0/19',\n",
       " '1.25.192.0/18',\n",
       " '1.26.0.0/15',\n",
       " '1.28.0.0/21',\n",
       " '1.28.8.0/22',\n",
       " '1.28.12.0/22',\n",
       " '1.28.16.0/21',\n",
       " '1.28.24.0/22',\n",
       " '1.28.28.0/22',\n",
       " '1.28.32.0/19',\n",
       " '1.28.64.0/19',\n",
       " '1.28.96.0/22',\n",
       " '1.28.100.0/22',\n",
       " '1.28.104.0/21',\n",
       " '1.28.112.0/20',\n",
       " '1.28.128.0/21',\n",
       " '1.28.136.0/22',\n",
       " '1.28.140.0/22',\n",
       " '1.28.144.0/22',\n",
       " '1.28.148.0/22',\n",
       " '1.28.152.0/22',\n",
       " '1.28.156.0/22',\n",
       " '1.28.160.0/21',\n",
       " '1.28.168.0/22',\n",
       " '1.28.172.0/22',\n",
       " '1.28.176.0/22',\n",
       " '1.28.180.0/22',\n",
       " '1.28.184.0/21',\n",
       " '1.28.192.0/19',\n",
       " '1.28.224.0/22',\n",
       " '1.28.228.0/22',\n",
       " '1.28.232.0/21',\n",
       " '1.28.240.0/20',\n",
       " '1.29.0.0/16',\n",
       " '1.30.0.0/19',\n",
       " '1.30.32.0/21',\n",
       " '1.30.40.0/21',\n",
       " '1.30.48.0/22',\n",
       " '1.30.52.0/22',\n",
       " '1.30.56.0/21',\n",
       " '1.30.64.0/20',\n",
       " '1.30.80.0/21',\n",
       " '1.30.88.0/22',\n",
       " '1.30.92.0/22',\n",
       " '1.30.96.0/21',\n",
       " '1.30.104.0/21',\n",
       " '1.30.112.0/20',\n",
       " '1.30.128.0/19',\n",
       " '1.30.160.0/22',\n",
       " '1.30.164.0/22',\n",
       " '1.30.168.0/21',\n",
       " '1.30.176.0/22',\n",
       " '1.30.180.0/22',\n",
       " '1.30.184.0/22',\n",
       " '1.30.188.0/22',\n",
       " '1.30.192.0/18',\n",
       " '1.31.0.0/19',\n",
       " '1.31.32.0/22',\n",
       " '1.31.36.0/22',\n",
       " '1.31.40.0/21',\n",
       " '1.31.48.0/20',\n",
       " '1.31.64.0/18',\n",
       " '1.31.128.0/18',\n",
       " '1.31.192.0/22',\n",
       " '1.31.196.0/22',\n",
       " '1.31.200.0/21',\n",
       " '1.31.208.0/20',\n",
       " '1.31.224.0/19',\n",
       " '1.32.0.0/17',\n",
       " '1.32.192.0/20',\n",
       " '1.32.208.0/21',\n",
       " '1.32.216.0/23',\n",
       " '1.32.218.0/24',\n",
       " '1.32.219.0/24',\n",
       " '1.32.221.0/24',\n",
       " '1.32.222.0/23',\n",
       " '1.32.224.0/22',\n",
       " '1.32.230.0/23',\n",
       " '1.32.233.0/24',\n",
       " '1.32.234.0/23',\n",
       " '1.32.236.0/22',\n",
       " '1.32.240.0/23',\n",
       " '1.32.242.0/24',\n",
       " '1.32.244.0/22',\n",
       " '1.32.248.0/21',\n",
       " '1.33.0.0/16',\n",
       " '1.34.0.0/15',\n",
       " '1.36.0.0/16',\n",
       " '1.37.0.0/16',\n",
       " '1.38.0.0/19',\n",
       " '1.38.32.0/21',\n",
       " '1.38.40.0/22',\n",
       " '1.38.44.0/22',\n",
       " '1.38.48.0/20',\n",
       " '1.38.64.0/18',\n",
       " '1.38.128.0/19',\n",
       " '1.38.160.0/21',\n",
       " '1.38.176.0/20',\n",
       " '1.38.192.0/21',\n",
       " '1.38.200.0/23',\n",
       " '1.38.202.0/23',\n",
       " '1.38.208.0/24',\n",
       " '1.38.209.0/24',\n",
       " '1.38.210.0/23',\n",
       " '1.38.213.0/24',\n",
       " '1.38.216.0/21',\n",
       " '1.38.232.0/21',\n",
       " '1.38.240.0/21',\n",
       " '1.39.4.0/22',\n",
       " '1.39.8.0/21',\n",
       " '1.39.16.0/20',\n",
       " '1.39.75.0/24',\n",
       " '1.39.76.0/22',\n",
       " '1.39.80.0/21',\n",
       " '1.39.88.0/22',\n",
       " '1.39.128.0/17',\n",
       " '1.40.0.0/14',\n",
       " '1.44.0.0/18',\n",
       " '1.44.64.0/18',\n",
       " '1.44.128.0/17',\n",
       " '1.45.0.0/16',\n",
       " '1.46.0.0/15',\n",
       " '1.48.0.0/15',\n",
       " '1.50.0.0/16',\n",
       " '1.51.0.0/16',\n",
       " '1.52.0.0/14',\n",
       " '1.56.0.0/13',\n",
       " '1.64.0.0/16',\n",
       " '1.65.0.0/17',\n",
       " '1.65.128.0/19',\n",
       " '1.65.160.0/20',\n",
       " '1.65.176.0/21',\n",
       " '1.65.184.0/22',\n",
       " '1.65.188.0/23',\n",
       " '1.65.190.0/23',\n",
       " '1.65.192.0/18',\n",
       " '1.66.20.0/22',\n",
       " '1.66.24.0/21',\n",
       " '1.66.32.0/19',\n",
       " '1.66.68.0/22',\n",
       " '1.66.90.0/24',\n",
       " '1.66.92.0/24',\n",
       " '1.66.96.0/19',\n",
       " '1.66.128.0/17',\n",
       " '1.67.0.0/17',\n",
       " '1.67.128.0/18',\n",
       " '1.67.192.0/19',\n",
       " '1.67.224.0/21',\n",
       " '1.67.232.0/22',\n",
       " '1.67.236.0/23',\n",
       " '1.67.240.0/20',\n",
       " '1.68.0.0/15',\n",
       " '1.70.0.0/16',\n",
       " '1.71.0.0/17',\n",
       " '1.71.128.0/20',\n",
       " '1.71.144.0/20',\n",
       " '1.71.160.0/21',\n",
       " '1.71.168.0/21',\n",
       " '1.71.176.0/20',\n",
       " '1.71.192.0/18',\n",
       " '1.72.0.0/15',\n",
       " '1.74.0.0/17',\n",
       " '1.74.192.0/23',\n",
       " '1.74.196.0/22',\n",
       " '1.74.200.0/21',\n",
       " '1.74.208.0/20',\n",
       " '1.74.240.0/20',\n",
       " '1.75.0.0/21',\n",
       " '1.75.8.0/22',\n",
       " '1.75.12.0/23',\n",
       " '1.75.14.0/24',\n",
       " '1.75.16.0/20',\n",
       " '1.75.32.0/19',\n",
       " '1.75.64.0/18',\n",
       " '1.75.128.0/18',\n",
       " '1.75.196.0/22',\n",
       " '1.75.202.0/23',\n",
       " '1.75.204.0/22',\n",
       " '1.75.208.0/20',\n",
       " '1.75.224.0/19',\n",
       " '1.76.4.0/22',\n",
       " '1.76.8.0/21',\n",
       " '1.76.16.0/20',\n",
       " '1.76.32.0/19',\n",
       " '1.76.64.0/21',\n",
       " '1.76.72.0/22',\n",
       " '1.76.80.0/21',\n",
       " '1.76.148.0/22',\n",
       " '1.76.152.0/21',\n",
       " '1.76.160.0/19',\n",
       " '1.76.192.0/19',\n",
       " '1.76.224.0/22',\n",
       " '1.77.0.0/16',\n",
       " '1.78.0.0/18',\n",
       " '1.78.64.0/19',\n",
       " '1.78.96.0/22',\n",
       " '1.78.127.0/24',\n",
       " '1.78.128.0/17',\n",
       " '1.79.2.0/23',\n",
       " '1.79.4.0/24',\n",
       " '1.79.6.0/23',\n",
       " '1.79.8.0/21',\n",
       " '1.79.16.0/20',\n",
       " '1.79.32.0/19',\n",
       " '1.79.66.0/23',\n",
       " '1.79.68.0/22',\n",
       " '1.79.72.0/21',\n",
       " '1.79.80.0/20',\n",
       " '1.79.96.0/19',\n",
       " '1.79.128.0/19',\n",
       " '1.79.160.0/20',\n",
       " '1.79.176.0/21',\n",
       " '1.79.216.0/21',\n",
       " '1.79.224.0/19',\n",
       " '1.80.0.0/16',\n",
       " '1.81.0.0/21',\n",
       " '1.81.8.0/21',\n",
       " '1.81.16.0/20',\n",
       " '1.81.32.0/19',\n",
       " '1.81.64.0/18',\n",
       " '1.81.128.0/17',\n",
       " '1.82.0.0/17',\n",
       " '1.82.128.0/18',\n",
       " '1.82.192.0/20',\n",
       " '1.82.208.0/21',\n",
       " '1.82.216.0/23',\n",
       " '1.82.218.0/24',\n",
       " '1.82.219.0/24',\n",
       " '1.82.220.0/22',\n",
       " '1.82.224.0/21',\n",
       " '1.82.232.0/21',\n",
       " '1.82.240.0/22',\n",
       " '1.82.244.0/24',\n",
       " '1.82.245.0/24',\n",
       " '1.82.246.0/23',\n",
       " '1.82.248.0/21',\n",
       " '1.83.0.0/16',\n",
       " '1.84.0.0/14',\n",
       " '1.88.0.0/14',\n",
       " '1.92.0.0/20',\n",
       " '1.93.0.0/16',\n",
       " '1.94.0.0/15',\n",
       " '1.96.0.0/12',\n",
       " '1.112.0.0/14',\n",
       " '1.116.0.0/15',\n",
       " '1.118.0.0/23',\n",
       " '1.118.2.0/24',\n",
       " '1.118.32.0/24',\n",
       " '1.119.0.0/17',\n",
       " '1.119.128.0/18',\n",
       " '1.119.192.0/21',\n",
       " '1.119.200.0/22',\n",
       " '1.119.204.0/24',\n",
       " '1.120.0.0/13',\n",
       " '1.128.0.0/11',\n",
       " '1.160.0.0/12',\n",
       " '1.176.0.0/17',\n",
       " '1.176.128.0/17',\n",
       " '1.177.0.0/18',\n",
       " '1.177.64.0/18',\n",
       " '1.177.128.0/20',\n",
       " '1.177.144.0/21',\n",
       " '1.177.152.0/21',\n",
       " '1.177.160.0/19',\n",
       " '1.177.192.0/20',\n",
       " '1.177.208.0/21',\n",
       " '1.177.216.0/22',\n",
       " '1.177.220.0/22',\n",
       " '1.177.224.0/19',\n",
       " '1.178.0.0/17',\n",
       " '1.178.128.0/18',\n",
       " '1.178.192.0/20',\n",
       " '1.178.208.0/20',\n",
       " '1.178.224.0/19',\n",
       " '1.179.0.0/18',\n",
       " '1.179.64.0/19',\n",
       " '1.179.96.0/20',\n",
       " '1.179.112.0/20',\n",
       " '1.179.128.0/19',\n",
       " '1.179.160.0/24',\n",
       " '1.179.161.0/24',\n",
       " '1.179.162.0/23',\n",
       " '1.179.164.0/22',\n",
       " '1.179.168.0/21',\n",
       " '1.179.176.0/20',\n",
       " '1.179.192.0/20',\n",
       " '1.179.208.0/22',\n",
       " '1.179.212.0/24',\n",
       " '1.179.213.0/24',\n",
       " '1.179.214.0/23',\n",
       " '1.179.216.0/22',\n",
       " '1.179.220.0/23',\n",
       " '1.179.222.0/24',\n",
       " '1.179.223.0/24',\n",
       " '1.179.224.0/23',\n",
       " '1.179.226.0/24',\n",
       " '1.179.227.0/24',\n",
       " '1.179.228.0/22',\n",
       " '1.179.232.0/21',\n",
       " '1.179.240.0/22',\n",
       " '1.179.244.0/23',\n",
       " '1.179.246.0/23',\n",
       " '1.179.248.0/21',\n",
       " '1.180.0.0/14',\n",
       " '1.184.0.0/15',\n",
       " '1.186.0.0/22',\n",
       " '1.186.4.0/24',\n",
       " '1.186.6.0/23',\n",
       " '1.186.8.0/21',\n",
       " '1.186.16.0/20',\n",
       " '1.186.32.0/19',\n",
       " '1.186.65.0/24',\n",
       " '1.186.66.0/23',\n",
       " '1.186.68.0/23',\n",
       " '1.186.70.0/24',\n",
       " '1.186.74.0/23',\n",
       " '1.186.76.0/22',\n",
       " '1.186.80.0/22',\n",
       " '1.186.84.0/23',\n",
       " '1.186.87.0/24',\n",
       " '1.186.88.0/21',\n",
       " '1.186.96.0/19',\n",
       " '1.186.128.0/22',\n",
       " '1.186.136.0/21',\n",
       " '1.186.144.0/21',\n",
       " '1.186.155.0/24',\n",
       " '1.186.156.0/22',\n",
       " '1.186.160.0/21',\n",
       " '1.186.168.0/24',\n",
       " '1.186.170.0/23',\n",
       " '1.186.172.0/22',\n",
       " '1.186.177.0/24',\n",
       " '1.186.178.0/23',\n",
       " '1.186.180.0/22',\n",
       " '1.186.184.0/21',\n",
       " '1.186.192.0/24',\n",
       " '1.186.194.0/24',\n",
       " '1.186.196.0/22',\n",
       " '1.186.200.0/21',\n",
       " '1.186.208.0/21',\n",
       " '1.186.217.0/24',\n",
       " '1.186.218.0/23',\n",
       " '1.186.220.0/22',\n",
       " '1.186.224.0/19',\n",
       " '1.187.0.0/21',\n",
       " '1.187.12.0/22',\n",
       " '1.187.16.0/21',\n",
       " '1.187.24.0/22',\n",
       " '1.187.32.0/19',\n",
       " '1.187.64.0/18',\n",
       " '1.187.128.0/20',\n",
       " '1.187.208.0/20',\n",
       " '1.187.240.0/20',\n",
       " '1.188.0.0/14',\n",
       " '1.192.0.0/17',\n",
       " '1.192.128.0/21',\n",
       " '1.192.136.0/23',\n",
       " '1.192.138.0/23',\n",
       " '1.192.140.0/22',\n",
       " '1.192.144.0/20',\n",
       " '1.192.160.0/20',\n",
       " '1.192.176.0/21',\n",
       " '1.192.184.0/22',\n",
       " '1.192.188.0/22',\n",
       " '1.192.192.0/22',\n",
       " '1.192.196.0/22',\n",
       " '1.192.200.0/22',\n",
       " '1.192.204.0/22',\n",
       " '1.192.208.0/20',\n",
       " '1.192.224.0/19',\n",
       " '1.193.0.0/17',\n",
       " '1.193.128.0/20',\n",
       " '1.193.144.0/23',\n",
       " '1.193.146.0/23',\n",
       " '1.193.148.0/22',\n",
       " '1.193.152.0/21',\n",
       " '1.193.160.0/20',\n",
       " '1.193.176.0/21',\n",
       " '1.193.184.0/22',\n",
       " '1.193.188.0/24',\n",
       " '1.193.189.0/24',\n",
       " '1.193.190.0/23',\n",
       " '1.193.192.0/20',\n",
       " '1.193.208.0/22',\n",
       " '1.193.212.0/22',\n",
       " '1.193.216.0/23',\n",
       " '1.193.218.0/24',\n",
       " '1.193.219.0/24',\n",
       " '1.193.220.0/22',\n",
       " '1.193.224.0/19',\n",
       " '1.194.0.0/17',\n",
       " '1.194.128.0/18',\n",
       " '1.194.192.0/19',\n",
       " '1.194.224.0/20',\n",
       " '1.194.240.0/20',\n",
       " '1.195.0.0/16',\n",
       " '1.196.0.0/15',\n",
       " '1.198.0.0/22',\n",
       " '1.198.4.0/23',\n",
       " '1.198.6.0/23',\n",
       " '1.198.8.0/21',\n",
       " '1.198.16.0/20',\n",
       " '1.198.32.0/19',\n",
       " '1.198.64.0/18',\n",
       " '1.198.128.0/17',\n",
       " '1.199.0.0/18',\n",
       " '1.199.64.0/20',\n",
       " '1.199.80.0/21',\n",
       " '1.199.88.0/22',\n",
       " '1.199.92.0/23',\n",
       " '1.199.94.0/24',\n",
       " '1.199.95.0/24',\n",
       " '1.199.96.0/19',\n",
       " '1.199.128.0/18',\n",
       " '1.199.192.0/19',\n",
       " '1.199.224.0/20',\n",
       " '1.199.240.0/21',\n",
       " '1.199.248.0/23',\n",
       " '1.199.250.0/24',\n",
       " '1.199.251.0/24',\n",
       " '1.199.252.0/22',\n",
       " '1.200.0.0/16',\n",
       " '1.201.0.0/24',\n",
       " '1.201.8.0/21',\n",
       " '1.201.64.0/18',\n",
       " '1.201.128.0/17',\n",
       " '1.202.0.0/16',\n",
       " '1.203.0.0/18',\n",
       " '1.203.64.0/19',\n",
       " '1.203.96.0/20',\n",
       " '1.203.112.0/23',\n",
       " '1.203.114.0/24',\n",
       " '1.203.115.0/24',\n",
       " '1.203.116.0/22',\n",
       " '1.203.120.0/22',\n",
       " '1.203.124.0/22',\n",
       " '1.203.128.0/17',\n",
       " '1.204.0.0/14',\n",
       " '1.208.0.0/16',\n",
       " '1.209.0.0/21',\n",
       " '1.209.8.0/24',\n",
       " '1.209.9.0/24',\n",
       " '1.209.10.0/23',\n",
       " '1.209.12.0/22',\n",
       " '1.209.16.0/20',\n",
       " '1.209.32.0/20',\n",
       " '1.209.48.0/21',\n",
       " '1.209.56.0/22',\n",
       " '1.209.60.0/22',\n",
       " '1.209.64.0/23',\n",
       " '1.209.66.0/24',\n",
       " '1.209.67.0/24',\n",
       " '1.209.68.0/22',\n",
       " '1.209.72.0/21',\n",
       " '1.209.80.0/23',\n",
       " '1.209.82.0/24',\n",
       " '1.209.83.0/24',\n",
       " '1.209.84.0/22',\n",
       " '1.209.88.0/23',\n",
       " '1.209.90.0/23',\n",
       " '1.209.92.0/24',\n",
       " '1.209.93.0/24',\n",
       " '1.209.94.0/23',\n",
       " '1.209.96.0/20',\n",
       " '1.209.112.0/21',\n",
       " '1.209.120.0/24',\n",
       " '1.209.121.0/24',\n",
       " '1.209.122.0/23',\n",
       " '1.209.124.0/22',\n",
       " '1.209.128.0/19',\n",
       " '1.209.160.0/21',\n",
       " '1.209.168.0/22',\n",
       " '1.209.172.0/23',\n",
       " '1.209.174.0/23',\n",
       " '1.209.176.0/24',\n",
       " '1.209.177.0/24',\n",
       " '1.209.178.0/23',\n",
       " '1.209.180.0/24',\n",
       " '1.209.181.0/24',\n",
       " '1.209.182.0/24',\n",
       " '1.209.183.0/24',\n",
       " '1.209.184.0/24',\n",
       " '1.209.185.0/24',\n",
       " '1.209.186.0/23',\n",
       " '1.209.188.0/22',\n",
       " '1.209.192.0/22',\n",
       " '1.209.196.0/23',\n",
       " '1.209.198.0/24',\n",
       " '1.209.199.0/24',\n",
       " '1.209.200.0/24',\n",
       " '1.209.201.0/24',\n",
       " '1.209.202.0/23',\n",
       " '1.209.204.0/24',\n",
       " '1.209.205.0/24',\n",
       " '1.209.206.0/23',\n",
       " '1.209.208.0/20',\n",
       " '1.209.224.0/20',\n",
       " '1.209.240.0/24',\n",
       " '1.209.241.0/24',\n",
       " '1.209.242.0/23',\n",
       " '1.209.244.0/22',\n",
       " '1.209.248.0/21',\n",
       " '1.210.0.0/15',\n",
       " '1.212.0.0/15',\n",
       " '1.214.0.0/18',\n",
       " '1.214.64.0/21',\n",
       " '1.214.72.0/23',\n",
       " '1.214.74.0/23',\n",
       " '1.214.76.0/22',\n",
       " '1.214.80.0/21',\n",
       " '1.214.88.0/22',\n",
       " '1.214.92.0/24',\n",
       " '1.214.93.0/24',\n",
       " '1.214.94.0/23',\n",
       " '1.214.96.0/21',\n",
       " '1.214.104.0/24',\n",
       " '1.214.105.0/24',\n",
       " '1.214.106.0/24',\n",
       " '1.214.107.0/24',\n",
       " '1.214.108.0/22',\n",
       " '1.214.112.0/21',\n",
       " '1.214.120.0/22',\n",
       " '1.214.124.0/23',\n",
       " '1.214.126.0/23',\n",
       " '1.214.128.0/17',\n",
       " '1.215.0.0/16',\n",
       " '1.216.0.0/14',\n",
       " '1.220.0.0/15',\n",
       " '1.222.0.0/17',\n",
       " '1.222.128.0/20',\n",
       " '1.222.144.0/21',\n",
       " '1.222.152.0/21',\n",
       " '1.222.160.0/19',\n",
       " '1.222.192.0/21',\n",
       " '1.222.200.0/22',\n",
       " '1.222.204.0/23',\n",
       " '1.222.206.0/24',\n",
       " '1.222.207.0/24',\n",
       " '1.222.208.0/20',\n",
       " '1.222.224.0/19',\n",
       " '1.223.0.0/16',\n",
       " '1.224.0.0/20',\n",
       " '1.224.16.0/20',\n",
       " '1.224.32.0/22',\n",
       " '1.224.36.0/23',\n",
       " '1.224.38.0/24',\n",
       " '1.224.39.0/24',\n",
       " '1.224.40.0/21',\n",
       " '1.224.48.0/20',\n",
       " '1.224.64.0/18',\n",
       " '1.224.128.0/19',\n",
       " '1.224.160.0/21',\n",
       " '1.224.168.0/22',\n",
       " '1.224.172.0/22',\n",
       " '1.224.176.0/22',\n",
       " '1.224.180.0/24',\n",
       " '1.224.181.0/24',\n",
       " '1.224.182.0/23',\n",
       " '1.224.184.0/23',\n",
       " '1.224.186.0/24',\n",
       " '1.224.187.0/24',\n",
       " '1.224.188.0/23',\n",
       " '1.224.190.0/23',\n",
       " '1.224.192.0/18',\n",
       " '1.225.0.0/18',\n",
       " '1.225.64.0/20',\n",
       " '1.225.80.0/21',\n",
       " '1.225.88.0/23',\n",
       " '1.225.90.0/24',\n",
       " '1.225.91.0/24',\n",
       " '1.225.92.0/22',\n",
       " '1.225.96.0/19',\n",
       " '1.225.128.0/19',\n",
       " '1.225.160.0/24',\n",
       " '1.225.161.0/24',\n",
       " '1.225.162.0/23',\n",
       " '1.225.164.0/22',\n",
       " '1.225.168.0/21',\n",
       " '1.225.176.0/20',\n",
       " '1.225.192.0/18',\n",
       " '1.226.0.0/16',\n",
       " '1.227.0.0/17',\n",
       " '1.227.128.0/19',\n",
       " '1.227.160.0/21',\n",
       " '1.227.168.0/24',\n",
       " '1.227.169.0/24',\n",
       " '1.227.170.0/23',\n",
       " '1.227.172.0/22',\n",
       " '1.227.176.0/20',\n",
       " '1.227.192.0/18',\n",
       " '1.228.0.0/15',\n",
       " '1.230.0.0/18',\n",
       " '1.230.64.0/19',\n",
       " '1.230.96.0/21',\n",
       " '1.230.104.0/24',\n",
       " '1.230.105.0/24',\n",
       " '1.230.106.0/23',\n",
       " '1.230.108.0/22',\n",
       " '1.230.112.0/21',\n",
       " '1.230.120.0/23',\n",
       " '1.230.122.0/24',\n",
       " '1.230.123.0/24',\n",
       " '1.230.124.0/22',\n",
       " '1.230.128.0/23',\n",
       " '1.230.130.0/24',\n",
       " '1.230.131.0/24',\n",
       " '1.230.132.0/22',\n",
       " '1.230.136.0/21',\n",
       " '1.230.144.0/22',\n",
       " '1.230.148.0/23',\n",
       " '1.230.150.0/23',\n",
       " '1.230.152.0/21',\n",
       " '1.230.160.0/22',\n",
       " '1.230.164.0/24',\n",
       " '1.230.165.0/24',\n",
       " '1.230.166.0/23',\n",
       " '1.230.168.0/21',\n",
       " '1.230.176.0/20',\n",
       " '1.230.192.0/22',\n",
       " '1.230.196.0/23',\n",
       " '1.230.198.0/24',\n",
       " '1.230.199.0/24',\n",
       " '1.230.200.0/23',\n",
       " '1.230.202.0/23',\n",
       " '1.230.204.0/22',\n",
       " '1.230.208.0/20',\n",
       " '1.230.224.0/19',\n",
       " '1.231.0.0/20',\n",
       " '1.231.16.0/22',\n",
       " '1.231.20.0/24',\n",
       " '1.231.21.0/24',\n",
       " '1.231.22.0/23',\n",
       " '1.231.24.0/21',\n",
       " '1.231.32.0/19',\n",
       " '1.231.64.0/18',\n",
       " '1.231.128.0/18',\n",
       " '1.231.192.0/24',\n",
       " '1.231.193.0/24',\n",
       " '1.231.194.0/23',\n",
       " '1.231.196.0/22',\n",
       " '1.231.200.0/21',\n",
       " '1.231.208.0/20',\n",
       " '1.231.224.0/19',\n",
       " '1.232.0.0/22',\n",
       " '1.232.4.0/24',\n",
       " '1.232.5.0/24',\n",
       " '1.232.6.0/23',\n",
       " '1.232.8.0/22',\n",
       " '1.232.12.0/24',\n",
       " '1.232.13.0/24',\n",
       " '1.232.14.0/23',\n",
       " '1.232.16.0/20',\n",
       " '1.232.32.0/20',\n",
       " '1.232.48.0/24',\n",
       " '1.232.49.0/24',\n",
       " '1.232.50.0/24',\n",
       " '1.232.51.0/24',\n",
       " '1.232.52.0/22',\n",
       " '1.232.56.0/21',\n",
       " '1.232.64.0/18',\n",
       " '1.232.128.0/19',\n",
       " '1.232.160.0/20',\n",
       " '1.232.176.0/21',\n",
       " '1.232.184.0/22',\n",
       " '1.232.188.0/23',\n",
       " '1.232.190.0/23',\n",
       " '1.232.192.0/18',\n",
       " '1.233.0.0/23',\n",
       " '1.233.2.0/24',\n",
       " '1.233.3.0/24',\n",
       " '1.233.4.0/22',\n",
       " '1.233.8.0/21',\n",
       " '1.233.16.0/20',\n",
       " '1.233.32.0/19',\n",
       " '1.233.64.0/18',\n",
       " '1.233.128.0/18',\n",
       " '1.233.192.0/21',\n",
       " '1.233.200.0/22',\n",
       " '1.233.204.0/23',\n",
       " '1.233.206.0/23',\n",
       " '1.233.208.0/20',\n",
       " '1.233.224.0/19',\n",
       " '1.234.0.0/19',\n",
       " '1.234.32.0/20',\n",
       " '1.234.48.0/22',\n",
       " '1.234.52.0/24',\n",
       " '1.234.53.0/24',\n",
       " '1.234.54.0/23',\n",
       " '1.234.56.0/21',\n",
       " '1.234.64.0/18',\n",
       " '1.234.128.0/17',\n",
       " '1.235.0.0/18',\n",
       " '1.235.64.0/19',\n",
       " '1.235.96.0/22',\n",
       " '1.235.100.0/24',\n",
       " '1.235.101.0/24',\n",
       " '1.235.102.0/23',\n",
       " '1.235.104.0/21',\n",
       " '1.235.112.0/20',\n",
       " '1.235.128.0/21',\n",
       " '1.235.136.0/23',\n",
       " '1.235.138.0/24',\n",
       " '1.235.139.0/24',\n",
       " '1.235.140.0/22',\n",
       " '1.235.144.0/20',\n",
       " '1.235.160.0/19',\n",
       " '1.235.192.0/24',\n",
       " '1.235.193.0/24',\n",
       " '1.235.194.0/23',\n",
       " '1.235.196.0/22',\n",
       " '1.235.200.0/21',\n",
       " '1.235.208.0/20',\n",
       " '1.235.224.0/19',\n",
       " '1.236.0.0/23',\n",
       " ...]"
      ]
     },
     "execution_count": 55,
     "metadata": {},
     "output_type": "execute_result"
    }
   ],
   "source": [
    "ipList"
   ]
  },
  {
   "cell_type": "code",
   "execution_count": 56,
   "id": "8aa2c64f",
   "metadata": {},
   "outputs": [],
   "source": [
    "def Adresse(x):\n",
    "    tmp=list(ipaddress.ip_network(df_asn_blocks_ipv4.collect()[0][0]).hosts()) \n",
    "    dictionary={x:tmp}\n",
    "    return dictionary"
   ]
  },
  {
   "cell_type": "code",
   "execution_count": 57,
   "id": "d715ad88",
   "metadata": {},
   "outputs": [],
   "source": [
    "test=map(Adresse,ipList)"
   ]
  },
  {
   "cell_type": "code",
   "execution_count": 63,
   "id": "60a6972e",
   "metadata": {
    "scrolled": true
   },
   "outputs": [
    {
     "name": "stdout",
     "output_type": "stream",
     "text": [
      "<map object at 0x7fb7b54a69a0>\n"
     ]
    }
   ],
   "source": [
    "print(test)"
   ]
  },
  {
   "cell_type": "code",
   "execution_count": 65,
   "id": "841c38ad",
   "metadata": {},
   "outputs": [
    {
     "data": {
      "text/plain": [
       "{'1.6.137.0/24': [IPv4Address('1.0.0.1'),\n",
       "  IPv4Address('1.0.0.2'),\n",
       "  IPv4Address('1.0.0.3'),\n",
       "  IPv4Address('1.0.0.4'),\n",
       "  IPv4Address('1.0.0.5'),\n",
       "  IPv4Address('1.0.0.6'),\n",
       "  IPv4Address('1.0.0.7'),\n",
       "  IPv4Address('1.0.0.8'),\n",
       "  IPv4Address('1.0.0.9'),\n",
       "  IPv4Address('1.0.0.10'),\n",
       "  IPv4Address('1.0.0.11'),\n",
       "  IPv4Address('1.0.0.12'),\n",
       "  IPv4Address('1.0.0.13'),\n",
       "  IPv4Address('1.0.0.14'),\n",
       "  IPv4Address('1.0.0.15'),\n",
       "  IPv4Address('1.0.0.16'),\n",
       "  IPv4Address('1.0.0.17'),\n",
       "  IPv4Address('1.0.0.18'),\n",
       "  IPv4Address('1.0.0.19'),\n",
       "  IPv4Address('1.0.0.20'),\n",
       "  IPv4Address('1.0.0.21'),\n",
       "  IPv4Address('1.0.0.22'),\n",
       "  IPv4Address('1.0.0.23'),\n",
       "  IPv4Address('1.0.0.24'),\n",
       "  IPv4Address('1.0.0.25'),\n",
       "  IPv4Address('1.0.0.26'),\n",
       "  IPv4Address('1.0.0.27'),\n",
       "  IPv4Address('1.0.0.28'),\n",
       "  IPv4Address('1.0.0.29'),\n",
       "  IPv4Address('1.0.0.30'),\n",
       "  IPv4Address('1.0.0.31'),\n",
       "  IPv4Address('1.0.0.32'),\n",
       "  IPv4Address('1.0.0.33'),\n",
       "  IPv4Address('1.0.0.34'),\n",
       "  IPv4Address('1.0.0.35'),\n",
       "  IPv4Address('1.0.0.36'),\n",
       "  IPv4Address('1.0.0.37'),\n",
       "  IPv4Address('1.0.0.38'),\n",
       "  IPv4Address('1.0.0.39'),\n",
       "  IPv4Address('1.0.0.40'),\n",
       "  IPv4Address('1.0.0.41'),\n",
       "  IPv4Address('1.0.0.42'),\n",
       "  IPv4Address('1.0.0.43'),\n",
       "  IPv4Address('1.0.0.44'),\n",
       "  IPv4Address('1.0.0.45'),\n",
       "  IPv4Address('1.0.0.46'),\n",
       "  IPv4Address('1.0.0.47'),\n",
       "  IPv4Address('1.0.0.48'),\n",
       "  IPv4Address('1.0.0.49'),\n",
       "  IPv4Address('1.0.0.50'),\n",
       "  IPv4Address('1.0.0.51'),\n",
       "  IPv4Address('1.0.0.52'),\n",
       "  IPv4Address('1.0.0.53'),\n",
       "  IPv4Address('1.0.0.54'),\n",
       "  IPv4Address('1.0.0.55'),\n",
       "  IPv4Address('1.0.0.56'),\n",
       "  IPv4Address('1.0.0.57'),\n",
       "  IPv4Address('1.0.0.58'),\n",
       "  IPv4Address('1.0.0.59'),\n",
       "  IPv4Address('1.0.0.60'),\n",
       "  IPv4Address('1.0.0.61'),\n",
       "  IPv4Address('1.0.0.62'),\n",
       "  IPv4Address('1.0.0.63'),\n",
       "  IPv4Address('1.0.0.64'),\n",
       "  IPv4Address('1.0.0.65'),\n",
       "  IPv4Address('1.0.0.66'),\n",
       "  IPv4Address('1.0.0.67'),\n",
       "  IPv4Address('1.0.0.68'),\n",
       "  IPv4Address('1.0.0.69'),\n",
       "  IPv4Address('1.0.0.70'),\n",
       "  IPv4Address('1.0.0.71'),\n",
       "  IPv4Address('1.0.0.72'),\n",
       "  IPv4Address('1.0.0.73'),\n",
       "  IPv4Address('1.0.0.74'),\n",
       "  IPv4Address('1.0.0.75'),\n",
       "  IPv4Address('1.0.0.76'),\n",
       "  IPv4Address('1.0.0.77'),\n",
       "  IPv4Address('1.0.0.78'),\n",
       "  IPv4Address('1.0.0.79'),\n",
       "  IPv4Address('1.0.0.80'),\n",
       "  IPv4Address('1.0.0.81'),\n",
       "  IPv4Address('1.0.0.82'),\n",
       "  IPv4Address('1.0.0.83'),\n",
       "  IPv4Address('1.0.0.84'),\n",
       "  IPv4Address('1.0.0.85'),\n",
       "  IPv4Address('1.0.0.86'),\n",
       "  IPv4Address('1.0.0.87'),\n",
       "  IPv4Address('1.0.0.88'),\n",
       "  IPv4Address('1.0.0.89'),\n",
       "  IPv4Address('1.0.0.90'),\n",
       "  IPv4Address('1.0.0.91'),\n",
       "  IPv4Address('1.0.0.92'),\n",
       "  IPv4Address('1.0.0.93'),\n",
       "  IPv4Address('1.0.0.94'),\n",
       "  IPv4Address('1.0.0.95'),\n",
       "  IPv4Address('1.0.0.96'),\n",
       "  IPv4Address('1.0.0.97'),\n",
       "  IPv4Address('1.0.0.98'),\n",
       "  IPv4Address('1.0.0.99'),\n",
       "  IPv4Address('1.0.0.100'),\n",
       "  IPv4Address('1.0.0.101'),\n",
       "  IPv4Address('1.0.0.102'),\n",
       "  IPv4Address('1.0.0.103'),\n",
       "  IPv4Address('1.0.0.104'),\n",
       "  IPv4Address('1.0.0.105'),\n",
       "  IPv4Address('1.0.0.106'),\n",
       "  IPv4Address('1.0.0.107'),\n",
       "  IPv4Address('1.0.0.108'),\n",
       "  IPv4Address('1.0.0.109'),\n",
       "  IPv4Address('1.0.0.110'),\n",
       "  IPv4Address('1.0.0.111'),\n",
       "  IPv4Address('1.0.0.112'),\n",
       "  IPv4Address('1.0.0.113'),\n",
       "  IPv4Address('1.0.0.114'),\n",
       "  IPv4Address('1.0.0.115'),\n",
       "  IPv4Address('1.0.0.116'),\n",
       "  IPv4Address('1.0.0.117'),\n",
       "  IPv4Address('1.0.0.118'),\n",
       "  IPv4Address('1.0.0.119'),\n",
       "  IPv4Address('1.0.0.120'),\n",
       "  IPv4Address('1.0.0.121'),\n",
       "  IPv4Address('1.0.0.122'),\n",
       "  IPv4Address('1.0.0.123'),\n",
       "  IPv4Address('1.0.0.124'),\n",
       "  IPv4Address('1.0.0.125'),\n",
       "  IPv4Address('1.0.0.126'),\n",
       "  IPv4Address('1.0.0.127'),\n",
       "  IPv4Address('1.0.0.128'),\n",
       "  IPv4Address('1.0.0.129'),\n",
       "  IPv4Address('1.0.0.130'),\n",
       "  IPv4Address('1.0.0.131'),\n",
       "  IPv4Address('1.0.0.132'),\n",
       "  IPv4Address('1.0.0.133'),\n",
       "  IPv4Address('1.0.0.134'),\n",
       "  IPv4Address('1.0.0.135'),\n",
       "  IPv4Address('1.0.0.136'),\n",
       "  IPv4Address('1.0.0.137'),\n",
       "  IPv4Address('1.0.0.138'),\n",
       "  IPv4Address('1.0.0.139'),\n",
       "  IPv4Address('1.0.0.140'),\n",
       "  IPv4Address('1.0.0.141'),\n",
       "  IPv4Address('1.0.0.142'),\n",
       "  IPv4Address('1.0.0.143'),\n",
       "  IPv4Address('1.0.0.144'),\n",
       "  IPv4Address('1.0.0.145'),\n",
       "  IPv4Address('1.0.0.146'),\n",
       "  IPv4Address('1.0.0.147'),\n",
       "  IPv4Address('1.0.0.148'),\n",
       "  IPv4Address('1.0.0.149'),\n",
       "  IPv4Address('1.0.0.150'),\n",
       "  IPv4Address('1.0.0.151'),\n",
       "  IPv4Address('1.0.0.152'),\n",
       "  IPv4Address('1.0.0.153'),\n",
       "  IPv4Address('1.0.0.154'),\n",
       "  IPv4Address('1.0.0.155'),\n",
       "  IPv4Address('1.0.0.156'),\n",
       "  IPv4Address('1.0.0.157'),\n",
       "  IPv4Address('1.0.0.158'),\n",
       "  IPv4Address('1.0.0.159'),\n",
       "  IPv4Address('1.0.0.160'),\n",
       "  IPv4Address('1.0.0.161'),\n",
       "  IPv4Address('1.0.0.162'),\n",
       "  IPv4Address('1.0.0.163'),\n",
       "  IPv4Address('1.0.0.164'),\n",
       "  IPv4Address('1.0.0.165'),\n",
       "  IPv4Address('1.0.0.166'),\n",
       "  IPv4Address('1.0.0.167'),\n",
       "  IPv4Address('1.0.0.168'),\n",
       "  IPv4Address('1.0.0.169'),\n",
       "  IPv4Address('1.0.0.170'),\n",
       "  IPv4Address('1.0.0.171'),\n",
       "  IPv4Address('1.0.0.172'),\n",
       "  IPv4Address('1.0.0.173'),\n",
       "  IPv4Address('1.0.0.174'),\n",
       "  IPv4Address('1.0.0.175'),\n",
       "  IPv4Address('1.0.0.176'),\n",
       "  IPv4Address('1.0.0.177'),\n",
       "  IPv4Address('1.0.0.178'),\n",
       "  IPv4Address('1.0.0.179'),\n",
       "  IPv4Address('1.0.0.180'),\n",
       "  IPv4Address('1.0.0.181'),\n",
       "  IPv4Address('1.0.0.182'),\n",
       "  IPv4Address('1.0.0.183'),\n",
       "  IPv4Address('1.0.0.184'),\n",
       "  IPv4Address('1.0.0.185'),\n",
       "  IPv4Address('1.0.0.186'),\n",
       "  IPv4Address('1.0.0.187'),\n",
       "  IPv4Address('1.0.0.188'),\n",
       "  IPv4Address('1.0.0.189'),\n",
       "  IPv4Address('1.0.0.190'),\n",
       "  IPv4Address('1.0.0.191'),\n",
       "  IPv4Address('1.0.0.192'),\n",
       "  IPv4Address('1.0.0.193'),\n",
       "  IPv4Address('1.0.0.194'),\n",
       "  IPv4Address('1.0.0.195'),\n",
       "  IPv4Address('1.0.0.196'),\n",
       "  IPv4Address('1.0.0.197'),\n",
       "  IPv4Address('1.0.0.198'),\n",
       "  IPv4Address('1.0.0.199'),\n",
       "  IPv4Address('1.0.0.200'),\n",
       "  IPv4Address('1.0.0.201'),\n",
       "  IPv4Address('1.0.0.202'),\n",
       "  IPv4Address('1.0.0.203'),\n",
       "  IPv4Address('1.0.0.204'),\n",
       "  IPv4Address('1.0.0.205'),\n",
       "  IPv4Address('1.0.0.206'),\n",
       "  IPv4Address('1.0.0.207'),\n",
       "  IPv4Address('1.0.0.208'),\n",
       "  IPv4Address('1.0.0.209'),\n",
       "  IPv4Address('1.0.0.210'),\n",
       "  IPv4Address('1.0.0.211'),\n",
       "  IPv4Address('1.0.0.212'),\n",
       "  IPv4Address('1.0.0.213'),\n",
       "  IPv4Address('1.0.0.214'),\n",
       "  IPv4Address('1.0.0.215'),\n",
       "  IPv4Address('1.0.0.216'),\n",
       "  IPv4Address('1.0.0.217'),\n",
       "  IPv4Address('1.0.0.218'),\n",
       "  IPv4Address('1.0.0.219'),\n",
       "  IPv4Address('1.0.0.220'),\n",
       "  IPv4Address('1.0.0.221'),\n",
       "  IPv4Address('1.0.0.222'),\n",
       "  IPv4Address('1.0.0.223'),\n",
       "  IPv4Address('1.0.0.224'),\n",
       "  IPv4Address('1.0.0.225'),\n",
       "  IPv4Address('1.0.0.226'),\n",
       "  IPv4Address('1.0.0.227'),\n",
       "  IPv4Address('1.0.0.228'),\n",
       "  IPv4Address('1.0.0.229'),\n",
       "  IPv4Address('1.0.0.230'),\n",
       "  IPv4Address('1.0.0.231'),\n",
       "  IPv4Address('1.0.0.232'),\n",
       "  IPv4Address('1.0.0.233'),\n",
       "  IPv4Address('1.0.0.234'),\n",
       "  IPv4Address('1.0.0.235'),\n",
       "  IPv4Address('1.0.0.236'),\n",
       "  IPv4Address('1.0.0.237'),\n",
       "  IPv4Address('1.0.0.238'),\n",
       "  IPv4Address('1.0.0.239'),\n",
       "  IPv4Address('1.0.0.240'),\n",
       "  IPv4Address('1.0.0.241'),\n",
       "  IPv4Address('1.0.0.242'),\n",
       "  IPv4Address('1.0.0.243'),\n",
       "  IPv4Address('1.0.0.244'),\n",
       "  IPv4Address('1.0.0.245'),\n",
       "  IPv4Address('1.0.0.246'),\n",
       "  IPv4Address('1.0.0.247'),\n",
       "  IPv4Address('1.0.0.248'),\n",
       "  IPv4Address('1.0.0.249'),\n",
       "  IPv4Address('1.0.0.250'),\n",
       "  IPv4Address('1.0.0.251'),\n",
       "  IPv4Address('1.0.0.252'),\n",
       "  IPv4Address('1.0.0.253'),\n",
       "  IPv4Address('1.0.0.254')]}"
      ]
     },
     "execution_count": 65,
     "metadata": {},
     "output_type": "execute_result"
    }
   ],
   "source": [
    "next(test)"
   ]
  },
  {
   "cell_type": "code",
   "execution_count": 52,
   "id": "d4d24fcf",
   "metadata": {
    "scrolled": true
   },
   "outputs": [
    {
     "data": {
      "text/plain": [
       "False"
      ]
     },
     "execution_count": 52,
     "metadata": {},
     "output_type": "execute_result"
    }
   ],
   "source": [
    "#ipaddress.IPv4Address('192.168.1.1') in ipaddress.IPv4Network('192.168.0.0/24')\n",
    "#ipaddress.IPv4Address('127.0.0.1') in ipaddress.IPv4Network('192.168.0.0/16')"
   ]
  },
  {
   "cell_type": "code",
   "execution_count": 60,
   "id": "3fac3d09",
   "metadata": {},
   "outputs": [
    {
     "data": {
      "text/plain": [
       "'1.0.0.0/24'"
      ]
     },
     "execution_count": 60,
     "metadata": {},
     "output_type": "execute_result"
    }
   ],
   "source": [
    "#df_asn_blocks_ipv4.collect()[0][0]"
   ]
  },
  {
   "cell_type": "code",
   "execution_count": 61,
   "id": "818895ef",
   "metadata": {},
   "outputs": [
    {
     "data": {
      "text/plain": [
       "[IPv4Address('1.0.0.1'),\n",
       " IPv4Address('1.0.0.2'),\n",
       " IPv4Address('1.0.0.3'),\n",
       " IPv4Address('1.0.0.4'),\n",
       " IPv4Address('1.0.0.5'),\n",
       " IPv4Address('1.0.0.6'),\n",
       " IPv4Address('1.0.0.7'),\n",
       " IPv4Address('1.0.0.8'),\n",
       " IPv4Address('1.0.0.9'),\n",
       " IPv4Address('1.0.0.10'),\n",
       " IPv4Address('1.0.0.11'),\n",
       " IPv4Address('1.0.0.12'),\n",
       " IPv4Address('1.0.0.13'),\n",
       " IPv4Address('1.0.0.14'),\n",
       " IPv4Address('1.0.0.15'),\n",
       " IPv4Address('1.0.0.16'),\n",
       " IPv4Address('1.0.0.17'),\n",
       " IPv4Address('1.0.0.18'),\n",
       " IPv4Address('1.0.0.19'),\n",
       " IPv4Address('1.0.0.20'),\n",
       " IPv4Address('1.0.0.21'),\n",
       " IPv4Address('1.0.0.22'),\n",
       " IPv4Address('1.0.0.23'),\n",
       " IPv4Address('1.0.0.24'),\n",
       " IPv4Address('1.0.0.25'),\n",
       " IPv4Address('1.0.0.26'),\n",
       " IPv4Address('1.0.0.27'),\n",
       " IPv4Address('1.0.0.28'),\n",
       " IPv4Address('1.0.0.29'),\n",
       " IPv4Address('1.0.0.30'),\n",
       " IPv4Address('1.0.0.31'),\n",
       " IPv4Address('1.0.0.32'),\n",
       " IPv4Address('1.0.0.33'),\n",
       " IPv4Address('1.0.0.34'),\n",
       " IPv4Address('1.0.0.35'),\n",
       " IPv4Address('1.0.0.36'),\n",
       " IPv4Address('1.0.0.37'),\n",
       " IPv4Address('1.0.0.38'),\n",
       " IPv4Address('1.0.0.39'),\n",
       " IPv4Address('1.0.0.40'),\n",
       " IPv4Address('1.0.0.41'),\n",
       " IPv4Address('1.0.0.42'),\n",
       " IPv4Address('1.0.0.43'),\n",
       " IPv4Address('1.0.0.44'),\n",
       " IPv4Address('1.0.0.45'),\n",
       " IPv4Address('1.0.0.46'),\n",
       " IPv4Address('1.0.0.47'),\n",
       " IPv4Address('1.0.0.48'),\n",
       " IPv4Address('1.0.0.49'),\n",
       " IPv4Address('1.0.0.50'),\n",
       " IPv4Address('1.0.0.51'),\n",
       " IPv4Address('1.0.0.52'),\n",
       " IPv4Address('1.0.0.53'),\n",
       " IPv4Address('1.0.0.54'),\n",
       " IPv4Address('1.0.0.55'),\n",
       " IPv4Address('1.0.0.56'),\n",
       " IPv4Address('1.0.0.57'),\n",
       " IPv4Address('1.0.0.58'),\n",
       " IPv4Address('1.0.0.59'),\n",
       " IPv4Address('1.0.0.60'),\n",
       " IPv4Address('1.0.0.61'),\n",
       " IPv4Address('1.0.0.62'),\n",
       " IPv4Address('1.0.0.63'),\n",
       " IPv4Address('1.0.0.64'),\n",
       " IPv4Address('1.0.0.65'),\n",
       " IPv4Address('1.0.0.66'),\n",
       " IPv4Address('1.0.0.67'),\n",
       " IPv4Address('1.0.0.68'),\n",
       " IPv4Address('1.0.0.69'),\n",
       " IPv4Address('1.0.0.70'),\n",
       " IPv4Address('1.0.0.71'),\n",
       " IPv4Address('1.0.0.72'),\n",
       " IPv4Address('1.0.0.73'),\n",
       " IPv4Address('1.0.0.74'),\n",
       " IPv4Address('1.0.0.75'),\n",
       " IPv4Address('1.0.0.76'),\n",
       " IPv4Address('1.0.0.77'),\n",
       " IPv4Address('1.0.0.78'),\n",
       " IPv4Address('1.0.0.79'),\n",
       " IPv4Address('1.0.0.80'),\n",
       " IPv4Address('1.0.0.81'),\n",
       " IPv4Address('1.0.0.82'),\n",
       " IPv4Address('1.0.0.83'),\n",
       " IPv4Address('1.0.0.84'),\n",
       " IPv4Address('1.0.0.85'),\n",
       " IPv4Address('1.0.0.86'),\n",
       " IPv4Address('1.0.0.87'),\n",
       " IPv4Address('1.0.0.88'),\n",
       " IPv4Address('1.0.0.89'),\n",
       " IPv4Address('1.0.0.90'),\n",
       " IPv4Address('1.0.0.91'),\n",
       " IPv4Address('1.0.0.92'),\n",
       " IPv4Address('1.0.0.93'),\n",
       " IPv4Address('1.0.0.94'),\n",
       " IPv4Address('1.0.0.95'),\n",
       " IPv4Address('1.0.0.96'),\n",
       " IPv4Address('1.0.0.97'),\n",
       " IPv4Address('1.0.0.98'),\n",
       " IPv4Address('1.0.0.99'),\n",
       " IPv4Address('1.0.0.100'),\n",
       " IPv4Address('1.0.0.101'),\n",
       " IPv4Address('1.0.0.102'),\n",
       " IPv4Address('1.0.0.103'),\n",
       " IPv4Address('1.0.0.104'),\n",
       " IPv4Address('1.0.0.105'),\n",
       " IPv4Address('1.0.0.106'),\n",
       " IPv4Address('1.0.0.107'),\n",
       " IPv4Address('1.0.0.108'),\n",
       " IPv4Address('1.0.0.109'),\n",
       " IPv4Address('1.0.0.110'),\n",
       " IPv4Address('1.0.0.111'),\n",
       " IPv4Address('1.0.0.112'),\n",
       " IPv4Address('1.0.0.113'),\n",
       " IPv4Address('1.0.0.114'),\n",
       " IPv4Address('1.0.0.115'),\n",
       " IPv4Address('1.0.0.116'),\n",
       " IPv4Address('1.0.0.117'),\n",
       " IPv4Address('1.0.0.118'),\n",
       " IPv4Address('1.0.0.119'),\n",
       " IPv4Address('1.0.0.120'),\n",
       " IPv4Address('1.0.0.121'),\n",
       " IPv4Address('1.0.0.122'),\n",
       " IPv4Address('1.0.0.123'),\n",
       " IPv4Address('1.0.0.124'),\n",
       " IPv4Address('1.0.0.125'),\n",
       " IPv4Address('1.0.0.126'),\n",
       " IPv4Address('1.0.0.127'),\n",
       " IPv4Address('1.0.0.128'),\n",
       " IPv4Address('1.0.0.129'),\n",
       " IPv4Address('1.0.0.130'),\n",
       " IPv4Address('1.0.0.131'),\n",
       " IPv4Address('1.0.0.132'),\n",
       " IPv4Address('1.0.0.133'),\n",
       " IPv4Address('1.0.0.134'),\n",
       " IPv4Address('1.0.0.135'),\n",
       " IPv4Address('1.0.0.136'),\n",
       " IPv4Address('1.0.0.137'),\n",
       " IPv4Address('1.0.0.138'),\n",
       " IPv4Address('1.0.0.139'),\n",
       " IPv4Address('1.0.0.140'),\n",
       " IPv4Address('1.0.0.141'),\n",
       " IPv4Address('1.0.0.142'),\n",
       " IPv4Address('1.0.0.143'),\n",
       " IPv4Address('1.0.0.144'),\n",
       " IPv4Address('1.0.0.145'),\n",
       " IPv4Address('1.0.0.146'),\n",
       " IPv4Address('1.0.0.147'),\n",
       " IPv4Address('1.0.0.148'),\n",
       " IPv4Address('1.0.0.149'),\n",
       " IPv4Address('1.0.0.150'),\n",
       " IPv4Address('1.0.0.151'),\n",
       " IPv4Address('1.0.0.152'),\n",
       " IPv4Address('1.0.0.153'),\n",
       " IPv4Address('1.0.0.154'),\n",
       " IPv4Address('1.0.0.155'),\n",
       " IPv4Address('1.0.0.156'),\n",
       " IPv4Address('1.0.0.157'),\n",
       " IPv4Address('1.0.0.158'),\n",
       " IPv4Address('1.0.0.159'),\n",
       " IPv4Address('1.0.0.160'),\n",
       " IPv4Address('1.0.0.161'),\n",
       " IPv4Address('1.0.0.162'),\n",
       " IPv4Address('1.0.0.163'),\n",
       " IPv4Address('1.0.0.164'),\n",
       " IPv4Address('1.0.0.165'),\n",
       " IPv4Address('1.0.0.166'),\n",
       " IPv4Address('1.0.0.167'),\n",
       " IPv4Address('1.0.0.168'),\n",
       " IPv4Address('1.0.0.169'),\n",
       " IPv4Address('1.0.0.170'),\n",
       " IPv4Address('1.0.0.171'),\n",
       " IPv4Address('1.0.0.172'),\n",
       " IPv4Address('1.0.0.173'),\n",
       " IPv4Address('1.0.0.174'),\n",
       " IPv4Address('1.0.0.175'),\n",
       " IPv4Address('1.0.0.176'),\n",
       " IPv4Address('1.0.0.177'),\n",
       " IPv4Address('1.0.0.178'),\n",
       " IPv4Address('1.0.0.179'),\n",
       " IPv4Address('1.0.0.180'),\n",
       " IPv4Address('1.0.0.181'),\n",
       " IPv4Address('1.0.0.182'),\n",
       " IPv4Address('1.0.0.183'),\n",
       " IPv4Address('1.0.0.184'),\n",
       " IPv4Address('1.0.0.185'),\n",
       " IPv4Address('1.0.0.186'),\n",
       " IPv4Address('1.0.0.187'),\n",
       " IPv4Address('1.0.0.188'),\n",
       " IPv4Address('1.0.0.189'),\n",
       " IPv4Address('1.0.0.190'),\n",
       " IPv4Address('1.0.0.191'),\n",
       " IPv4Address('1.0.0.192'),\n",
       " IPv4Address('1.0.0.193'),\n",
       " IPv4Address('1.0.0.194'),\n",
       " IPv4Address('1.0.0.195'),\n",
       " IPv4Address('1.0.0.196'),\n",
       " IPv4Address('1.0.0.197'),\n",
       " IPv4Address('1.0.0.198'),\n",
       " IPv4Address('1.0.0.199'),\n",
       " IPv4Address('1.0.0.200'),\n",
       " IPv4Address('1.0.0.201'),\n",
       " IPv4Address('1.0.0.202'),\n",
       " IPv4Address('1.0.0.203'),\n",
       " IPv4Address('1.0.0.204'),\n",
       " IPv4Address('1.0.0.205'),\n",
       " IPv4Address('1.0.0.206'),\n",
       " IPv4Address('1.0.0.207'),\n",
       " IPv4Address('1.0.0.208'),\n",
       " IPv4Address('1.0.0.209'),\n",
       " IPv4Address('1.0.0.210'),\n",
       " IPv4Address('1.0.0.211'),\n",
       " IPv4Address('1.0.0.212'),\n",
       " IPv4Address('1.0.0.213'),\n",
       " IPv4Address('1.0.0.214'),\n",
       " IPv4Address('1.0.0.215'),\n",
       " IPv4Address('1.0.0.216'),\n",
       " IPv4Address('1.0.0.217'),\n",
       " IPv4Address('1.0.0.218'),\n",
       " IPv4Address('1.0.0.219'),\n",
       " IPv4Address('1.0.0.220'),\n",
       " IPv4Address('1.0.0.221'),\n",
       " IPv4Address('1.0.0.222'),\n",
       " IPv4Address('1.0.0.223'),\n",
       " IPv4Address('1.0.0.224'),\n",
       " IPv4Address('1.0.0.225'),\n",
       " IPv4Address('1.0.0.226'),\n",
       " IPv4Address('1.0.0.227'),\n",
       " IPv4Address('1.0.0.228'),\n",
       " IPv4Address('1.0.0.229'),\n",
       " IPv4Address('1.0.0.230'),\n",
       " IPv4Address('1.0.0.231'),\n",
       " IPv4Address('1.0.0.232'),\n",
       " IPv4Address('1.0.0.233'),\n",
       " IPv4Address('1.0.0.234'),\n",
       " IPv4Address('1.0.0.235'),\n",
       " IPv4Address('1.0.0.236'),\n",
       " IPv4Address('1.0.0.237'),\n",
       " IPv4Address('1.0.0.238'),\n",
       " IPv4Address('1.0.0.239'),\n",
       " IPv4Address('1.0.0.240'),\n",
       " IPv4Address('1.0.0.241'),\n",
       " IPv4Address('1.0.0.242'),\n",
       " IPv4Address('1.0.0.243'),\n",
       " IPv4Address('1.0.0.244'),\n",
       " IPv4Address('1.0.0.245'),\n",
       " IPv4Address('1.0.0.246'),\n",
       " IPv4Address('1.0.0.247'),\n",
       " IPv4Address('1.0.0.248'),\n",
       " IPv4Address('1.0.0.249'),\n",
       " IPv4Address('1.0.0.250'),\n",
       " IPv4Address('1.0.0.251'),\n",
       " IPv4Address('1.0.0.252'),\n",
       " IPv4Address('1.0.0.253'),\n",
       " IPv4Address('1.0.0.254')]"
      ]
     },
     "execution_count": 61,
     "metadata": {},
     "output_type": "execute_result"
    }
   ],
   "source": [
    "#list(ipaddress.ip_network(df_asn_blocks_ipv4.collect()[0][0]).hosts()) "
   ]
  },
  {
   "cell_type": "markdown",
   "id": "f08b0b04",
   "metadata": {},
   "source": [
    "# Neue Spalte Ip-Adresse in df_asn_blocks_ipv4 hinzufügen"
   ]
  },
  {
   "cell_type": "code",
   "execution_count": 56,
   "id": "af4c74c6",
   "metadata": {},
   "outputs": [
    {
     "ename": "Py4JJavaError",
     "evalue": "An error occurred while calling z:org.apache.spark.api.python.PythonRDD.runJob.\n: org.apache.spark.SparkException: Job aborted due to stage failure: Task 0 in stage 54.0 failed 1 times, most recent failure: Lost task 0.0 in stage 54.0 (TID 1603) (3867a9a258dd executor driver): org.apache.spark.api.python.PythonException: Traceback (most recent call last):\n  File \"/usr/local/spark/python/lib/pyspark.zip/pyspark/worker.py\", line 604, in main\n    process()\n  File \"/usr/local/spark/python/lib/pyspark.zip/pyspark/worker.py\", line 596, in process\n    serializer.dump_stream(out_iter, outfile)\n  File \"/usr/local/spark/python/lib/pyspark.zip/pyspark/serializers.py\", line 259, in dump_stream\n    vs = list(itertools.islice(iterator, batch))\n  File \"/usr/local/spark/python/pyspark/rdd.py\", line 1560, in takeUpToNumLeft\n    yield next(iterator)\n  File \"/usr/local/spark/python/lib/pyspark.zip/pyspark/util.py\", line 73, in wrapper\n    return f(*args, **kwargs)\n  File \"<ipython-input-56-4c777dd2d563>\", line 1, in <lambda>\n  File \"/opt/conda/lib/python3.9/ipaddress.py\", line 83, in ip_network\n    raise ValueError('%r does not appear to be an IPv4 or IPv6 network' %\nValueError: '1.0.0.0/24' does not appear to be an IPv4 or IPv6 network\n\n\tat org.apache.spark.api.python.BasePythonRunner$ReaderIterator.handlePythonException(PythonRunner.scala:517)\n\tat org.apache.spark.api.python.PythonRunner$$anon$3.read(PythonRunner.scala:652)\n\tat org.apache.spark.api.python.PythonRunner$$anon$3.read(PythonRunner.scala:635)\n\tat org.apache.spark.api.python.BasePythonRunner$ReaderIterator.hasNext(PythonRunner.scala:470)\n\tat org.apache.spark.InterruptibleIterator.hasNext(InterruptibleIterator.scala:37)\n\tat scala.collection.Iterator.foreach(Iterator.scala:941)\n\tat scala.collection.Iterator.foreach$(Iterator.scala:941)\n\tat org.apache.spark.InterruptibleIterator.foreach(InterruptibleIterator.scala:28)\n\tat scala.collection.generic.Growable.$plus$plus$eq(Growable.scala:62)\n\tat scala.collection.generic.Growable.$plus$plus$eq$(Growable.scala:53)\n\tat scala.collection.mutable.ArrayBuffer.$plus$plus$eq(ArrayBuffer.scala:105)\n\tat scala.collection.mutable.ArrayBuffer.$plus$plus$eq(ArrayBuffer.scala:49)\n\tat scala.collection.TraversableOnce.to(TraversableOnce.scala:315)\n\tat scala.collection.TraversableOnce.to$(TraversableOnce.scala:313)\n\tat org.apache.spark.InterruptibleIterator.to(InterruptibleIterator.scala:28)\n\tat scala.collection.TraversableOnce.toBuffer(TraversableOnce.scala:307)\n\tat scala.collection.TraversableOnce.toBuffer$(TraversableOnce.scala:307)\n\tat org.apache.spark.InterruptibleIterator.toBuffer(InterruptibleIterator.scala:28)\n\tat scala.collection.TraversableOnce.toArray(TraversableOnce.scala:294)\n\tat scala.collection.TraversableOnce.toArray$(TraversableOnce.scala:288)\n\tat org.apache.spark.InterruptibleIterator.toArray(InterruptibleIterator.scala:28)\n\tat org.apache.spark.api.python.PythonRDD$.$anonfun$runJob$1(PythonRDD.scala:166)\n\tat org.apache.spark.SparkContext.$anonfun$runJob$5(SparkContext.scala:2236)\n\tat org.apache.spark.scheduler.ResultTask.runTask(ResultTask.scala:90)\n\tat org.apache.spark.scheduler.Task.run(Task.scala:131)\n\tat org.apache.spark.executor.Executor$TaskRunner.$anonfun$run$3(Executor.scala:497)\n\tat org.apache.spark.util.Utils$.tryWithSafeFinally(Utils.scala:1439)\n\tat org.apache.spark.executor.Executor$TaskRunner.run(Executor.scala:500)\n\tat java.base/java.util.concurrent.ThreadPoolExecutor.runWorker(ThreadPoolExecutor.java:1128)\n\tat java.base/java.util.concurrent.ThreadPoolExecutor$Worker.run(ThreadPoolExecutor.java:628)\n\tat java.base/java.lang.Thread.run(Thread.java:829)\n\nDriver stacktrace:\n\tat org.apache.spark.scheduler.DAGScheduler.failJobAndIndependentStages(DAGScheduler.scala:2258)\n\tat org.apache.spark.scheduler.DAGScheduler.$anonfun$abortStage$2(DAGScheduler.scala:2207)\n\tat org.apache.spark.scheduler.DAGScheduler.$anonfun$abortStage$2$adapted(DAGScheduler.scala:2206)\n\tat scala.collection.mutable.ResizableArray.foreach(ResizableArray.scala:62)\n\tat scala.collection.mutable.ResizableArray.foreach$(ResizableArray.scala:55)\n\tat scala.collection.mutable.ArrayBuffer.foreach(ArrayBuffer.scala:49)\n\tat org.apache.spark.scheduler.DAGScheduler.abortStage(DAGScheduler.scala:2206)\n\tat org.apache.spark.scheduler.DAGScheduler.$anonfun$handleTaskSetFailed$1(DAGScheduler.scala:1079)\n\tat org.apache.spark.scheduler.DAGScheduler.$anonfun$handleTaskSetFailed$1$adapted(DAGScheduler.scala:1079)\n\tat scala.Option.foreach(Option.scala:407)\n\tat org.apache.spark.scheduler.DAGScheduler.handleTaskSetFailed(DAGScheduler.scala:1079)\n\tat org.apache.spark.scheduler.DAGSchedulerEventProcessLoop.doOnReceive(DAGScheduler.scala:2445)\n\tat org.apache.spark.scheduler.DAGSchedulerEventProcessLoop.onReceive(DAGScheduler.scala:2387)\n\tat org.apache.spark.scheduler.DAGSchedulerEventProcessLoop.onReceive(DAGScheduler.scala:2376)\n\tat org.apache.spark.util.EventLoop$$anon$1.run(EventLoop.scala:49)\n\tat org.apache.spark.scheduler.DAGScheduler.runJob(DAGScheduler.scala:868)\n\tat org.apache.spark.SparkContext.runJob(SparkContext.scala:2196)\n\tat org.apache.spark.SparkContext.runJob(SparkContext.scala:2217)\n\tat org.apache.spark.SparkContext.runJob(SparkContext.scala:2236)\n\tat org.apache.spark.api.python.PythonRDD$.runJob(PythonRDD.scala:166)\n\tat org.apache.spark.api.python.PythonRDD.runJob(PythonRDD.scala)\n\tat java.base/jdk.internal.reflect.NativeMethodAccessorImpl.invoke0(Native Method)\n\tat java.base/jdk.internal.reflect.NativeMethodAccessorImpl.invoke(NativeMethodAccessorImpl.java:62)\n\tat java.base/jdk.internal.reflect.DelegatingMethodAccessorImpl.invoke(DelegatingMethodAccessorImpl.java:43)\n\tat java.base/java.lang.reflect.Method.invoke(Method.java:566)\n\tat py4j.reflection.MethodInvoker.invoke(MethodInvoker.java:244)\n\tat py4j.reflection.ReflectionEngine.invoke(ReflectionEngine.java:357)\n\tat py4j.Gateway.invoke(Gateway.java:282)\n\tat py4j.commands.AbstractCommand.invokeMethod(AbstractCommand.java:132)\n\tat py4j.commands.CallCommand.execute(CallCommand.java:79)\n\tat py4j.GatewayConnection.run(GatewayConnection.java:238)\n\tat java.base/java.lang.Thread.run(Thread.java:829)\nCaused by: org.apache.spark.api.python.PythonException: Traceback (most recent call last):\n  File \"/usr/local/spark/python/lib/pyspark.zip/pyspark/worker.py\", line 604, in main\n    process()\n  File \"/usr/local/spark/python/lib/pyspark.zip/pyspark/worker.py\", line 596, in process\n    serializer.dump_stream(out_iter, outfile)\n  File \"/usr/local/spark/python/lib/pyspark.zip/pyspark/serializers.py\", line 259, in dump_stream\n    vs = list(itertools.islice(iterator, batch))\n  File \"/usr/local/spark/python/pyspark/rdd.py\", line 1560, in takeUpToNumLeft\n    yield next(iterator)\n  File \"/usr/local/spark/python/lib/pyspark.zip/pyspark/util.py\", line 73, in wrapper\n    return f(*args, **kwargs)\n  File \"<ipython-input-56-4c777dd2d563>\", line 1, in <lambda>\n  File \"/opt/conda/lib/python3.9/ipaddress.py\", line 83, in ip_network\n    raise ValueError('%r does not appear to be an IPv4 or IPv6 network' %\nValueError: '1.0.0.0/24' does not appear to be an IPv4 or IPv6 network\n\n\tat org.apache.spark.api.python.BasePythonRunner$ReaderIterator.handlePythonException(PythonRunner.scala:517)\n\tat org.apache.spark.api.python.PythonRunner$$anon$3.read(PythonRunner.scala:652)\n\tat org.apache.spark.api.python.PythonRunner$$anon$3.read(PythonRunner.scala:635)\n\tat org.apache.spark.api.python.BasePythonRunner$ReaderIterator.hasNext(PythonRunner.scala:470)\n\tat org.apache.spark.InterruptibleIterator.hasNext(InterruptibleIterator.scala:37)\n\tat scala.collection.Iterator.foreach(Iterator.scala:941)\n\tat scala.collection.Iterator.foreach$(Iterator.scala:941)\n\tat org.apache.spark.InterruptibleIterator.foreach(InterruptibleIterator.scala:28)\n\tat scala.collection.generic.Growable.$plus$plus$eq(Growable.scala:62)\n\tat scala.collection.generic.Growable.$plus$plus$eq$(Growable.scala:53)\n\tat scala.collection.mutable.ArrayBuffer.$plus$plus$eq(ArrayBuffer.scala:105)\n\tat scala.collection.mutable.ArrayBuffer.$plus$plus$eq(ArrayBuffer.scala:49)\n\tat scala.collection.TraversableOnce.to(TraversableOnce.scala:315)\n\tat scala.collection.TraversableOnce.to$(TraversableOnce.scala:313)\n\tat org.apache.spark.InterruptibleIterator.to(InterruptibleIterator.scala:28)\n\tat scala.collection.TraversableOnce.toBuffer(TraversableOnce.scala:307)\n\tat scala.collection.TraversableOnce.toBuffer$(TraversableOnce.scala:307)\n\tat org.apache.spark.InterruptibleIterator.toBuffer(InterruptibleIterator.scala:28)\n\tat scala.collection.TraversableOnce.toArray(TraversableOnce.scala:294)\n\tat scala.collection.TraversableOnce.toArray$(TraversableOnce.scala:288)\n\tat org.apache.spark.InterruptibleIterator.toArray(InterruptibleIterator.scala:28)\n\tat org.apache.spark.api.python.PythonRDD$.$anonfun$runJob$1(PythonRDD.scala:166)\n\tat org.apache.spark.SparkContext.$anonfun$runJob$5(SparkContext.scala:2236)\n\tat org.apache.spark.scheduler.ResultTask.runTask(ResultTask.scala:90)\n\tat org.apache.spark.scheduler.Task.run(Task.scala:131)\n\tat org.apache.spark.executor.Executor$TaskRunner.$anonfun$run$3(Executor.scala:497)\n\tat org.apache.spark.util.Utils$.tryWithSafeFinally(Utils.scala:1439)\n\tat org.apache.spark.executor.Executor$TaskRunner.run(Executor.scala:500)\n\tat java.base/java.util.concurrent.ThreadPoolExecutor.runWorker(ThreadPoolExecutor.java:1128)\n\tat java.base/java.util.concurrent.ThreadPoolExecutor$Worker.run(ThreadPoolExecutor.java:628)\n\t... 1 more\n",
     "output_type": "error",
     "traceback": [
      "\u001b[0;31m---------------------------------------------------------------------------\u001b[0m",
      "\u001b[0;31mPy4JJavaError\u001b[0m                             Traceback (most recent call last)",
      "\u001b[0;32m<ipython-input-56-4c777dd2d563>\u001b[0m in \u001b[0;36m<module>\u001b[0;34m\u001b[0m\n\u001b[0;32m----> 1\u001b[0;31m \u001b[0mdf_asn_blocks_ipv4\u001b[0m\u001b[0;34m.\u001b[0m\u001b[0mselect\u001b[0m\u001b[0;34m(\u001b[0m\u001b[0;34m\"network\"\u001b[0m\u001b[0;34m)\u001b[0m\u001b[0;34m.\u001b[0m\u001b[0mrdd\u001b[0m\u001b[0;34m.\u001b[0m\u001b[0mmap\u001b[0m\u001b[0;34m(\u001b[0m\u001b[0;32mlambda\u001b[0m \u001b[0mx\u001b[0m\u001b[0;34m:\u001b[0m \u001b[0mx\u001b[0m \u001b[0;34m+\u001b[0m \u001b[0;34m(\u001b[0m\u001b[0mlist\u001b[0m\u001b[0;34m(\u001b[0m\u001b[0mipaddress\u001b[0m\u001b[0;34m.\u001b[0m\u001b[0mip_network\u001b[0m\u001b[0;34m(\u001b[0m\u001b[0mx\u001b[0m\u001b[0;34m)\u001b[0m\u001b[0;34m.\u001b[0m\u001b[0mhosts\u001b[0m\u001b[0;34m(\u001b[0m\u001b[0;34m)\u001b[0m\u001b[0;34m)\u001b[0m\u001b[0;34m)\u001b[0m\u001b[0;34m)\u001b[0m\u001b[0;34m.\u001b[0m\u001b[0mtoDF\u001b[0m\u001b[0;34m(\u001b[0m\u001b[0;34m)\u001b[0m\u001b[0;34m\u001b[0m\u001b[0;34m\u001b[0m\u001b[0m\n\u001b[0m",
      "\u001b[0;32m/usr/local/spark/python/pyspark/sql/session.py\u001b[0m in \u001b[0;36mtoDF\u001b[0;34m(self, schema, sampleRatio)\u001b[0m\n\u001b[1;32m     64\u001b[0m         \u001b[0;34m[\u001b[0m\u001b[0mRow\u001b[0m\u001b[0;34m(\u001b[0m\u001b[0mname\u001b[0m\u001b[0;34m=\u001b[0m\u001b[0;34m'Alice'\u001b[0m\u001b[0;34m,\u001b[0m \u001b[0mage\u001b[0m\u001b[0;34m=\u001b[0m\u001b[0;36m1\u001b[0m\u001b[0;34m)\u001b[0m\u001b[0;34m]\u001b[0m\u001b[0;34m\u001b[0m\u001b[0;34m\u001b[0m\u001b[0m\n\u001b[1;32m     65\u001b[0m         \"\"\"\n\u001b[0;32m---> 66\u001b[0;31m         \u001b[0;32mreturn\u001b[0m \u001b[0msparkSession\u001b[0m\u001b[0;34m.\u001b[0m\u001b[0mcreateDataFrame\u001b[0m\u001b[0;34m(\u001b[0m\u001b[0mself\u001b[0m\u001b[0;34m,\u001b[0m \u001b[0mschema\u001b[0m\u001b[0;34m,\u001b[0m \u001b[0msampleRatio\u001b[0m\u001b[0;34m)\u001b[0m\u001b[0;34m\u001b[0m\u001b[0;34m\u001b[0m\u001b[0m\n\u001b[0m\u001b[1;32m     67\u001b[0m \u001b[0;34m\u001b[0m\u001b[0m\n\u001b[1;32m     68\u001b[0m     \u001b[0mRDD\u001b[0m\u001b[0;34m.\u001b[0m\u001b[0mtoDF\u001b[0m \u001b[0;34m=\u001b[0m \u001b[0mtoDF\u001b[0m\u001b[0;34m\u001b[0m\u001b[0;34m\u001b[0m\u001b[0m\n",
      "\u001b[0;32m/usr/local/spark/python/pyspark/sql/session.py\u001b[0m in \u001b[0;36mcreateDataFrame\u001b[0;34m(self, data, schema, samplingRatio, verifySchema)\u001b[0m\n\u001b[1;32m    673\u001b[0m             return super(SparkSession, self).createDataFrame(\n\u001b[1;32m    674\u001b[0m                 data, schema, samplingRatio, verifySchema)\n\u001b[0;32m--> 675\u001b[0;31m         \u001b[0;32mreturn\u001b[0m \u001b[0mself\u001b[0m\u001b[0;34m.\u001b[0m\u001b[0m_create_dataframe\u001b[0m\u001b[0;34m(\u001b[0m\u001b[0mdata\u001b[0m\u001b[0;34m,\u001b[0m \u001b[0mschema\u001b[0m\u001b[0;34m,\u001b[0m \u001b[0msamplingRatio\u001b[0m\u001b[0;34m,\u001b[0m \u001b[0mverifySchema\u001b[0m\u001b[0;34m)\u001b[0m\u001b[0;34m\u001b[0m\u001b[0;34m\u001b[0m\u001b[0m\n\u001b[0m\u001b[1;32m    676\u001b[0m \u001b[0;34m\u001b[0m\u001b[0m\n\u001b[1;32m    677\u001b[0m     \u001b[0;32mdef\u001b[0m \u001b[0m_create_dataframe\u001b[0m\u001b[0;34m(\u001b[0m\u001b[0mself\u001b[0m\u001b[0;34m,\u001b[0m \u001b[0mdata\u001b[0m\u001b[0;34m,\u001b[0m \u001b[0mschema\u001b[0m\u001b[0;34m,\u001b[0m \u001b[0msamplingRatio\u001b[0m\u001b[0;34m,\u001b[0m \u001b[0mverifySchema\u001b[0m\u001b[0;34m)\u001b[0m\u001b[0;34m:\u001b[0m\u001b[0;34m\u001b[0m\u001b[0;34m\u001b[0m\u001b[0m\n",
      "\u001b[0;32m/usr/local/spark/python/pyspark/sql/session.py\u001b[0m in \u001b[0;36m_create_dataframe\u001b[0;34m(self, data, schema, samplingRatio, verifySchema)\u001b[0m\n\u001b[1;32m    696\u001b[0m \u001b[0;34m\u001b[0m\u001b[0m\n\u001b[1;32m    697\u001b[0m         \u001b[0;32mif\u001b[0m \u001b[0misinstance\u001b[0m\u001b[0;34m(\u001b[0m\u001b[0mdata\u001b[0m\u001b[0;34m,\u001b[0m \u001b[0mRDD\u001b[0m\u001b[0;34m)\u001b[0m\u001b[0;34m:\u001b[0m\u001b[0;34m\u001b[0m\u001b[0;34m\u001b[0m\u001b[0m\n\u001b[0;32m--> 698\u001b[0;31m             \u001b[0mrdd\u001b[0m\u001b[0;34m,\u001b[0m \u001b[0mschema\u001b[0m \u001b[0;34m=\u001b[0m \u001b[0mself\u001b[0m\u001b[0;34m.\u001b[0m\u001b[0m_createFromRDD\u001b[0m\u001b[0;34m(\u001b[0m\u001b[0mdata\u001b[0m\u001b[0;34m.\u001b[0m\u001b[0mmap\u001b[0m\u001b[0;34m(\u001b[0m\u001b[0mprepare\u001b[0m\u001b[0;34m)\u001b[0m\u001b[0;34m,\u001b[0m \u001b[0mschema\u001b[0m\u001b[0;34m,\u001b[0m \u001b[0msamplingRatio\u001b[0m\u001b[0;34m)\u001b[0m\u001b[0;34m\u001b[0m\u001b[0;34m\u001b[0m\u001b[0m\n\u001b[0m\u001b[1;32m    699\u001b[0m         \u001b[0;32melse\u001b[0m\u001b[0;34m:\u001b[0m\u001b[0;34m\u001b[0m\u001b[0;34m\u001b[0m\u001b[0m\n\u001b[1;32m    700\u001b[0m             \u001b[0mrdd\u001b[0m\u001b[0;34m,\u001b[0m \u001b[0mschema\u001b[0m \u001b[0;34m=\u001b[0m \u001b[0mself\u001b[0m\u001b[0;34m.\u001b[0m\u001b[0m_createFromLocal\u001b[0m\u001b[0;34m(\u001b[0m\u001b[0mmap\u001b[0m\u001b[0;34m(\u001b[0m\u001b[0mprepare\u001b[0m\u001b[0;34m,\u001b[0m \u001b[0mdata\u001b[0m\u001b[0;34m)\u001b[0m\u001b[0;34m,\u001b[0m \u001b[0mschema\u001b[0m\u001b[0;34m)\u001b[0m\u001b[0;34m\u001b[0m\u001b[0;34m\u001b[0m\u001b[0m\n",
      "\u001b[0;32m/usr/local/spark/python/pyspark/sql/session.py\u001b[0m in \u001b[0;36m_createFromRDD\u001b[0;34m(self, rdd, schema, samplingRatio)\u001b[0m\n\u001b[1;32m    484\u001b[0m         \"\"\"\n\u001b[1;32m    485\u001b[0m         \u001b[0;32mif\u001b[0m \u001b[0mschema\u001b[0m \u001b[0;32mis\u001b[0m \u001b[0;32mNone\u001b[0m \u001b[0;32mor\u001b[0m \u001b[0misinstance\u001b[0m\u001b[0;34m(\u001b[0m\u001b[0mschema\u001b[0m\u001b[0;34m,\u001b[0m \u001b[0;34m(\u001b[0m\u001b[0mlist\u001b[0m\u001b[0;34m,\u001b[0m \u001b[0mtuple\u001b[0m\u001b[0;34m)\u001b[0m\u001b[0;34m)\u001b[0m\u001b[0;34m:\u001b[0m\u001b[0;34m\u001b[0m\u001b[0;34m\u001b[0m\u001b[0m\n\u001b[0;32m--> 486\u001b[0;31m             \u001b[0mstruct\u001b[0m \u001b[0;34m=\u001b[0m \u001b[0mself\u001b[0m\u001b[0;34m.\u001b[0m\u001b[0m_inferSchema\u001b[0m\u001b[0;34m(\u001b[0m\u001b[0mrdd\u001b[0m\u001b[0;34m,\u001b[0m \u001b[0msamplingRatio\u001b[0m\u001b[0;34m,\u001b[0m \u001b[0mnames\u001b[0m\u001b[0;34m=\u001b[0m\u001b[0mschema\u001b[0m\u001b[0;34m)\u001b[0m\u001b[0;34m\u001b[0m\u001b[0;34m\u001b[0m\u001b[0m\n\u001b[0m\u001b[1;32m    487\u001b[0m             \u001b[0mconverter\u001b[0m \u001b[0;34m=\u001b[0m \u001b[0m_create_converter\u001b[0m\u001b[0;34m(\u001b[0m\u001b[0mstruct\u001b[0m\u001b[0;34m)\u001b[0m\u001b[0;34m\u001b[0m\u001b[0;34m\u001b[0m\u001b[0m\n\u001b[1;32m    488\u001b[0m             \u001b[0mrdd\u001b[0m \u001b[0;34m=\u001b[0m \u001b[0mrdd\u001b[0m\u001b[0;34m.\u001b[0m\u001b[0mmap\u001b[0m\u001b[0;34m(\u001b[0m\u001b[0mconverter\u001b[0m\u001b[0;34m)\u001b[0m\u001b[0;34m\u001b[0m\u001b[0;34m\u001b[0m\u001b[0m\n",
      "\u001b[0;32m/usr/local/spark/python/pyspark/sql/session.py\u001b[0m in \u001b[0;36m_inferSchema\u001b[0;34m(self, rdd, samplingRatio, names)\u001b[0m\n\u001b[1;32m    458\u001b[0m         \u001b[0;34m:\u001b[0m\u001b[0;32mclass\u001b[0m\u001b[0;34m:\u001b[0m\u001b[0;31m`\u001b[0m\u001b[0mpyspark\u001b[0m\u001b[0;34m.\u001b[0m\u001b[0msql\u001b[0m\u001b[0;34m.\u001b[0m\u001b[0mtypes\u001b[0m\u001b[0;34m.\u001b[0m\u001b[0mStructType\u001b[0m\u001b[0;31m`\u001b[0m\u001b[0;34m\u001b[0m\u001b[0;34m\u001b[0m\u001b[0m\n\u001b[1;32m    459\u001b[0m         \"\"\"\n\u001b[0;32m--> 460\u001b[0;31m         \u001b[0mfirst\u001b[0m \u001b[0;34m=\u001b[0m \u001b[0mrdd\u001b[0m\u001b[0;34m.\u001b[0m\u001b[0mfirst\u001b[0m\u001b[0;34m(\u001b[0m\u001b[0;34m)\u001b[0m\u001b[0;34m\u001b[0m\u001b[0;34m\u001b[0m\u001b[0m\n\u001b[0m\u001b[1;32m    461\u001b[0m         \u001b[0;32mif\u001b[0m \u001b[0;32mnot\u001b[0m \u001b[0mfirst\u001b[0m\u001b[0;34m:\u001b[0m\u001b[0;34m\u001b[0m\u001b[0;34m\u001b[0m\u001b[0m\n\u001b[1;32m    462\u001b[0m             raise ValueError(\"The first row in RDD is empty, \"\n",
      "\u001b[0;32m/usr/local/spark/python/pyspark/rdd.py\u001b[0m in \u001b[0;36mfirst\u001b[0;34m(self)\u001b[0m\n\u001b[1;32m   1584\u001b[0m         \u001b[0mValueError\u001b[0m\u001b[0;34m:\u001b[0m \u001b[0mRDD\u001b[0m \u001b[0;32mis\u001b[0m \u001b[0mempty\u001b[0m\u001b[0;34m\u001b[0m\u001b[0;34m\u001b[0m\u001b[0m\n\u001b[1;32m   1585\u001b[0m         \"\"\"\n\u001b[0;32m-> 1586\u001b[0;31m         \u001b[0mrs\u001b[0m \u001b[0;34m=\u001b[0m \u001b[0mself\u001b[0m\u001b[0;34m.\u001b[0m\u001b[0mtake\u001b[0m\u001b[0;34m(\u001b[0m\u001b[0;36m1\u001b[0m\u001b[0;34m)\u001b[0m\u001b[0;34m\u001b[0m\u001b[0;34m\u001b[0m\u001b[0m\n\u001b[0m\u001b[1;32m   1587\u001b[0m         \u001b[0;32mif\u001b[0m \u001b[0mrs\u001b[0m\u001b[0;34m:\u001b[0m\u001b[0;34m\u001b[0m\u001b[0;34m\u001b[0m\u001b[0m\n\u001b[1;32m   1588\u001b[0m             \u001b[0;32mreturn\u001b[0m \u001b[0mrs\u001b[0m\u001b[0;34m[\u001b[0m\u001b[0;36m0\u001b[0m\u001b[0;34m]\u001b[0m\u001b[0;34m\u001b[0m\u001b[0;34m\u001b[0m\u001b[0m\n",
      "\u001b[0;32m/usr/local/spark/python/pyspark/rdd.py\u001b[0m in \u001b[0;36mtake\u001b[0;34m(self, num)\u001b[0m\n\u001b[1;32m   1564\u001b[0m \u001b[0;34m\u001b[0m\u001b[0m\n\u001b[1;32m   1565\u001b[0m             \u001b[0mp\u001b[0m \u001b[0;34m=\u001b[0m \u001b[0mrange\u001b[0m\u001b[0;34m(\u001b[0m\u001b[0mpartsScanned\u001b[0m\u001b[0;34m,\u001b[0m \u001b[0mmin\u001b[0m\u001b[0;34m(\u001b[0m\u001b[0mpartsScanned\u001b[0m \u001b[0;34m+\u001b[0m \u001b[0mnumPartsToTry\u001b[0m\u001b[0;34m,\u001b[0m \u001b[0mtotalParts\u001b[0m\u001b[0;34m)\u001b[0m\u001b[0;34m)\u001b[0m\u001b[0;34m\u001b[0m\u001b[0;34m\u001b[0m\u001b[0m\n\u001b[0;32m-> 1566\u001b[0;31m             \u001b[0mres\u001b[0m \u001b[0;34m=\u001b[0m \u001b[0mself\u001b[0m\u001b[0;34m.\u001b[0m\u001b[0mcontext\u001b[0m\u001b[0;34m.\u001b[0m\u001b[0mrunJob\u001b[0m\u001b[0;34m(\u001b[0m\u001b[0mself\u001b[0m\u001b[0;34m,\u001b[0m \u001b[0mtakeUpToNumLeft\u001b[0m\u001b[0;34m,\u001b[0m \u001b[0mp\u001b[0m\u001b[0;34m)\u001b[0m\u001b[0;34m\u001b[0m\u001b[0;34m\u001b[0m\u001b[0m\n\u001b[0m\u001b[1;32m   1567\u001b[0m \u001b[0;34m\u001b[0m\u001b[0m\n\u001b[1;32m   1568\u001b[0m             \u001b[0mitems\u001b[0m \u001b[0;34m+=\u001b[0m \u001b[0mres\u001b[0m\u001b[0;34m\u001b[0m\u001b[0;34m\u001b[0m\u001b[0m\n",
      "\u001b[0;32m/usr/local/spark/python/pyspark/context.py\u001b[0m in \u001b[0;36mrunJob\u001b[0;34m(self, rdd, partitionFunc, partitions, allowLocal)\u001b[0m\n\u001b[1;32m   1231\u001b[0m         \u001b[0;31m# SparkContext#runJob.\u001b[0m\u001b[0;34m\u001b[0m\u001b[0;34m\u001b[0m\u001b[0;34m\u001b[0m\u001b[0m\n\u001b[1;32m   1232\u001b[0m         \u001b[0mmappedRDD\u001b[0m \u001b[0;34m=\u001b[0m \u001b[0mrdd\u001b[0m\u001b[0;34m.\u001b[0m\u001b[0mmapPartitions\u001b[0m\u001b[0;34m(\u001b[0m\u001b[0mpartitionFunc\u001b[0m\u001b[0;34m)\u001b[0m\u001b[0;34m\u001b[0m\u001b[0;34m\u001b[0m\u001b[0m\n\u001b[0;32m-> 1233\u001b[0;31m         \u001b[0msock_info\u001b[0m \u001b[0;34m=\u001b[0m \u001b[0mself\u001b[0m\u001b[0;34m.\u001b[0m\u001b[0m_jvm\u001b[0m\u001b[0;34m.\u001b[0m\u001b[0mPythonRDD\u001b[0m\u001b[0;34m.\u001b[0m\u001b[0mrunJob\u001b[0m\u001b[0;34m(\u001b[0m\u001b[0mself\u001b[0m\u001b[0;34m.\u001b[0m\u001b[0m_jsc\u001b[0m\u001b[0;34m.\u001b[0m\u001b[0msc\u001b[0m\u001b[0;34m(\u001b[0m\u001b[0;34m)\u001b[0m\u001b[0;34m,\u001b[0m \u001b[0mmappedRDD\u001b[0m\u001b[0;34m.\u001b[0m\u001b[0m_jrdd\u001b[0m\u001b[0;34m,\u001b[0m \u001b[0mpartitions\u001b[0m\u001b[0;34m)\u001b[0m\u001b[0;34m\u001b[0m\u001b[0;34m\u001b[0m\u001b[0m\n\u001b[0m\u001b[1;32m   1234\u001b[0m         \u001b[0;32mreturn\u001b[0m \u001b[0mlist\u001b[0m\u001b[0;34m(\u001b[0m\u001b[0m_load_from_socket\u001b[0m\u001b[0;34m(\u001b[0m\u001b[0msock_info\u001b[0m\u001b[0;34m,\u001b[0m \u001b[0mmappedRDD\u001b[0m\u001b[0;34m.\u001b[0m\u001b[0m_jrdd_deserializer\u001b[0m\u001b[0;34m)\u001b[0m\u001b[0;34m)\u001b[0m\u001b[0;34m\u001b[0m\u001b[0;34m\u001b[0m\u001b[0m\n\u001b[1;32m   1235\u001b[0m \u001b[0;34m\u001b[0m\u001b[0m\n",
      "\u001b[0;32m/usr/local/spark/python/lib/py4j-0.10.9-src.zip/py4j/java_gateway.py\u001b[0m in \u001b[0;36m__call__\u001b[0;34m(self, *args)\u001b[0m\n\u001b[1;32m   1302\u001b[0m \u001b[0;34m\u001b[0m\u001b[0m\n\u001b[1;32m   1303\u001b[0m         \u001b[0manswer\u001b[0m \u001b[0;34m=\u001b[0m \u001b[0mself\u001b[0m\u001b[0;34m.\u001b[0m\u001b[0mgateway_client\u001b[0m\u001b[0;34m.\u001b[0m\u001b[0msend_command\u001b[0m\u001b[0;34m(\u001b[0m\u001b[0mcommand\u001b[0m\u001b[0;34m)\u001b[0m\u001b[0;34m\u001b[0m\u001b[0;34m\u001b[0m\u001b[0m\n\u001b[0;32m-> 1304\u001b[0;31m         return_value = get_return_value(\n\u001b[0m\u001b[1;32m   1305\u001b[0m             answer, self.gateway_client, self.target_id, self.name)\n\u001b[1;32m   1306\u001b[0m \u001b[0;34m\u001b[0m\u001b[0m\n",
      "\u001b[0;32m/usr/local/spark/python/pyspark/sql/utils.py\u001b[0m in \u001b[0;36mdeco\u001b[0;34m(*a, **kw)\u001b[0m\n\u001b[1;32m    109\u001b[0m     \u001b[0;32mdef\u001b[0m \u001b[0mdeco\u001b[0m\u001b[0;34m(\u001b[0m\u001b[0;34m*\u001b[0m\u001b[0ma\u001b[0m\u001b[0;34m,\u001b[0m \u001b[0;34m**\u001b[0m\u001b[0mkw\u001b[0m\u001b[0;34m)\u001b[0m\u001b[0;34m:\u001b[0m\u001b[0;34m\u001b[0m\u001b[0;34m\u001b[0m\u001b[0m\n\u001b[1;32m    110\u001b[0m         \u001b[0;32mtry\u001b[0m\u001b[0;34m:\u001b[0m\u001b[0;34m\u001b[0m\u001b[0;34m\u001b[0m\u001b[0m\n\u001b[0;32m--> 111\u001b[0;31m             \u001b[0;32mreturn\u001b[0m \u001b[0mf\u001b[0m\u001b[0;34m(\u001b[0m\u001b[0;34m*\u001b[0m\u001b[0ma\u001b[0m\u001b[0;34m,\u001b[0m \u001b[0;34m**\u001b[0m\u001b[0mkw\u001b[0m\u001b[0;34m)\u001b[0m\u001b[0;34m\u001b[0m\u001b[0;34m\u001b[0m\u001b[0m\n\u001b[0m\u001b[1;32m    112\u001b[0m         \u001b[0;32mexcept\u001b[0m \u001b[0mpy4j\u001b[0m\u001b[0;34m.\u001b[0m\u001b[0mprotocol\u001b[0m\u001b[0;34m.\u001b[0m\u001b[0mPy4JJavaError\u001b[0m \u001b[0;32mas\u001b[0m \u001b[0me\u001b[0m\u001b[0;34m:\u001b[0m\u001b[0;34m\u001b[0m\u001b[0;34m\u001b[0m\u001b[0m\n\u001b[1;32m    113\u001b[0m             \u001b[0mconverted\u001b[0m \u001b[0;34m=\u001b[0m \u001b[0mconvert_exception\u001b[0m\u001b[0;34m(\u001b[0m\u001b[0me\u001b[0m\u001b[0;34m.\u001b[0m\u001b[0mjava_exception\u001b[0m\u001b[0;34m)\u001b[0m\u001b[0;34m\u001b[0m\u001b[0;34m\u001b[0m\u001b[0m\n",
      "\u001b[0;32m/usr/local/spark/python/lib/py4j-0.10.9-src.zip/py4j/protocol.py\u001b[0m in \u001b[0;36mget_return_value\u001b[0;34m(answer, gateway_client, target_id, name)\u001b[0m\n\u001b[1;32m    324\u001b[0m             \u001b[0mvalue\u001b[0m \u001b[0;34m=\u001b[0m \u001b[0mOUTPUT_CONVERTER\u001b[0m\u001b[0;34m[\u001b[0m\u001b[0mtype\u001b[0m\u001b[0;34m]\u001b[0m\u001b[0;34m(\u001b[0m\u001b[0manswer\u001b[0m\u001b[0;34m[\u001b[0m\u001b[0;36m2\u001b[0m\u001b[0;34m:\u001b[0m\u001b[0;34m]\u001b[0m\u001b[0;34m,\u001b[0m \u001b[0mgateway_client\u001b[0m\u001b[0;34m)\u001b[0m\u001b[0;34m\u001b[0m\u001b[0;34m\u001b[0m\u001b[0m\n\u001b[1;32m    325\u001b[0m             \u001b[0;32mif\u001b[0m \u001b[0manswer\u001b[0m\u001b[0;34m[\u001b[0m\u001b[0;36m1\u001b[0m\u001b[0;34m]\u001b[0m \u001b[0;34m==\u001b[0m \u001b[0mREFERENCE_TYPE\u001b[0m\u001b[0;34m:\u001b[0m\u001b[0;34m\u001b[0m\u001b[0;34m\u001b[0m\u001b[0m\n\u001b[0;32m--> 326\u001b[0;31m                 raise Py4JJavaError(\n\u001b[0m\u001b[1;32m    327\u001b[0m                     \u001b[0;34m\"An error occurred while calling {0}{1}{2}.\\n\"\u001b[0m\u001b[0;34m.\u001b[0m\u001b[0;34m\u001b[0m\u001b[0;34m\u001b[0m\u001b[0m\n\u001b[1;32m    328\u001b[0m                     format(target_id, \".\", name), value)\n",
      "\u001b[0;31mPy4JJavaError\u001b[0m: An error occurred while calling z:org.apache.spark.api.python.PythonRDD.runJob.\n: org.apache.spark.SparkException: Job aborted due to stage failure: Task 0 in stage 54.0 failed 1 times, most recent failure: Lost task 0.0 in stage 54.0 (TID 1603) (3867a9a258dd executor driver): org.apache.spark.api.python.PythonException: Traceback (most recent call last):\n  File \"/usr/local/spark/python/lib/pyspark.zip/pyspark/worker.py\", line 604, in main\n    process()\n  File \"/usr/local/spark/python/lib/pyspark.zip/pyspark/worker.py\", line 596, in process\n    serializer.dump_stream(out_iter, outfile)\n  File \"/usr/local/spark/python/lib/pyspark.zip/pyspark/serializers.py\", line 259, in dump_stream\n    vs = list(itertools.islice(iterator, batch))\n  File \"/usr/local/spark/python/pyspark/rdd.py\", line 1560, in takeUpToNumLeft\n    yield next(iterator)\n  File \"/usr/local/spark/python/lib/pyspark.zip/pyspark/util.py\", line 73, in wrapper\n    return f(*args, **kwargs)\n  File \"<ipython-input-56-4c777dd2d563>\", line 1, in <lambda>\n  File \"/opt/conda/lib/python3.9/ipaddress.py\", line 83, in ip_network\n    raise ValueError('%r does not appear to be an IPv4 or IPv6 network' %\nValueError: '1.0.0.0/24' does not appear to be an IPv4 or IPv6 network\n\n\tat org.apache.spark.api.python.BasePythonRunner$ReaderIterator.handlePythonException(PythonRunner.scala:517)\n\tat org.apache.spark.api.python.PythonRunner$$anon$3.read(PythonRunner.scala:652)\n\tat org.apache.spark.api.python.PythonRunner$$anon$3.read(PythonRunner.scala:635)\n\tat org.apache.spark.api.python.BasePythonRunner$ReaderIterator.hasNext(PythonRunner.scala:470)\n\tat org.apache.spark.InterruptibleIterator.hasNext(InterruptibleIterator.scala:37)\n\tat scala.collection.Iterator.foreach(Iterator.scala:941)\n\tat scala.collection.Iterator.foreach$(Iterator.scala:941)\n\tat org.apache.spark.InterruptibleIterator.foreach(InterruptibleIterator.scala:28)\n\tat scala.collection.generic.Growable.$plus$plus$eq(Growable.scala:62)\n\tat scala.collection.generic.Growable.$plus$plus$eq$(Growable.scala:53)\n\tat scala.collection.mutable.ArrayBuffer.$plus$plus$eq(ArrayBuffer.scala:105)\n\tat scala.collection.mutable.ArrayBuffer.$plus$plus$eq(ArrayBuffer.scala:49)\n\tat scala.collection.TraversableOnce.to(TraversableOnce.scala:315)\n\tat scala.collection.TraversableOnce.to$(TraversableOnce.scala:313)\n\tat org.apache.spark.InterruptibleIterator.to(InterruptibleIterator.scala:28)\n\tat scala.collection.TraversableOnce.toBuffer(TraversableOnce.scala:307)\n\tat scala.collection.TraversableOnce.toBuffer$(TraversableOnce.scala:307)\n\tat org.apache.spark.InterruptibleIterator.toBuffer(InterruptibleIterator.scala:28)\n\tat scala.collection.TraversableOnce.toArray(TraversableOnce.scala:294)\n\tat scala.collection.TraversableOnce.toArray$(TraversableOnce.scala:288)\n\tat org.apache.spark.InterruptibleIterator.toArray(InterruptibleIterator.scala:28)\n\tat org.apache.spark.api.python.PythonRDD$.$anonfun$runJob$1(PythonRDD.scala:166)\n\tat org.apache.spark.SparkContext.$anonfun$runJob$5(SparkContext.scala:2236)\n\tat org.apache.spark.scheduler.ResultTask.runTask(ResultTask.scala:90)\n\tat org.apache.spark.scheduler.Task.run(Task.scala:131)\n\tat org.apache.spark.executor.Executor$TaskRunner.$anonfun$run$3(Executor.scala:497)\n\tat org.apache.spark.util.Utils$.tryWithSafeFinally(Utils.scala:1439)\n\tat org.apache.spark.executor.Executor$TaskRunner.run(Executor.scala:500)\n\tat java.base/java.util.concurrent.ThreadPoolExecutor.runWorker(ThreadPoolExecutor.java:1128)\n\tat java.base/java.util.concurrent.ThreadPoolExecutor$Worker.run(ThreadPoolExecutor.java:628)\n\tat java.base/java.lang.Thread.run(Thread.java:829)\n\nDriver stacktrace:\n\tat org.apache.spark.scheduler.DAGScheduler.failJobAndIndependentStages(DAGScheduler.scala:2258)\n\tat org.apache.spark.scheduler.DAGScheduler.$anonfun$abortStage$2(DAGScheduler.scala:2207)\n\tat org.apache.spark.scheduler.DAGScheduler.$anonfun$abortStage$2$adapted(DAGScheduler.scala:2206)\n\tat scala.collection.mutable.ResizableArray.foreach(ResizableArray.scala:62)\n\tat scala.collection.mutable.ResizableArray.foreach$(ResizableArray.scala:55)\n\tat scala.collection.mutable.ArrayBuffer.foreach(ArrayBuffer.scala:49)\n\tat org.apache.spark.scheduler.DAGScheduler.abortStage(DAGScheduler.scala:2206)\n\tat org.apache.spark.scheduler.DAGScheduler.$anonfun$handleTaskSetFailed$1(DAGScheduler.scala:1079)\n\tat org.apache.spark.scheduler.DAGScheduler.$anonfun$handleTaskSetFailed$1$adapted(DAGScheduler.scala:1079)\n\tat scala.Option.foreach(Option.scala:407)\n\tat org.apache.spark.scheduler.DAGScheduler.handleTaskSetFailed(DAGScheduler.scala:1079)\n\tat org.apache.spark.scheduler.DAGSchedulerEventProcessLoop.doOnReceive(DAGScheduler.scala:2445)\n\tat org.apache.spark.scheduler.DAGSchedulerEventProcessLoop.onReceive(DAGScheduler.scala:2387)\n\tat org.apache.spark.scheduler.DAGSchedulerEventProcessLoop.onReceive(DAGScheduler.scala:2376)\n\tat org.apache.spark.util.EventLoop$$anon$1.run(EventLoop.scala:49)\n\tat org.apache.spark.scheduler.DAGScheduler.runJob(DAGScheduler.scala:868)\n\tat org.apache.spark.SparkContext.runJob(SparkContext.scala:2196)\n\tat org.apache.spark.SparkContext.runJob(SparkContext.scala:2217)\n\tat org.apache.spark.SparkContext.runJob(SparkContext.scala:2236)\n\tat org.apache.spark.api.python.PythonRDD$.runJob(PythonRDD.scala:166)\n\tat org.apache.spark.api.python.PythonRDD.runJob(PythonRDD.scala)\n\tat java.base/jdk.internal.reflect.NativeMethodAccessorImpl.invoke0(Native Method)\n\tat java.base/jdk.internal.reflect.NativeMethodAccessorImpl.invoke(NativeMethodAccessorImpl.java:62)\n\tat java.base/jdk.internal.reflect.DelegatingMethodAccessorImpl.invoke(DelegatingMethodAccessorImpl.java:43)\n\tat java.base/java.lang.reflect.Method.invoke(Method.java:566)\n\tat py4j.reflection.MethodInvoker.invoke(MethodInvoker.java:244)\n\tat py4j.reflection.ReflectionEngine.invoke(ReflectionEngine.java:357)\n\tat py4j.Gateway.invoke(Gateway.java:282)\n\tat py4j.commands.AbstractCommand.invokeMethod(AbstractCommand.java:132)\n\tat py4j.commands.CallCommand.execute(CallCommand.java:79)\n\tat py4j.GatewayConnection.run(GatewayConnection.java:238)\n\tat java.base/java.lang.Thread.run(Thread.java:829)\nCaused by: org.apache.spark.api.python.PythonException: Traceback (most recent call last):\n  File \"/usr/local/spark/python/lib/pyspark.zip/pyspark/worker.py\", line 604, in main\n    process()\n  File \"/usr/local/spark/python/lib/pyspark.zip/pyspark/worker.py\", line 596, in process\n    serializer.dump_stream(out_iter, outfile)\n  File \"/usr/local/spark/python/lib/pyspark.zip/pyspark/serializers.py\", line 259, in dump_stream\n    vs = list(itertools.islice(iterator, batch))\n  File \"/usr/local/spark/python/pyspark/rdd.py\", line 1560, in takeUpToNumLeft\n    yield next(iterator)\n  File \"/usr/local/spark/python/lib/pyspark.zip/pyspark/util.py\", line 73, in wrapper\n    return f(*args, **kwargs)\n  File \"<ipython-input-56-4c777dd2d563>\", line 1, in <lambda>\n  File \"/opt/conda/lib/python3.9/ipaddress.py\", line 83, in ip_network\n    raise ValueError('%r does not appear to be an IPv4 or IPv6 network' %\nValueError: '1.0.0.0/24' does not appear to be an IPv4 or IPv6 network\n\n\tat org.apache.spark.api.python.BasePythonRunner$ReaderIterator.handlePythonException(PythonRunner.scala:517)\n\tat org.apache.spark.api.python.PythonRunner$$anon$3.read(PythonRunner.scala:652)\n\tat org.apache.spark.api.python.PythonRunner$$anon$3.read(PythonRunner.scala:635)\n\tat org.apache.spark.api.python.BasePythonRunner$ReaderIterator.hasNext(PythonRunner.scala:470)\n\tat org.apache.spark.InterruptibleIterator.hasNext(InterruptibleIterator.scala:37)\n\tat scala.collection.Iterator.foreach(Iterator.scala:941)\n\tat scala.collection.Iterator.foreach$(Iterator.scala:941)\n\tat org.apache.spark.InterruptibleIterator.foreach(InterruptibleIterator.scala:28)\n\tat scala.collection.generic.Growable.$plus$plus$eq(Growable.scala:62)\n\tat scala.collection.generic.Growable.$plus$plus$eq$(Growable.scala:53)\n\tat scala.collection.mutable.ArrayBuffer.$plus$plus$eq(ArrayBuffer.scala:105)\n\tat scala.collection.mutable.ArrayBuffer.$plus$plus$eq(ArrayBuffer.scala:49)\n\tat scala.collection.TraversableOnce.to(TraversableOnce.scala:315)\n\tat scala.collection.TraversableOnce.to$(TraversableOnce.scala:313)\n\tat org.apache.spark.InterruptibleIterator.to(InterruptibleIterator.scala:28)\n\tat scala.collection.TraversableOnce.toBuffer(TraversableOnce.scala:307)\n\tat scala.collection.TraversableOnce.toBuffer$(TraversableOnce.scala:307)\n\tat org.apache.spark.InterruptibleIterator.toBuffer(InterruptibleIterator.scala:28)\n\tat scala.collection.TraversableOnce.toArray(TraversableOnce.scala:294)\n\tat scala.collection.TraversableOnce.toArray$(TraversableOnce.scala:288)\n\tat org.apache.spark.InterruptibleIterator.toArray(InterruptibleIterator.scala:28)\n\tat org.apache.spark.api.python.PythonRDD$.$anonfun$runJob$1(PythonRDD.scala:166)\n\tat org.apache.spark.SparkContext.$anonfun$runJob$5(SparkContext.scala:2236)\n\tat org.apache.spark.scheduler.ResultTask.runTask(ResultTask.scala:90)\n\tat org.apache.spark.scheduler.Task.run(Task.scala:131)\n\tat org.apache.spark.executor.Executor$TaskRunner.$anonfun$run$3(Executor.scala:497)\n\tat org.apache.spark.util.Utils$.tryWithSafeFinally(Utils.scala:1439)\n\tat org.apache.spark.executor.Executor$TaskRunner.run(Executor.scala:500)\n\tat java.base/java.util.concurrent.ThreadPoolExecutor.runWorker(ThreadPoolExecutor.java:1128)\n\tat java.base/java.util.concurrent.ThreadPoolExecutor$Worker.run(ThreadPoolExecutor.java:628)\n\t... 1 more\n"
     ]
    }
   ],
   "source": [
    "#df_asn_blocks_ipv4.select(\"network\").rdd.map(lambda x: x + (list(ipaddress.ip_network(x).hosts()))).toDF()"
   ]
  },
  {
   "cell_type": "code",
   "execution_count": null,
   "id": "7e954db6",
   "metadata": {},
   "outputs": [],
   "source": [
    "#df_asn_blocks_ipv4 = df_asn_blocks_ipv4.withColumn('ip_adress', list(ip_network(df_asn_blocks_ipv4.network).hosts()))\n",
    "\n",
    "#df_asn_blocks_ipv4 = df_asn_blocks_ipv4.withColumn('ip_adress', list(ipaddress.IPv4Network(df_asn_blocks_ipv4.network).hosts()))"
   ]
  },
  {
   "cell_type": "code",
   "execution_count": null,
   "id": "7c7ff1eb",
   "metadata": {},
   "outputs": [],
   "source": [
    "#df_networkClean=df_asn_blocks_ipv4.withColumn('network',commaRep4('network'))\n",
    "#df_networkClean.show(3, False)"
   ]
  },
  {
   "cell_type": "code",
   "execution_count": null,
   "id": "5e8749e1",
   "metadata": {},
   "outputs": [],
   "source": [
    "#df_networkClean.printSchema()"
   ]
  },
  {
   "cell_type": "code",
   "execution_count": null,
   "id": "9576b28f",
   "metadata": {
    "scrolled": true
   },
   "outputs": [],
   "source": [
    "#df_asn_blocks_ipv4.printSchema()"
   ]
  },
  {
   "cell_type": "markdown",
   "id": "ee468b85",
   "metadata": {},
   "source": [
    "# Analyse"
   ]
  },
  {
   "cell_type": "markdown",
   "id": "4e9eefee",
   "metadata": {},
   "source": [
    "## Joining von Tabelle real_new und asn_blocks_ipv4"
   ]
  },
  {
   "cell_type": "code",
   "execution_count": null,
   "id": "7ed33b59",
   "metadata": {},
   "outputs": [],
   "source": [
    "df_gejoint = df_ASplit.join(df_asn_blocks_ipv4, df_ASplit[\"val_A\"] == df_asn_blocks_ipv4[\"network_adress\"],\"inner\")"
   ]
  },
  {
   "cell_type": "code",
   "execution_count": null,
   "id": "10030cc7",
   "metadata": {},
   "outputs": [],
   "source": [
    "df_gejoint.count()"
   ]
  },
  {
   "cell_type": "code",
   "execution_count": null,
   "id": "f68922a3",
   "metadata": {},
   "outputs": [],
   "source": [
    "df_gejoint.show()"
   ]
  },
  {
   "cell_type": "markdown",
   "id": "12a82809",
   "metadata": {},
   "source": [
    "## Joining von Tabelle df_country und df_city"
   ]
  },
  {
   "cell_type": "code",
   "execution_count": null,
   "id": "7c2fcd7c",
   "metadata": {},
   "outputs": [],
   "source": [
    "df_gejoint2 = df_country.join(df_city, df_country[\"geoname_id\"] == df_city[\"geoname_id\"])"
   ]
  },
  {
   "cell_type": "code",
   "execution_count": null,
   "id": "ac007d3b",
   "metadata": {},
   "outputs": [],
   "source": [
    "df_gejoint2.show()"
   ]
  },
  {
   "cell_type": "markdown",
   "id": "3d8b2d78",
   "metadata": {},
   "source": [
    "#### Joining von all Tabellen"
   ]
  },
  {
   "cell_type": "code",
   "execution_count": null,
   "id": "cf7d01d1",
   "metadata": {},
   "outputs": [],
   "source": [
    "df_gejoint_all = df_networkClean2\\\n",
    "            .join(df_AClean2, df_networkClean2[\"network2\"] == df_AClean2[\"A-Record2\"])\\\n",
    "            .join(df_country, df_networkClean2[\"autonomous_system_number\"] == df_country[\"geoname_id\"])\\\n",
    "            .join(df_city, df_networkClean2[\"autonomous_system_number\"] == df_city[\"geoname_id\"])"
   ]
  },
  {
   "cell_type": "code",
   "execution_count": null,
   "id": "239e738b",
   "metadata": {},
   "outputs": [],
   "source": [
    "df_gejoint_all.show()"
   ]
  }
 ],
 "metadata": {
  "kernelspec": {
   "display_name": "Python 3",
   "language": "python",
   "name": "python3"
  },
  "language_info": {
   "codemirror_mode": {
    "name": "ipython",
    "version": 3
   },
   "file_extension": ".py",
   "mimetype": "text/x-python",
   "name": "python",
   "nbconvert_exporter": "python",
   "pygments_lexer": "ipython3",
   "version": "3.9.4"
  }
 },
 "nbformat": 4,
 "nbformat_minor": 5
}
