{
 "cells": [
  {
   "cell_type": "code",
   "execution_count": 1,
   "id": "6a56a10d",
   "metadata": {},
   "outputs": [],
   "source": [
    "from pyspark import SparkContext\n",
    "from pyspark.sql import SparkSession\n",
    "from pyspark.sql.types import StructType, StructField, IntegerType, StringType\n",
    "from pyspark.sql.functions import *\n",
    "import pyspark\n",
    "from pyspark.sql.functions import struct\n",
    "from pyspark.sql.functions import monotonically_increasing_id\n",
    "import pyspark.sql.functions as f\n",
    "\n",
    "#Starten ohne Spark-Cluster\n",
    "spark = SparkSession.builder.getOrCreate()"
   ]
  },
  {
   "cell_type": "code",
   "execution_count": 2,
   "id": "e497c77c",
   "metadata": {},
   "outputs": [],
   "source": [
    "# Verbindung zu Minio\n",
    "spark.sparkContext.setSystemProperty(\"com.amazonaws.services.s3.enableV4\", \"true\")\n",
    "spark.sparkContext._jsc.hadoopConfiguration().set(\"fs.s3a.access.key\", \"minio\")\n",
    "spark.sparkContext._jsc.hadoopConfiguration().set(\"fs.s3a.secret.key\", \"minio123\")\n",
    "spark.sparkContext._jsc.hadoopConfiguration().set(\"com.amazonaws.services.s3.enableV4\", \"true\")\n",
    "spark.sparkContext._jsc.hadoopConfiguration().set(\"fs.s3a.impl\", \"org.apache.hadoop.fs.s3a.S3AFileSystem\")\n",
    "spark.sparkContext._jsc.hadoopConfiguration().set(\"fs.s3a.path.style.access\", \"true\")\n",
    "spark.sparkContext._jsc.hadoopConfiguration().set(\"fs.s3a.endpoint\", \"http://minio1:9000\")"
   ]
  },
  {
   "cell_type": "code",
   "execution_count": 3,
   "id": "bb54a6d9",
   "metadata": {},
   "outputs": [],
   "source": [
    "schema = StructType([\n",
    "    StructField(\"Top level domain\", StringType(), True),\n",
    "    StructField(\"MX-Record from the name server\", StringType(), True),\n",
    "    StructField(\"A-Record of the specific domain\", StringType(), True),\n",
    "    StructField(\"Timestamp\", StringType(), True)])\n",
    "\n",
    "df = spark.read.csv(\"s3a://bucket/real_new.csv\",header=False,sep=\";\",schema=schema)"
   ]
  },
  {
   "cell_type": "markdown",
   "id": "aba89af6",
   "metadata": {},
   "source": [
    "#### Allgemein"
   ]
  },
  {
   "cell_type": "code",
   "execution_count": 4,
   "id": "ad7b28bc",
   "metadata": {
    "scrolled": true
   },
   "outputs": [
    {
     "name": "stdout",
     "output_type": "stream",
     "text": [
      "+----------------+------------------------------+-------------------------------+-------------------+\n",
      "|Top level domain|MX-Record from the name server|A-Record of the specific domain|          Timestamp|\n",
      "+----------------+------------------------------+-------------------------------+-------------------+\n",
      "|         0--1.de|          \"[\"\"mail.0--1.de\"...|           \"[\"\"46.38.249.145...|2020-12-13 15:36:05|\n",
      "|         0--2.de|          \"[\"\"mxf993.netcup...|           \"[\"\"212.227.212.1...|2020-12-13 15:36:05|\n",
      "|    0-0-0-0-0.de|          \"[\"\"smtp-02.tld.t...|           \"[\"\"80.150.6.143\"\"]\"|2020-12-13 15:36:05|\n",
      "|      0-0-0-1.de|          \"[\"\"smtp-02.tld.t...|           \"[\"\"80.150.6.143\"\"]\"|2020-12-13 15:36:05|\n",
      "|          0-0.de|                            []|           \"[\"\"185.53.178.13...|2020-12-13 15:36:05|\n",
      "+----------------+------------------------------+-------------------------------+-------------------+\n",
      "only showing top 5 rows\n",
      "\n"
     ]
    }
   ],
   "source": [
    "df.show(5)"
   ]
  },
  {
   "cell_type": "markdown",
   "id": "5d78ba19",
   "metadata": {},
   "source": [
    "* Top level domain: Namensserver; das, was Personen sich merken können\n",
    "* Ein MX Resource Record weist einem Namen einen Mailserver zu. Er stellt eine Besonderheit dar, da er sich auf einen speziellen Dienst im Internet, nämlich die E-Mailzustellung mittels SMTP, bezieht. Alle anderen Dienste nutzen CNAME, A und AAAA Resource Records für die Namensauflösung.\n",
    "* Ein A Resource Record weist einem Namen eine IPv4-Adresse zu."
   ]
  },
  {
   "cell_type": "code",
   "execution_count": 5,
   "id": "d01a10b3",
   "metadata": {},
   "outputs": [],
   "source": [
    "df= df.withColumn(\"id\", monotonically_increasing_id())"
   ]
  },
  {
   "cell_type": "code",
   "execution_count": 6,
   "id": "21821b43",
   "metadata": {},
   "outputs": [],
   "source": [
    "df=df.select(\"Top level domain\",\"MX-Record from the name server\",\"A-Record of the specific domain\")"
   ]
  },
  {
   "cell_type": "markdown",
   "id": "a71636c6",
   "metadata": {},
   "source": [
    "* die Spalte Timestamp wird nicht benötigt"
   ]
  },
  {
   "cell_type": "code",
   "execution_count": 7,
   "id": "c051290c",
   "metadata": {
    "scrolled": true
   },
   "outputs": [
    {
     "data": {
      "text/plain": [
       "pyspark.sql.dataframe.DataFrame"
      ]
     },
     "execution_count": 7,
     "metadata": {},
     "output_type": "execute_result"
    }
   ],
   "source": [
    "type(df)"
   ]
  },
  {
   "cell_type": "code",
   "execution_count": 8,
   "id": "7e5824cf",
   "metadata": {},
   "outputs": [
    {
     "data": {
      "text/plain": [
       "4860885"
      ]
     },
     "execution_count": 8,
     "metadata": {},
     "output_type": "execute_result"
    }
   ],
   "source": [
    "df.count()"
   ]
  },
  {
   "cell_type": "code",
   "execution_count": 9,
   "id": "453ad177",
   "metadata": {},
   "outputs": [
    {
     "name": "stdout",
     "output_type": "stream",
     "text": [
      "root\n",
      " |-- Top level domain: string (nullable = true)\n",
      " |-- MX-Record from the name server: string (nullable = true)\n",
      " |-- A-Record of the specific domain: string (nullable = true)\n",
      "\n"
     ]
    }
   ],
   "source": [
    "df.printSchema()"
   ]
  },
  {
   "cell_type": "markdown",
   "id": "ab494b0e",
   "metadata": {},
   "source": [
    "#### Top Level Domain"
   ]
  },
  {
   "cell_type": "code",
   "execution_count": 10,
   "id": "2eb3caa8",
   "metadata": {
    "scrolled": true
   },
   "outputs": [
    {
     "data": {
      "text/plain": [
       "0"
      ]
     },
     "execution_count": 10,
     "metadata": {},
     "output_type": "execute_result"
    }
   ],
   "source": [
    "df.filter(df[\"Top level domain\"]==\"null\").count()"
   ]
  },
  {
   "cell_type": "markdown",
   "id": "a048c65a",
   "metadata": {},
   "source": [
    "* keine Null Values"
   ]
  },
  {
   "cell_type": "code",
   "execution_count": 11,
   "id": "6203e85e",
   "metadata": {},
   "outputs": [
    {
     "name": "stdout",
     "output_type": "stream",
     "text": [
      "+----------------+-----+\n",
      "|Top level domain|count|\n",
      "+----------------+-----+\n",
      "|     007kaess.de|    1|\n",
      "|        01307.de|    1|\n",
      "|        01800.de|    1|\n",
      "|     030pizza.de|    1|\n",
      "|        04179.de|    1|\n",
      "+----------------+-----+\n",
      "only showing top 5 rows\n",
      "\n"
     ]
    }
   ],
   "source": [
    "dfTCount=df.groupBy(\"Top level domain\").count()\n",
    "dfTCount.orderBy(col(\"count\").desc()).show(5)"
   ]
  },
  {
   "cell_type": "markdown",
   "id": "82f8677c",
   "metadata": {},
   "source": [
    "* es gibt keine doppelte TLD"
   ]
  },
  {
   "cell_type": "markdown",
   "id": "a7c40dad",
   "metadata": {},
   "source": [
    "#### MX Records"
   ]
  },
  {
   "cell_type": "code",
   "execution_count": 12,
   "id": "3896d76d",
   "metadata": {
    "scrolled": true
   },
   "outputs": [
    {
     "data": {
      "text/plain": [
       "0"
      ]
     },
     "execution_count": 12,
     "metadata": {},
     "output_type": "execute_result"
    }
   ],
   "source": [
    "df.filter(df[\"MX-Record from the name server\"]==\"null\").count()"
   ]
  },
  {
   "cell_type": "markdown",
   "id": "fb768318",
   "metadata": {},
   "source": [
    "* keine Null Values"
   ]
  },
  {
   "cell_type": "code",
   "execution_count": 14,
   "id": "b43a7edf",
   "metadata": {},
   "outputs": [
    {
     "name": "stdout",
     "output_type": "stream",
     "text": [
      "+------------------------------+------+\n",
      "|MX-Record from the name server| count|\n",
      "+------------------------------+------+\n",
      "|                            []|633040|\n",
      "|          \"[\"\"smtpin.rzone....|509127|\n",
      "|             \"[\"\"localhost\"\"]\"|303839|\n",
      "|          \"[\"\"mx01.kundense...|176491|\n",
      "|          \"[\"\"mx00.kundense...|176182|\n",
      "+------------------------------+------+\n",
      "only showing top 5 rows\n",
      "\n"
     ]
    }
   ],
   "source": [
    "dfMxCount=df.groupBy(\"MX-Record from the name server\").count()\n",
    "dfMxCount.orderBy(col(\"count\").desc()).show(5)"
   ]
  },
  {
   "cell_type": "markdown",
   "id": "76cfa582",
   "metadata": {},
   "source": [
    "#### A Records"
   ]
  },
  {
   "cell_type": "code",
   "execution_count": 15,
   "id": "64533d1f",
   "metadata": {
    "scrolled": false
   },
   "outputs": [
    {
     "data": {
      "text/plain": [
       "10732"
      ]
     },
     "execution_count": 15,
     "metadata": {},
     "output_type": "execute_result"
    }
   ],
   "source": [
    "df.filter(df[\"A-Record of the specific domain\"]==\"null\").count()"
   ]
  },
  {
   "cell_type": "markdown",
   "id": "40597996",
   "metadata": {},
   "source": [
    "* es gibt 10.732 Null Values\n",
    "* diese können mit [] ersetzt werde"
   ]
  },
  {
   "cell_type": "code",
   "execution_count": 16,
   "id": "22275573",
   "metadata": {},
   "outputs": [],
   "source": [
    "#df = df.withColumn('A-Record of the specific domain', regexp_replace('A-Record of the specific domain', 'null', '[]'))\n",
    "df=df.na.replace({\"null\": \"[]\"})"
   ]
  },
  {
   "cell_type": "code",
   "execution_count": 17,
   "id": "d451422e",
   "metadata": {},
   "outputs": [
    {
     "name": "stdout",
     "output_type": "stream",
     "text": [
      "+-------------------------------+------+\n",
      "|A-Record of the specific domain| count|\n",
      "+-------------------------------+------+\n",
      "|           \"[\"\"91.195.241.13...|303204|\n",
      "|                             []|172019|\n",
      "|           \"[\"\"80.150.6.143\"\"]\"|150156|\n",
      "|           \"[\"\"23.236.62.147...| 59034|\n",
      "|            \"[\"\"52.58.78.16\"\"]\"| 49200|\n",
      "+-------------------------------+------+\n",
      "only showing top 5 rows\n",
      "\n"
     ]
    }
   ],
   "source": [
    "dfACount=df.groupBy(\"A-Record of the specific domain\").count()\n",
    "dfACount.orderBy(col(\"count\").desc()).show(5)"
   ]
  },
  {
   "cell_type": "code",
   "execution_count": null,
   "id": "e8bb164f",
   "metadata": {},
   "outputs": [],
   "source": []
  }
 ],
 "metadata": {
  "kernelspec": {
   "display_name": "Python 3",
   "language": "python",
   "name": "python3"
  },
  "language_info": {
   "codemirror_mode": {
    "name": "ipython",
    "version": 3
   },
   "file_extension": ".py",
   "mimetype": "text/x-python",
   "name": "python",
   "nbconvert_exporter": "python",
   "pygments_lexer": "ipython3",
   "version": "3.9.4"
  }
 },
 "nbformat": 4,
 "nbformat_minor": 5
}
