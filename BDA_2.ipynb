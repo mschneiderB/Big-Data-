{
 "cells": [
  {
   "cell_type": "code",
   "execution_count": 1,
   "metadata": {},
   "outputs": [],
   "source": [
    "from pyspark import SparkContext\n",
    "from pyspark.sql import SparkSession\n",
    "from pyspark.sql.types import StructType, StructField, IntegerType, StringType\n",
    "from pyspark.sql.functions import *\n",
    "import pyspark\n",
    "from pyspark.sql.functions import struct\n",
    "from pyspark.sql.functions import monotonically_increasing_id\n",
    "import pyspark.sql.functions as f\n",
    "from pyspark.sql.functions import udf\n",
    "import re\n",
    "#import geoip2.database\n",
    "\n",
    "#Starten ohne Spark-Cluster\n",
    "spark = SparkSession.builder.getOrCreate()"
   ]
  },
  {
   "cell_type": "code",
   "execution_count": null,
   "metadata": {},
   "outputs": [],
   "source": [
    "# Verbindung zu Minio\n",
    "spark.sparkContext.setSystemProperty(\"com.amazonaws.services.s3.enableV4\", \"true\")\n",
    "spark.sparkContext._jsc.hadoopConfiguration().set(\"fs.s3a.access.key\", \"minio\")\n",
    "spark.sparkContext._jsc.hadoopConfiguration().set(\"fs.s3a.secret.key\", \"minio123\")\n",
    "spark.sparkContext._jsc.hadoopConfiguration().set(\"com.amazonaws.services.s3.enableV4\", \"true\")\n",
    "spark.sparkContext._jsc.hadoopConfiguration().set(\"fs.s3a.impl\", \"org.apache.hadoop.fs.s3a.S3AFileSystem\")\n",
    "spark.sparkContext._jsc.hadoopConfiguration().set(\"fs.s3a.path.style.access\", \"true\")\n",
    "spark.sparkContext._jsc.hadoopConfiguration().set(\"fs.s3a.endpoint\", \"http://minio1:9000\")"
   ]
  },
  {
   "cell_type": "code",
   "execution_count": 2,
   "metadata": {},
   "outputs": [],
   "source": [
    "schema = StructType([\n",
    "    StructField(\"Top level domain\", StringType(), True),\n",
    "    StructField(\"MX-Record from the name server\", StringType(), True),\n",
    "    StructField(\"A-Record of the specific domain\", StringType(), True),\n",
    "    StructField(\"Timestamp\", StringType(), True)])\n",
    "\n",
    "df = spark.read.csv(\"s3a://bucket/real_new.csv\",header=False,sep=\";\",schema=schema)"
   ]
  },
  {
   "cell_type": "markdown",
   "metadata": {},
   "source": [
    "# Datenbeschreibung"
   ]
  },
  {
   "cell_type": "markdown",
   "metadata": {},
   "source": [
    "## real_domains"
   ]
  },
  {
   "cell_type": "markdown",
   "metadata": {},
   "source": [
    "### Allgemein"
   ]
  },
  {
   "cell_type": "code",
   "execution_count": 3,
   "metadata": {
    "scrolled": true
   },
   "outputs": [
    {
     "name": "stdout",
     "output_type": "stream",
     "text": [
      "+----------------+------------------------------+-------------------------------+-------------------+\n",
      "|Top level domain|MX-Record from the name server|A-Record of the specific domain|          Timestamp|\n",
      "+----------------+------------------------------+-------------------------------+-------------------+\n",
      "|         0--1.de|          \"[\"\"mail.0--1.de\"...|           \"[\"\"46.38.249.145...|2020-12-13 15:36:05|\n",
      "|         0--2.de|          \"[\"\"mxf993.netcup...|           \"[\"\"212.227.212.1...|2020-12-13 15:36:05|\n",
      "|    0-0-0-0-0.de|          \"[\"\"smtp-02.tld.t...|           \"[\"\"80.150.6.143\"\"]\"|2020-12-13 15:36:05|\n",
      "|      0-0-0-1.de|          \"[\"\"smtp-02.tld.t...|           \"[\"\"80.150.6.143\"\"]\"|2020-12-13 15:36:05|\n",
      "|          0-0.de|                            []|           \"[\"\"185.53.178.13...|2020-12-13 15:36:05|\n",
      "+----------------+------------------------------+-------------------------------+-------------------+\n",
      "only showing top 5 rows\n",
      "\n"
     ]
    }
   ],
   "source": [
    "df.show(5)"
   ]
  },
  {
   "cell_type": "markdown",
   "metadata": {},
   "source": [
    "* Top level domain: Namensserver; das, was Personen sich merken können\n",
    "* Ein MX Resource Record weist einem Namen einen Mailserver zu. Er stellt eine Besonderheit dar, da er sich auf einen speziellen Dienst im Internet, nämlich die E-Mailzustellung mittels SMTP, bezieht. Alle anderen Dienste nutzen CNAME, A und AAAA Resource Records für die Namensauflösung.\n",
    "* Ein A Resource Record weist einem Namen eine IPv4-Adresse zu."
   ]
  },
  {
   "cell_type": "code",
   "execution_count": 4,
   "metadata": {},
   "outputs": [],
   "source": [
    "df= df.withColumn(\"id\", monotonically_increasing_id())"
   ]
  },
  {
   "cell_type": "code",
   "execution_count": 5,
   "metadata": {},
   "outputs": [],
   "source": [
    "df=df.select(\"Top level domain\",\"MX-Record from the name server\",\"A-Record of the specific domain\")"
   ]
  },
  {
   "cell_type": "markdown",
   "metadata": {},
   "source": [
    "* die Spalte Timestamp wird nicht benötigt"
   ]
  },
  {
   "cell_type": "code",
   "execution_count": 6,
   "metadata": {},
   "outputs": [],
   "source": [
    "df=df.withColumnRenamed(\"MX-Record from the name server\", \"MX-Record\")"
   ]
  },
  {
   "cell_type": "code",
   "execution_count": 7,
   "metadata": {},
   "outputs": [],
   "source": [
    "df=df.withColumnRenamed(\"A-Record of the specific domain\", \"A-Record\")"
   ]
  },
  {
   "cell_type": "code",
   "execution_count": 8,
   "metadata": {
    "scrolled": true
   },
   "outputs": [
    {
     "data": {
      "text/plain": [
       "pyspark.sql.dataframe.DataFrame"
      ]
     },
     "execution_count": 8,
     "metadata": {},
     "output_type": "execute_result"
    }
   ],
   "source": [
    "type(df)"
   ]
  },
  {
   "cell_type": "code",
   "execution_count": 9,
   "metadata": {
    "scrolled": true
   },
   "outputs": [
    {
     "data": {
      "text/plain": [
       "4860885"
      ]
     },
     "execution_count": 9,
     "metadata": {},
     "output_type": "execute_result"
    }
   ],
   "source": [
    "df.count()"
   ]
  },
  {
   "cell_type": "code",
   "execution_count": 10,
   "metadata": {},
   "outputs": [
    {
     "data": {
      "text/plain": [
       "4860885"
      ]
     },
     "execution_count": 10,
     "metadata": {},
     "output_type": "execute_result"
    }
   ],
   "source": [
    "df.dropDuplicates().count()"
   ]
  },
  {
   "cell_type": "markdown",
   "metadata": {},
   "source": [
    "* es gibt keine Duplikate in dem Datensatz"
   ]
  },
  {
   "cell_type": "code",
   "execution_count": null,
   "metadata": {
    "scrolled": true
   },
   "outputs": [],
   "source": [
    "#df.filter(df[\"MX-Record\"].contains(']')).count()"
   ]
  },
  {
   "cell_type": "markdown",
   "metadata": {},
   "source": [
    "* es gibt 3 Zeilen, wo die Aufzeichnung von MX Records abgebrochen wurde"
   ]
  },
  {
   "cell_type": "code",
   "execution_count": null,
   "metadata": {},
   "outputs": [],
   "source": [
    "#df=df.filter(df[\"MX-Record\"].contains(']'))"
   ]
  },
  {
   "cell_type": "markdown",
   "metadata": {},
   "source": [
    "* diese Zeilen werden entfernt, da sie sich nicht reparieren lassen"
   ]
  },
  {
   "cell_type": "code",
   "execution_count": 9,
   "metadata": {},
   "outputs": [
    {
     "name": "stdout",
     "output_type": "stream",
     "text": [
      "root\n",
      " |-- Top level domain: string (nullable = true)\n",
      " |-- MX-Record: string (nullable = true)\n",
      " |-- A-Record: string (nullable = true)\n",
      "\n"
     ]
    }
   ],
   "source": [
    "df.printSchema()"
   ]
  },
  {
   "cell_type": "markdown",
   "metadata": {},
   "source": [
    "### Top Level Domain"
   ]
  },
  {
   "cell_type": "code",
   "execution_count": 12,
   "metadata": {
    "scrolled": true
   },
   "outputs": [
    {
     "data": {
      "text/plain": [
       "0"
      ]
     },
     "execution_count": 12,
     "metadata": {},
     "output_type": "execute_result"
    }
   ],
   "source": [
    "df.filter(df[\"Top level domain\"]==\"null\").count()"
   ]
  },
  {
   "cell_type": "markdown",
   "metadata": {},
   "source": [
    "* keine Null Values"
   ]
  },
  {
   "cell_type": "code",
   "execution_count": 13,
   "metadata": {},
   "outputs": [
    {
     "name": "stdout",
     "output_type": "stream",
     "text": [
      "+----------------+-----+\n",
      "|Top level domain|count|\n",
      "+----------------+-----+\n",
      "|         000o.de|    1|\n",
      "| 015119155752.de|    1|\n",
      "|       020618.de|    1|\n",
      "|    030berlin.de|    1|\n",
      "|        07980.de|    1|\n",
      "+----------------+-----+\n",
      "only showing top 5 rows\n",
      "\n"
     ]
    }
   ],
   "source": [
    "dfTCount=df.groupBy(\"Top level domain\").count()\n",
    "dfTCount.orderBy(col(\"count\").desc()).show(5)"
   ]
  },
  {
   "cell_type": "markdown",
   "metadata": {},
   "source": [
    "* es gibt keine doppelte TLD"
   ]
  },
  {
   "cell_type": "markdown",
   "metadata": {},
   "source": [
    "### MX Records"
   ]
  },
  {
   "cell_type": "code",
   "execution_count": 14,
   "metadata": {
    "scrolled": true
   },
   "outputs": [
    {
     "data": {
      "text/plain": [
       "0"
      ]
     },
     "execution_count": 14,
     "metadata": {},
     "output_type": "execute_result"
    }
   ],
   "source": [
    "df.filter(df[\"MX-Record\"]==\"null\").count()"
   ]
  },
  {
   "cell_type": "markdown",
   "metadata": {},
   "source": [
    "* keine Null Values"
   ]
  },
  {
   "cell_type": "code",
   "execution_count": 15,
   "metadata": {},
   "outputs": [
    {
     "name": "stdout",
     "output_type": "stream",
     "text": [
      "+-----------------------------------------------------+------+\n",
      "|MX-Record                                            |count |\n",
      "+-----------------------------------------------------+------+\n",
      "|[]                                                   |633040|\n",
      "|\"[\"\"smtpin.rzone.de\"\"]\"                              |509127|\n",
      "|\"[\"\"localhost\"\"]\"                                    |303839|\n",
      "|\"[\"\"mx01.kundenserver.de\"\",\"\"mx00.kundenserver.de\"\"]\"|176491|\n",
      "|\"[\"\"mx00.kundenserver.de\"\",\"\"mx01.kundenserver.de\"\"]\"|176182|\n",
      "+-----------------------------------------------------+------+\n",
      "only showing top 5 rows\n",
      "\n"
     ]
    }
   ],
   "source": [
    "dfMxCount=df.groupBy(\"MX-Record\").count()\n",
    "dfMxCount.orderBy(col(\"count\").desc()).show(5,False)"
   ]
  },
  {
   "cell_type": "markdown",
   "metadata": {},
   "source": [
    "### A Records"
   ]
  },
  {
   "cell_type": "code",
   "execution_count": 16,
   "metadata": {
    "scrolled": false
   },
   "outputs": [
    {
     "data": {
      "text/plain": [
       "10732"
      ]
     },
     "execution_count": 16,
     "metadata": {},
     "output_type": "execute_result"
    }
   ],
   "source": [
    "df.filter(df[\"A-Record\"]==\"null\").count()"
   ]
  },
  {
   "cell_type": "markdown",
   "metadata": {},
   "source": [
    "* es gibt 10.732 Null Values\n",
    "* diese können mit [] ersetzt werde"
   ]
  },
  {
   "cell_type": "code",
   "execution_count": 11,
   "metadata": {},
   "outputs": [],
   "source": [
    "df=df.na.replace({\"null\": \"[]\"})"
   ]
  },
  {
   "cell_type": "code",
   "execution_count": 18,
   "metadata": {
    "scrolled": true
   },
   "outputs": [
    {
     "name": "stdout",
     "output_type": "stream",
     "text": [
      "+----------------------+------+\n",
      "|A-Record              |count |\n",
      "+----------------------+------+\n",
      "|\"[\"\"91.195.241.137\"\"]\"|303204|\n",
      "|[]                    |172019|\n",
      "|\"[\"\"80.150.6.143\"\"]\"  |150156|\n",
      "|\"[\"\"23.236.62.147\"\"]\" |59034 |\n",
      "|\"[\"\"52.58.78.16\"\"]\"   |49200 |\n",
      "+----------------------+------+\n",
      "only showing top 5 rows\n",
      "\n"
     ]
    }
   ],
   "source": [
    "dfACount=df.groupBy(\"A-Record\").count()\n",
    "dfACount.orderBy(col(\"count\").desc()).show(5, False)"
   ]
  },
  {
   "cell_type": "markdown",
   "metadata": {},
   "source": [
    "## asn ip4 Blocks"
   ]
  },
  {
   "cell_type": "markdown",
   "metadata": {},
   "source": [
    "### Allgemein"
   ]
  },
  {
   "cell_type": "code",
   "execution_count": 12,
   "metadata": {},
   "outputs": [],
   "source": [
    "schema_blocks = StructType([\n",
    "    StructField(\"network\", StringType(), True),\n",
    "    StructField(\"autonomous_system_number\", IntegerType(), True),\n",
    "    StructField(\"autonomous_system_organization\", StringType(), True)\n",
    "])\n",
    "\n",
    "df_asn_blocks_ipv4 = spark.read.csv(\"s3a://bucket/GeoLite2-ASN-Blocks-IPv4.csv\", header=True, schema=schema_blocks).cache()"
   ]
  },
  {
   "cell_type": "code",
   "execution_count": 13,
   "metadata": {},
   "outputs": [
    {
     "name": "stdout",
     "output_type": "stream",
     "text": [
      "+------------+------------------------+------------------------------+\n",
      "|     network|autonomous_system_number|autonomous_system_organization|\n",
      "+------------+------------------------+------------------------------+\n",
      "|  1.0.0.0/24|                   13335|                 CLOUDFLARENET|\n",
      "|  1.0.4.0/22|                   38803|          Wirefreebroadband...|\n",
      "| 1.0.64.0/18|                   18144|          Energia Communica...|\n",
      "|1.0.128.0/17|                   23969|          TOT Public Compan...|\n",
      "|  1.1.1.0/24|                   13335|                 CLOUDFLARENET|\n",
      "+------------+------------------------+------------------------------+\n",
      "only showing top 5 rows\n",
      "\n"
     ]
    }
   ],
   "source": [
    "df_asn_blocks_ipv4.show(5)"
   ]
  },
  {
   "cell_type": "code",
   "execution_count": 21,
   "metadata": {},
   "outputs": [
    {
     "data": {
      "text/plain": [
       "461902"
      ]
     },
     "execution_count": 21,
     "metadata": {},
     "output_type": "execute_result"
    }
   ],
   "source": [
    "df_asn_blocks_ipv4.count()"
   ]
  },
  {
   "cell_type": "code",
   "execution_count": 22,
   "metadata": {},
   "outputs": [
    {
     "data": {
      "text/plain": [
       "461902"
      ]
     },
     "execution_count": 22,
     "metadata": {},
     "output_type": "execute_result"
    }
   ],
   "source": [
    "df_asn_blocks_ipv4.dropDuplicates().count()"
   ]
  },
  {
   "cell_type": "markdown",
   "metadata": {},
   "source": [
    "* es gibt keine Duplikate in dem Datensatz"
   ]
  },
  {
   "cell_type": "code",
   "execution_count": 14,
   "metadata": {},
   "outputs": [
    {
     "name": "stdout",
     "output_type": "stream",
     "text": [
      "root\n",
      " |-- network: string (nullable = true)\n",
      " |-- autonomous_system_number: integer (nullable = true)\n",
      " |-- autonomous_system_organization: string (nullable = true)\n",
      "\n"
     ]
    }
   ],
   "source": [
    "df_asn_blocks_ipv4.printSchema()"
   ]
  },
  {
   "cell_type": "markdown",
   "metadata": {},
   "source": [
    "### Anlayse der Spalten"
   ]
  },
  {
   "cell_type": "code",
   "execution_count": 24,
   "metadata": {},
   "outputs": [
    {
     "data": {
      "text/plain": [
       "0"
      ]
     },
     "execution_count": 24,
     "metadata": {},
     "output_type": "execute_result"
    }
   ],
   "source": [
    "df_asn_blocks_ipv4.filter(df_asn_blocks_ipv4[\"network\"]==\"null\").count()"
   ]
  },
  {
   "cell_type": "markdown",
   "metadata": {},
   "source": [
    "* keine Null Values"
   ]
  },
  {
   "cell_type": "code",
   "execution_count": 25,
   "metadata": {},
   "outputs": [
    {
     "data": {
      "text/plain": [
       "0"
      ]
     },
     "execution_count": 25,
     "metadata": {},
     "output_type": "execute_result"
    }
   ],
   "source": [
    "df_asn_blocks_ipv4.filter(df_asn_blocks_ipv4[\"autonomous_system_number\"]==\"null\").count()"
   ]
  },
  {
   "cell_type": "markdown",
   "metadata": {},
   "source": [
    "* keine Null Values"
   ]
  },
  {
   "cell_type": "code",
   "execution_count": 26,
   "metadata": {},
   "outputs": [
    {
     "data": {
      "text/plain": [
       "0"
      ]
     },
     "execution_count": 26,
     "metadata": {},
     "output_type": "execute_result"
    }
   ],
   "source": [
    "df_asn_blocks_ipv4.filter(df_asn_blocks_ipv4[\"autonomous_system_organization\"]==\"null\").count()"
   ]
  },
  {
   "cell_type": "markdown",
   "metadata": {},
   "source": [
    "* keine Null Values"
   ]
  },
  {
   "cell_type": "markdown",
   "metadata": {},
   "source": [
    "## GeoLite2-Country-Locations-en"
   ]
  },
  {
   "cell_type": "code",
   "execution_count": 15,
   "metadata": {},
   "outputs": [],
   "source": [
    "schema_country = StructType([\n",
    "    StructField(\"geoname_id\", IntegerType(), True),\n",
    "    StructField(\"locale_code\", StringType(), True),\n",
    "    StructField(\"continent_code\", StringType(), True),\n",
    "    StructField(\"continent_name\", StringType(), True),\n",
    "    StructField(\"country_iso_code\", StringType(), True),\n",
    "    StructField(\"country_name\", StringType(), True),\n",
    "    StructField(\"is_in_european_union\", StringType(), True)\n",
    "])\n",
    "\n",
    "df_country = spark.read.csv(\"s3a://bucket/GeoLite2-Country-Locations-en.csv\", header=True, schema=schema_country).cache()"
   ]
  },
  {
   "cell_type": "code",
   "execution_count": 16,
   "metadata": {},
   "outputs": [
    {
     "name": "stdout",
     "output_type": "stream",
     "text": [
      "+----------+-----------+--------------+--------------+----------------+------------+--------------------+\n",
      "|geoname_id|locale_code|continent_code|continent_name|country_iso_code|country_name|is_in_european_union|\n",
      "+----------+-----------+--------------+--------------+----------------+------------+--------------------+\n",
      "|     49518|         en|            AF|        Africa|              RW|      Rwanda|                   0|\n",
      "|     51537|         en|            AF|        Africa|              SO|     Somalia|                   0|\n",
      "|     69543|         en|            AS|          Asia|              YE|       Yemen|                   0|\n",
      "|     99237|         en|            AS|          Asia|              IQ|        Iraq|                   0|\n",
      "|    102358|         en|            AS|          Asia|              SA|Saudi Arabia|                   0|\n",
      "+----------+-----------+--------------+--------------+----------------+------------+--------------------+\n",
      "only showing top 5 rows\n",
      "\n"
     ]
    }
   ],
   "source": [
    "df_country.show(5)"
   ]
  },
  {
   "cell_type": "code",
   "execution_count": 17,
   "metadata": {
    "scrolled": true
   },
   "outputs": [
    {
     "name": "stdout",
     "output_type": "stream",
     "text": [
      "root\n",
      " |-- geoname_id: integer (nullable = true)\n",
      " |-- locale_code: string (nullable = true)\n",
      " |-- continent_code: string (nullable = true)\n",
      " |-- continent_name: string (nullable = true)\n",
      " |-- country_iso_code: string (nullable = true)\n",
      " |-- country_name: string (nullable = true)\n",
      " |-- is_in_european_union: string (nullable = true)\n",
      "\n"
     ]
    }
   ],
   "source": [
    "df_country.printSchema()"
   ]
  },
  {
   "cell_type": "code",
   "execution_count": 30,
   "metadata": {},
   "outputs": [
    {
     "data": {
      "text/plain": [
       "252"
      ]
     },
     "execution_count": 30,
     "metadata": {},
     "output_type": "execute_result"
    }
   ],
   "source": [
    "df_country.count()"
   ]
  },
  {
   "cell_type": "code",
   "execution_count": 31,
   "metadata": {},
   "outputs": [
    {
     "data": {
      "text/plain": [
       "252"
      ]
     },
     "execution_count": 31,
     "metadata": {},
     "output_type": "execute_result"
    }
   ],
   "source": [
    "df_country.dropDuplicates().count()"
   ]
  },
  {
   "cell_type": "markdown",
   "metadata": {},
   "source": [
    "* es gibt keine Duplikate in dem Datensatz"
   ]
  },
  {
   "cell_type": "code",
   "execution_count": 32,
   "metadata": {},
   "outputs": [
    {
     "data": {
      "text/plain": [
       "0"
      ]
     },
     "execution_count": 32,
     "metadata": {},
     "output_type": "execute_result"
    }
   ],
   "source": [
    "df_country.filter(df_country[\"country_name\"]==\"null\").count()"
   ]
  },
  {
   "cell_type": "markdown",
   "metadata": {},
   "source": [
    "* keine Null Values"
   ]
  },
  {
   "cell_type": "markdown",
   "metadata": {},
   "source": [
    "## GeoLite2-City-Locations-en"
   ]
  },
  {
   "cell_type": "code",
   "execution_count": 123,
   "metadata": {},
   "outputs": [],
   "source": [
    "schema_city = StructType([\n",
    "    StructField(\"geoname_id\", IntegerType(), True),\n",
    "    StructField(\"locale_code\", StringType(), True),\n",
    "    StructField(\"continent_code\", StringType(), True),\n",
    "    StructField(\"continent_name\", StringType(), True),\n",
    "    StructField(\"country_iso_code\", StringType(), True),\n",
    "    StructField(\"country_name\", StringType(), True),\n",
    "    StructField(\"subdivision_1_iso_code\", StringType(), True),\n",
    "    StructField(\"subdivision_1_name\", StringType(), True),\n",
    "    StructField(\"subdivision_2_iso_code\", StringType(), True),\n",
    "    StructField(\"subdivision_2_name\", StringType(), True),\n",
    "    StructField(\"city_name\", StringType(), True),\n",
    "    StructField(\"metro_code\", StringType(), True),\n",
    "    StructField(\"time_zone\", StringType(), True),\n",
    "    StructField(\"is_in_european_union\", StringType(), True)\n",
    "])\n",
    "\n",
    "df_city = spark.read.csv(\"s3a://bucket/GeoLite2-City-Locations-en.csv\", header=True, schema = schema_city).cache()"
   ]
  },
  {
   "cell_type": "code",
   "execution_count": 19,
   "metadata": {},
   "outputs": [
    {
     "name": "stdout",
     "output_type": "stream",
     "text": [
      "+----------+-----------+--------------+--------------+----------------+------------+----------------------+------------------+----------------------+------------------+---------+----------+----------------+--------------------+\n",
      "|geoname_id|locale_code|continent_code|continent_name|country_iso_code|country_name|subdivision_1_iso_code|subdivision_1_name|subdivision_2_iso_code|subdivision_2_name|city_name|metro_code|       time_zone|is_in_european_union|\n",
      "+----------+-----------+--------------+--------------+----------------+------------+----------------------+------------------+----------------------+------------------+---------+----------+----------------+--------------------+\n",
      "|     49518|         en|            AF|        Africa|              RW|      Rwanda|                  null|              null|                  null|              null|     null|      null|   Africa/Kigali|                   0|\n",
      "|     49747|         en|            AF|        Africa|              SO|     Somalia|                    BK|            Bakool|                  null|              null|    Oddur|      null|Africa/Mogadishu|                   0|\n",
      "|     51537|         en|            AF|        Africa|              SO|     Somalia|                  null|              null|                  null|              null|     null|      null|Africa/Mogadishu|                   0|\n",
      "|     53654|         en|            AF|        Africa|              SO|     Somalia|                    BN|          Banaadir|                  null|              null|Mogadishu|      null|Africa/Mogadishu|                   0|\n",
      "|     54225|         en|            AF|        Africa|              SO|     Somalia|                    SH|   Lower Shabeelle|                  null|              null|    Merca|      null|Africa/Mogadishu|                   0|\n",
      "+----------+-----------+--------------+--------------+----------------+------------+----------------------+------------------+----------------------+------------------+---------+----------+----------------+--------------------+\n",
      "only showing top 5 rows\n",
      "\n"
     ]
    }
   ],
   "source": [
    "df_city.show(5)"
   ]
  },
  {
   "cell_type": "code",
   "execution_count": 108,
   "metadata": {},
   "outputs": [
    {
     "name": "stdout",
     "output_type": "stream",
     "text": [
      "root\n",
      " |-- geoname_id: integer (nullable = true)\n",
      " |-- locale_code: string (nullable = true)\n",
      " |-- continent_code: string (nullable = true)\n",
      " |-- continent_name: string (nullable = true)\n",
      " |-- country_iso_code: string (nullable = true)\n",
      " |-- country_name: string (nullable = true)\n",
      " |-- subdivision_1_iso_code: string (nullable = true)\n",
      " |-- subdivision_1_name: string (nullable = true)\n",
      " |-- subdivision_2_iso_code: string (nullable = true)\n",
      " |-- subdivision_2_name: string (nullable = true)\n",
      " |-- city_name: string (nullable = true)\n",
      " |-- metro_code: string (nullable = true)\n",
      " |-- time_zone: string (nullable = true)\n",
      " |-- is_in_european_union: string (nullable = true)\n",
      "\n"
     ]
    }
   ],
   "source": [
    "df_city.printSchema()"
   ]
  },
  {
   "cell_type": "code",
   "execution_count": 36,
   "metadata": {},
   "outputs": [
    {
     "data": {
      "text/plain": [
       "121754"
      ]
     },
     "execution_count": 36,
     "metadata": {},
     "output_type": "execute_result"
    }
   ],
   "source": [
    "df_city.count()"
   ]
  },
  {
   "cell_type": "code",
   "execution_count": 37,
   "metadata": {},
   "outputs": [
    {
     "data": {
      "text/plain": [
       "121754"
      ]
     },
     "execution_count": 37,
     "metadata": {},
     "output_type": "execute_result"
    }
   ],
   "source": [
    "df_city.dropDuplicates().count()"
   ]
  },
  {
   "cell_type": "markdown",
   "metadata": {},
   "source": [
    "* es gibt keine Duplikate in dem Datensatz"
   ]
  },
  {
   "cell_type": "code",
   "execution_count": 38,
   "metadata": {},
   "outputs": [
    {
     "data": {
      "text/plain": [
       "0"
      ]
     },
     "execution_count": 38,
     "metadata": {},
     "output_type": "execute_result"
    }
   ],
   "source": [
    "df_city.filter(df_city[\"city_name\"]==\"null\").count()"
   ]
  },
  {
   "cell_type": "markdown",
   "metadata": {},
   "source": [
    "* Keine Null Values"
   ]
  },
  {
   "cell_type": "markdown",
   "metadata": {},
   "source": [
    "# Data Cleaning"
   ]
  },
  {
   "cell_type": "markdown",
   "metadata": {},
   "source": [
    "## Entfernen von Sonderzeichen im Datensatz real Domains"
   ]
  },
  {
   "cell_type": "code",
   "execution_count": 185,
   "metadata": {},
   "outputs": [],
   "source": [
    "commaRep = udf(lambda x: re.sub('\"','', x))\n",
    "commaRep2 = udf(lambda x: re.sub(']','', x))\n",
    "commaRep3 = udf(lambda x: re.sub('\\[','', x))\n",
    "commaRep5 = udf(lambda x: re.sub('\\.','', x))"
   ]
  },
  {
   "cell_type": "code",
   "execution_count": 186,
   "metadata": {},
   "outputs": [
    {
     "name": "stdout",
     "output_type": "stream",
     "text": [
      "+----------------+-----------------------------------------------+-----------------------+\n",
      "|Top level domain|MX-Record                                      |A-Record               |\n",
      "+----------------+-----------------------------------------------+-----------------------+\n",
      "|0--1.de         |mail.0--1.de,mxf993.netcup.net                 |\"[\"\"46.38.249.145\"\"]\"  |\n",
      "|0--2.de         |mxf993.netcup.net,mail.0--2.de                 |\"[\"\"212.227.212.163\"\"]\"|\n",
      "|0-0-0-0-0.de    |smtp-02.tld.t-online.de,smtp-01.tld.t-online.de|\"[\"\"80.150.6.143\"\"]\"   |\n",
      "+----------------+-----------------------------------------------+-----------------------+\n",
      "only showing top 3 rows\n",
      "\n"
     ]
    }
   ],
   "source": [
    "df_MXClean=df.withColumn('MX-Record',commaRep('MX-Record'))\n",
    "df_MXClean=df_MXClean.withColumn('MX-Record',commaRep2('MX-Record'))\n",
    "df_MXClean=df_MXClean.withColumn('MX-Record',commaRep3('MX-Record'))\n",
    "df_MXClean.show(3, False)"
   ]
  },
  {
   "cell_type": "code",
   "execution_count": 187,
   "metadata": {},
   "outputs": [
    {
     "name": "stdout",
     "output_type": "stream",
     "text": [
      "+----------------+-----------------------------------------------------------+---------------+\n",
      "|Top level domain|MX-Record                                                  |A-Record       |\n",
      "+----------------+-----------------------------------------------------------+---------------+\n",
      "|0--1.de         |\"[\"\"mail.0--1.de\"\",\"\"mxf993.netcup.net\"\"]\"                 |46.38.249.145  |\n",
      "|0--2.de         |\"[\"\"mxf993.netcup.net\"\",\"\"mail.0--2.de\"\"]\"                 |212.227.212.163|\n",
      "|0-0-0-0-0.de    |\"[\"\"smtp-02.tld.t-online.de\"\",\"\"smtp-01.tld.t-online.de\"\"]\"|80.150.6.143   |\n",
      "+----------------+-----------------------------------------------------------+---------------+\n",
      "only showing top 3 rows\n",
      "\n"
     ]
    }
   ],
   "source": [
    "df_AClean=df.withColumn('A-Record',commaRep('A-Record'))\n",
    "df_AClean=df_AClean.withColumn('A-Record',commaRep2('A-Record'))\n",
    "df_AClean=df_AClean.withColumn('A-Record',commaRep3('A-Record'))\n",
    "df_AClean.show(3, False)"
   ]
  },
  {
   "cell_type": "markdown",
   "metadata": {},
   "source": [
    " ## Splitten der Spalten im Datensatz real_domains"
   ]
  },
  {
   "cell_type": "code",
   "execution_count": 188,
   "metadata": {},
   "outputs": [
    {
     "name": "stdout",
     "output_type": "stream",
     "text": [
      "+----------------+--------------------+--------------------+------+--------------------+\n",
      "|Top level domain|            A-Record|           MX-Record|pos_MX|              val_MX|\n",
      "+----------------+--------------------+--------------------+------+--------------------+\n",
      "|         0--1.de|\"[\"\"46.38.249.145...|[mail.0--1.de, mx...|     0|        mail.0--1.de|\n",
      "|         0--1.de|\"[\"\"46.38.249.145...|[mail.0--1.de, mx...|     1|   mxf993.netcup.net|\n",
      "|         0--2.de|\"[\"\"212.227.212.1...|[mxf993.netcup.ne...|     0|   mxf993.netcup.net|\n",
      "|         0--2.de|\"[\"\"212.227.212.1...|[mxf993.netcup.ne...|     1|        mail.0--2.de|\n",
      "|    0-0-0-0-0.de|\"[\"\"80.150.6.143\"\"]\"|[smtp-02.tld.t-on...|     0|smtp-02.tld.t-onl...|\n",
      "+----------------+--------------------+--------------------+------+--------------------+\n",
      "only showing top 5 rows\n",
      "\n"
     ]
    }
   ],
   "source": [
    "df_MXSplit=df_MXClean.select(\n",
    "        \"Top level domain\", \"A-Record\",\n",
    "        f.split(\"MX-Record\", \",\").alias(\"MX-Record\"),\n",
    "        f.posexplode(f.split(\"MX-Record\", \",\")).alias(\"pos_MX\", \"val_MX\")\n",
    "    )\n",
    "df_MXSplit.show(5)"
   ]
  },
  {
   "cell_type": "code",
   "execution_count": 189,
   "metadata": {},
   "outputs": [
    {
     "name": "stdout",
     "output_type": "stream",
     "text": [
      "+-------------------+--------------------+-----------------+-----+---------------+\n",
      "|   Top level domain|           MX-Record|         A-Record|pos_A|          val_A|\n",
      "+-------------------+--------------------+-----------------+-----+---------------+\n",
      "|            0--1.de|\"[\"\"mail.0--1.de\"...|  [46.38.249.145]|    0|  46.38.249.145|\n",
      "|            0--2.de|\"[\"\"mxf993.netcup...|[212.227.212.163]|    0|212.227.212.163|\n",
      "|       0-0-0-0-0.de|\"[\"\"smtp-02.tld.t...|   [80.150.6.143]|    0|   80.150.6.143|\n",
      "|         0-0-0-1.de|\"[\"\"smtp-02.tld.t...|   [80.150.6.143]|    0|   80.150.6.143|\n",
      "|             0-0.de|                  []|  [185.53.178.13]|    0|  185.53.178.13|\n",
      "|            0-01.de|\"[\"\"mail.0-01.de\"\"]\"| [193.34.145.200]|    0| 193.34.145.200|\n",
      "|             0-1.de|   \"[\"\"localhost\"\"]\"| [91.195.241.137]|    0| 91.195.241.137|\n",
      "|            0-10.de|                  []|               []|    0|               |\n",
      "|          0-1000.de|   \"[\"\"localhost\"\"]\"| [91.195.241.137]|    0| 91.195.241.137|\n",
      "|        0-100kmh.de|\"[\"\"smtpin.rzone....|  [81.169.145.95]|    0|  81.169.145.95|\n",
      "|            0-12.de|   \"[\"\"localhost\"\"]\"| [91.195.241.137]|    0| 91.195.241.137|\n",
      "|            0-17.de|   \"[\"\"localhost\"\"]\"| [91.195.241.137]|    0| 91.195.241.137|\n",
      "|             0-2.de|   \"[\"\"localhost\"\"]\"|      [127.0.0.1]|    0|      127.0.0.1|\n",
      "|      0-24domain.de|\"[\"\"pmx.bestcpane...| [194.38.104.220]|    0| 194.38.104.220|\n",
      "|           0-24h.de|\"[\"\"mxlb.ispgatew...|[134.209.177.247]|    0|134.209.177.247|\n",
      "|     0-24leasing.de|                  []|               []|    0|               |\n",
      "|0-24versicherung.de|                  []|               []|    0|               |\n",
      "|        0-263475.de|                  []|   [176.9.76.101]|    0|   176.9.76.101|\n",
      "|           0-3-0.de|                  []|               []|    0|               |\n",
      "|             0-3.de|\"[\"\"teller.ggeg.e...|[185.163.116.240]|    0|185.163.116.240|\n",
      "+-------------------+--------------------+-----------------+-----+---------------+\n",
      "only showing top 20 rows\n",
      "\n"
     ]
    }
   ],
   "source": [
    "df_ASplit=df_AClean.select(\n",
    "        \"Top level domain\", \"MX-Record\",\n",
    "        f.split(\"A-Record\", \", \").alias(\"A-Record\"),\n",
    "        f.posexplode(f.split(\"A-Record\", \",\")).alias(\"pos_A\", \"val_A\")\n",
    "    )\n",
    "df_ASplit.show(20)"
   ]
  },
  {
   "cell_type": "markdown",
   "metadata": {},
   "source": [
    "## Test"
   ]
  },
  {
   "cell_type": "code",
   "execution_count": 228,
   "metadata": {},
   "outputs": [
    {
     "data": {
      "text/plain": [
       "False"
      ]
     },
     "execution_count": 228,
     "metadata": {},
     "output_type": "execute_result"
    }
   ],
   "source": [
    "#ipaddress.IPv4Address('192.168.1.1') in ipaddress.IPv4Network('192.168.0.0/24')\n",
    "ipaddress.IPv4Address('127.0.0.1') in ipaddress.IPv4Network('192.168.0.0/16')"
   ]
  },
  {
   "cell_type": "markdown",
   "metadata": {},
   "source": [
    "# Neue Spalte Network in df_ASplit hinzufügen"
   ]
  },
  {
   "cell_type": "code",
   "execution_count": 233,
   "metadata": {},
   "outputs": [
    {
     "ename": "AddressValueError",
     "evalue": "Expected 4 octets in \"Column<'val_A'>\"",
     "output_type": "error",
     "traceback": [
      "\u001b[1;31m---------------------------------------------------------------------------\u001b[0m",
      "\u001b[1;31mAddressValueError\u001b[0m                         Traceback (most recent call last)",
      "\u001b[1;32m<ipython-input-233-218c065fc6a1>\u001b[0m in \u001b[0;36m<module>\u001b[1;34m\u001b[0m\n\u001b[0;32m      4\u001b[0m \u001b[1;31m#                                .otherwise(lit(\"False\")))\u001b[0m\u001b[1;33m\u001b[0m\u001b[1;33m\u001b[0m\u001b[1;33m\u001b[0m\u001b[0m\n\u001b[0;32m      5\u001b[0m \u001b[1;33m\u001b[0m\u001b[0m\n\u001b[1;32m----> 6\u001b[1;33m df_ASplit = df_ASplit.withColumn('network2', when(ipaddress.IPv4Address(str(df_ASplit.val_A)) in ipaddress.IPv4Network(df_asn_blocks_ipv4.network), lit(\"True\"))\\\n\u001b[0m\u001b[0;32m      7\u001b[0m                                .otherwise(lit(\"False\")))\n\u001b[0;32m      8\u001b[0m \u001b[1;33m\u001b[0m\u001b[0m\n",
      "\u001b[1;32m~\\anaconda3\\lib\\ipaddress.py\u001b[0m in \u001b[0;36m__init__\u001b[1;34m(self, address)\u001b[0m\n\u001b[0;32m   1250\u001b[0m         \u001b[1;32mif\u001b[0m \u001b[1;34m'/'\u001b[0m \u001b[1;32min\u001b[0m \u001b[0maddr_str\u001b[0m\u001b[1;33m:\u001b[0m\u001b[1;33m\u001b[0m\u001b[1;33m\u001b[0m\u001b[0m\n\u001b[0;32m   1251\u001b[0m             \u001b[1;32mraise\u001b[0m \u001b[0mAddressValueError\u001b[0m\u001b[1;33m(\u001b[0m\u001b[1;34m\"Unexpected '/' in %r\"\u001b[0m \u001b[1;33m%\u001b[0m \u001b[0maddress\u001b[0m\u001b[1;33m)\u001b[0m\u001b[1;33m\u001b[0m\u001b[1;33m\u001b[0m\u001b[0m\n\u001b[1;32m-> 1252\u001b[1;33m         \u001b[0mself\u001b[0m\u001b[1;33m.\u001b[0m\u001b[0m_ip\u001b[0m \u001b[1;33m=\u001b[0m \u001b[0mself\u001b[0m\u001b[1;33m.\u001b[0m\u001b[0m_ip_int_from_string\u001b[0m\u001b[1;33m(\u001b[0m\u001b[0maddr_str\u001b[0m\u001b[1;33m)\u001b[0m\u001b[1;33m\u001b[0m\u001b[1;33m\u001b[0m\u001b[0m\n\u001b[0m\u001b[0;32m   1253\u001b[0m \u001b[1;33m\u001b[0m\u001b[0m\n\u001b[0;32m   1254\u001b[0m     \u001b[1;33m@\u001b[0m\u001b[0mproperty\u001b[0m\u001b[1;33m\u001b[0m\u001b[1;33m\u001b[0m\u001b[0m\n",
      "\u001b[1;32m~\\anaconda3\\lib\\ipaddress.py\u001b[0m in \u001b[0;36m_ip_int_from_string\u001b[1;34m(cls, ip_str)\u001b[0m\n\u001b[0;32m   1142\u001b[0m         \u001b[0moctets\u001b[0m \u001b[1;33m=\u001b[0m \u001b[0mip_str\u001b[0m\u001b[1;33m.\u001b[0m\u001b[0msplit\u001b[0m\u001b[1;33m(\u001b[0m\u001b[1;34m'.'\u001b[0m\u001b[1;33m)\u001b[0m\u001b[1;33m\u001b[0m\u001b[1;33m\u001b[0m\u001b[0m\n\u001b[0;32m   1143\u001b[0m         \u001b[1;32mif\u001b[0m \u001b[0mlen\u001b[0m\u001b[1;33m(\u001b[0m\u001b[0moctets\u001b[0m\u001b[1;33m)\u001b[0m \u001b[1;33m!=\u001b[0m \u001b[1;36m4\u001b[0m\u001b[1;33m:\u001b[0m\u001b[1;33m\u001b[0m\u001b[1;33m\u001b[0m\u001b[0m\n\u001b[1;32m-> 1144\u001b[1;33m             \u001b[1;32mraise\u001b[0m \u001b[0mAddressValueError\u001b[0m\u001b[1;33m(\u001b[0m\u001b[1;34m\"Expected 4 octets in %r\"\u001b[0m \u001b[1;33m%\u001b[0m \u001b[0mip_str\u001b[0m\u001b[1;33m)\u001b[0m\u001b[1;33m\u001b[0m\u001b[1;33m\u001b[0m\u001b[0m\n\u001b[0m\u001b[0;32m   1145\u001b[0m \u001b[1;33m\u001b[0m\u001b[0m\n\u001b[0;32m   1146\u001b[0m         \u001b[1;32mtry\u001b[0m\u001b[1;33m:\u001b[0m\u001b[1;33m\u001b[0m\u001b[1;33m\u001b[0m\u001b[0m\n",
      "\u001b[1;31mAddressValueError\u001b[0m: Expected 4 octets in \"Column<'val_A'>\""
     ]
    }
   ],
   "source": [
    "from ipaddress import ip_network, ip_address\n",
    "\n",
    "#df_ASplit = df_ASplit.withColumn('network2', when(ip_address(str(df_ASplit.val_A)) in ip_network(df_asn_blocks_ipv4.network), lit(\"True\"))\\\n",
    "#                                .otherwise(lit(\"False\")))\n",
    "\n",
    "df_ASplit = df_ASplit.withColumn('network2', when(ipaddress.IPv4Address(str(df_ASplit.val_A)) in ipaddress.IPv4Network(df_asn_blocks_ipv4.network), lit(\"True\"))\\\n",
    "                               .otherwise(lit(\"False\")))\n",
    "\n",
    "df_ASplit2.show(3, False)"
   ]
  },
  {
   "cell_type": "code",
   "execution_count": 44,
   "metadata": {},
   "outputs": [
    {
     "data": {
      "text/plain": [
       "5540060"
      ]
     },
     "execution_count": 44,
     "metadata": {},
     "output_type": "execute_result"
    }
   ],
   "source": [
    "df_ASplit.count()"
   ]
  },
  {
   "cell_type": "code",
   "execution_count": 26,
   "metadata": {},
   "outputs": [
    {
     "name": "stdout",
     "output_type": "stream",
     "text": [
      "root\n",
      " |-- Top level domain: string (nullable = true)\n",
      " |-- MX-Record: string (nullable = true)\n",
      " |-- A-Record: array (nullable = true)\n",
      " |    |-- element: string (containsNull = true)\n",
      " |-- pos_A: integer (nullable = false)\n",
      " |-- val_A: string (nullable = true)\n",
      "\n"
     ]
    }
   ],
   "source": [
    "df_ASplit.printSchema()"
   ]
  },
  {
   "cell_type": "markdown",
   "metadata": {},
   "source": [
    "## Entfernen von Sonderzeichen im Datensatz asn ip4 Blocks"
   ]
  },
  {
   "cell_type": "code",
   "execution_count": null,
   "metadata": {},
   "outputs": [],
   "source": [
    "#commaRep4 = udf(lambda x: re.sub('/','', x))"
   ]
  },
  {
   "cell_type": "code",
   "execution_count": 217,
   "metadata": {},
   "outputs": [
    {
     "name": "stdout",
     "output_type": "stream",
     "text": [
      "+------------+------------------------+------------------------------+--------------+------------+\n",
      "|     network|autonomous_system_number|autonomous_system_organization|network_adress|subnetzmaske|\n",
      "+------------+------------------------+------------------------------+--------------+------------+\n",
      "|  1.0.0.0/24|                   13335|                 CLOUDFLARENET|       1.0.0.0|          24|\n",
      "|  1.0.4.0/22|                   38803|          Wirefreebroadband...|       1.0.4.0|          22|\n",
      "| 1.0.64.0/18|                   18144|          Energia Communica...|      1.0.64.0|          18|\n",
      "|1.0.128.0/17|                   23969|          TOT Public Compan...|     1.0.128.0|          17|\n",
      "|  1.1.1.0/24|                   13335|                 CLOUDFLARENET|       1.1.1.0|          24|\n",
      "|  1.1.8.0/24|                   58543|                     Guangdong|       1.1.8.0|          24|\n",
      "| 1.1.64.0/19|                    2519|          ARTERIA Networks ...|      1.1.64.0|          19|\n",
      "| 1.1.96.0/20|                    2519|          ARTERIA Networks ...|      1.1.96.0|          20|\n",
      "|1.1.112.0/21|                    2519|          ARTERIA Networks ...|     1.1.112.0|          21|\n",
      "|1.1.120.0/22|                    2519|          ARTERIA Networks ...|     1.1.120.0|          22|\n",
      "|1.1.124.0/23|                    2519|          ARTERIA Networks ...|     1.1.124.0|          23|\n",
      "|1.1.126.0/24|                    2519|          ARTERIA Networks ...|     1.1.126.0|          24|\n",
      "|1.1.128.0/17|                   23969|          TOT Public Compan...|     1.1.128.0|          17|\n",
      "|  1.2.4.0/24|                   24151|          China Internet Ne...|       1.2.4.0|          24|\n",
      "|1.2.128.0/17|                   23969|          TOT Public Compan...|     1.2.128.0|          17|\n",
      "|1.4.128.0/17|                   23969|          TOT Public Compan...|     1.4.128.0|          17|\n",
      "|  1.5.0.0/16|                    4725|                SoftBank Corp.|       1.5.0.0|          16|\n",
      "|  1.6.0.0/17|                    9583|                  Sify Limited|       1.6.0.0|          17|\n",
      "|1.6.128.0/21|                    9583|                  Sify Limited|     1.6.128.0|          21|\n",
      "|1.6.136.0/24|                  132215|          Power Grid Corpor...|     1.6.136.0|          24|\n",
      "+------------+------------------------+------------------------------+--------------+------------+\n",
      "only showing top 20 rows\n",
      "\n"
     ]
    }
   ],
   "source": [
    "split_col = f.split(df_asn_blocks_ipv4['network'], '/')\n",
    "df_asn_blocks_ipv4 = df_asn_blocks_ipv4.withColumn('network_adress', split_col.getItem(0))\n",
    "df_asn_blocks_ipv4 = df_asn_blocks_ipv4.withColumn('subnetzmaske', split_col.getItem(1))\n",
    "\n",
    "df_asn_blocks_ipv4.show()"
   ]
  },
  {
   "cell_type": "markdown",
   "metadata": {},
   "source": [
    "## Test"
   ]
  },
  {
   "cell_type": "code",
   "execution_count": 214,
   "metadata": {},
   "outputs": [
    {
     "data": {
      "text/plain": [
       "[IPv4Address('192.0.2.1'),\n",
       " IPv4Address('192.0.2.2'),\n",
       " IPv4Address('192.0.2.3'),\n",
       " IPv4Address('192.0.2.4'),\n",
       " IPv4Address('192.0.2.5'),\n",
       " IPv4Address('192.0.2.6')]"
      ]
     },
     "execution_count": 214,
     "metadata": {},
     "output_type": "execute_result"
    }
   ],
   "source": [
    "list(ip_network('192.0.2.0/29').hosts()) "
   ]
  },
  {
   "cell_type": "markdown",
   "metadata": {},
   "source": [
    "# Neue Spalte Ip-Adresse in df_asn_blocks_ipv4 hinzufügen"
   ]
  },
  {
   "cell_type": "code",
   "execution_count": 234,
   "metadata": {},
   "outputs": [
    {
     "ename": "ValueError",
     "evalue": "Column<'network'> does not appear to be an IPv4 or IPv6 network",
     "output_type": "error",
     "traceback": [
      "\u001b[1;31m---------------------------------------------------------------------------\u001b[0m",
      "\u001b[1;31mValueError\u001b[0m                                Traceback (most recent call last)",
      "\u001b[1;32m<ipython-input-234-93bb3e866049>\u001b[0m in \u001b[0;36m<module>\u001b[1;34m\u001b[0m\n\u001b[1;32m----> 1\u001b[1;33m \u001b[0mdf_asn_blocks_ipv4\u001b[0m \u001b[1;33m=\u001b[0m \u001b[0mdf_asn_blocks_ipv4\u001b[0m\u001b[1;33m.\u001b[0m\u001b[0mwithColumn\u001b[0m\u001b[1;33m(\u001b[0m\u001b[1;34m'ip_adress'\u001b[0m\u001b[1;33m,\u001b[0m \u001b[0mlist\u001b[0m\u001b[1;33m(\u001b[0m\u001b[0mip_network\u001b[0m\u001b[1;33m(\u001b[0m\u001b[0mdf_asn_blocks_ipv4\u001b[0m\u001b[1;33m.\u001b[0m\u001b[0mnetwork\u001b[0m\u001b[1;33m)\u001b[0m\u001b[1;33m.\u001b[0m\u001b[0mhosts\u001b[0m\u001b[1;33m(\u001b[0m\u001b[1;33m)\u001b[0m\u001b[1;33m)\u001b[0m\u001b[1;33m)\u001b[0m\u001b[1;33m\u001b[0m\u001b[1;33m\u001b[0m\u001b[0m\n\u001b[0m\u001b[0;32m      2\u001b[0m \u001b[1;33m\u001b[0m\u001b[0m\n\u001b[0;32m      3\u001b[0m \u001b[1;31m#df_asn_blocks_ipv4 = df_asn_blocks_ipv4.withColumn('ip_adress', list(ipaddress.IPv4Network(df_asn_blocks_ipv4.network).hosts()))\u001b[0m\u001b[1;33m\u001b[0m\u001b[1;33m\u001b[0m\u001b[1;33m\u001b[0m\u001b[0m\n",
      "\u001b[1;32m~\\anaconda3\\lib\\ipaddress.py\u001b[0m in \u001b[0;36mip_network\u001b[1;34m(address, strict)\u001b[0m\n\u001b[0;32m     81\u001b[0m         \u001b[1;32mpass\u001b[0m\u001b[1;33m\u001b[0m\u001b[1;33m\u001b[0m\u001b[0m\n\u001b[0;32m     82\u001b[0m \u001b[1;33m\u001b[0m\u001b[0m\n\u001b[1;32m---> 83\u001b[1;33m     raise ValueError('%r does not appear to be an IPv4 or IPv6 network' %\n\u001b[0m\u001b[0;32m     84\u001b[0m                      address)\n\u001b[0;32m     85\u001b[0m \u001b[1;33m\u001b[0m\u001b[0m\n",
      "\u001b[1;31mValueError\u001b[0m: Column<'network'> does not appear to be an IPv4 or IPv6 network"
     ]
    }
   ],
   "source": [
    "df_asn_blocks_ipv4 = df_asn_blocks_ipv4.withColumn('ip_adress', list(ip_network(df_asn_blocks_ipv4.network).hosts()))\n",
    "\n",
    "#df_asn_blocks_ipv4 = df_asn_blocks_ipv4.withColumn('ip_adress', list(ipaddress.IPv4Network(df_asn_blocks_ipv4.network).hosts()))"
   ]
  },
  {
   "cell_type": "code",
   "execution_count": null,
   "metadata": {},
   "outputs": [],
   "source": [
    "#df_networkClean=df_asn_blocks_ipv4.withColumn('network',commaRep4('network'))\n",
    "#df_networkClean.show(3, False)"
   ]
  },
  {
   "cell_type": "code",
   "execution_count": null,
   "metadata": {},
   "outputs": [],
   "source": [
    "#df_networkClean.printSchema()"
   ]
  },
  {
   "cell_type": "code",
   "execution_count": 28,
   "metadata": {},
   "outputs": [
    {
     "name": "stdout",
     "output_type": "stream",
     "text": [
      "root\n",
      " |-- network: string (nullable = true)\n",
      " |-- autonomous_system_number: integer (nullable = true)\n",
      " |-- autonomous_system_organization: string (nullable = true)\n",
      " |-- network_adress: string (nullable = true)\n",
      " |-- subnetzmaske: string (nullable = true)\n",
      "\n"
     ]
    }
   ],
   "source": [
    "df_asn_blocks_ipv4.printSchema()"
   ]
  },
  {
   "cell_type": "markdown",
   "metadata": {},
   "source": [
    "## Unbenötigte Spalten im Datensatz asn ip4 country entfernen "
   ]
  },
  {
   "cell_type": "code",
   "execution_count": 68,
   "metadata": {},
   "outputs": [],
   "source": [
    "df_country = df_country.drop(\"locale_code\", \"continent_code\", \"continent_name\", \"country_iso_code\", \"is_in_european_union\")"
   ]
  },
  {
   "cell_type": "code",
   "execution_count": 69,
   "metadata": {
    "scrolled": true
   },
   "outputs": [
    {
     "name": "stdout",
     "output_type": "stream",
     "text": [
      "+----------+--------------------+\n",
      "|geoname_id|        country_name|\n",
      "+----------+--------------------+\n",
      "|     49518|              Rwanda|\n",
      "|     51537|             Somalia|\n",
      "|     69543|               Yemen|\n",
      "|     99237|                Iraq|\n",
      "|    102358|        Saudi Arabia|\n",
      "|    130758|                Iran|\n",
      "|    146669|              Cyprus|\n",
      "|    149590|            Tanzania|\n",
      "|    163843|               Syria|\n",
      "|    174982|             Armenia|\n",
      "|    192950|               Kenya|\n",
      "|    203312|            DR Congo|\n",
      "|    223816|            Djibouti|\n",
      "|    226074|              Uganda|\n",
      "|    239880|Central African R...|\n",
      "|    241170|          Seychelles|\n",
      "|    248816|              Jordan|\n",
      "|    272103|             Lebanon|\n",
      "|    285570|              Kuwait|\n",
      "|    286963|                Oman|\n",
      "+----------+--------------------+\n",
      "only showing top 20 rows\n",
      "\n"
     ]
    }
   ],
   "source": [
    "df_country.show()"
   ]
  },
  {
   "cell_type": "markdown",
   "metadata": {},
   "source": [
    "## Unbenötigte Spalten im Datensatz asn ip4 city entfernen"
   ]
  },
  {
   "cell_type": "code",
   "execution_count": 124,
   "metadata": {},
   "outputs": [],
   "source": [
    "df_city = df_city.drop(\"locale_code\", \"continent_code\", \"continent_name\", \"country_iso_code\", \"country_name\", \n",
    "                             \"subdivision_1_iso_code\", \"subdivision_1_name\", \"subdivision_2_iso_code\", \"subdivision_2_name\",\n",
    "                             \"metro_code\", \"time_zone\", \"is_in_european_union\")"
   ]
  },
  {
   "cell_type": "code",
   "execution_count": 125,
   "metadata": {
    "scrolled": true
   },
   "outputs": [
    {
     "name": "stdout",
     "output_type": "stream",
     "text": [
      "+----------+------------+\n",
      "|geoname_id|   city_name|\n",
      "+----------+------------+\n",
      "|     49518|        null|\n",
      "|     49747|       Oddur|\n",
      "|     51537|        null|\n",
      "|     53654|   Mogadishu|\n",
      "|     54225|       Merca|\n",
      "|     55671|     Kismayo|\n",
      "|     56335|      Giohar|\n",
      "|     57289|    Hargeisa|\n",
      "|     57723|    Gurmeyso|\n",
      "|     58933|     Garoowe|\n",
      "|     58994|Garbahaarrey|\n",
      "|     59611|   Gaalkacyo|\n",
      "|     60928| Dusa Marreb|\n",
      "|     62691|     Erigavo|\n",
      "|     63795|       Burao|\n",
      "|     63949|     Bu'aale|\n",
      "|     64013|      Bosaso|\n",
      "|     64460|  Beledweyne|\n",
      "|     64536|      Baidoa|\n",
      "|     69426|    Zinjibar|\n",
      "+----------+------------+\n",
      "only showing top 20 rows\n",
      "\n"
     ]
    }
   ],
   "source": [
    "df_city.show()"
   ]
  },
  {
   "cell_type": "markdown",
   "metadata": {},
   "source": [
    "# Analyse"
   ]
  },
  {
   "cell_type": "markdown",
   "metadata": {},
   "source": [
    "## Joining von Tabelle real_new und asn_blocks_ipv4"
   ]
  },
  {
   "cell_type": "code",
   "execution_count": 33,
   "metadata": {},
   "outputs": [],
   "source": [
    "df_gejoint = df_ASplit.join(df_asn_blocks_ipv4, df_ASplit[\"val_A\"] == df_asn_blocks_ipv4[\"network_adress\"],\"inner\")"
   ]
  },
  {
   "cell_type": "code",
   "execution_count": 53,
   "metadata": {},
   "outputs": [
    {
     "data": {
      "text/plain": [
       "231"
      ]
     },
     "execution_count": 53,
     "metadata": {},
     "output_type": "execute_result"
    }
   ],
   "source": [
    "df_gejoint.count()"
   ]
  },
  {
   "cell_type": "code",
   "execution_count": null,
   "metadata": {},
   "outputs": [],
   "source": [
    "df_gejoint.show()"
   ]
  },
  {
   "cell_type": "markdown",
   "metadata": {},
   "source": [
    "## Joining von Tabelle df_country und df_city"
   ]
  },
  {
   "cell_type": "code",
   "execution_count": 72,
   "metadata": {},
   "outputs": [],
   "source": [
    "df_gejoint2 = df_country.join(df_city, df_country[\"geoname_id\"] == df_city[\"geoname_id\"])"
   ]
  },
  {
   "cell_type": "code",
   "execution_count": 56,
   "metadata": {},
   "outputs": [
    {
     "name": "stdout",
     "output_type": "stream",
     "text": [
      "+----------+--------------------+----------+---------+\n",
      "|geoname_id|        country_name|geoname_id|city_name|\n",
      "+----------+--------------------+----------+---------+\n",
      "|     49518|              Rwanda|     49518|     null|\n",
      "|     51537|             Somalia|     51537|     null|\n",
      "|     69543|               Yemen|     69543|     null|\n",
      "|     99237|                Iraq|     99237|     null|\n",
      "|    102358|        Saudi Arabia|    102358|     null|\n",
      "|    130758|                Iran|    130758|     null|\n",
      "|    146669|              Cyprus|    146669|     null|\n",
      "|    149590|            Tanzania|    149590|     null|\n",
      "|    163843|               Syria|    163843|     null|\n",
      "|    174982|             Armenia|    174982|     null|\n",
      "|    192950|               Kenya|    192950|     null|\n",
      "|    203312|            DR Congo|    203312|     null|\n",
      "|    223816|            Djibouti|    223816|     null|\n",
      "|    226074|              Uganda|    226074|     null|\n",
      "|    239880|Central African R...|    239880|     null|\n",
      "|    241170|          Seychelles|    241170|     null|\n",
      "|    248816|              Jordan|    248816|     null|\n",
      "|    272103|             Lebanon|    272103|     null|\n",
      "|    285570|              Kuwait|    285570|     null|\n",
      "|    286963|                Oman|    286963|     null|\n",
      "+----------+--------------------+----------+---------+\n",
      "only showing top 20 rows\n",
      "\n"
     ]
    }
   ],
   "source": [
    "df_gejoint2.show()"
   ]
  },
  {
   "cell_type": "markdown",
   "metadata": {},
   "source": [
    "#### Joining von all Tabellen"
   ]
  },
  {
   "cell_type": "code",
   "execution_count": null,
   "metadata": {},
   "outputs": [],
   "source": [
    "df_gejoint_all = df_networkClean2\\\n",
    "            .join(df_AClean2, df_networkClean2[\"network2\"] == df_AClean2[\"A-Record2\"])\\\n",
    "            .join(df_country, df_networkClean2[\"autonomous_system_number\"] == df_country[\"geoname_id\"])\\\n",
    "            .join(df_city, df_networkClean2[\"autonomous_system_number\"] == df_city[\"geoname_id\"])"
   ]
  },
  {
   "cell_type": "code",
   "execution_count": null,
   "metadata": {},
   "outputs": [],
   "source": [
    "df_gejoint_all.show()"
   ]
  }
 ],
 "metadata": {
  "kernelspec": {
   "display_name": "Python 3",
   "language": "python",
   "name": "python3"
  },
  "language_info": {
   "codemirror_mode": {
    "name": "ipython",
    "version": 3
   },
   "file_extension": ".py",
   "mimetype": "text/x-python",
   "name": "python",
   "nbconvert_exporter": "python",
   "pygments_lexer": "ipython3",
   "version": "3.8.3"
  }
 },
 "nbformat": 4,
 "nbformat_minor": 5
}
