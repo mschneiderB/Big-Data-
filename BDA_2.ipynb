{
 "cells": [
  {
   "cell_type": "code",
   "execution_count": 1,
   "id": "43f37e56",
   "metadata": {},
   "outputs": [],
   "source": [
    "from pyspark import SparkContext\n",
    "from pyspark.sql import SparkSession\n",
    "from pyspark.sql.types import StructType, StructField, IntegerType, StringType, StructType, BooleanType, ArrayType\n",
    "from pyspark.sql.functions import *\n",
    "import pyspark\n",
    "from pyspark.sql.functions import struct\n",
    "from pyspark.sql.functions import monotonically_increasing_id\n",
    "import pyspark.sql.functions as f\n",
    "from pyspark.sql.functions import udf\n",
    "from pyspark.sql.functions import col\n",
    "import re\n",
    "import ipaddress #import ip_network, ip_address\n",
    "from ipaddress import ip_network, ip_address\n",
    "import time\n",
    "from pyspark.sql import Row\n",
    "import pandas as pd\n",
    "#from netaddr import *\n",
    "#import geoip2.database\n",
    "#import ipaddr\n",
    "#Starten ohne Spark-Cluster\n",
    "spark = SparkSession.builder.getOrCreate()"
   ]
  },
  {
   "cell_type": "code",
   "execution_count": 2,
   "id": "8198c047",
   "metadata": {},
   "outputs": [],
   "source": [
    "# Verbindung zu Minio\n",
    "spark.sparkContext.setSystemProperty(\"com.amazonaws.services.s3.enableV4\", \"true\")\n",
    "spark.sparkContext._jsc.hadoopConfiguration().set(\"fs.s3a.access.key\", \"minio\")\n",
    "spark.sparkContext._jsc.hadoopConfiguration().set(\"fs.s3a.secret.key\", \"minio123\")\n",
    "spark.sparkContext._jsc.hadoopConfiguration().set(\"com.amazonaws.services.s3.enableV4\", \"true\")\n",
    "spark.sparkContext._jsc.hadoopConfiguration().set(\"fs.s3a.impl\", \"org.apache.hadoop.fs.s3a.S3AFileSystem\")\n",
    "spark.sparkContext._jsc.hadoopConfiguration().set(\"fs.s3a.path.style.access\", \"true\")\n",
    "spark.sparkContext._jsc.hadoopConfiguration().set(\"fs.s3a.endpoint\", \"http://minio1:9000\")"
   ]
  },
  {
   "cell_type": "code",
   "execution_count": 3,
   "id": "2958adb5",
   "metadata": {},
   "outputs": [],
   "source": [
    "schema = StructType([\n",
    "    StructField(\"Top level domain\", StringType(), True),\n",
    "    StructField(\"MX-Record from the name server\", StringType(), True),\n",
    "    StructField(\"A-Record of the specific domain\", StringType(), True),\n",
    "    StructField(\"Timestamp\", StringType(), True)])\n",
    "\n",
    "df = spark.read.csv(\"s3a://bucket/real_new.csv\",header=False,sep=\";\",schema=schema)"
   ]
  },
  {
   "cell_type": "markdown",
   "id": "0385f596",
   "metadata": {},
   "source": [
    "# Datenbeschreibung"
   ]
  },
  {
   "cell_type": "markdown",
   "id": "1384cf25",
   "metadata": {},
   "source": [
    "## real_domains"
   ]
  },
  {
   "cell_type": "markdown",
   "id": "e449ac5e",
   "metadata": {},
   "source": [
    "### Allgemein"
   ]
  },
  {
   "cell_type": "code",
   "execution_count": 4,
   "id": "4aad1d6d",
   "metadata": {
    "scrolled": true
   },
   "outputs": [
    {
     "name": "stdout",
     "output_type": "stream",
     "text": [
      "+----------------+------------------------------+-------------------------------+-------------------+\n",
      "|Top level domain|MX-Record from the name server|A-Record of the specific domain|          Timestamp|\n",
      "+----------------+------------------------------+-------------------------------+-------------------+\n",
      "|         0--1.de|          \"[\"\"mail.0--1.de\"...|           \"[\"\"46.38.249.145...|2020-12-13 15:36:05|\n",
      "|         0--2.de|          \"[\"\"mxf993.netcup...|           \"[\"\"212.227.212.1...|2020-12-13 15:36:05|\n",
      "|    0-0-0-0-0.de|          \"[\"\"smtp-02.tld.t...|           \"[\"\"80.150.6.143\"\"]\"|2020-12-13 15:36:05|\n",
      "|      0-0-0-1.de|          \"[\"\"smtp-02.tld.t...|           \"[\"\"80.150.6.143\"\"]\"|2020-12-13 15:36:05|\n",
      "|          0-0.de|                            []|           \"[\"\"185.53.178.13...|2020-12-13 15:36:05|\n",
      "+----------------+------------------------------+-------------------------------+-------------------+\n",
      "only showing top 5 rows\n",
      "\n"
     ]
    }
   ],
   "source": [
    "df.show(5)"
   ]
  },
  {
   "cell_type": "markdown",
   "id": "a0e494be",
   "metadata": {},
   "source": [
    "* Top level domain: Namensserver; das, was Personen sich merken können\n",
    "* Ein MX Resource Record weist einem Namen einen Mailserver zu. Er stellt eine Besonderheit dar, da er sich auf einen speziellen Dienst im Internet, nämlich die E-Mailzustellung mittels SMTP, bezieht. Alle anderen Dienste nutzen CNAME, A und AAAA Resource Records für die Namensauflösung.\n",
    "* Ein A Resource Record weist einem Namen eine IPv4-Adresse zu."
   ]
  },
  {
   "cell_type": "code",
   "execution_count": 5,
   "id": "acd62a51",
   "metadata": {},
   "outputs": [],
   "source": [
    "df= df.withColumn(\"id\", monotonically_increasing_id())"
   ]
  },
  {
   "cell_type": "code",
   "execution_count": 6,
   "id": "61334fba",
   "metadata": {},
   "outputs": [],
   "source": [
    "df=df.select(\"Top level domain\",\"MX-Record from the name server\",\"A-Record of the specific domain\")"
   ]
  },
  {
   "cell_type": "markdown",
   "id": "c0653bcc",
   "metadata": {},
   "source": [
    "* die Spalte Timestamp wird nicht benötigt"
   ]
  },
  {
   "cell_type": "code",
   "execution_count": 7,
   "id": "babc4fdb",
   "metadata": {},
   "outputs": [],
   "source": [
    "df=df.withColumnRenamed(\"MX-Record from the name server\", \"MX-Record\")"
   ]
  },
  {
   "cell_type": "code",
   "execution_count": 8,
   "id": "1c05186b",
   "metadata": {},
   "outputs": [],
   "source": [
    "df=df.withColumnRenamed(\"A-Record of the specific domain\", \"A-Record\")"
   ]
  },
  {
   "cell_type": "code",
   "execution_count": 9,
   "id": "da0996af",
   "metadata": {
    "scrolled": true
   },
   "outputs": [
    {
     "data": {
      "text/plain": [
       "pyspark.sql.dataframe.DataFrame"
      ]
     },
     "execution_count": 9,
     "metadata": {},
     "output_type": "execute_result"
    }
   ],
   "source": [
    "type(df)"
   ]
  },
  {
   "cell_type": "code",
   "execution_count": 10,
   "id": "14d9dc3c",
   "metadata": {
    "scrolled": true
   },
   "outputs": [
    {
     "data": {
      "text/plain": [
       "4860885"
      ]
     },
     "execution_count": 10,
     "metadata": {},
     "output_type": "execute_result"
    }
   ],
   "source": [
    "df.count()"
   ]
  },
  {
   "cell_type": "code",
   "execution_count": 11,
   "id": "0d60e8f1",
   "metadata": {},
   "outputs": [
    {
     "data": {
      "text/plain": [
       "4860885"
      ]
     },
     "execution_count": 11,
     "metadata": {},
     "output_type": "execute_result"
    }
   ],
   "source": [
    "df.dropDuplicates().count()"
   ]
  },
  {
   "cell_type": "markdown",
   "id": "01e12b86",
   "metadata": {},
   "source": [
    "* es gibt keine Duplikate in dem Datensatz"
   ]
  },
  {
   "cell_type": "code",
   "execution_count": 12,
   "id": "4478aaba",
   "metadata": {
    "scrolled": true
   },
   "outputs": [],
   "source": [
    "#df.filter(df[\"MX-Record\"].contains(']')).count()"
   ]
  },
  {
   "cell_type": "markdown",
   "id": "16116eb8",
   "metadata": {},
   "source": [
    "* es gibt 3 Zeilen, wo die Aufzeichnung von MX Records abgebrochen wurde"
   ]
  },
  {
   "cell_type": "code",
   "execution_count": 13,
   "id": "61e56fc6",
   "metadata": {},
   "outputs": [],
   "source": [
    "#df=df.filter(df[\"MX-Record\"].contains(']'))"
   ]
  },
  {
   "cell_type": "markdown",
   "id": "8fc12ed5",
   "metadata": {},
   "source": [
    "* diese Zeilen werden entfernt, da sie sich nicht reparieren lassen"
   ]
  },
  {
   "cell_type": "code",
   "execution_count": 14,
   "id": "c70f3c4c",
   "metadata": {},
   "outputs": [
    {
     "name": "stdout",
     "output_type": "stream",
     "text": [
      "root\n",
      " |-- Top level domain: string (nullable = true)\n",
      " |-- MX-Record: string (nullable = true)\n",
      " |-- A-Record: string (nullable = true)\n",
      "\n"
     ]
    }
   ],
   "source": [
    "df.printSchema()"
   ]
  },
  {
   "cell_type": "markdown",
   "id": "0937bbbe",
   "metadata": {},
   "source": [
    "### Top Level Domain"
   ]
  },
  {
   "cell_type": "code",
   "execution_count": 15,
   "id": "e4777ed5",
   "metadata": {
    "scrolled": true
   },
   "outputs": [
    {
     "data": {
      "text/plain": [
       "0"
      ]
     },
     "execution_count": 15,
     "metadata": {},
     "output_type": "execute_result"
    }
   ],
   "source": [
    "df.filter(df[\"Top level domain\"]==\"null\").count()"
   ]
  },
  {
   "cell_type": "markdown",
   "id": "db1b60f1",
   "metadata": {},
   "source": [
    "* keine Null Values"
   ]
  },
  {
   "cell_type": "code",
   "execution_count": 16,
   "id": "1007ddf3",
   "metadata": {},
   "outputs": [
    {
     "name": "stdout",
     "output_type": "stream",
     "text": [
      "+----------------+-----+\n",
      "|Top level domain|count|\n",
      "+----------------+-----+\n",
      "|         0001.de|    1|\n",
      "|         0068.de|    1|\n",
      "|  01705852694.de|    1|\n",
      "|         01pc.de|    1|\n",
      "|        02045.de|    1|\n",
      "+----------------+-----+\n",
      "only showing top 5 rows\n",
      "\n"
     ]
    }
   ],
   "source": [
    "dfTCount=df.groupBy(\"Top level domain\").count()\n",
    "dfTCount.orderBy(col(\"count\").desc()).show(5)"
   ]
  },
  {
   "cell_type": "markdown",
   "id": "d1a166c9",
   "metadata": {},
   "source": [
    "* es gibt keine doppelte TLD"
   ]
  },
  {
   "cell_type": "markdown",
   "id": "1a6e56fc",
   "metadata": {},
   "source": [
    "### MX Records"
   ]
  },
  {
   "cell_type": "code",
   "execution_count": 17,
   "id": "12f9653f",
   "metadata": {
    "scrolled": true
   },
   "outputs": [
    {
     "data": {
      "text/plain": [
       "0"
      ]
     },
     "execution_count": 17,
     "metadata": {},
     "output_type": "execute_result"
    }
   ],
   "source": [
    "df.filter(df[\"MX-Record\"]==\"null\").count()"
   ]
  },
  {
   "cell_type": "markdown",
   "id": "2bb53989",
   "metadata": {},
   "source": [
    "* keine Null Values"
   ]
  },
  {
   "cell_type": "code",
   "execution_count": 18,
   "id": "63216dbd",
   "metadata": {},
   "outputs": [
    {
     "name": "stdout",
     "output_type": "stream",
     "text": [
      "+-----------------------------------------------------+------+\n",
      "|MX-Record                                            |count |\n",
      "+-----------------------------------------------------+------+\n",
      "|[]                                                   |633040|\n",
      "|\"[\"\"smtpin.rzone.de\"\"]\"                              |509127|\n",
      "|\"[\"\"localhost\"\"]\"                                    |303839|\n",
      "|\"[\"\"mx01.kundenserver.de\"\",\"\"mx00.kundenserver.de\"\"]\"|176491|\n",
      "|\"[\"\"mx00.kundenserver.de\"\",\"\"mx01.kundenserver.de\"\"]\"|176182|\n",
      "+-----------------------------------------------------+------+\n",
      "only showing top 5 rows\n",
      "\n"
     ]
    }
   ],
   "source": [
    "dfMxCount=df.groupBy(\"MX-Record\").count()\n",
    "dfMxCount.orderBy(col(\"count\").desc()).show(5,False)"
   ]
  },
  {
   "cell_type": "markdown",
   "id": "6f365831",
   "metadata": {},
   "source": [
    "### A Records"
   ]
  },
  {
   "cell_type": "code",
   "execution_count": 10,
   "id": "26357e64",
   "metadata": {
    "scrolled": false
   },
   "outputs": [
    {
     "data": {
      "text/plain": [
       "10732"
      ]
     },
     "execution_count": 10,
     "metadata": {},
     "output_type": "execute_result"
    }
   ],
   "source": [
    "df.filter(df[\"A-Record\"]==\"null\").count()"
   ]
  },
  {
   "cell_type": "markdown",
   "id": "7e0c21ec",
   "metadata": {},
   "source": [
    "* es gibt 10.732 Null Values\n",
    "* diese können mit [] ersetzt werde"
   ]
  },
  {
   "cell_type": "code",
   "execution_count": 9,
   "id": "1bbf940e",
   "metadata": {},
   "outputs": [],
   "source": [
    "df=df.na.replace({\"null\": \"[]\"})"
   ]
  },
  {
   "cell_type": "code",
   "execution_count": 10,
   "id": "1b343d82",
   "metadata": {
    "scrolled": true
   },
   "outputs": [
    {
     "name": "stdout",
     "output_type": "stream",
     "text": [
      "+----------------------+------+\n",
      "|A-Record              |count |\n",
      "+----------------------+------+\n",
      "|\"[\"\"91.195.241.137\"\"]\"|303204|\n",
      "|[]                    |172019|\n",
      "|\"[\"\"80.150.6.143\"\"]\"  |150156|\n",
      "|\"[\"\"23.236.62.147\"\"]\" |59034 |\n",
      "|\"[\"\"52.58.78.16\"\"]\"   |49200 |\n",
      "+----------------------+------+\n",
      "only showing top 5 rows\n",
      "\n"
     ]
    }
   ],
   "source": [
    "dfACount=df.groupBy(\"A-Record\").count()\n",
    "dfACount.orderBy(col(\"count\").desc()).show(5, False)"
   ]
  },
  {
   "cell_type": "markdown",
   "id": "82698d50",
   "metadata": {},
   "source": [
    "## asn ip4 Blocks"
   ]
  },
  {
   "cell_type": "markdown",
   "id": "a6ac9fdf",
   "metadata": {},
   "source": [
    "### Allgemein"
   ]
  },
  {
   "cell_type": "code",
   "execution_count": 12,
   "id": "bf0cc010",
   "metadata": {},
   "outputs": [],
   "source": [
    "schema_blocks = StructType([\n",
    "    StructField(\"network\", StringType(), True),\n",
    "    StructField(\"autonomous_system_number\", IntegerType(), True),\n",
    "    StructField(\"autonomous_system_organization\", StringType(), True)\n",
    "])\n",
    "\n",
    "df_asn_blocks_ipv4 = spark.read.csv(\"s3a://bucket/GeoLite2-ASN-Blocks-IPv4.csv\", header=True, schema=schema_blocks).cache()"
   ]
  },
  {
   "cell_type": "code",
   "execution_count": 13,
   "id": "03cd5152",
   "metadata": {},
   "outputs": [
    {
     "name": "stdout",
     "output_type": "stream",
     "text": [
      "+------------+------------------------+------------------------------+\n",
      "|     network|autonomous_system_number|autonomous_system_organization|\n",
      "+------------+------------------------+------------------------------+\n",
      "|  1.0.0.0/24|                   13335|                 CLOUDFLARENET|\n",
      "|  1.0.4.0/22|                   38803|          Wirefreebroadband...|\n",
      "| 1.0.64.0/18|                   18144|          Energia Communica...|\n",
      "|1.0.128.0/17|                   23969|          TOT Public Compan...|\n",
      "|  1.1.1.0/24|                   13335|                 CLOUDFLARENET|\n",
      "+------------+------------------------+------------------------------+\n",
      "only showing top 5 rows\n",
      "\n"
     ]
    }
   ],
   "source": [
    "df_asn_blocks_ipv4.show(5)"
   ]
  },
  {
   "cell_type": "code",
   "execution_count": 16,
   "id": "53ede5d7",
   "metadata": {},
   "outputs": [
    {
     "data": {
      "text/plain": [
       "461902"
      ]
     },
     "execution_count": 16,
     "metadata": {},
     "output_type": "execute_result"
    }
   ],
   "source": [
    "df_asn_blocks_ipv4.count()"
   ]
  },
  {
   "cell_type": "code",
   "execution_count": 15,
   "id": "e86dc5e1",
   "metadata": {},
   "outputs": [
    {
     "data": {
      "text/plain": [
       "461902"
      ]
     },
     "execution_count": 15,
     "metadata": {},
     "output_type": "execute_result"
    }
   ],
   "source": [
    "df_asn_blocks_ipv4.dropDuplicates().count()"
   ]
  },
  {
   "cell_type": "markdown",
   "id": "bd85820c",
   "metadata": {},
   "source": [
    "* es gibt keine Duplikate in dem Datensatz"
   ]
  },
  {
   "cell_type": "code",
   "execution_count": 16,
   "id": "71b043c8",
   "metadata": {},
   "outputs": [
    {
     "name": "stdout",
     "output_type": "stream",
     "text": [
      "root\n",
      " |-- network: string (nullable = true)\n",
      " |-- autonomous_system_number: integer (nullable = true)\n",
      " |-- autonomous_system_organization: string (nullable = true)\n",
      "\n"
     ]
    }
   ],
   "source": [
    "df_asn_blocks_ipv4.printSchema()"
   ]
  },
  {
   "cell_type": "markdown",
   "id": "826cc7a7",
   "metadata": {},
   "source": [
    "### Anlayse der Spalten"
   ]
  },
  {
   "cell_type": "code",
   "execution_count": 27,
   "id": "c55463f4",
   "metadata": {},
   "outputs": [
    {
     "data": {
      "text/plain": [
       "0"
      ]
     },
     "execution_count": 27,
     "metadata": {},
     "output_type": "execute_result"
    }
   ],
   "source": [
    "df_asn_blocks_ipv4.filter(df_asn_blocks_ipv4[\"network\"]==\"null\").count()"
   ]
  },
  {
   "cell_type": "markdown",
   "id": "f2dbcc12",
   "metadata": {},
   "source": [
    "* keine Null Values"
   ]
  },
  {
   "cell_type": "code",
   "execution_count": 28,
   "id": "39e00db1",
   "metadata": {},
   "outputs": [
    {
     "data": {
      "text/plain": [
       "0"
      ]
     },
     "execution_count": 28,
     "metadata": {},
     "output_type": "execute_result"
    }
   ],
   "source": [
    "df_asn_blocks_ipv4.filter(df_asn_blocks_ipv4[\"autonomous_system_number\"]==\"null\").count()"
   ]
  },
  {
   "cell_type": "markdown",
   "id": "cdcf6956",
   "metadata": {},
   "source": [
    "* keine Null Values"
   ]
  },
  {
   "cell_type": "code",
   "execution_count": 29,
   "id": "fcac8545",
   "metadata": {},
   "outputs": [
    {
     "data": {
      "text/plain": [
       "0"
      ]
     },
     "execution_count": 29,
     "metadata": {},
     "output_type": "execute_result"
    }
   ],
   "source": [
    "df_asn_blocks_ipv4.filter(df_asn_blocks_ipv4[\"autonomous_system_organization\"]==\"null\").count()"
   ]
  },
  {
   "cell_type": "markdown",
   "id": "cec3fb2b",
   "metadata": {},
   "source": [
    "* keine Null Values"
   ]
  },
  {
   "cell_type": "markdown",
   "id": "f045456f",
   "metadata": {},
   "source": [
    "## GeoLite2-Country-Locations-en"
   ]
  },
  {
   "cell_type": "code",
   "execution_count": 30,
   "id": "3752be46",
   "metadata": {},
   "outputs": [],
   "source": [
    "schema_country = StructType([\n",
    "    StructField(\"geoname_id\", IntegerType(), True),\n",
    "    StructField(\"locale_code\", StringType(), True),\n",
    "    StructField(\"continent_code\", StringType(), True),\n",
    "    StructField(\"continent_name\", StringType(), True),\n",
    "    StructField(\"country_iso_code\", StringType(), True),\n",
    "    StructField(\"country_name\", StringType(), True),\n",
    "    StructField(\"is_in_european_union\", StringType(), True)\n",
    "])\n",
    "\n",
    "df_country = spark.read.csv(\"s3a://bucket/GeoLite2-Country-Locations-en.csv\", header=True, schema=schema_country).cache()"
   ]
  },
  {
   "cell_type": "code",
   "execution_count": 31,
   "id": "3fdd4a92",
   "metadata": {},
   "outputs": [
    {
     "name": "stdout",
     "output_type": "stream",
     "text": [
      "+----------+-----------+--------------+--------------+----------------+------------+--------------------+\n",
      "|geoname_id|locale_code|continent_code|continent_name|country_iso_code|country_name|is_in_european_union|\n",
      "+----------+-----------+--------------+--------------+----------------+------------+--------------------+\n",
      "|     49518|         en|            AF|        Africa|              RW|      Rwanda|                   0|\n",
      "|     51537|         en|            AF|        Africa|              SO|     Somalia|                   0|\n",
      "|     69543|         en|            AS|          Asia|              YE|       Yemen|                   0|\n",
      "|     99237|         en|            AS|          Asia|              IQ|        Iraq|                   0|\n",
      "|    102358|         en|            AS|          Asia|              SA|Saudi Arabia|                   0|\n",
      "+----------+-----------+--------------+--------------+----------------+------------+--------------------+\n",
      "only showing top 5 rows\n",
      "\n"
     ]
    }
   ],
   "source": [
    "df_country.show(5)"
   ]
  },
  {
   "cell_type": "code",
   "execution_count": 32,
   "id": "bf96c56c",
   "metadata": {
    "scrolled": true
   },
   "outputs": [
    {
     "name": "stdout",
     "output_type": "stream",
     "text": [
      "root\n",
      " |-- geoname_id: integer (nullable = true)\n",
      " |-- locale_code: string (nullable = true)\n",
      " |-- continent_code: string (nullable = true)\n",
      " |-- continent_name: string (nullable = true)\n",
      " |-- country_iso_code: string (nullable = true)\n",
      " |-- country_name: string (nullable = true)\n",
      " |-- is_in_european_union: string (nullable = true)\n",
      "\n"
     ]
    }
   ],
   "source": [
    "df_country.printSchema()"
   ]
  },
  {
   "cell_type": "code",
   "execution_count": 33,
   "id": "2c370c0f",
   "metadata": {},
   "outputs": [
    {
     "data": {
      "text/plain": [
       "252"
      ]
     },
     "execution_count": 33,
     "metadata": {},
     "output_type": "execute_result"
    }
   ],
   "source": [
    "df_country.count()"
   ]
  },
  {
   "cell_type": "code",
   "execution_count": 34,
   "id": "3bf3f3a8",
   "metadata": {},
   "outputs": [
    {
     "data": {
      "text/plain": [
       "252"
      ]
     },
     "execution_count": 34,
     "metadata": {},
     "output_type": "execute_result"
    }
   ],
   "source": [
    "df_country.dropDuplicates().count()"
   ]
  },
  {
   "cell_type": "markdown",
   "id": "125816b9",
   "metadata": {},
   "source": [
    "* es gibt keine Duplikate in dem Datensatz"
   ]
  },
  {
   "cell_type": "code",
   "execution_count": 35,
   "id": "8f8dfac5",
   "metadata": {},
   "outputs": [
    {
     "data": {
      "text/plain": [
       "0"
      ]
     },
     "execution_count": 35,
     "metadata": {},
     "output_type": "execute_result"
    }
   ],
   "source": [
    "df_country.filter(df_country[\"country_name\"]==\"null\").count()"
   ]
  },
  {
   "cell_type": "markdown",
   "id": "9f681a5c",
   "metadata": {},
   "source": [
    "* keine Null Values"
   ]
  },
  {
   "cell_type": "markdown",
   "id": "e15b00c3",
   "metadata": {},
   "source": [
    "## GeoLite2-City-Locations-en"
   ]
  },
  {
   "cell_type": "code",
   "execution_count": 36,
   "id": "abbad8e1",
   "metadata": {},
   "outputs": [],
   "source": [
    "schema_city = StructType([\n",
    "    StructField(\"geoname_id\", IntegerType(), True),\n",
    "    StructField(\"locale_code\", StringType(), True),\n",
    "    StructField(\"continent_code\", StringType(), True),\n",
    "    StructField(\"continent_name\", StringType(), True),\n",
    "    StructField(\"country_iso_code\", StringType(), True),\n",
    "    StructField(\"country_name\", StringType(), True),\n",
    "    StructField(\"subdivision_1_iso_code\", StringType(), True),\n",
    "    StructField(\"subdivision_1_name\", StringType(), True),\n",
    "    StructField(\"subdivision_2_iso_code\", StringType(), True),\n",
    "    StructField(\"subdivision_2_name\", StringType(), True),\n",
    "    StructField(\"city_name\", StringType(), True),\n",
    "    StructField(\"metro_code\", StringType(), True),\n",
    "    StructField(\"time_zone\", StringType(), True),\n",
    "    StructField(\"is_in_european_union\", StringType(), True)\n",
    "])\n",
    "\n",
    "df_city = spark.read.csv(\"s3a://bucket/GeoLite2-City-Locations-en.csv\", header=True, schema = schema_city).cache()"
   ]
  },
  {
   "cell_type": "code",
   "execution_count": 37,
   "id": "94824859",
   "metadata": {},
   "outputs": [
    {
     "name": "stdout",
     "output_type": "stream",
     "text": [
      "+----------+-----------+--------------+--------------+----------------+------------+----------------------+------------------+----------------------+------------------+---------+----------+----------------+--------------------+\n",
      "|geoname_id|locale_code|continent_code|continent_name|country_iso_code|country_name|subdivision_1_iso_code|subdivision_1_name|subdivision_2_iso_code|subdivision_2_name|city_name|metro_code|       time_zone|is_in_european_union|\n",
      "+----------+-----------+--------------+--------------+----------------+------------+----------------------+------------------+----------------------+------------------+---------+----------+----------------+--------------------+\n",
      "|     49518|         en|            AF|        Africa|              RW|      Rwanda|                  null|              null|                  null|              null|     null|      null|   Africa/Kigali|                   0|\n",
      "|     49747|         en|            AF|        Africa|              SO|     Somalia|                    BK|            Bakool|                  null|              null|    Oddur|      null|Africa/Mogadishu|                   0|\n",
      "|     51537|         en|            AF|        Africa|              SO|     Somalia|                  null|              null|                  null|              null|     null|      null|Africa/Mogadishu|                   0|\n",
      "|     53654|         en|            AF|        Africa|              SO|     Somalia|                    BN|          Banaadir|                  null|              null|Mogadishu|      null|Africa/Mogadishu|                   0|\n",
      "|     54225|         en|            AF|        Africa|              SO|     Somalia|                    SH|   Lower Shabeelle|                  null|              null|    Merca|      null|Africa/Mogadishu|                   0|\n",
      "+----------+-----------+--------------+--------------+----------------+------------+----------------------+------------------+----------------------+------------------+---------+----------+----------------+--------------------+\n",
      "only showing top 5 rows\n",
      "\n"
     ]
    }
   ],
   "source": [
    "df_city.show(5)"
   ]
  },
  {
   "cell_type": "code",
   "execution_count": 38,
   "id": "c142eef9",
   "metadata": {},
   "outputs": [
    {
     "name": "stdout",
     "output_type": "stream",
     "text": [
      "root\n",
      " |-- geoname_id: integer (nullable = true)\n",
      " |-- locale_code: string (nullable = true)\n",
      " |-- continent_code: string (nullable = true)\n",
      " |-- continent_name: string (nullable = true)\n",
      " |-- country_iso_code: string (nullable = true)\n",
      " |-- country_name: string (nullable = true)\n",
      " |-- subdivision_1_iso_code: string (nullable = true)\n",
      " |-- subdivision_1_name: string (nullable = true)\n",
      " |-- subdivision_2_iso_code: string (nullable = true)\n",
      " |-- subdivision_2_name: string (nullable = true)\n",
      " |-- city_name: string (nullable = true)\n",
      " |-- metro_code: string (nullable = true)\n",
      " |-- time_zone: string (nullable = true)\n",
      " |-- is_in_european_union: string (nullable = true)\n",
      "\n"
     ]
    }
   ],
   "source": [
    "df_city.printSchema()"
   ]
  },
  {
   "cell_type": "code",
   "execution_count": 39,
   "id": "82108c05",
   "metadata": {},
   "outputs": [
    {
     "data": {
      "text/plain": [
       "121754"
      ]
     },
     "execution_count": 39,
     "metadata": {},
     "output_type": "execute_result"
    }
   ],
   "source": [
    "df_city.count()"
   ]
  },
  {
   "cell_type": "code",
   "execution_count": 40,
   "id": "97e10060",
   "metadata": {},
   "outputs": [
    {
     "data": {
      "text/plain": [
       "121754"
      ]
     },
     "execution_count": 40,
     "metadata": {},
     "output_type": "execute_result"
    }
   ],
   "source": [
    "df_city.dropDuplicates().count()"
   ]
  },
  {
   "cell_type": "markdown",
   "id": "805acf90",
   "metadata": {},
   "source": [
    "* es gibt keine Duplikate in dem Datensatz"
   ]
  },
  {
   "cell_type": "code",
   "execution_count": 41,
   "id": "50b08c0f",
   "metadata": {},
   "outputs": [
    {
     "data": {
      "text/plain": [
       "0"
      ]
     },
     "execution_count": 41,
     "metadata": {},
     "output_type": "execute_result"
    }
   ],
   "source": [
    "df_city.filter(df_city[\"city_name\"]==\"null\").count()"
   ]
  },
  {
   "cell_type": "markdown",
   "id": "7a38c008",
   "metadata": {},
   "source": [
    "* Keine Null Values"
   ]
  },
  {
   "cell_type": "markdown",
   "id": "b1540534",
   "metadata": {},
   "source": [
    "# Data Cleaning"
   ]
  },
  {
   "cell_type": "markdown",
   "id": "a4d81780",
   "metadata": {},
   "source": [
    "## Entfernen von Sonderzeichen im Datensatz real Domains"
   ]
  },
  {
   "cell_type": "code",
   "execution_count": 14,
   "id": "3fddb3d0",
   "metadata": {},
   "outputs": [],
   "source": [
    "commaRep = udf(lambda x: re.sub('\"','', x))\n",
    "commaRep2 = udf(lambda x: re.sub(']','', x))\n",
    "commaRep3 = udf(lambda x: re.sub('\\[','', x))\n",
    "commaRep5 = udf(lambda x: re.sub('\\.','', x))"
   ]
  },
  {
   "cell_type": "code",
   "execution_count": 15,
   "id": "31f773c8",
   "metadata": {},
   "outputs": [
    {
     "name": "stdout",
     "output_type": "stream",
     "text": [
      "+----------------+-----------------------------------------------+-----------------------+\n",
      "|Top level domain|MX-Record                                      |A-Record               |\n",
      "+----------------+-----------------------------------------------+-----------------------+\n",
      "|0--1.de         |mail.0--1.de,mxf993.netcup.net                 |\"[\"\"46.38.249.145\"\"]\"  |\n",
      "|0--2.de         |mxf993.netcup.net,mail.0--2.de                 |\"[\"\"212.227.212.163\"\"]\"|\n",
      "|0-0-0-0-0.de    |smtp-02.tld.t-online.de,smtp-01.tld.t-online.de|\"[\"\"80.150.6.143\"\"]\"   |\n",
      "+----------------+-----------------------------------------------+-----------------------+\n",
      "only showing top 3 rows\n",
      "\n"
     ]
    }
   ],
   "source": [
    "df_MXClean=df.withColumn('MX-Record',commaRep('MX-Record'))\n",
    "df_MXClean=df_MXClean.withColumn('MX-Record',commaRep2('MX-Record'))\n",
    "df_MXClean=df_MXClean.withColumn('MX-Record',commaRep3('MX-Record'))\n",
    "df_MXClean.show(3, False)"
   ]
  },
  {
   "cell_type": "code",
   "execution_count": 16,
   "id": "b5bad9c7",
   "metadata": {},
   "outputs": [
    {
     "name": "stdout",
     "output_type": "stream",
     "text": [
      "+----------------+-----------------------------------------------------------+---------------+\n",
      "|Top level domain|MX-Record                                                  |A-Record       |\n",
      "+----------------+-----------------------------------------------------------+---------------+\n",
      "|0--1.de         |\"[\"\"mail.0--1.de\"\",\"\"mxf993.netcup.net\"\"]\"                 |46.38.249.145  |\n",
      "|0--2.de         |\"[\"\"mxf993.netcup.net\"\",\"\"mail.0--2.de\"\"]\"                 |212.227.212.163|\n",
      "|0-0-0-0-0.de    |\"[\"\"smtp-02.tld.t-online.de\"\",\"\"smtp-01.tld.t-online.de\"\"]\"|80.150.6.143   |\n",
      "+----------------+-----------------------------------------------------------+---------------+\n",
      "only showing top 3 rows\n",
      "\n"
     ]
    }
   ],
   "source": [
    "df_AClean=df.withColumn('A-Record',commaRep('A-Record'))\n",
    "df_AClean=df_AClean.withColumn('A-Record',commaRep2('A-Record'))\n",
    "df_AClean=df_AClean.withColumn('A-Record',commaRep3('A-Record'))\n",
    "df_AClean.show(3, False)"
   ]
  },
  {
   "cell_type": "markdown",
   "id": "47819ed3",
   "metadata": {},
   "source": [
    " ## Splitten der Spalten im Datensatz real_domains"
   ]
  },
  {
   "cell_type": "code",
   "execution_count": 17,
   "id": "acb746f5",
   "metadata": {},
   "outputs": [
    {
     "name": "stdout",
     "output_type": "stream",
     "text": [
      "+----------------+--------------------+--------------------+------+--------------------+\n",
      "|Top level domain|            A-Record|           MX-Record|pos_MX|              val_MX|\n",
      "+----------------+--------------------+--------------------+------+--------------------+\n",
      "|         0--1.de|\"[\"\"46.38.249.145...|[mail.0--1.de, mx...|     0|        mail.0--1.de|\n",
      "|         0--1.de|\"[\"\"46.38.249.145...|[mail.0--1.de, mx...|     1|   mxf993.netcup.net|\n",
      "|         0--2.de|\"[\"\"212.227.212.1...|[mxf993.netcup.ne...|     0|   mxf993.netcup.net|\n",
      "|         0--2.de|\"[\"\"212.227.212.1...|[mxf993.netcup.ne...|     1|        mail.0--2.de|\n",
      "|    0-0-0-0-0.de|\"[\"\"80.150.6.143\"\"]\"|[smtp-02.tld.t-on...|     0|smtp-02.tld.t-onl...|\n",
      "+----------------+--------------------+--------------------+------+--------------------+\n",
      "only showing top 5 rows\n",
      "\n"
     ]
    }
   ],
   "source": [
    "df_MXSplit=df_MXClean.select(\n",
    "        \"Top level domain\", \"A-Record\",\n",
    "        f.split(\"MX-Record\", \",\").alias(\"MX-Record\"),\n",
    "        f.posexplode(f.split(\"MX-Record\", \",\")).alias(\"pos_MX\", \"val_MX\")\n",
    "    )\n",
    "df_MXSplit.show(5)"
   ]
  },
  {
   "cell_type": "code",
   "execution_count": 18,
   "id": "1a9cfea3",
   "metadata": {
    "scrolled": true
   },
   "outputs": [
    {
     "name": "stdout",
     "output_type": "stream",
     "text": [
      "+-------------------+--------------------+-----------------+-----+---------------+\n",
      "|   Top level domain|           MX-Record|         A-Record|pos_A|          val_A|\n",
      "+-------------------+--------------------+-----------------+-----+---------------+\n",
      "|            0--1.de|\"[\"\"mail.0--1.de\"...|  [46.38.249.145]|    0|  46.38.249.145|\n",
      "|            0--2.de|\"[\"\"mxf993.netcup...|[212.227.212.163]|    0|212.227.212.163|\n",
      "|       0-0-0-0-0.de|\"[\"\"smtp-02.tld.t...|   [80.150.6.143]|    0|   80.150.6.143|\n",
      "|         0-0-0-1.de|\"[\"\"smtp-02.tld.t...|   [80.150.6.143]|    0|   80.150.6.143|\n",
      "|             0-0.de|                  []|  [185.53.178.13]|    0|  185.53.178.13|\n",
      "|            0-01.de|\"[\"\"mail.0-01.de\"\"]\"| [193.34.145.200]|    0| 193.34.145.200|\n",
      "|             0-1.de|   \"[\"\"localhost\"\"]\"| [91.195.241.137]|    0| 91.195.241.137|\n",
      "|            0-10.de|                  []|               []|    0|               |\n",
      "|          0-1000.de|   \"[\"\"localhost\"\"]\"| [91.195.241.137]|    0| 91.195.241.137|\n",
      "|        0-100kmh.de|\"[\"\"smtpin.rzone....|  [81.169.145.95]|    0|  81.169.145.95|\n",
      "|            0-12.de|   \"[\"\"localhost\"\"]\"| [91.195.241.137]|    0| 91.195.241.137|\n",
      "|            0-17.de|   \"[\"\"localhost\"\"]\"| [91.195.241.137]|    0| 91.195.241.137|\n",
      "|             0-2.de|   \"[\"\"localhost\"\"]\"|      [127.0.0.1]|    0|      127.0.0.1|\n",
      "|      0-24domain.de|\"[\"\"pmx.bestcpane...| [194.38.104.220]|    0| 194.38.104.220|\n",
      "|           0-24h.de|\"[\"\"mxlb.ispgatew...|[134.209.177.247]|    0|134.209.177.247|\n",
      "|     0-24leasing.de|                  []|               []|    0|               |\n",
      "|0-24versicherung.de|                  []|               []|    0|               |\n",
      "|        0-263475.de|                  []|   [176.9.76.101]|    0|   176.9.76.101|\n",
      "|           0-3-0.de|                  []|               []|    0|               |\n",
      "|             0-3.de|\"[\"\"teller.ggeg.e...|[185.163.116.240]|    0|185.163.116.240|\n",
      "+-------------------+--------------------+-----------------+-----+---------------+\n",
      "only showing top 20 rows\n",
      "\n"
     ]
    }
   ],
   "source": [
    "df_ASplit=df_AClean.select(\n",
    "        \"Top level domain\", \"MX-Record\",\n",
    "        f.split(\"A-Record\", \", \").alias(\"A-Record\"),\n",
    "        f.posexplode(f.split(\"A-Record\", \",\")).alias(\"pos_A\", \"val_A\")\n",
    "    )\n",
    "df_ASplit.show(20)"
   ]
  },
  {
   "cell_type": "code",
   "execution_count": 19,
   "id": "98f9fed8",
   "metadata": {},
   "outputs": [
    {
     "data": {
      "text/plain": [
       "5540060"
      ]
     },
     "execution_count": 19,
     "metadata": {},
     "output_type": "execute_result"
    }
   ],
   "source": [
    "df_ASplit.count()"
   ]
  },
  {
   "cell_type": "code",
   "execution_count": 20,
   "id": "4b647a59",
   "metadata": {
    "scrolled": false
   },
   "outputs": [],
   "source": [
    "df_ASplit=df_ASplit.filter(df_ASplit.val_A!=\"\")"
   ]
  },
  {
   "cell_type": "code",
   "execution_count": 21,
   "id": "b152a75a",
   "metadata": {},
   "outputs": [
    {
     "data": {
      "text/plain": [
       "5368041"
      ]
     },
     "execution_count": 21,
     "metadata": {},
     "output_type": "execute_result"
    }
   ],
   "source": [
    "df_ASplit.count()"
   ]
  },
  {
   "cell_type": "code",
   "execution_count": 23,
   "id": "b84b9d52",
   "metadata": {},
   "outputs": [
    {
     "name": "stdout",
     "output_type": "stream",
     "text": [
      "root\n",
      " |-- Top level domain: string (nullable = true)\n",
      " |-- MX-Record: string (nullable = true)\n",
      " |-- A-Record: array (nullable = true)\n",
      " |    |-- element: string (containsNull = true)\n",
      " |-- pos_A: integer (nullable = false)\n",
      " |-- val_A: string (nullable = true)\n",
      "\n"
     ]
    }
   ],
   "source": [
    "df_ASplit.printSchema()"
   ]
  },
  {
   "cell_type": "markdown",
   "id": "ba9c450c",
   "metadata": {},
   "source": [
    "## Entfernen von Sonderzeichen im Datensatz asn ip4 Blocks"
   ]
  },
  {
   "cell_type": "code",
   "execution_count": 22,
   "id": "67e46621",
   "metadata": {
    "scrolled": true
   },
   "outputs": [
    {
     "name": "stdout",
     "output_type": "stream",
     "text": [
      "+------------+------------------------+------------------------------+--------------+------------+\n",
      "|     network|autonomous_system_number|autonomous_system_organization|network_adress|subnetzmaske|\n",
      "+------------+------------------------+------------------------------+--------------+------------+\n",
      "|  1.0.0.0/24|                   13335|                 CLOUDFLARENET|       1.0.0.0|          24|\n",
      "|  1.0.4.0/22|                   38803|          Wirefreebroadband...|       1.0.4.0|          22|\n",
      "| 1.0.64.0/18|                   18144|          Energia Communica...|      1.0.64.0|          18|\n",
      "|1.0.128.0/17|                   23969|          TOT Public Compan...|     1.0.128.0|          17|\n",
      "|  1.1.1.0/24|                   13335|                 CLOUDFLARENET|       1.1.1.0|          24|\n",
      "|  1.1.8.0/24|                   58543|                     Guangdong|       1.1.8.0|          24|\n",
      "| 1.1.64.0/19|                    2519|          ARTERIA Networks ...|      1.1.64.0|          19|\n",
      "| 1.1.96.0/20|                    2519|          ARTERIA Networks ...|      1.1.96.0|          20|\n",
      "|1.1.112.0/21|                    2519|          ARTERIA Networks ...|     1.1.112.0|          21|\n",
      "|1.1.120.0/22|                    2519|          ARTERIA Networks ...|     1.1.120.0|          22|\n",
      "|1.1.124.0/23|                    2519|          ARTERIA Networks ...|     1.1.124.0|          23|\n",
      "|1.1.126.0/24|                    2519|          ARTERIA Networks ...|     1.1.126.0|          24|\n",
      "|1.1.128.0/17|                   23969|          TOT Public Compan...|     1.1.128.0|          17|\n",
      "|  1.2.4.0/24|                   24151|          China Internet Ne...|       1.2.4.0|          24|\n",
      "|1.2.128.0/17|                   23969|          TOT Public Compan...|     1.2.128.0|          17|\n",
      "|1.4.128.0/17|                   23969|          TOT Public Compan...|     1.4.128.0|          17|\n",
      "|  1.5.0.0/16|                    4725|                SoftBank Corp.|       1.5.0.0|          16|\n",
      "|  1.6.0.0/17|                    9583|                  Sify Limited|       1.6.0.0|          17|\n",
      "|1.6.128.0/21|                    9583|                  Sify Limited|     1.6.128.0|          21|\n",
      "|1.6.136.0/24|                  132215|          Power Grid Corpor...|     1.6.136.0|          24|\n",
      "+------------+------------------------+------------------------------+--------------+------------+\n",
      "only showing top 20 rows\n",
      "\n"
     ]
    }
   ],
   "source": [
    "split_col = f.split(df_asn_blocks_ipv4['network'], '/')\n",
    "df_asn_blocks_ipv4 = df_asn_blocks_ipv4.withColumn('network_adress', split_col.getItem(0))\n",
    "df_asn_blocks_ipv4 = df_asn_blocks_ipv4.withColumn('subnetzmaske', split_col.getItem(1))\n",
    "\n",
    "df_asn_blocks_ipv4.show()"
   ]
  },
  {
   "cell_type": "code",
   "execution_count": 22,
   "id": "b6403e24",
   "metadata": {},
   "outputs": [
    {
     "data": {
      "text/plain": [
       "461902"
      ]
     },
     "execution_count": 22,
     "metadata": {},
     "output_type": "execute_result"
    }
   ],
   "source": [
    "df_asn_blocks_ipv4.count()"
   ]
  },
  {
   "cell_type": "markdown",
   "id": "4b51e142",
   "metadata": {},
   "source": [
    "## Unbenötigte Spalten im Datensatz asn ip4 country entfernen "
   ]
  },
  {
   "cell_type": "code",
   "execution_count": 26,
   "id": "4d1b11cb",
   "metadata": {},
   "outputs": [
    {
     "ename": "NameError",
     "evalue": "name 'df_country' is not defined",
     "output_type": "error",
     "traceback": [
      "\u001b[0;31m---------------------------------------------------------------------------\u001b[0m",
      "\u001b[0;31mNameError\u001b[0m                                 Traceback (most recent call last)",
      "\u001b[0;32m<ipython-input-26-29138e04367b>\u001b[0m in \u001b[0;36m<module>\u001b[0;34m\u001b[0m\n\u001b[0;32m----> 1\u001b[0;31m \u001b[0mdf_country\u001b[0m \u001b[0;34m=\u001b[0m \u001b[0mdf_country\u001b[0m\u001b[0;34m.\u001b[0m\u001b[0mdrop\u001b[0m\u001b[0;34m(\u001b[0m\u001b[0;34m\"locale_code\"\u001b[0m\u001b[0;34m,\u001b[0m \u001b[0;34m\"continent_code\"\u001b[0m\u001b[0;34m,\u001b[0m \u001b[0;34m\"continent_name\"\u001b[0m\u001b[0;34m,\u001b[0m \u001b[0;34m\"country_iso_code\"\u001b[0m\u001b[0;34m,\u001b[0m \u001b[0;34m\"is_in_european_union\"\u001b[0m\u001b[0;34m)\u001b[0m\u001b[0;34m\u001b[0m\u001b[0;34m\u001b[0m\u001b[0m\n\u001b[0m",
      "\u001b[0;31mNameError\u001b[0m: name 'df_country' is not defined"
     ]
    }
   ],
   "source": [
    "df_country = df_country.drop(\"locale_code\", \"continent_code\", \"continent_name\", \"country_iso_code\", \"is_in_european_union\")"
   ]
  },
  {
   "cell_type": "code",
   "execution_count": 27,
   "id": "161c8f0b",
   "metadata": {
    "scrolled": true
   },
   "outputs": [
    {
     "ename": "NameError",
     "evalue": "name 'df_country' is not defined",
     "output_type": "error",
     "traceback": [
      "\u001b[0;31m---------------------------------------------------------------------------\u001b[0m",
      "\u001b[0;31mNameError\u001b[0m                                 Traceback (most recent call last)",
      "\u001b[0;32m<ipython-input-27-52fb4e25993b>\u001b[0m in \u001b[0;36m<module>\u001b[0;34m\u001b[0m\n\u001b[0;32m----> 1\u001b[0;31m \u001b[0mdf_country\u001b[0m\u001b[0;34m.\u001b[0m\u001b[0mshow\u001b[0m\u001b[0;34m(\u001b[0m\u001b[0;34m)\u001b[0m\u001b[0;34m\u001b[0m\u001b[0;34m\u001b[0m\u001b[0m\n\u001b[0m",
      "\u001b[0;31mNameError\u001b[0m: name 'df_country' is not defined"
     ]
    }
   ],
   "source": [
    "df_country.show()"
   ]
  },
  {
   "cell_type": "markdown",
   "id": "46b353fc",
   "metadata": {},
   "source": [
    "## Unbenötigte Spalten im Datensatz asn ip4 city entfernen"
   ]
  },
  {
   "cell_type": "code",
   "execution_count": 51,
   "id": "b969a7af",
   "metadata": {},
   "outputs": [],
   "source": [
    "df_city = df_city.drop(\"locale_code\", \"continent_code\", \"continent_name\", \"country_iso_code\", \"country_name\", \n",
    "                             \"subdivision_1_iso_code\", \"subdivision_1_name\", \"subdivision_2_iso_code\", \"subdivision_2_name\",\n",
    "                             \"metro_code\", \"time_zone\", \"is_in_european_union\")"
   ]
  },
  {
   "cell_type": "code",
   "execution_count": 52,
   "id": "7c265c95",
   "metadata": {
    "scrolled": true
   },
   "outputs": [
    {
     "name": "stdout",
     "output_type": "stream",
     "text": [
      "+----------+------------+\n",
      "|geoname_id|   city_name|\n",
      "+----------+------------+\n",
      "|     49518|        null|\n",
      "|     49747|       Oddur|\n",
      "|     51537|        null|\n",
      "|     53654|   Mogadishu|\n",
      "|     54225|       Merca|\n",
      "|     55671|     Kismayo|\n",
      "|     56335|      Giohar|\n",
      "|     57289|    Hargeisa|\n",
      "|     57723|    Gurmeyso|\n",
      "|     58933|     Garoowe|\n",
      "|     58994|Garbahaarrey|\n",
      "|     59611|   Gaalkacyo|\n",
      "|     60928| Dusa Marreb|\n",
      "|     62691|     Erigavo|\n",
      "|     63795|       Burao|\n",
      "|     63949|     Bu'aale|\n",
      "|     64013|      Bosaso|\n",
      "|     64460|  Beledweyne|\n",
      "|     64536|      Baidoa|\n",
      "|     69426|    Zinjibar|\n",
      "+----------+------------+\n",
      "only showing top 20 rows\n",
      "\n"
     ]
    }
   ],
   "source": [
    "df_city.show()"
   ]
  },
  {
   "cell_type": "markdown",
   "id": "ee468b85",
   "metadata": {},
   "source": [
    "# Analyse"
   ]
  },
  {
   "cell_type": "markdown",
   "id": "4e9eefee",
   "metadata": {},
   "source": [
    "## Joining von Tabelle real_new und asn_blocks_ipv4"
   ]
  },
  {
   "cell_type": "code",
   "execution_count": 27,
   "id": "d435e250",
   "metadata": {},
   "outputs": [],
   "source": [
    "def ip_range(ip, network_range):\n",
    "    return ipaddress.IPv4Address(str(ip)) in ipaddress.ip_network(str(network_range))\n",
    "\n",
    "pred = udf(lambda ip, network_range:ipaddress.IPv4Address(str(ip)) in ipaddress.ip_network(str(network_range)), BooleanType())"
   ]
  },
  {
   "cell_type": "code",
   "execution_count": 25,
   "id": "6b25b0a3",
   "metadata": {},
   "outputs": [],
   "source": [
    "dfJoinATest=df_ASplit.limit(50)"
   ]
  },
  {
   "cell_type": "code",
   "execution_count": 26,
   "id": "23f5ea5f",
   "metadata": {},
   "outputs": [
    {
     "data": {
      "text/plain": [
       "50"
      ]
     },
     "execution_count": 26,
     "metadata": {},
     "output_type": "execute_result"
    }
   ],
   "source": [
    "dfJoinATest.count()"
   ]
  },
  {
   "cell_type": "code",
   "execution_count": 28,
   "id": "5a08177b",
   "metadata": {},
   "outputs": [],
   "source": [
    "dfJoinA=dfJoinATest.join(df_asn_blocks_ipv4).where(pred(dfJoinATest.val_A, df_asn_blocks_ipv4.network))"
   ]
  },
  {
   "cell_type": "code",
   "execution_count": 52,
   "id": "02cfb122",
   "metadata": {},
   "outputs": [],
   "source": [
    "dfJoinA=df_ASplit.join(df_asn_blocks_ipv4).where(pred(df_ASplit.val_A, df_asn_blocks_ipv4.network))"
   ]
  },
  {
   "cell_type": "code",
   "execution_count": 29,
   "id": "242038bf",
   "metadata": {},
   "outputs": [
    {
     "name": "stdout",
     "output_type": "stream",
     "text": [
      "+--------------------+--------------------+----------------+-----+--------------+---------------+------------------------+------------------------------+--------------+------------+\n",
      "|    Top level domain|           MX-Record|        A-Record|pos_A|         val_A|        network|autonomous_system_number|autonomous_system_organization|network_adress|subnetzmaske|\n",
      "+--------------------+--------------------+----------------+-----+--------------+---------------+------------------------+------------------------------+--------------+------------+\n",
      "|             0--1.de|\"[\"\"mail.0--1.de\"...| [46.38.249.145]|    0| 46.38.249.145| 46.38.224.0/19|                  197540|                   netcup GmbH|   46.38.224.0|          19|\n",
      "|  0-auf-3k-system.de|\"[\"\"mxf9a3.netcup...| [46.38.249.161]|    0| 46.38.249.161| 46.38.224.0/19|                  197540|                   netcup GmbH|   46.38.224.0|          19|\n",
      "|0-heizenergiehaus.de|\"[\"\"mx1.jimdo.com...| [52.213.24.106]|    0| 52.213.24.106|  52.208.0.0/13|                   16509|                     AMAZON-02|    52.208.0.0|          13|\n",
      "|        0-0-0-0-0.de|\"[\"\"smtp-02.tld.t...|  [80.150.6.143]|    0|  80.150.6.143|  80.144.0.0/13|                    3320|           Deutsche Telekom AG|    80.144.0.0|          13|\n",
      "|          0-0-0-1.de|\"[\"\"smtp-02.tld.t...|  [80.150.6.143]|    0|  80.150.6.143|  80.144.0.0/13|                    3320|           Deutsche Telekom AG|    80.144.0.0|          13|\n",
      "|            0-5-1.de|\"[\"\"smtp-02.tld.t...|  [80.150.6.143]|    0|  80.150.6.143|  80.144.0.0/13|                    3320|           Deutsche Telekom AG|    80.144.0.0|          13|\n",
      "|           0-apps.de|  \"[\"\"mx.leo.org\"\"]\"| [80.190.158.32]|    0| 80.190.158.32|80.190.128.0/17|                   15598|              IP Exchange GmbH|  80.190.128.0|          17|\n",
      "|         0-100kmh.de|\"[\"\"smtpin.rzone....| [81.169.145.95]|    0| 81.169.145.95|81.169.128.0/17|                    6724|                     Strato AG|  81.169.128.0|          17|\n",
      "|             0-32.de|\"[\"\"smtpin.rzone....| [81.169.145.66]|    0| 81.169.145.66|81.169.128.0/17|                    6724|                     Strato AG|  81.169.128.0|          17|\n",
      "|     0-automation.de|\"[\"\"w019a900.kass...| [85.13.133.233]|    0| 85.13.133.233| 85.13.128.0/18|                   34788|          Neue Medien Muenn...|   85.13.128.0|          18|\n",
      "|         0-hotels.de|\"[\"\"w017d9ec.kass...|  [85.13.131.16]|    0|  85.13.131.16| 85.13.128.0/18|                   34788|          Neue Medien Muenn...|   85.13.128.0|          18|\n",
      "|            0-app.de|\"[\"\"mail.0-app.de...|    [85.17.4.21]|    0|    85.17.4.21|   85.17.0.0/16|                   60781|          LeaseWeb Netherla...|     85.17.0.0|          16|\n",
      "|         0-ahnung.de|\"[\"\"mail.0-ahnung...|  [85.214.69.88]|    0|  85.214.69.88|  85.214.0.0/15|                    6724|                     Strato AG|    85.214.0.0|          15|\n",
      "|          0-ideen.de|\"[\"\"mail.0-ideen....|  [85.214.69.88]|    0|  85.214.69.88|  85.214.0.0/15|                    6724|                     Strato AG|    85.214.0.0|          15|\n",
      "|              0-1.de|   \"[\"\"localhost\"\"]\"|[91.195.241.137]|    0|91.195.241.137|91.195.240.0/23|                   47846|                     SEDO GmbH|  91.195.240.0|          23|\n",
      "|           0-1000.de|   \"[\"\"localhost\"\"]\"|[91.195.241.137]|    0|91.195.241.137|91.195.240.0/23|                   47846|                     SEDO GmbH|  91.195.240.0|          23|\n",
      "|             0-12.de|   \"[\"\"localhost\"\"]\"|[91.195.241.137]|    0|91.195.241.137|91.195.240.0/23|                   47846|                     SEDO GmbH|  91.195.240.0|          23|\n",
      "|             0-17.de|   \"[\"\"localhost\"\"]\"|[91.195.241.137]|    0|91.195.241.137|91.195.240.0/23|                   47846|                     SEDO GmbH|  91.195.240.0|          23|\n",
      "|           0-8-16.de|   \"[\"\"localhost\"\"]\"|[91.195.241.137]|    0|91.195.241.137|91.195.240.0/23|                   47846|                     SEDO GmbH|  91.195.240.0|          23|\n",
      "|    0-8-fuenfzehn.de|   \"[\"\"localhost\"\"]\"|[91.195.241.137]|    0|91.195.241.137|91.195.240.0/23|                   47846|                     SEDO GmbH|  91.195.240.0|          23|\n",
      "+--------------------+--------------------+----------------+-----+--------------+---------------+------------------------+------------------------------+--------------+------------+\n",
      "only showing top 20 rows\n",
      "\n"
     ]
    }
   ],
   "source": [
    "dfJoinA.show()"
   ]
  },
  {
   "cell_type": "code",
   "execution_count": 30,
   "id": "d05ecf0f",
   "metadata": {},
   "outputs": [
    {
     "data": {
      "text/plain": [
       "49"
      ]
     },
     "execution_count": 30,
     "metadata": {},
     "output_type": "execute_result"
    }
   ],
   "source": [
    "dfJoinA.count()"
   ]
  },
  {
   "cell_type": "markdown",
   "id": "12a82809",
   "metadata": {},
   "source": [
    "## Joining von Tabelle df_country und df_city"
   ]
  },
  {
   "cell_type": "code",
   "execution_count": null,
   "id": "7c2fcd7c",
   "metadata": {},
   "outputs": [],
   "source": [
    "df_gejoint2 = df_country.join(df_city, df_country[\"geoname_id\"] == df_city[\"geoname_id\"])"
   ]
  },
  {
   "cell_type": "code",
   "execution_count": null,
   "id": "ac007d3b",
   "metadata": {},
   "outputs": [],
   "source": [
    "df_gejoint2.show()"
   ]
  },
  {
   "cell_type": "markdown",
   "id": "3d8b2d78",
   "metadata": {},
   "source": [
    "#### Joining von all Tabellen"
   ]
  },
  {
   "cell_type": "code",
   "execution_count": null,
   "id": "cf7d01d1",
   "metadata": {},
   "outputs": [],
   "source": [
    "df_gejoint_all = df_networkClean2\\\n",
    "            .join(df_AClean2, df_networkClean2[\"network2\"] == df_AClean2[\"A-Record2\"])\\\n",
    "            .join(df_country, df_networkClean2[\"autonomous_system_number\"] == df_country[\"geoname_id\"])\\\n",
    "            .join(df_city, df_networkClean2[\"autonomous_system_number\"] == df_city[\"geoname_id\"])"
   ]
  },
  {
   "cell_type": "code",
   "execution_count": null,
   "id": "239e738b",
   "metadata": {},
   "outputs": [],
   "source": [
    "df_gejoint_all.show()"
   ]
  }
 ],
 "metadata": {
  "kernelspec": {
   "display_name": "Python 3",
   "language": "python",
   "name": "python3"
  },
  "language_info": {
   "codemirror_mode": {
    "name": "ipython",
    "version": 3
   },
   "file_extension": ".py",
   "mimetype": "text/x-python",
   "name": "python",
   "nbconvert_exporter": "python",
   "pygments_lexer": "ipython3",
   "version": "3.9.5"
  }
 },
 "nbformat": 4,
 "nbformat_minor": 5
}
