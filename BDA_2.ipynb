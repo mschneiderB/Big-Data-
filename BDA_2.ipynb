{
 "cells": [
  {
   "cell_type": "code",
   "execution_count": 1,
   "id": "2297882c",
   "metadata": {
    "id": "43f37e56"
   },
   "outputs": [],
   "source": [
    "from pyspark import SparkContext\n",
    "from pyspark.sql import SparkSession\n",
    "from pyspark.sql import Row\n",
    "from pyspark.sql.types import StructType, StructField, IntegerType, StringType, StructType, BooleanType, ArrayType\n",
    "import pyspark\n",
    "import pyspark.sql.functions as f\n",
    "from pyspark.sql.functions import *\n",
    "from pyspark.sql.functions import struct\n",
    "from pyspark.sql.functions import monotonically_increasing_id\n",
    "from pyspark.sql.functions import udf\n",
    "from pyspark.sql.functions import col\n",
    "import re\n",
    "import ipaddress\n",
    "from ipaddress import ip_network, ip_address\n",
    "import time\n",
    "import pandas as pd\n",
    "import seaborn as sns\n",
    "#import envspark\n",
    "\n",
    "#Starten ohne Spark-Cluster\n",
    "spark = SparkSession.builder.getOrCreate()"
   ]
  },
  {
   "cell_type": "code",
   "execution_count": 2,
   "id": "38ff3e05",
   "metadata": {},
   "outputs": [],
   "source": [
    "#spark.sparkContext.setSystemProperty(\"spark.driver.memory\", \"12g\")\n",
    "#spark.sparkContext.setSystemProperty('spark.executor.memory', '12g')\n",
    "#spark.sparkContext.setSystemProperty(\"spark.executor.cores\", \"6\")"
   ]
  },
  {
   "cell_type": "code",
   "execution_count": 3,
   "id": "26195efe",
   "metadata": {
    "id": "8198c047"
   },
   "outputs": [],
   "source": [
    "# Verbindung zu Minio\n",
    "spark.sparkContext.setSystemProperty(\"com.amazonaws.services.s3.enableV4\", \"true\")\n",
    "spark.sparkContext._jsc.hadoopConfiguration().set(\"fs.s3a.access.key\", \"minio\")\n",
    "spark.sparkContext._jsc.hadoopConfiguration().set(\"fs.s3a.secret.key\", \"minio123\")\n",
    "spark.sparkContext._jsc.hadoopConfiguration().set(\"com.amazonaws.services.s3.enableV4\", \"true\")\n",
    "spark.sparkContext._jsc.hadoopConfiguration().set(\"fs.s3a.impl\", \"org.apache.hadoop.fs.s3a.S3AFileSystem\")\n",
    "spark.sparkContext._jsc.hadoopConfiguration().set(\"fs.s3a.path.style.access\", \"true\")\n",
    "spark.sparkContext._jsc.hadoopConfiguration().set(\"fs.s3a.endpoint\", \"http://minio1:9000\")"
   ]
  },
  {
   "cell_type": "code",
   "execution_count": 4,
   "id": "37313443",
   "metadata": {
    "id": "2958adb5"
   },
   "outputs": [],
   "source": [
    "schema = StructType([\n",
    "    StructField(\"Top level domain\", StringType(), True),\n",
    "    StructField(\"MX-Record from the name server\", StringType(), True),\n",
    "    StructField(\"A-Record of the specific domain\", StringType(), True),\n",
    "    StructField(\"Timestamp\", StringType(), True)])\n",
    "\n",
    "df = spark.read.csv(\"s3a://bucket/real_new.csv\",header=False,sep=\";\",schema=schema).persist()"
   ]
  },
  {
   "cell_type": "markdown",
   "id": "91c65465",
   "metadata": {
    "id": "0385f596"
   },
   "source": [
    "# Datenbeschreibung"
   ]
  },
  {
   "cell_type": "markdown",
   "id": "0f1aabb0",
   "metadata": {
    "id": "1384cf25"
   },
   "source": [
    "## real_domains"
   ]
  },
  {
   "cell_type": "markdown",
   "id": "aced1292",
   "metadata": {
    "id": "e449ac5e"
   },
   "source": [
    "### Allgemein"
   ]
  },
  {
   "cell_type": "code",
   "execution_count": 5,
   "id": "274b02c2",
   "metadata": {
    "id": "4aad1d6d",
    "outputId": "0d211dc2-2b63-4a62-8009-d10ef3e650bd",
    "scrolled": false
   },
   "outputs": [
    {
     "name": "stdout",
     "output_type": "stream",
     "text": [
      "+----------------+------------------------------+-------------------------------+-------------------+\n",
      "|Top level domain|MX-Record from the name server|A-Record of the specific domain|          Timestamp|\n",
      "+----------------+------------------------------+-------------------------------+-------------------+\n",
      "|         0--1.de|          \"[\"\"mail.0--1.de\"...|           \"[\"\"46.38.249.145...|2020-12-13 15:36:05|\n",
      "|         0--2.de|          \"[\"\"mxf993.netcup...|           \"[\"\"212.227.212.1...|2020-12-13 15:36:05|\n",
      "|    0-0-0-0-0.de|          \"[\"\"smtp-02.tld.t...|           \"[\"\"80.150.6.143\"\"]\"|2020-12-13 15:36:05|\n",
      "|      0-0-0-1.de|          \"[\"\"smtp-02.tld.t...|           \"[\"\"80.150.6.143\"\"]\"|2020-12-13 15:36:05|\n",
      "|          0-0.de|                            []|           \"[\"\"185.53.178.13...|2020-12-13 15:36:05|\n",
      "+----------------+------------------------------+-------------------------------+-------------------+\n",
      "only showing top 5 rows\n",
      "\n"
     ]
    }
   ],
   "source": [
    "df.show(5)"
   ]
  },
  {
   "cell_type": "markdown",
   "id": "ef3db428",
   "metadata": {
    "id": "a0e494be"
   },
   "source": [
    "* Top level domain: Namensserver; das, was Personen sich merken können\n",
    "* Ein MX Resource Record weist einem Namen einen Mailserver zu. Er stellt eine Besonderheit dar, da er sich auf einen speziellen Dienst im Internet, nämlich die E-Mailzustellung mittels SMTP, bezieht. Alle anderen Dienste nutzen CNAME, A und AAAA Resource Records für die Namensauflösung.\n",
    "* Ein A Resource Record weist einem Namen eine IPv4-Adresse zu."
   ]
  },
  {
   "cell_type": "code",
   "execution_count": 6,
   "id": "86ae2307",
   "metadata": {
    "id": "acd62a51"
   },
   "outputs": [],
   "source": [
    "df= df.withColumn(\"id\", monotonically_increasing_id())"
   ]
  },
  {
   "cell_type": "code",
   "execution_count": 7,
   "id": "eceb6b4d",
   "metadata": {
    "id": "61334fba"
   },
   "outputs": [],
   "source": [
    "df=df.select(\"Top level domain\",\"MX-Record from the name server\",\"A-Record of the specific domain\")"
   ]
  },
  {
   "cell_type": "markdown",
   "id": "bb978beb",
   "metadata": {
    "id": "c0653bcc"
   },
   "source": [
    "* die Spalte Timestamp wird nicht benötigt"
   ]
  },
  {
   "cell_type": "code",
   "execution_count": 8,
   "id": "d7ad00b5",
   "metadata": {
    "id": "babc4fdb"
   },
   "outputs": [],
   "source": [
    "df=df.withColumnRenamed(\"MX-Record from the name server\", \"MX-Record\")"
   ]
  },
  {
   "cell_type": "code",
   "execution_count": 9,
   "id": "29e52300",
   "metadata": {
    "id": "1c05186b"
   },
   "outputs": [],
   "source": [
    "df=df.withColumnRenamed(\"A-Record of the specific domain\", \"A-Record\")"
   ]
  },
  {
   "cell_type": "code",
   "execution_count": 10,
   "id": "67fab8a2",
   "metadata": {
    "id": "da0996af",
    "outputId": "559bf01c-4346-4359-af96-6d54706a9259",
    "scrolled": true
   },
   "outputs": [
    {
     "data": {
      "text/plain": [
       "pyspark.sql.dataframe.DataFrame"
      ]
     },
     "execution_count": 10,
     "metadata": {},
     "output_type": "execute_result"
    }
   ],
   "source": [
    "type(df)"
   ]
  },
  {
   "cell_type": "code",
   "execution_count": 11,
   "id": "631a5ad9",
   "metadata": {
    "id": "14d9dc3c",
    "outputId": "22e0734a-2833-44fa-a388-b9681fb67120",
    "scrolled": true
   },
   "outputs": [
    {
     "data": {
      "text/plain": [
       "4860885"
      ]
     },
     "execution_count": 11,
     "metadata": {},
     "output_type": "execute_result"
    }
   ],
   "source": [
    "df.count()"
   ]
  },
  {
   "cell_type": "code",
   "execution_count": 12,
   "id": "c0398757",
   "metadata": {
    "id": "0d60e8f1",
    "outputId": "6d4b0a7d-08cf-4a75-972c-bc17566bd629"
   },
   "outputs": [
    {
     "data": {
      "text/plain": [
       "4860885"
      ]
     },
     "execution_count": 12,
     "metadata": {},
     "output_type": "execute_result"
    }
   ],
   "source": [
    "df.dropDuplicates().count()"
   ]
  },
  {
   "cell_type": "markdown",
   "id": "a07c958c",
   "metadata": {
    "id": "01e12b86"
   },
   "source": [
    "* es gibt keine Duplikate in dem Datensatz"
   ]
  },
  {
   "cell_type": "code",
   "execution_count": 13,
   "id": "e405df0f",
   "metadata": {
    "id": "4478aaba",
    "scrolled": true
   },
   "outputs": [],
   "source": [
    "#df.filter(df[\"MX-Record\"].contains(']')).count()"
   ]
  },
  {
   "cell_type": "markdown",
   "id": "c654a48b",
   "metadata": {
    "id": "16116eb8"
   },
   "source": [
    "* es gibt 3 Zeilen, wo die Aufzeichnung von MX Records abgebrochen wurde"
   ]
  },
  {
   "cell_type": "code",
   "execution_count": 14,
   "id": "61a714a6",
   "metadata": {
    "id": "61e56fc6"
   },
   "outputs": [],
   "source": [
    "#df=df.filter(df[\"MX-Record\"].contains(']'))"
   ]
  },
  {
   "cell_type": "markdown",
   "id": "8fca7ddb",
   "metadata": {
    "id": "8fc12ed5"
   },
   "source": [
    "* diese Zeilen werden entfernt, da sie sich nicht reparieren lassen"
   ]
  },
  {
   "cell_type": "code",
   "execution_count": 15,
   "id": "87059ae2",
   "metadata": {
    "id": "c70f3c4c",
    "outputId": "4c4e7e09-9a95-4f04-d351-76aabd5817e4"
   },
   "outputs": [
    {
     "name": "stdout",
     "output_type": "stream",
     "text": [
      "root\n",
      " |-- Top level domain: string (nullable = true)\n",
      " |-- MX-Record: string (nullable = true)\n",
      " |-- A-Record: string (nullable = true)\n",
      "\n"
     ]
    }
   ],
   "source": [
    "df.printSchema()"
   ]
  },
  {
   "cell_type": "code",
   "execution_count": 16,
   "id": "7d1ab82a",
   "metadata": {},
   "outputs": [
    {
     "name": "stdout",
     "output_type": "stream",
     "text": [
      "+----------------+---------+--------+\n",
      "|Top level domain|MX-Record|A-Record|\n",
      "+----------------+---------+--------+\n",
      "|               0|        0|       0|\n",
      "+----------------+---------+--------+\n",
      "\n"
     ]
    }
   ],
   "source": [
    "df.select([count(when(isnan(c) | col(c).isNull(), c)).alias(c) for c in df.columns]).show()"
   ]
  },
  {
   "cell_type": "markdown",
   "id": "399d3605",
   "metadata": {
    "id": "0937bbbe"
   },
   "source": [
    "### Top Level Domain"
   ]
  },
  {
   "cell_type": "code",
   "execution_count": 17,
   "id": "d4aaa266",
   "metadata": {
    "id": "e4777ed5",
    "outputId": "c97e0487-1265-49a3-deff-7ba99ba4462c",
    "scrolled": true
   },
   "outputs": [
    {
     "data": {
      "text/plain": [
       "0"
      ]
     },
     "execution_count": 17,
     "metadata": {},
     "output_type": "execute_result"
    }
   ],
   "source": [
    "df.filter(df[\"Top level domain\"]==\"null\").count()"
   ]
  },
  {
   "cell_type": "markdown",
   "id": "297a5855",
   "metadata": {
    "id": "db1b60f1"
   },
   "source": [
    "* keine Null Values"
   ]
  },
  {
   "cell_type": "code",
   "execution_count": 18,
   "id": "069ed93c",
   "metadata": {
    "id": "1007ddf3",
    "outputId": "c5e768d3-1c18-45c2-a71c-6bff4a981542"
   },
   "outputs": [
    {
     "name": "stdout",
     "output_type": "stream",
     "text": [
      "+--------------------+-----+\n",
      "|    Top level domain|count|\n",
      "+--------------------+-----+\n",
      "|      0-provision.de|    1|\n",
      "|         01041977.de|    1|\n",
      "|0180-call-through.de|    1|\n",
      "|            03423.de|    1|\n",
      "|            03g17.de|    1|\n",
      "+--------------------+-----+\n",
      "only showing top 5 rows\n",
      "\n"
     ]
    }
   ],
   "source": [
    "dfTCount=df.groupBy(\"Top level domain\").count()\n",
    "dfTCount.orderBy(col(\"count\").desc()).show(5)"
   ]
  },
  {
   "cell_type": "markdown",
   "id": "56590048",
   "metadata": {
    "id": "d1a166c9"
   },
   "source": [
    "* es gibt keine doppelte TLD"
   ]
  },
  {
   "cell_type": "markdown",
   "id": "6d415030",
   "metadata": {
    "id": "1a6e56fc"
   },
   "source": [
    "### MX Records"
   ]
  },
  {
   "cell_type": "code",
   "execution_count": 19,
   "id": "4f3c8d1e",
   "metadata": {
    "id": "12f9653f",
    "outputId": "70e5abd7-b86a-49dd-8241-83beab2f9b20",
    "scrolled": true
   },
   "outputs": [
    {
     "data": {
      "text/plain": [
       "0"
      ]
     },
     "execution_count": 19,
     "metadata": {},
     "output_type": "execute_result"
    }
   ],
   "source": [
    "df.filter(df[\"MX-Record\"]==\"null\").count()"
   ]
  },
  {
   "cell_type": "markdown",
   "id": "dbcd385a",
   "metadata": {
    "id": "2bb53989"
   },
   "source": [
    "* keine Null Values"
   ]
  },
  {
   "cell_type": "code",
   "execution_count": 20,
   "id": "945c7930",
   "metadata": {
    "id": "63216dbd",
    "outputId": "b4984250-e2a9-40bf-e1c3-28a032fa4e1d"
   },
   "outputs": [
    {
     "name": "stdout",
     "output_type": "stream",
     "text": [
      "+-----------------------------------------------------+------+\n",
      "|MX-Record                                            |count |\n",
      "+-----------------------------------------------------+------+\n",
      "|[]                                                   |633040|\n",
      "|\"[\"\"smtpin.rzone.de\"\"]\"                              |509127|\n",
      "|\"[\"\"localhost\"\"]\"                                    |303839|\n",
      "|\"[\"\"mx01.kundenserver.de\"\",\"\"mx00.kundenserver.de\"\"]\"|176491|\n",
      "|\"[\"\"mx00.kundenserver.de\"\",\"\"mx01.kundenserver.de\"\"]\"|176182|\n",
      "+-----------------------------------------------------+------+\n",
      "only showing top 5 rows\n",
      "\n"
     ]
    }
   ],
   "source": [
    "dfMxCount=df.groupBy(\"MX-Record\").count()\n",
    "dfMxCount.orderBy(col(\"count\").desc()).show(5,False)"
   ]
  },
  {
   "cell_type": "markdown",
   "id": "9aeb1deb",
   "metadata": {
    "id": "6f365831"
   },
   "source": [
    "### A Records"
   ]
  },
  {
   "cell_type": "code",
   "execution_count": 21,
   "id": "60d8f8a6",
   "metadata": {
    "id": "26357e64",
    "outputId": "322e2146-7a7d-4135-ca5e-879af912fb0a",
    "scrolled": false
   },
   "outputs": [
    {
     "data": {
      "text/plain": [
       "10732"
      ]
     },
     "execution_count": 21,
     "metadata": {},
     "output_type": "execute_result"
    }
   ],
   "source": [
    "df.filter(df[\"A-Record\"]==\"null\").count()"
   ]
  },
  {
   "cell_type": "markdown",
   "id": "8be05da9",
   "metadata": {
    "id": "7e0c21ec"
   },
   "source": [
    "* es gibt 10.732 Null Values\n",
    "* diese können mit [] ersetzt werde"
   ]
  },
  {
   "cell_type": "code",
   "execution_count": 22,
   "id": "c970baf7",
   "metadata": {
    "id": "1bbf940e"
   },
   "outputs": [],
   "source": [
    "df=df.na.replace({\"null\": \"[]\"})"
   ]
  },
  {
   "cell_type": "code",
   "execution_count": 23,
   "id": "a7cb868e",
   "metadata": {
    "id": "1b343d82",
    "outputId": "6edd4eb5-7d56-4aaa-d6bb-709c66e0e8a8",
    "scrolled": true
   },
   "outputs": [
    {
     "name": "stdout",
     "output_type": "stream",
     "text": [
      "+----------------------+------+\n",
      "|A-Record              |count |\n",
      "+----------------------+------+\n",
      "|\"[\"\"91.195.241.137\"\"]\"|303204|\n",
      "|[]                    |172019|\n",
      "|\"[\"\"80.150.6.143\"\"]\"  |150156|\n",
      "|\"[\"\"23.236.62.147\"\"]\" |59034 |\n",
      "|\"[\"\"52.58.78.16\"\"]\"   |49200 |\n",
      "+----------------------+------+\n",
      "only showing top 5 rows\n",
      "\n"
     ]
    }
   ],
   "source": [
    "dfACount=df.groupBy(\"A-Record\").count()\n",
    "dfACount.orderBy(col(\"count\").desc()).show(5, False)"
   ]
  },
  {
   "cell_type": "markdown",
   "id": "43a76830",
   "metadata": {
    "id": "82698d50"
   },
   "source": [
    "## asn ip4 Blocks"
   ]
  },
  {
   "cell_type": "markdown",
   "id": "c9dde621",
   "metadata": {
    "id": "a6ac9fdf"
   },
   "source": [
    "### Allgemein"
   ]
  },
  {
   "cell_type": "code",
   "execution_count": 24,
   "id": "e7b1fc79",
   "metadata": {
    "id": "bf0cc010"
   },
   "outputs": [],
   "source": [
    "schema_blocks = StructType([\n",
    "    StructField(\"network\", StringType(), True),\n",
    "    StructField(\"autonomous_system_number\", IntegerType(), True),\n",
    "    StructField(\"autonomous_system_organization\", StringType(), True)\n",
    "])\n",
    "\n",
    "df_asn_blocks_ipv4 = spark.read.csv(\"s3a://bucket/GeoLite2-ASN-Blocks-IPv4.csv\", header=True, schema=schema_blocks).persist()"
   ]
  },
  {
   "cell_type": "code",
   "execution_count": 25,
   "id": "3db074bb",
   "metadata": {
    "id": "03cd5152",
    "outputId": "d6cab5bf-2d97-4bc7-f07d-f3e51de0dfba"
   },
   "outputs": [
    {
     "name": "stdout",
     "output_type": "stream",
     "text": [
      "+------------+------------------------+------------------------------+\n",
      "|     network|autonomous_system_number|autonomous_system_organization|\n",
      "+------------+------------------------+------------------------------+\n",
      "|  1.0.0.0/24|                   13335|                 CLOUDFLARENET|\n",
      "|  1.0.4.0/22|                   38803|          Wirefreebroadband...|\n",
      "| 1.0.64.0/18|                   18144|          Energia Communica...|\n",
      "|1.0.128.0/17|                   23969|          TOT Public Compan...|\n",
      "|  1.1.1.0/24|                   13335|                 CLOUDFLARENET|\n",
      "+------------+------------------------+------------------------------+\n",
      "only showing top 5 rows\n",
      "\n"
     ]
    }
   ],
   "source": [
    "df_asn_blocks_ipv4.show(5)"
   ]
  },
  {
   "cell_type": "code",
   "execution_count": 26,
   "id": "63ea79d1",
   "metadata": {
    "id": "53ede5d7",
    "outputId": "53172ed0-31ea-46f0-e3b9-616f2afaab6f"
   },
   "outputs": [
    {
     "data": {
      "text/plain": [
       "461902"
      ]
     },
     "execution_count": 26,
     "metadata": {},
     "output_type": "execute_result"
    }
   ],
   "source": [
    "df_asn_blocks_ipv4.count()"
   ]
  },
  {
   "cell_type": "code",
   "execution_count": 27,
   "id": "6ad9bc6f",
   "metadata": {
    "id": "e86dc5e1",
    "outputId": "173f5426-da59-4283-e7d3-95ee5d612958"
   },
   "outputs": [
    {
     "data": {
      "text/plain": [
       "461902"
      ]
     },
     "execution_count": 27,
     "metadata": {},
     "output_type": "execute_result"
    }
   ],
   "source": [
    "df_asn_blocks_ipv4.dropDuplicates().count()"
   ]
  },
  {
   "cell_type": "markdown",
   "id": "c77a9384",
   "metadata": {
    "id": "bd85820c"
   },
   "source": [
    "* es gibt keine Duplikate in dem Datensatz"
   ]
  },
  {
   "cell_type": "code",
   "execution_count": 28,
   "id": "d1c911bf",
   "metadata": {
    "id": "71b043c8",
    "outputId": "630b17b7-5063-4048-c7a7-c131a3b1be39"
   },
   "outputs": [
    {
     "name": "stdout",
     "output_type": "stream",
     "text": [
      "root\n",
      " |-- network: string (nullable = true)\n",
      " |-- autonomous_system_number: integer (nullable = true)\n",
      " |-- autonomous_system_organization: string (nullable = true)\n",
      "\n"
     ]
    }
   ],
   "source": [
    "df_asn_blocks_ipv4.printSchema()"
   ]
  },
  {
   "cell_type": "markdown",
   "id": "a4fbefb0",
   "metadata": {
    "id": "826cc7a7"
   },
   "source": [
    "### Anlayse der Spalten"
   ]
  },
  {
   "cell_type": "code",
   "execution_count": 29,
   "id": "b20dc143",
   "metadata": {},
   "outputs": [
    {
     "name": "stdout",
     "output_type": "stream",
     "text": [
      "+-------+------------------------+------------------------------+\n",
      "|network|autonomous_system_number|autonomous_system_organization|\n",
      "+-------+------------------------+------------------------------+\n",
      "|      0|                       0|                             0|\n",
      "+-------+------------------------+------------------------------+\n",
      "\n"
     ]
    }
   ],
   "source": [
    "df_asn_blocks_ipv4.select([count(when(isnan(c) | col(c).isNull(), c)).alias(c) for c in df_asn_blocks_ipv4.columns]).show()"
   ]
  },
  {
   "cell_type": "markdown",
   "id": "62d9163d",
   "metadata": {
    "id": "f045456f"
   },
   "source": [
    "## GeoLite2-Country-Locations-en"
   ]
  },
  {
   "cell_type": "code",
   "execution_count": 30,
   "id": "6ee894b5",
   "metadata": {
    "id": "3752be46"
   },
   "outputs": [],
   "source": [
    "schema_country = StructType([\n",
    "    StructField(\"geoname_id\", IntegerType(), True),\n",
    "    StructField(\"locale_code\", StringType(), True),\n",
    "    StructField(\"continent_code\", StringType(), True),\n",
    "    StructField(\"continent_name\", StringType(), True),\n",
    "    StructField(\"country_iso_code\", StringType(), True),\n",
    "    StructField(\"country_name\", StringType(), True),\n",
    "    StructField(\"is_in_european_union\", StringType(), True)\n",
    "])\n",
    "\n",
    "df_country = spark.read.csv(\"s3a://bucket/GeoLite2-Country-Locations-en.csv\", header=True, schema=schema_country).persist()"
   ]
  },
  {
   "cell_type": "code",
   "execution_count": 31,
   "id": "fa6ffffc",
   "metadata": {
    "id": "3fdd4a92",
    "outputId": "97bea168-0cff-430b-9d14-0db8a11108e4"
   },
   "outputs": [
    {
     "name": "stdout",
     "output_type": "stream",
     "text": [
      "+----------+-----------+--------------+--------------+----------------+------------+--------------------+\n",
      "|geoname_id|locale_code|continent_code|continent_name|country_iso_code|country_name|is_in_european_union|\n",
      "+----------+-----------+--------------+--------------+----------------+------------+--------------------+\n",
      "|     49518|         en|            AF|        Africa|              RW|      Rwanda|                   0|\n",
      "|     51537|         en|            AF|        Africa|              SO|     Somalia|                   0|\n",
      "|     69543|         en|            AS|          Asia|              YE|       Yemen|                   0|\n",
      "|     99237|         en|            AS|          Asia|              IQ|        Iraq|                   0|\n",
      "|    102358|         en|            AS|          Asia|              SA|Saudi Arabia|                   0|\n",
      "+----------+-----------+--------------+--------------+----------------+------------+--------------------+\n",
      "only showing top 5 rows\n",
      "\n"
     ]
    }
   ],
   "source": [
    "df_country.show(5)"
   ]
  },
  {
   "cell_type": "code",
   "execution_count": 32,
   "id": "01c3f068",
   "metadata": {
    "id": "bf96c56c",
    "outputId": "68a8290b-3de8-41e0-a0c3-400a5cab7165",
    "scrolled": true
   },
   "outputs": [
    {
     "name": "stdout",
     "output_type": "stream",
     "text": [
      "root\n",
      " |-- geoname_id: integer (nullable = true)\n",
      " |-- locale_code: string (nullable = true)\n",
      " |-- continent_code: string (nullable = true)\n",
      " |-- continent_name: string (nullable = true)\n",
      " |-- country_iso_code: string (nullable = true)\n",
      " |-- country_name: string (nullable = true)\n",
      " |-- is_in_european_union: string (nullable = true)\n",
      "\n"
     ]
    }
   ],
   "source": [
    "df_country.printSchema()"
   ]
  },
  {
   "cell_type": "code",
   "execution_count": 33,
   "id": "7374e60a",
   "metadata": {
    "id": "2c370c0f",
    "outputId": "fe686eba-8eb6-44e7-e1fb-daa7ba254abc"
   },
   "outputs": [
    {
     "data": {
      "text/plain": [
       "252"
      ]
     },
     "execution_count": 33,
     "metadata": {},
     "output_type": "execute_result"
    }
   ],
   "source": [
    "df_country.count()"
   ]
  },
  {
   "cell_type": "code",
   "execution_count": 34,
   "id": "a15f2cc8",
   "metadata": {
    "id": "3bf3f3a8",
    "outputId": "0d067e03-1dc3-413d-9ee8-e77eb31eaaa7",
    "scrolled": true
   },
   "outputs": [
    {
     "data": {
      "text/plain": [
       "252"
      ]
     },
     "execution_count": 34,
     "metadata": {},
     "output_type": "execute_result"
    }
   ],
   "source": [
    "df_country.dropDuplicates().count()"
   ]
  },
  {
   "cell_type": "markdown",
   "id": "ae7baca6",
   "metadata": {
    "id": "125816b9"
   },
   "source": [
    "* es gibt keine Duplikate in dem Datensatz"
   ]
  },
  {
   "cell_type": "code",
   "execution_count": 35,
   "id": "e9d5c0aa",
   "metadata": {},
   "outputs": [
    {
     "name": "stdout",
     "output_type": "stream",
     "text": [
      "+----------+-----------+--------------+--------------+----------------+------------+--------------------+\n",
      "|geoname_id|locale_code|continent_code|continent_name|country_iso_code|country_name|is_in_european_union|\n",
      "+----------+-----------+--------------+--------------+----------------+------------+--------------------+\n",
      "|         0|          0|             0|             0|               2|           2|                   0|\n",
      "+----------+-----------+--------------+--------------+----------------+------------+--------------------+\n",
      "\n"
     ]
    }
   ],
   "source": [
    "df_country.select([count(when(isnan(c) | col(c).isNull(), c)).alias(c) for c in df_country.columns]).show()"
   ]
  },
  {
   "cell_type": "markdown",
   "id": "5f6e66dc",
   "metadata": {
    "id": "9f681a5c"
   },
   "source": [
    "* keine Null Values"
   ]
  },
  {
   "cell_type": "markdown",
   "id": "30a9436d",
   "metadata": {
    "id": "4b51e142"
   },
   "source": [
    "## Unbenötigte Spalten im Datensatz asn ip4 country entfernen "
   ]
  },
  {
   "cell_type": "code",
   "execution_count": 36,
   "id": "26cfdb53",
   "metadata": {
    "id": "4d1b11cb",
    "outputId": "dc6959f6-aab4-4ff1-e2df-4ad096277660"
   },
   "outputs": [],
   "source": [
    "df_country = df_country.drop(\"locale_code\", \"continent_code\", \"continent_name\", \"country_iso_code\", \"is_in_european_union\")"
   ]
  },
  {
   "cell_type": "code",
   "execution_count": 37,
   "id": "7f4cdf0d",
   "metadata": {
    "id": "161c8f0b",
    "outputId": "f8c6a3dc-7900-42bb-8a70-51e497401a61",
    "scrolled": true
   },
   "outputs": [
    {
     "name": "stdout",
     "output_type": "stream",
     "text": [
      "+----------+--------------------+\n",
      "|geoname_id|        country_name|\n",
      "+----------+--------------------+\n",
      "|     49518|              Rwanda|\n",
      "|     51537|             Somalia|\n",
      "|     69543|               Yemen|\n",
      "|     99237|                Iraq|\n",
      "|    102358|        Saudi Arabia|\n",
      "|    130758|                Iran|\n",
      "|    146669|              Cyprus|\n",
      "|    149590|            Tanzania|\n",
      "|    163843|               Syria|\n",
      "|    174982|             Armenia|\n",
      "|    192950|               Kenya|\n",
      "|    203312|            DR Congo|\n",
      "|    223816|            Djibouti|\n",
      "|    226074|              Uganda|\n",
      "|    239880|Central African R...|\n",
      "|    241170|          Seychelles|\n",
      "|    248816|              Jordan|\n",
      "|    272103|             Lebanon|\n",
      "|    285570|              Kuwait|\n",
      "|    286963|                Oman|\n",
      "+----------+--------------------+\n",
      "only showing top 20 rows\n",
      "\n"
     ]
    }
   ],
   "source": [
    "df_country.show()"
   ]
  },
  {
   "cell_type": "markdown",
   "id": "5967b6f5",
   "metadata": {
    "id": "e15b00c3"
   },
   "source": [
    "## GeoLite2-City-Locations-en"
   ]
  },
  {
   "cell_type": "code",
   "execution_count": 38,
   "id": "0823625b",
   "metadata": {
    "id": "abbad8e1"
   },
   "outputs": [],
   "source": [
    "schema_city = StructType([\n",
    "    StructField(\"geoname_id\", IntegerType(), True),\n",
    "    StructField(\"locale_code\", StringType(), True),\n",
    "    StructField(\"continent_code\", StringType(), True),\n",
    "    StructField(\"continent_name\", StringType(), True),\n",
    "    StructField(\"country_iso_code\", StringType(), True),\n",
    "    StructField(\"country_name\", StringType(), True),\n",
    "    StructField(\"subdivision_1_iso_code\", StringType(), True),\n",
    "    StructField(\"subdivision_1_name\", StringType(), True),\n",
    "    StructField(\"subdivision_2_iso_code\", StringType(), True),\n",
    "    StructField(\"subdivision_2_name\", StringType(), True),\n",
    "    StructField(\"city_name\", StringType(), True),\n",
    "    StructField(\"metro_code\", StringType(), True),\n",
    "    StructField(\"time_zone\", StringType(), True),\n",
    "    StructField(\"is_in_european_union\", StringType(), True)\n",
    "])\n",
    "\n",
    "df_city = spark.read.csv(\"s3a://bucket/GeoLite2-City-Locations-en.csv\", header=True, schema = schema_city).persist()"
   ]
  },
  {
   "cell_type": "code",
   "execution_count": 39,
   "id": "7a1d4049",
   "metadata": {
    "id": "94824859",
    "outputId": "43493ccd-54b2-48b7-a436-03dcfca635fc"
   },
   "outputs": [
    {
     "name": "stdout",
     "output_type": "stream",
     "text": [
      "+----------+-----------+--------------+--------------+----------------+------------+----------------------+------------------+----------------------+------------------+---------+----------+----------------+--------------------+\n",
      "|geoname_id|locale_code|continent_code|continent_name|country_iso_code|country_name|subdivision_1_iso_code|subdivision_1_name|subdivision_2_iso_code|subdivision_2_name|city_name|metro_code|       time_zone|is_in_european_union|\n",
      "+----------+-----------+--------------+--------------+----------------+------------+----------------------+------------------+----------------------+------------------+---------+----------+----------------+--------------------+\n",
      "|     49518|         en|            AF|        Africa|              RW|      Rwanda|                  null|              null|                  null|              null|     null|      null|   Africa/Kigali|                   0|\n",
      "|     49747|         en|            AF|        Africa|              SO|     Somalia|                    BK|            Bakool|                  null|              null|    Oddur|      null|Africa/Mogadishu|                   0|\n",
      "|     51537|         en|            AF|        Africa|              SO|     Somalia|                  null|              null|                  null|              null|     null|      null|Africa/Mogadishu|                   0|\n",
      "|     53654|         en|            AF|        Africa|              SO|     Somalia|                    BN|          Banaadir|                  null|              null|Mogadishu|      null|Africa/Mogadishu|                   0|\n",
      "|     54225|         en|            AF|        Africa|              SO|     Somalia|                    SH|   Lower Shabeelle|                  null|              null|    Merca|      null|Africa/Mogadishu|                   0|\n",
      "+----------+-----------+--------------+--------------+----------------+------------+----------------------+------------------+----------------------+------------------+---------+----------+----------------+--------------------+\n",
      "only showing top 5 rows\n",
      "\n"
     ]
    }
   ],
   "source": [
    "df_city.show(5)"
   ]
  },
  {
   "cell_type": "code",
   "execution_count": 40,
   "id": "0e684610",
   "metadata": {
    "id": "c142eef9",
    "outputId": "e6e41504-25d9-48bb-8739-065a11dd9cd1"
   },
   "outputs": [
    {
     "name": "stdout",
     "output_type": "stream",
     "text": [
      "root\n",
      " |-- geoname_id: integer (nullable = true)\n",
      " |-- locale_code: string (nullable = true)\n",
      " |-- continent_code: string (nullable = true)\n",
      " |-- continent_name: string (nullable = true)\n",
      " |-- country_iso_code: string (nullable = true)\n",
      " |-- country_name: string (nullable = true)\n",
      " |-- subdivision_1_iso_code: string (nullable = true)\n",
      " |-- subdivision_1_name: string (nullable = true)\n",
      " |-- subdivision_2_iso_code: string (nullable = true)\n",
      " |-- subdivision_2_name: string (nullable = true)\n",
      " |-- city_name: string (nullable = true)\n",
      " |-- metro_code: string (nullable = true)\n",
      " |-- time_zone: string (nullable = true)\n",
      " |-- is_in_european_union: string (nullable = true)\n",
      "\n"
     ]
    }
   ],
   "source": [
    "df_city.printSchema()"
   ]
  },
  {
   "cell_type": "code",
   "execution_count": 41,
   "id": "44a5b21f",
   "metadata": {
    "id": "82108c05",
    "outputId": "35516206-f9cd-4cc7-f16e-1a8f4d4ab38f"
   },
   "outputs": [
    {
     "data": {
      "text/plain": [
       "121754"
      ]
     },
     "execution_count": 41,
     "metadata": {},
     "output_type": "execute_result"
    }
   ],
   "source": [
    "df_city.count()"
   ]
  },
  {
   "cell_type": "code",
   "execution_count": 42,
   "id": "d59bfdaf",
   "metadata": {
    "id": "97e10060",
    "outputId": "72ed259e-05f3-43f8-960c-f6efc41edf8c"
   },
   "outputs": [
    {
     "data": {
      "text/plain": [
       "121754"
      ]
     },
     "execution_count": 42,
     "metadata": {},
     "output_type": "execute_result"
    }
   ],
   "source": [
    "df_city.dropDuplicates().count()"
   ]
  },
  {
   "cell_type": "markdown",
   "id": "8cf7b42e",
   "metadata": {
    "id": "805acf90"
   },
   "source": [
    "* es gibt keine Duplikate in dem Datensatz"
   ]
  },
  {
   "cell_type": "code",
   "execution_count": 43,
   "id": "41dbc445",
   "metadata": {},
   "outputs": [
    {
     "name": "stdout",
     "output_type": "stream",
     "text": [
      "+----------+-----------+--------------+--------------+----------------+------------+----------------------+------------------+----------------------+------------------+---------+----------+---------+--------------------+\n",
      "|geoname_id|locale_code|continent_code|continent_name|country_iso_code|country_name|subdivision_1_iso_code|subdivision_1_name|subdivision_2_iso_code|subdivision_2_name|city_name|metro_code|time_zone|is_in_european_union|\n",
      "+----------+-----------+--------------+--------------+----------------+------------+----------------------+------------------+----------------------+------------------+---------+----------+---------+--------------------+\n",
      "|         0|          0|             0|             0|               2|           2|                   801|               795|                 84330|             84330|      728|    100941|        0|                   0|\n",
      "+----------+-----------+--------------+--------------+----------------+------------+----------------------+------------------+----------------------+------------------+---------+----------+---------+--------------------+\n",
      "\n"
     ]
    }
   ],
   "source": [
    "df_city.select([count(when(isnan(c) | col(c).isNull(), c)).alias(c) for c in df_city.columns]).show()"
   ]
  },
  {
   "cell_type": "markdown",
   "id": "35daa163",
   "metadata": {
    "id": "7a38c008"
   },
   "source": [
    "* Keine Null Values"
   ]
  },
  {
   "cell_type": "markdown",
   "id": "75733950",
   "metadata": {
    "id": "46b353fc"
   },
   "source": [
    "## Unbenötigte Spalten im Datensatz asn ip4 city entfernen"
   ]
  },
  {
   "cell_type": "code",
   "execution_count": 44,
   "id": "184d54ec",
   "metadata": {
    "id": "b969a7af"
   },
   "outputs": [],
   "source": [
    "df_city = df_city.drop(\"locale_code\", \"continent_code\", \"continent_name\", \"country_iso_code\", \"country_name\", \n",
    "                             \"subdivision_1_iso_code\", \"subdivision_1_name\", \"subdivision_2_iso_code\", \"subdivision_2_name\",\n",
    "                             \"metro_code\", \"time_zone\", \"is_in_european_union\")"
   ]
  },
  {
   "cell_type": "code",
   "execution_count": 45,
   "id": "b6a2686b",
   "metadata": {
    "id": "7c265c95",
    "outputId": "5805f93d-2618-488f-ca9b-978ade8bd816",
    "scrolled": true
   },
   "outputs": [
    {
     "name": "stdout",
     "output_type": "stream",
     "text": [
      "+----------+------------+\n",
      "|geoname_id|   city_name|\n",
      "+----------+------------+\n",
      "|     49518|        null|\n",
      "|     49747|       Oddur|\n",
      "|     51537|        null|\n",
      "|     53654|   Mogadishu|\n",
      "|     54225|       Merca|\n",
      "|     55671|     Kismayo|\n",
      "|     56335|      Giohar|\n",
      "|     57289|    Hargeisa|\n",
      "|     57723|    Gurmeyso|\n",
      "|     58933|     Garoowe|\n",
      "|     58994|Garbahaarrey|\n",
      "|     59611|   Gaalkacyo|\n",
      "|     60928| Dusa Marreb|\n",
      "|     62691|     Erigavo|\n",
      "|     63795|       Burao|\n",
      "|     63949|     Bu'aale|\n",
      "|     64013|      Bosaso|\n",
      "|     64460|  Beledweyne|\n",
      "|     64536|      Baidoa|\n",
      "|     69426|    Zinjibar|\n",
      "+----------+------------+\n",
      "only showing top 20 rows\n",
      "\n"
     ]
    }
   ],
   "source": [
    "df_city.show()"
   ]
  },
  {
   "cell_type": "markdown",
   "id": "e370852a",
   "metadata": {},
   "source": [
    "# GeoLite2-City-Blocks-IPv4"
   ]
  },
  {
   "cell_type": "code",
   "execution_count": 46,
   "id": "3a46b1b9",
   "metadata": {},
   "outputs": [],
   "source": [
    "schema_city_blocks = StructType([\n",
    "    StructField(\"network\", StringType(), True),\n",
    "    StructField(\"geoname_id\", IntegerType(), True),\n",
    "    StructField(\"registered_country_geoname_id\", IntegerType(), True),\n",
    "    StructField(\"represented_country_geoname_id\", IntegerType(), True),\n",
    "    StructField(\"is_anonymous_proxy\", StringType(), True),\n",
    "    StructField(\"is_satellite_provider\", StringType(), True),\n",
    "    StructField(\"postal_code\", StringType(), True),\n",
    "    StructField(\"latitude\", StringType(), True),\n",
    "    StructField(\"longitude\", StringType(), True),\n",
    "    StructField(\"accuracy_radius\", StringType(), True)\n",
    "])\n",
    "\n",
    "\n",
    "df_city_blocks = spark.read.csv(\"s3a://bucket/GeoLite2-City-Blocks-IPv4.csv\", header=True, schema = schema_city_blocks).persist()"
   ]
  },
  {
   "cell_type": "code",
   "execution_count": 47,
   "id": "f4a5522c",
   "metadata": {},
   "outputs": [
    {
     "name": "stdout",
     "output_type": "stream",
     "text": [
      "+----------+----------+-----------------------------+------------------------------+------------------+---------------------+-----------+--------+---------+---------------+\n",
      "|   network|geoname_id|registered_country_geoname_id|represented_country_geoname_id|is_anonymous_proxy|is_satellite_provider|postal_code|latitude|longitude|accuracy_radius|\n",
      "+----------+----------+-----------------------------+------------------------------+------------------+---------------------+-----------+--------+---------+---------------+\n",
      "|1.0.0.0/24|   2077456|                      2077456|                          null|                 0|                    0|       null|-33.4940| 143.2104|           1000|\n",
      "|1.0.1.0/24|   1814991|                      1814991|                          null|                 0|                    0|       null| 34.7732| 113.7220|           1000|\n",
      "|1.0.2.0/23|   1814991|                      1814991|                          null|                 0|                    0|       null| 34.7732| 113.7220|           1000|\n",
      "|1.0.4.0/22|   2077456|                      2077456|                          null|                 0|                    0|       null|-33.4940| 143.2104|           1000|\n",
      "|1.0.8.0/21|   1814991|                      1814991|                          null|                 0|                    0|       null| 34.7732| 113.7220|           1000|\n",
      "+----------+----------+-----------------------------+------------------------------+------------------+---------------------+-----------+--------+---------+---------------+\n",
      "only showing top 5 rows\n",
      "\n"
     ]
    }
   ],
   "source": [
    "df_city_blocks.show(5)"
   ]
  },
  {
   "cell_type": "code",
   "execution_count": 48,
   "id": "8d9e2479",
   "metadata": {},
   "outputs": [
    {
     "data": {
      "text/plain": [
       "3576464"
      ]
     },
     "execution_count": 48,
     "metadata": {},
     "output_type": "execute_result"
    }
   ],
   "source": [
    "df_city_blocks.count()"
   ]
  },
  {
   "cell_type": "code",
   "execution_count": 49,
   "id": "4c999b60",
   "metadata": {},
   "outputs": [
    {
     "data": {
      "text/plain": [
       "3576464"
      ]
     },
     "execution_count": 49,
     "metadata": {},
     "output_type": "execute_result"
    }
   ],
   "source": [
    "df_city_blocks.dropDuplicates().count()"
   ]
  },
  {
   "cell_type": "code",
   "execution_count": 50,
   "id": "55100f0c",
   "metadata": {},
   "outputs": [
    {
     "name": "stdout",
     "output_type": "stream",
     "text": [
      "+-------+----------+-----------------------------+------------------------------+------------------+---------------------+-----------+--------+---------+---------------+\n",
      "|network|geoname_id|registered_country_geoname_id|represented_country_geoname_id|is_anonymous_proxy|is_satellite_provider|postal_code|latitude|longitude|accuracy_radius|\n",
      "+-------+----------+-----------------------------+------------------------------+------------------+---------------------+-----------+--------+---------+---------------+\n",
      "|      0|      1909|                         3444|                       3576238|                 0|                    0|     575145|    1909|     1909|           1909|\n",
      "+-------+----------+-----------------------------+------------------------------+------------------+---------------------+-----------+--------+---------+---------------+\n",
      "\n"
     ]
    }
   ],
   "source": [
    "df_city_blocks.select([count(when(isnan(c) | col(c).isNull(), c)).alias(c) for c in df_city_blocks.columns]).show()"
   ]
  },
  {
   "cell_type": "code",
   "execution_count": 51,
   "id": "1690a021",
   "metadata": {},
   "outputs": [
    {
     "name": "stdout",
     "output_type": "stream",
     "text": [
      "root\n",
      " |-- network: string (nullable = true)\n",
      " |-- geoname_id: integer (nullable = true)\n",
      " |-- registered_country_geoname_id: integer (nullable = true)\n",
      " |-- represented_country_geoname_id: integer (nullable = true)\n",
      " |-- is_anonymous_proxy: string (nullable = true)\n",
      " |-- is_satellite_provider: string (nullable = true)\n",
      " |-- postal_code: string (nullable = true)\n",
      " |-- latitude: string (nullable = true)\n",
      " |-- longitude: string (nullable = true)\n",
      " |-- accuracy_radius: string (nullable = true)\n",
      "\n"
     ]
    }
   ],
   "source": [
    "df_city_blocks.printSchema()"
   ]
  },
  {
   "cell_type": "markdown",
   "id": "0425d291",
   "metadata": {},
   "source": [
    "# GeoLite2-Country-Blocks-IPv4"
   ]
  },
  {
   "cell_type": "code",
   "execution_count": 52,
   "id": "23f6ee35",
   "metadata": {},
   "outputs": [],
   "source": [
    "schema_country_blocks = StructType([\n",
    "    StructField(\"network\", StringType(), True),\n",
    "    StructField(\"geoname_id\", IntegerType(), True),\n",
    "    StructField(\"registered_country_geoname_id\", IntegerType(), True),\n",
    "    StructField(\"represented_country_geoname_id\", IntegerType(), True),\n",
    "    StructField(\"is_anonymous_proxy\", StringType(), True),\n",
    "    StructField(\"is_satellite_provider\", StringType(), True)\n",
    "])\n",
    "\n",
    "df_country_blocks = spark.read.csv(\"s3a://bucket/GeoLite2-Country-Blocks-IPv4.csv\", header=True, schema=schema_country_blocks).persist()"
   ]
  },
  {
   "cell_type": "code",
   "execution_count": 53,
   "id": "f6d68b03",
   "metadata": {},
   "outputs": [
    {
     "name": "stdout",
     "output_type": "stream",
     "text": [
      "+----------+----------+-----------------------------+------------------------------+------------------+---------------------+\n",
      "|   network|geoname_id|registered_country_geoname_id|represented_country_geoname_id|is_anonymous_proxy|is_satellite_provider|\n",
      "+----------+----------+-----------------------------+------------------------------+------------------+---------------------+\n",
      "|1.0.0.0/24|   2077456|                      2077456|                          null|                 0|                    0|\n",
      "|1.0.1.0/24|   1814991|                      1814991|                          null|                 0|                    0|\n",
      "|1.0.2.0/23|   1814991|                      1814991|                          null|                 0|                    0|\n",
      "|1.0.4.0/22|   2077456|                      2077456|                          null|                 0|                    0|\n",
      "|1.0.8.0/21|   1814991|                      1814991|                          null|                 0|                    0|\n",
      "+----------+----------+-----------------------------+------------------------------+------------------+---------------------+\n",
      "only showing top 5 rows\n",
      "\n"
     ]
    }
   ],
   "source": [
    "df_country_blocks.show(5)"
   ]
  },
  {
   "cell_type": "code",
   "execution_count": 54,
   "id": "9f3121b6",
   "metadata": {},
   "outputs": [
    {
     "data": {
      "text/plain": [
       "334879"
      ]
     },
     "execution_count": 54,
     "metadata": {},
     "output_type": "execute_result"
    }
   ],
   "source": [
    "df_country_blocks.count()"
   ]
  },
  {
   "cell_type": "code",
   "execution_count": 55,
   "id": "a0023b3a",
   "metadata": {},
   "outputs": [
    {
     "data": {
      "text/plain": [
       "334879"
      ]
     },
     "execution_count": 55,
     "metadata": {},
     "output_type": "execute_result"
    }
   ],
   "source": [
    "df_country_blocks.dropDuplicates().count()"
   ]
  },
  {
   "cell_type": "code",
   "execution_count": 56,
   "id": "5a6b4ea4",
   "metadata": {},
   "outputs": [
    {
     "name": "stdout",
     "output_type": "stream",
     "text": [
      "+-------+----------+-----------------------------+------------------------------+------------------+---------------------+\n",
      "|network|geoname_id|registered_country_geoname_id|represented_country_geoname_id|is_anonymous_proxy|is_satellite_provider|\n",
      "+-------+----------+-----------------------------+------------------------------+------------------+---------------------+\n",
      "|      0|      1909|                          783|                        334697|                 0|                    0|\n",
      "+-------+----------+-----------------------------+------------------------------+------------------+---------------------+\n",
      "\n"
     ]
    }
   ],
   "source": [
    "df_country_blocks.select([count(when(isnan(c) | col(c).isNull(), c)).alias(c) for c in df_country_blocks.columns]).show()"
   ]
  },
  {
   "cell_type": "code",
   "execution_count": 57,
   "id": "a4e7ca73",
   "metadata": {},
   "outputs": [
    {
     "name": "stdout",
     "output_type": "stream",
     "text": [
      "root\n",
      " |-- network: string (nullable = true)\n",
      " |-- geoname_id: integer (nullable = true)\n",
      " |-- registered_country_geoname_id: integer (nullable = true)\n",
      " |-- represented_country_geoname_id: integer (nullable = true)\n",
      " |-- is_anonymous_proxy: string (nullable = true)\n",
      " |-- is_satellite_provider: string (nullable = true)\n",
      "\n"
     ]
    }
   ],
   "source": [
    "df_country_blocks.printSchema()"
   ]
  },
  {
   "cell_type": "markdown",
   "id": "0ae990dc",
   "metadata": {
    "id": "b1540534"
   },
   "source": [
    "# Data Cleaning"
   ]
  },
  {
   "cell_type": "markdown",
   "id": "41699989",
   "metadata": {
    "id": "a4d81780"
   },
   "source": [
    "## Entfernen von Sonderzeichen im Datensatz real Domains"
   ]
  },
  {
   "cell_type": "code",
   "execution_count": 114,
   "id": "bc161015",
   "metadata": {
    "id": "3fddb3d0"
   },
   "outputs": [],
   "source": [
    "commaRep = udf(lambda x: re.sub('\"','', x))\n",
    "commaRep2 = udf(lambda x: re.sub(']','', x))\n",
    "commaRep3 = udf(lambda x: re.sub('\\[','', x))\n",
    "commaRep5 = udf(lambda x: re.sub('\\.','', x))"
   ]
  },
  {
   "cell_type": "code",
   "execution_count": 115,
   "id": "5683f0d1",
   "metadata": {
    "id": "31f773c8",
    "outputId": "c00ae093-df3b-4cac-b263-d68b563a9c23"
   },
   "outputs": [
    {
     "name": "stdout",
     "output_type": "stream",
     "text": [
      "+----------------+-----------------------------------------------+-----------------------+\n",
      "|Top level domain|MX-Record                                      |A-Record               |\n",
      "+----------------+-----------------------------------------------+-----------------------+\n",
      "|0--1.de         |mail.0--1.de,mxf993.netcup.net                 |\"[\"\"46.38.249.145\"\"]\"  |\n",
      "|0--2.de         |mxf993.netcup.net,mail.0--2.de                 |\"[\"\"212.227.212.163\"\"]\"|\n",
      "|0-0-0-0-0.de    |smtp-02.tld.t-online.de,smtp-01.tld.t-online.de|\"[\"\"80.150.6.143\"\"]\"   |\n",
      "+----------------+-----------------------------------------------+-----------------------+\n",
      "only showing top 3 rows\n",
      "\n"
     ]
    }
   ],
   "source": [
    "df_MXClean=df.withColumn('MX-Record',commaRep('MX-Record'))\n",
    "df_MXClean=df_MXClean.withColumn('MX-Record',commaRep2('MX-Record'))\n",
    "df_MXClean=df_MXClean.withColumn('MX-Record',commaRep3('MX-Record'))\n",
    "df_MXClean.show(3, False)"
   ]
  },
  {
   "cell_type": "code",
   "execution_count": 60,
   "id": "2d417f66",
   "metadata": {
    "id": "b5bad9c7",
    "outputId": "f59107b6-6608-4ec1-9852-4f895ba51f22"
   },
   "outputs": [
    {
     "name": "stdout",
     "output_type": "stream",
     "text": [
      "+----------------+-----------------------------------------------------------+---------------+\n",
      "|Top level domain|MX-Record                                                  |A-Record       |\n",
      "+----------------+-----------------------------------------------------------+---------------+\n",
      "|0--1.de         |\"[\"\"mail.0--1.de\"\",\"\"mxf993.netcup.net\"\"]\"                 |46.38.249.145  |\n",
      "|0--2.de         |\"[\"\"mxf993.netcup.net\"\",\"\"mail.0--2.de\"\"]\"                 |212.227.212.163|\n",
      "|0-0-0-0-0.de    |\"[\"\"smtp-02.tld.t-online.de\"\",\"\"smtp-01.tld.t-online.de\"\"]\"|80.150.6.143   |\n",
      "+----------------+-----------------------------------------------------------+---------------+\n",
      "only showing top 3 rows\n",
      "\n"
     ]
    }
   ],
   "source": [
    "df_AClean=df.withColumn('A-Record',commaRep('A-Record'))\n",
    "df_AClean=df_AClean.withColumn('A-Record',commaRep2('A-Record'))\n",
    "df_AClean=df_AClean.withColumn('A-Record',commaRep3('A-Record'))\n",
    "df_AClean.show(3, False)"
   ]
  },
  {
   "cell_type": "markdown",
   "id": "79bf030d",
   "metadata": {
    "id": "47819ed3"
   },
   "source": [
    " ## Splitten der Spalten im Datensatz real_domains"
   ]
  },
  {
   "cell_type": "code",
   "execution_count": 61,
   "id": "e53d766d",
   "metadata": {
    "id": "acb746f5",
    "outputId": "a26fc5ed-d5f5-4f05-a0a5-3aea5fbb065b"
   },
   "outputs": [
    {
     "name": "stdout",
     "output_type": "stream",
     "text": [
      "+----------------+--------------------+--------------------+------+--------------------+\n",
      "|Top level domain|            A-Record|           MX-Record|pos_MX|              val_MX|\n",
      "+----------------+--------------------+--------------------+------+--------------------+\n",
      "|         0--1.de|\"[\"\"46.38.249.145...|[mail.0--1.de, mx...|     0|        mail.0--1.de|\n",
      "|         0--1.de|\"[\"\"46.38.249.145...|[mail.0--1.de, mx...|     1|   mxf993.netcup.net|\n",
      "|         0--2.de|\"[\"\"212.227.212.1...|[mxf993.netcup.ne...|     0|   mxf993.netcup.net|\n",
      "|         0--2.de|\"[\"\"212.227.212.1...|[mxf993.netcup.ne...|     1|        mail.0--2.de|\n",
      "|    0-0-0-0-0.de|\"[\"\"80.150.6.143\"\"]\"|[smtp-02.tld.t-on...|     0|smtp-02.tld.t-onl...|\n",
      "+----------------+--------------------+--------------------+------+--------------------+\n",
      "only showing top 5 rows\n",
      "\n"
     ]
    }
   ],
   "source": [
    "df_MXSplit=df_MXClean.select(\n",
    "        \"Top level domain\", \"A-Record\",\n",
    "        f.split(\"MX-Record\", \",\").alias(\"MX-Record\"),\n",
    "        f.posexplode(f.split(\"MX-Record\", \",\")).alias(\"pos_MX\", \"val_MX\")\n",
    "    )\n",
    "df_MXSplit.show(5)"
   ]
  },
  {
   "cell_type": "code",
   "execution_count": 62,
   "id": "c302281b",
   "metadata": {
    "id": "1a9cfea3",
    "outputId": "fae0df60-c8b0-4eb4-c188-e6e7c57cb6b6",
    "scrolled": true
   },
   "outputs": [
    {
     "name": "stdout",
     "output_type": "stream",
     "text": [
      "+-------------------+--------------------+-----------------+-----+---------------+\n",
      "|   Top level domain|           MX-Record|         A-Record|pos_A|          val_A|\n",
      "+-------------------+--------------------+-----------------+-----+---------------+\n",
      "|            0--1.de|\"[\"\"mail.0--1.de\"...|  [46.38.249.145]|    0|  46.38.249.145|\n",
      "|            0--2.de|\"[\"\"mxf993.netcup...|[212.227.212.163]|    0|212.227.212.163|\n",
      "|       0-0-0-0-0.de|\"[\"\"smtp-02.tld.t...|   [80.150.6.143]|    0|   80.150.6.143|\n",
      "|         0-0-0-1.de|\"[\"\"smtp-02.tld.t...|   [80.150.6.143]|    0|   80.150.6.143|\n",
      "|             0-0.de|                  []|  [185.53.178.13]|    0|  185.53.178.13|\n",
      "|            0-01.de|\"[\"\"mail.0-01.de\"\"]\"| [193.34.145.200]|    0| 193.34.145.200|\n",
      "|             0-1.de|   \"[\"\"localhost\"\"]\"| [91.195.241.137]|    0| 91.195.241.137|\n",
      "|            0-10.de|                  []|               []|    0|               |\n",
      "|          0-1000.de|   \"[\"\"localhost\"\"]\"| [91.195.241.137]|    0| 91.195.241.137|\n",
      "|        0-100kmh.de|\"[\"\"smtpin.rzone....|  [81.169.145.95]|    0|  81.169.145.95|\n",
      "|            0-12.de|   \"[\"\"localhost\"\"]\"| [91.195.241.137]|    0| 91.195.241.137|\n",
      "|            0-17.de|   \"[\"\"localhost\"\"]\"| [91.195.241.137]|    0| 91.195.241.137|\n",
      "|             0-2.de|   \"[\"\"localhost\"\"]\"|      [127.0.0.1]|    0|      127.0.0.1|\n",
      "|      0-24domain.de|\"[\"\"pmx.bestcpane...| [194.38.104.220]|    0| 194.38.104.220|\n",
      "|           0-24h.de|\"[\"\"mxlb.ispgatew...|[134.209.177.247]|    0|134.209.177.247|\n",
      "|     0-24leasing.de|                  []|               []|    0|               |\n",
      "|0-24versicherung.de|                  []|               []|    0|               |\n",
      "|        0-263475.de|                  []|   [176.9.76.101]|    0|   176.9.76.101|\n",
      "|           0-3-0.de|                  []|               []|    0|               |\n",
      "|             0-3.de|\"[\"\"teller.ggeg.e...|[185.163.116.240]|    0|185.163.116.240|\n",
      "+-------------------+--------------------+-----------------+-----+---------------+\n",
      "only showing top 20 rows\n",
      "\n"
     ]
    }
   ],
   "source": [
    "df_ASplit=df_AClean.select(\n",
    "        \"Top level domain\", \"MX-Record\",\n",
    "        f.split(\"A-Record\", \", \").alias(\"A-Record\"),\n",
    "        f.posexplode(f.split(\"A-Record\", \",\")).alias(\"pos_A\", \"val_A\")\n",
    "    )\n",
    "df_ASplit.show(20)"
   ]
  },
  {
   "cell_type": "code",
   "execution_count": 63,
   "id": "edc34c89",
   "metadata": {},
   "outputs": [],
   "source": [
    "df_ASplit = df_ASplit.filter(\"val_A != ''\")"
   ]
  },
  {
   "cell_type": "code",
   "execution_count": 64,
   "id": "df61721a",
   "metadata": {},
   "outputs": [
    {
     "name": "stdout",
     "output_type": "stream",
     "text": [
      "+----------------+--------------------+-----------------+-----+---------------+\n",
      "|Top level domain|           MX-Record|         A-Record|pos_A|          val_A|\n",
      "+----------------+--------------------+-----------------+-----+---------------+\n",
      "|         0--1.de|\"[\"\"mail.0--1.de\"...|  [46.38.249.145]|    0|  46.38.249.145|\n",
      "|         0--2.de|\"[\"\"mxf993.netcup...|[212.227.212.163]|    0|212.227.212.163|\n",
      "|    0-0-0-0-0.de|\"[\"\"smtp-02.tld.t...|   [80.150.6.143]|    0|   80.150.6.143|\n",
      "|      0-0-0-1.de|\"[\"\"smtp-02.tld.t...|   [80.150.6.143]|    0|   80.150.6.143|\n",
      "|          0-0.de|                  []|  [185.53.178.13]|    0|  185.53.178.13|\n",
      "|         0-01.de|\"[\"\"mail.0-01.de\"\"]\"| [193.34.145.200]|    0| 193.34.145.200|\n",
      "|          0-1.de|   \"[\"\"localhost\"\"]\"| [91.195.241.137]|    0| 91.195.241.137|\n",
      "|       0-1000.de|   \"[\"\"localhost\"\"]\"| [91.195.241.137]|    0| 91.195.241.137|\n",
      "|     0-100kmh.de|\"[\"\"smtpin.rzone....|  [81.169.145.95]|    0|  81.169.145.95|\n",
      "|         0-12.de|   \"[\"\"localhost\"\"]\"| [91.195.241.137]|    0| 91.195.241.137|\n",
      "|         0-17.de|   \"[\"\"localhost\"\"]\"| [91.195.241.137]|    0| 91.195.241.137|\n",
      "|          0-2.de|   \"[\"\"localhost\"\"]\"|      [127.0.0.1]|    0|      127.0.0.1|\n",
      "|   0-24domain.de|\"[\"\"pmx.bestcpane...| [194.38.104.220]|    0| 194.38.104.220|\n",
      "|        0-24h.de|\"[\"\"mxlb.ispgatew...|[134.209.177.247]|    0|134.209.177.247|\n",
      "|     0-263475.de|                  []|   [176.9.76.101]|    0|   176.9.76.101|\n",
      "|          0-3.de|\"[\"\"teller.ggeg.e...|[185.163.116.240]|    0|185.163.116.240|\n",
      "|         0-32.de|\"[\"\"smtpin.rzone....|  [81.169.145.66]|    0|  81.169.145.66|\n",
      "|        0-5-1.de|\"[\"\"smtp-02.tld.t...|   [80.150.6.143]|    0|   80.150.6.143|\n",
      "|        0-500.de|\"[\"\"mail.0-500.de...| [213.239.200.93]|    0| 213.239.200.93|\n",
      "|       0-8-16.de|   \"[\"\"localhost\"\"]\"| [91.195.241.137]|    0| 91.195.241.137|\n",
      "+----------------+--------------------+-----------------+-----+---------------+\n",
      "only showing top 20 rows\n",
      "\n"
     ]
    }
   ],
   "source": [
    "df_ASplit.show(20)"
   ]
  },
  {
   "cell_type": "code",
   "execution_count": 65,
   "id": "0680bea4",
   "metadata": {
    "id": "98f9fed8",
    "outputId": "0e9eb8c4-3f5d-41e3-ebd7-de64ad2ae593"
   },
   "outputs": [
    {
     "data": {
      "text/plain": [
       "5368041"
      ]
     },
     "execution_count": 65,
     "metadata": {},
     "output_type": "execute_result"
    }
   ],
   "source": [
    "df_ASplit.count()"
   ]
  },
  {
   "cell_type": "code",
   "execution_count": 66,
   "id": "7cc46dcb",
   "metadata": {
    "id": "4b647a59",
    "scrolled": false
   },
   "outputs": [],
   "source": [
    "df_ASplit=df_ASplit.filter(df_ASplit.val_A!=\"\")"
   ]
  },
  {
   "cell_type": "code",
   "execution_count": 67,
   "id": "b6eda6cf",
   "metadata": {
    "id": "b152a75a",
    "outputId": "7dd54095-c146-4227-b40e-bfacc98d4acf"
   },
   "outputs": [
    {
     "data": {
      "text/plain": [
       "5368041"
      ]
     },
     "execution_count": 67,
     "metadata": {},
     "output_type": "execute_result"
    }
   ],
   "source": [
    "df_ASplit.count()"
   ]
  },
  {
   "cell_type": "code",
   "execution_count": 68,
   "id": "4dfee57a",
   "metadata": {
    "id": "b84b9d52",
    "outputId": "13741639-1705-47b4-8748-5de6814e7b1f"
   },
   "outputs": [
    {
     "name": "stdout",
     "output_type": "stream",
     "text": [
      "root\n",
      " |-- Top level domain: string (nullable = true)\n",
      " |-- MX-Record: string (nullable = true)\n",
      " |-- A-Record: array (nullable = true)\n",
      " |    |-- element: string (containsNull = true)\n",
      " |-- pos_A: integer (nullable = false)\n",
      " |-- val_A: string (nullable = true)\n",
      "\n"
     ]
    }
   ],
   "source": [
    "df_ASplit.printSchema()"
   ]
  },
  {
   "cell_type": "markdown",
   "id": "64b9bc2e",
   "metadata": {
    "id": "ba9c450c"
   },
   "source": [
    "## Entfernen von Sonderzeichen im Datensatz asn ip4 Blocks"
   ]
  },
  {
   "cell_type": "code",
   "execution_count": 69,
   "id": "e2767900",
   "metadata": {
    "id": "67e46621",
    "outputId": "8462e7b7-5646-4aee-8f03-01e9e61e882d",
    "scrolled": true
   },
   "outputs": [
    {
     "name": "stdout",
     "output_type": "stream",
     "text": [
      "+------------+------------------------+------------------------------+--------------+------------+\n",
      "|     network|autonomous_system_number|autonomous_system_organization|network_adress|subnetzmaske|\n",
      "+------------+------------------------+------------------------------+--------------+------------+\n",
      "|  1.0.0.0/24|                   13335|                 CLOUDFLARENET|       1.0.0.0|          24|\n",
      "|  1.0.4.0/22|                   38803|          Wirefreebroadband...|       1.0.4.0|          22|\n",
      "| 1.0.64.0/18|                   18144|          Energia Communica...|      1.0.64.0|          18|\n",
      "|1.0.128.0/17|                   23969|          TOT Public Compan...|     1.0.128.0|          17|\n",
      "|  1.1.1.0/24|                   13335|                 CLOUDFLARENET|       1.1.1.0|          24|\n",
      "|  1.1.8.0/24|                   58543|                     Guangdong|       1.1.8.0|          24|\n",
      "| 1.1.64.0/19|                    2519|          ARTERIA Networks ...|      1.1.64.0|          19|\n",
      "| 1.1.96.0/20|                    2519|          ARTERIA Networks ...|      1.1.96.0|          20|\n",
      "|1.1.112.0/21|                    2519|          ARTERIA Networks ...|     1.1.112.0|          21|\n",
      "|1.1.120.0/22|                    2519|          ARTERIA Networks ...|     1.1.120.0|          22|\n",
      "|1.1.124.0/23|                    2519|          ARTERIA Networks ...|     1.1.124.0|          23|\n",
      "|1.1.126.0/24|                    2519|          ARTERIA Networks ...|     1.1.126.0|          24|\n",
      "|1.1.128.0/17|                   23969|          TOT Public Compan...|     1.1.128.0|          17|\n",
      "|  1.2.4.0/24|                   24151|          China Internet Ne...|       1.2.4.0|          24|\n",
      "|1.2.128.0/17|                   23969|          TOT Public Compan...|     1.2.128.0|          17|\n",
      "|1.4.128.0/17|                   23969|          TOT Public Compan...|     1.4.128.0|          17|\n",
      "|  1.5.0.0/16|                    4725|                SoftBank Corp.|       1.5.0.0|          16|\n",
      "|  1.6.0.0/17|                    9583|                  Sify Limited|       1.6.0.0|          17|\n",
      "|1.6.128.0/21|                    9583|                  Sify Limited|     1.6.128.0|          21|\n",
      "|1.6.136.0/24|                  132215|          Power Grid Corpor...|     1.6.136.0|          24|\n",
      "+------------+------------------------+------------------------------+--------------+------------+\n",
      "only showing top 20 rows\n",
      "\n"
     ]
    }
   ],
   "source": [
    "split_col = f.split(df_asn_blocks_ipv4['network'], '/')\n",
    "df_asn_blocks_ipv4 = df_asn_blocks_ipv4.withColumn('network_adress', split_col.getItem(0))\n",
    "df_asn_blocks_ipv4 = df_asn_blocks_ipv4.withColumn('subnetzmaske', split_col.getItem(1))\n",
    "\n",
    "df_asn_blocks_ipv4.show()"
   ]
  },
  {
   "cell_type": "code",
   "execution_count": 70,
   "id": "8876218c",
   "metadata": {
    "id": "b6403e24",
    "outputId": "28dbd7ac-528a-4848-bf2d-22773155fbf9"
   },
   "outputs": [
    {
     "data": {
      "text/plain": [
       "461902"
      ]
     },
     "execution_count": 70,
     "metadata": {},
     "output_type": "execute_result"
    }
   ],
   "source": [
    "df_asn_blocks_ipv4.count()"
   ]
  },
  {
   "cell_type": "markdown",
   "id": "b688bdd3",
   "metadata": {
    "id": "ee468b85"
   },
   "source": [
    "# Joining"
   ]
  },
  {
   "cell_type": "markdown",
   "id": "9288b3b5",
   "metadata": {
    "id": "4e9eefee"
   },
   "source": [
    "## Joining von Tabelle real_new und asn_blocks_ipv4"
   ]
  },
  {
   "cell_type": "code",
   "execution_count": 82,
   "id": "152f75df",
   "metadata": {
    "colab": {
     "base_uri": "https://localhost:8080/",
     "height": 226
    },
    "executionInfo": {
     "elapsed": 701,
     "status": "error",
     "timestamp": 1624866445907,
     "user": {
      "displayName": "Miriam Schneider",
      "photoUrl": "",
      "userId": "12431475822727460382"
     },
     "user_tz": -120
    },
    "id": "d435e250",
    "outputId": "783d2d63-3660-4672-ca78-b33eb3587730"
   },
   "outputs": [],
   "source": [
    "def ip_range(ip, network_range):\n",
    "    return ipaddress.IPv4Address(str(ip)) in ipaddress.ip_network(str(network_range))\n",
    "\n",
    "pred = udf(lambda ip, network_range:ipaddress.IPv4Address(str(ip)) in ipaddress.ip_network(str(network_range)), BooleanType())"
   ]
  },
  {
   "cell_type": "markdown",
   "id": "0571c3b7",
   "metadata": {},
   "source": [
    "Auswahl der ersten 50 Daten aus dem ursprünglichen Datensatz"
   ]
  },
  {
   "cell_type": "code",
   "execution_count": 83,
   "id": "8155e986",
   "metadata": {},
   "outputs": [],
   "source": [
    "startzeit=time.time()"
   ]
  },
  {
   "cell_type": "code",
   "execution_count": 84,
   "id": "ef906ae0",
   "metadata": {},
   "outputs": [],
   "source": [
    "#dfJoinA.show(3)"
   ]
  },
  {
   "cell_type": "code",
   "execution_count": 85,
   "id": "6a11f4e1",
   "metadata": {},
   "outputs": [],
   "source": [
    "#Für eine Analyse des ganzen Datensatzes verwendet man\n",
    "#dfJoinATest=df_ASplit\n",
    "#anstatt der folgenden Zeile\n",
    "\n",
    "\n",
    "dfJoinATest=df_ASplit.limit(2000)"
   ]
  },
  {
   "cell_type": "code",
   "execution_count": 86,
   "id": "0edc7217",
   "metadata": {},
   "outputs": [],
   "source": [
    "#dfJoinATest.count()"
   ]
  },
  {
   "cell_type": "code",
   "execution_count": 87,
   "id": "6fac0592",
   "metadata": {
    "executionInfo": {
     "elapsed": 8,
     "status": "aborted",
     "timestamp": 1624866445903,
     "user": {
      "displayName": "Miriam Schneider",
      "photoUrl": "",
      "userId": "12431475822727460382"
     },
     "user_tz": -120
    },
    "id": "02cfb122",
    "scrolled": true
   },
   "outputs": [],
   "source": [
    "#dfJoinA=df_ASplit.join(df_asn_blocks_ipv4,how=\"right\").where(pred(df_ASplit.val_A, df_asn_blocks_ipv4.network))"
   ]
  },
  {
   "cell_type": "code",
   "execution_count": 88,
   "id": "794a38b3",
   "metadata": {},
   "outputs": [],
   "source": [
    "dfJoinA=dfJoinATest.join(df_asn_blocks_ipv4,how=\"right\").where(pred(dfJoinATest.val_A, df_asn_blocks_ipv4.network)).cache()"
   ]
  },
  {
   "cell_type": "code",
   "execution_count": null,
   "id": "2f9a2200",
   "metadata": {},
   "outputs": [],
   "source": [
    "dfJoinA.show()"
   ]
  },
  {
   "cell_type": "code",
   "execution_count": 89,
   "id": "abfdd724",
   "metadata": {},
   "outputs": [],
   "source": [
    "zeitende=time.time()"
   ]
  },
  {
   "cell_type": "code",
   "execution_count": 90,
   "id": "e8635d79",
   "metadata": {},
   "outputs": [
    {
     "data": {
      "text/plain": [
       "0.03683681488037109"
      ]
     },
     "execution_count": 90,
     "metadata": {},
     "output_type": "execute_result"
    }
   ],
   "source": [
    "(zeitende-startzeit)/60"
   ]
  },
  {
   "cell_type": "markdown",
   "id": "5a7c5e3d",
   "metadata": {
    "id": "3d8b2d78"
   },
   "source": [
    "## Joining von dfjoinA mit df_country_blocks und df_city_blocks"
   ]
  },
  {
   "cell_type": "code",
   "execution_count": 92,
   "id": "bf81ea98",
   "metadata": {
    "id": "cf7d01d1"
   },
   "outputs": [],
   "source": [
    "df_joint_JoinA_mitBlocks = dfJoinA\\\n",
    "            .join(df_country_blocks, dfJoinA[\"network\"] == df_country_blocks[\"network\"])#\\\n",
    "            #.join(df_city_blocks, dfJoinA[\"network\"] == df_city_blocks[\"network\"])"
   ]
  },
  {
   "cell_type": "code",
   "execution_count": 93,
   "id": "76a0f577",
   "metadata": {
    "id": "239e738b"
   },
   "outputs": [
    {
     "name": "stdout",
     "output_type": "stream",
     "text": [
      "+----------------+--------------------+--------------+-----+------------+-------------+------------------------+------------------------------+--------------+------------+-------------+----------+-----------------------------+------------------------------+------------------+---------------------+\n",
      "|Top level domain|           MX-Record|      A-Record|pos_A|       val_A|      network|autonomous_system_number|autonomous_system_organization|network_adress|subnetzmaske|      network|geoname_id|registered_country_geoname_id|represented_country_geoname_id|is_anonymous_proxy|is_satellite_provider|\n",
      "+----------------+--------------------+--------------+-----+------------+-------------+------------------------+------------------------------+--------------+------------+-------------+----------+-----------------------------+------------------------------+------------------+---------------------+\n",
      "|  01759354151.de|\"[\"\"mx.0175935415...|  [2.56.97.57]|    0|  2.56.97.57| 2.56.96.0/22|                  197540|                   netcup GmbH|     2.56.96.0|          22| 2.56.96.0/22|   2921044|                      2921044|                          null|                 0|                    0|\n",
      "|       010102.de|\"[\"\"mxlb.ispgatew...| [2.56.97.216]|    0| 2.56.97.216| 2.56.96.0/22|                  197540|                   netcup GmbH|     2.56.96.0|          22| 2.56.96.0/22|   2921044|                      2921044|                          null|                 0|                    0|\n",
      "|  030-service.de|\"[\"\"mx0.030-servi...|[5.35.225.136]|    0|5.35.225.136|5.35.225.0/24|                   20773|              Host Europe GmbH|    5.35.225.0|          24|5.35.225.0/24|   2921044|                      2921044|                          null|                 0|                    0|\n",
      "|          08o.de| \"[\"\"mail.08o.de\"\"]\"|[5.35.255.101]|    0|5.35.255.101|5.35.240.0/20|                    8972|              Host Europe GmbH|    5.35.240.0|          20|5.35.240.0/20|   3017382|                      2921044|                          null|                 0|                    0|\n",
      "|007-nightclub.de|\"[\"\"mail.network5...|[5.35.248.139]|    0|5.35.248.139|5.35.240.0/20|                    8972|              Host Europe GmbH|    5.35.240.0|          20|5.35.240.0/20|   3017382|                      2921044|                          null|                 0|                    0|\n",
      "+----------------+--------------------+--------------+-----+------------+-------------+------------------------+------------------------------+--------------+------------+-------------+----------+-----------------------------+------------------------------+------------------+---------------------+\n",
      "only showing top 5 rows\n",
      "\n"
     ]
    }
   ],
   "source": [
    "df_joint_JoinA_mitBlocks.show(5)"
   ]
  },
  {
   "cell_type": "markdown",
   "id": "200bdc9f",
   "metadata": {},
   "source": [
    "## Joining von allen Dataframes"
   ]
  },
  {
   "cell_type": "code",
   "execution_count": 94,
   "id": "b477f438",
   "metadata": {},
   "outputs": [],
   "source": [
    "df_joint_all = df_joint_JoinA_mitBlocks\\\n",
    "            .join(df_country, df_joint_JoinA_mitBlocks[\"geoname_id\"] == df_country[\"geoname_id\"])#\\\n",
    "            #.join(df_city, df_joint_JoinA_mitBlocks[\"geoname_id\"] == df_city[\"geoname_id\"])"
   ]
  },
  {
   "cell_type": "code",
   "execution_count": 95,
   "id": "053f4cd4",
   "metadata": {},
   "outputs": [
    {
     "name": "stdout",
     "output_type": "stream",
     "text": [
      "+----------------+--------------------+--------------+-----+------------+-------------+------------------------+------------------------------+--------------+------------+-------------+----------+-----------------------------+------------------------------+------------------+---------------------+----------+------------+\n",
      "|Top level domain|           MX-Record|      A-Record|pos_A|       val_A|      network|autonomous_system_number|autonomous_system_organization|network_adress|subnetzmaske|      network|geoname_id|registered_country_geoname_id|represented_country_geoname_id|is_anonymous_proxy|is_satellite_provider|geoname_id|country_name|\n",
      "+----------------+--------------------+--------------+-----+------------+-------------+------------------------+------------------------------+--------------+------------+-------------+----------+-----------------------------+------------------------------+------------------+---------------------+----------+------------+\n",
      "|  01759354151.de|\"[\"\"mx.0175935415...|  [2.56.97.57]|    0|  2.56.97.57| 2.56.96.0/22|                  197540|                   netcup GmbH|     2.56.96.0|          22| 2.56.96.0/22|   2921044|                      2921044|                          null|                 0|                    0|   2921044|     Germany|\n",
      "|       010102.de|\"[\"\"mxlb.ispgatew...| [2.56.97.216]|    0| 2.56.97.216| 2.56.96.0/22|                  197540|                   netcup GmbH|     2.56.96.0|          22| 2.56.96.0/22|   2921044|                      2921044|                          null|                 0|                    0|   2921044|     Germany|\n",
      "|  030-service.de|\"[\"\"mx0.030-servi...|[5.35.225.136]|    0|5.35.225.136|5.35.225.0/24|                   20773|              Host Europe GmbH|    5.35.225.0|          24|5.35.225.0/24|   2921044|                      2921044|                          null|                 0|                    0|   2921044|     Germany|\n",
      "|          08o.de| \"[\"\"mail.08o.de\"\"]\"|[5.35.255.101]|    0|5.35.255.101|5.35.240.0/20|                    8972|              Host Europe GmbH|    5.35.240.0|          20|5.35.240.0/20|   3017382|                      2921044|                          null|                 0|                    0|   3017382|      France|\n",
      "|007-nightclub.de|\"[\"\"mail.network5...|[5.35.248.139]|    0|5.35.248.139|5.35.240.0/20|                    8972|              Host Europe GmbH|    5.35.240.0|          20|5.35.240.0/20|   3017382|                      2921044|                          null|                 0|                    0|   3017382|      France|\n",
      "+----------------+--------------------+--------------+-----+------------+-------------+------------------------+------------------------------+--------------+------------+-------------+----------+-----------------------------+------------------------------+------------------+---------------------+----------+------------+\n",
      "only showing top 5 rows\n",
      "\n"
     ]
    }
   ],
   "source": [
    "df_joint_all.show(5)"
   ]
  },
  {
   "cell_type": "markdown",
   "id": "35e1c4d3",
   "metadata": {
    "id": "3e0b7d2b"
   },
   "source": [
    "## Checken Joining-Datensatz"
   ]
  },
  {
   "cell_type": "code",
   "execution_count": 91,
   "id": "e3d90350",
   "metadata": {},
   "outputs": [
    {
     "data": {
      "text/plain": [
       "1997"
      ]
     },
     "execution_count": 91,
     "metadata": {},
     "output_type": "execute_result"
    }
   ],
   "source": [
    "dfJoinA.count()"
   ]
  },
  {
   "cell_type": "code",
   "execution_count": 96,
   "id": "b2b209fb",
   "metadata": {},
   "outputs": [
    {
     "data": {
      "text/plain": [
       "684"
      ]
     },
     "execution_count": 96,
     "metadata": {},
     "output_type": "execute_result"
    }
   ],
   "source": [
    "df_joint_JoinA_mitBlocks.count()"
   ]
  },
  {
   "cell_type": "code",
   "execution_count": 97,
   "id": "c734d32a",
   "metadata": {},
   "outputs": [
    {
     "data": {
      "text/plain": [
       "684"
      ]
     },
     "execution_count": 97,
     "metadata": {},
     "output_type": "execute_result"
    }
   ],
   "source": [
    "df_joint_all.count()"
   ]
  },
  {
   "cell_type": "markdown",
   "id": "23032599",
   "metadata": {},
   "source": [
    "* bei unseren gejointen Netzwerken scheinen überproportional viele unbekannte Länder dabei zu sein"
   ]
  },
  {
   "cell_type": "markdown",
   "id": "1d636e37",
   "metadata": {
    "id": "179caa37"
   },
   "source": [
    "# Analyse"
   ]
  },
  {
   "cell_type": "markdown",
   "id": "51560cc8",
   "metadata": {},
   "source": [
    "## How many A records does a top level domain usually have?"
   ]
  },
  {
   "cell_type": "code",
   "execution_count": 122,
   "id": "6f296161",
   "metadata": {},
   "outputs": [
    {
     "name": "stdout",
     "output_type": "stream",
     "text": [
      "+--------------------------+-----+\n",
      "|Top level domain          |count|\n",
      "+--------------------------+-----+\n",
      "|def-service.de            |20   |\n",
      "|content-choice.de         |20   |\n",
      "|def-platform.de           |20   |\n",
      "|bnw-music.de              |20   |\n",
      "|addefend-platform.de      |20   |\n",
      "|contentchoice.de          |20   |\n",
      "|ourschoolnet.de           |16   |\n",
      "|harmlessnoize.de          |16   |\n",
      "|berlinsbi.de              |15   |\n",
      "|chunksofco.de             |13   |\n",
      "|gott-im-abseits.de        |12   |\n",
      "|politischer-hintergrund.de|12   |\n",
      "|martinsnajdr.de           |12   |\n",
      "|lasthit.de                |12   |\n",
      "|infrastructureasco.de     |12   |\n",
      "|dickens-lesen.de          |12   |\n",
      "|aktion-mensch.de          |12   |\n",
      "|remotees.de               |12   |\n",
      "|ausbrechenausdemalltag.de |12   |\n",
      "|skablog.de                |12   |\n",
      "+--------------------------+-----+\n",
      "only showing top 20 rows\n",
      "\n"
     ]
    }
   ],
   "source": [
    "df_ASplit_Grouped=df_ASplit.groupBy(\"Top level domain\").count()\n",
    "df_ASplit_Grouped.orderBy(col(\"count\").desc()).show(20, False)\n"
   ]
  },
  {
   "cell_type": "code",
   "execution_count": 123,
   "id": "a308c577",
   "metadata": {},
   "outputs": [
    {
     "name": "stdout",
     "output_type": "stream",
     "text": [
      "+-------+----------------+------------------+\n",
      "|summary|Top level domain|             count|\n",
      "+-------+----------------+------------------+\n",
      "|  count|         4688866|           4688866|\n",
      "|   mean|            null| 1.144848455895306|\n",
      "| stddev|            null|0.5526355125785732|\n",
      "|    min|         0--1.de|                 1|\n",
      "|    max|   zzzzzzzzzz.de|                20|\n",
      "+-------+----------------+------------------+\n",
      "\n"
     ]
    }
   ],
   "source": [
    "df_ASplit_Grouped.describe().show()"
   ]
  },
  {
   "cell_type": "markdown",
   "id": "18a615a1",
   "metadata": {},
   "source": [
    "* die meisten Top Level Domains haben nur ein A-record"
   ]
  },
  {
   "cell_type": "code",
   "execution_count": 124,
   "id": "c365365b",
   "metadata": {},
   "outputs": [
    {
     "data": {
      "text/plain": [
       "<AxesSubplot:xlabel='count', ylabel='Count'>"
      ]
     },
     "execution_count": 124,
     "metadata": {},
     "output_type": "execute_result"
    },
    {
     "data": {
      "image/png": "[encoded data removed]",
      "text/plain": [
       "<Figure size 432x288 with 1 Axes>"
      ]
     },
     "metadata": {
      "needs_background": "light"
     },
     "output_type": "display_data"
    }
   ],
   "source": [
    "Adf_pandas_all = df_ASplit_Grouped.toPandas()\n",
    "sns.histplot(data=Adf_pandas_all, x=\"count\",bins=20)"
   ]
  },
  {
   "cell_type": "code",
   "execution_count": 125,
   "id": "bccb5ccf",
   "metadata": {},
   "outputs": [
    {
     "data": {
      "text/plain": [
       "<AxesSubplot:xlabel='count', ylabel='Count'>"
      ]
     },
     "execution_count": 125,
     "metadata": {},
     "output_type": "execute_result"
    },
    {
     "data": {
      "image/png": "[encoded data removed]",
      "text/plain": [
       "<Figure size 432x288 with 1 Axes>"
      ]
     },
     "metadata": {
      "needs_background": "light"
     },
     "output_type": "display_data"
    }
   ],
   "source": [
    "df_ASplit_Grouped_high=df_ASplit_Grouped.filter(df_ASplit_Grouped[\"count\"]>1)\n",
    "Adf_pandas_high = df_ASplit_Grouped_high.toPandas()\n",
    "sns.histplot(data=Adf_pandas_high, x=\"count\",bins=20)"
   ]
  },
  {
   "cell_type": "markdown",
   "id": "c001db4c",
   "metadata": {},
   "source": [
    "## How many MX records does a top level domain usually have?"
   ]
  },
  {
   "cell_type": "code",
   "execution_count": 109,
   "id": "db2c61b5",
   "metadata": {},
   "outputs": [
    {
     "name": "stdout",
     "output_type": "stream",
     "text": [
      "+--------------------+-----+\n",
      "|Top level domain    |count|\n",
      "+--------------------+-----+\n",
      "|domservice.de       |21   |\n",
      "|derproviderserver.de|18   |\n",
      "|liebesort.de        |17   |\n",
      "|redleadsmarketing.de|16   |\n",
      "|mysmartshop.de      |16   |\n",
      "+--------------------+-----+\n",
      "only showing top 5 rows\n",
      "\n"
     ]
    }
   ],
   "source": [
    "df_MXSplit_Grouped=df_MXSplit.groupBy(\"Top level domain\").count()\n",
    "df_MXSplit_Grouped.orderBy(col(\"count\").desc()).show(5, False)"
   ]
  },
  {
   "cell_type": "code",
   "execution_count": 110,
   "id": "24f844e7",
   "metadata": {
    "scrolled": true
   },
   "outputs": [
    {
     "name": "stdout",
     "output_type": "stream",
     "text": [
      "+-------+----------------+------------------+\n",
      "|summary|Top level domain|             count|\n",
      "+-------+----------------+------------------+\n",
      "|  count|         4860885|           4860885|\n",
      "|   mean|            null|1.4506329608702941|\n",
      "| stddev|            null|0.7938619534327868|\n",
      "|    min|         0--1.de|                 1|\n",
      "|    max|   zzzzzzzzzz.de|                21|\n",
      "+-------+----------------+------------------+\n",
      "\n"
     ]
    }
   ],
   "source": [
    "df_MXSplit_Grouped.describe().show()"
   ]
  },
  {
   "cell_type": "markdown",
   "id": "399e3f24",
   "metadata": {},
   "source": [
    "* die meisten Top Level Domains haben nur ein MX Record"
   ]
  },
  {
   "cell_type": "code",
   "execution_count": 126,
   "id": "c2f0b72d",
   "metadata": {},
   "outputs": [
    {
     "data": {
      "text/plain": [
       "<AxesSubplot:xlabel='count', ylabel='Count'>"
      ]
     },
     "execution_count": 126,
     "metadata": {},
     "output_type": "execute_result"
    },
    {
     "data": {
      "image/png": "[encoded data removed]",
      "text/plain": [
       "<Figure size 432x288 with 1 Axes>"
      ]
     },
     "metadata": {
      "needs_background": "light"
     },
     "output_type": "display_data"
    }
   ],
   "source": [
    "MXdf_pandas_all = df_MXSplit_Grouped.toPandas()\n",
    "sns.histplot(data=MXdf_pandas_all, x=\"count\",bins=20)"
   ]
  },
  {
   "cell_type": "code",
   "execution_count": null,
   "id": "61bfd928",
   "metadata": {},
   "outputs": [],
   "source": [
    "df_MXSplit_Grouped_high=df_MXSplit_Grouped.filter(df_MXSplit_Grouped[\"count\"]>2)\n",
    "MXdf_pandas_high = df_MXSplit_Grouped_high.toPandas()\n",
    "sns.histplot(data=MXdf_pandas_high, x=\"count\",bins=20)"
   ]
  },
  {
   "cell_type": "markdown",
   "id": "b3ae4799",
   "metadata": {
    "id": "144ae606"
   },
   "source": [
    "## What are the Top 10 Companies that own the servers the A records point to?\n"
   ]
  },
  {
   "cell_type": "code",
   "execution_count": 100,
   "id": "5d5cf6a0",
   "metadata": {
    "id": "f9b756e7"
   },
   "outputs": [
    {
     "name": "stdout",
     "output_type": "stream",
     "text": [
      "+------------------------------+-----+\n",
      "|autonomous_system_organization|count|\n",
      "+------------------------------+-----+\n",
      "|SEDO GmbH                     |714  |\n",
      "|CLOUDFLARENET                 |162  |\n",
      "|Hetzner Online GmbH           |127  |\n",
      "|Strato AG                     |108  |\n",
      "|1&1 Ionos Se                  |92   |\n",
      "|Neue Medien Muennich GmbH     |84   |\n",
      "|AMAZON-02                     |78   |\n",
      "|Host Europe GmbH              |63   |\n",
      "|netcup GmbH                   |54   |\n",
      "|Deutsche Telekom AG           |45   |\n",
      "+------------------------------+-----+\n",
      "\n"
     ]
    }
   ],
   "source": [
    "top_companies=dfJoinA.groupBy(\"autonomous_system_organization\").count()\n",
    "top_companies=top_companies.orderBy(col(\"count\").desc()).limit(10)\n",
    "top_companies.show(20,False)"
   ]
  },
  {
   "cell_type": "code",
   "execution_count": 101,
   "id": "4192512f",
   "metadata": {},
   "outputs": [
    {
     "data": {
      "text/plain": [
       "<AxesSubplot:xlabel='count', ylabel='Count'>"
      ]
     },
     "execution_count": 101,
     "metadata": {},
     "output_type": "execute_result"
    },
    {
     "data": {
      "image/png": "[encoded data removed]",
      "text/plain": [
       "<Figure size 432x288 with 1 Axes>"
      ]
     },
     "metadata": {
      "needs_background": "light"
     },
     "output_type": "display_data"
    }
   ],
   "source": [
    "top_companies_p=top_companies.toPandas()\n",
    "sns.histplot(data=top_companies_p, x=\"count\",bins=10)"
   ]
  },
  {
   "cell_type": "code",
   "execution_count": 203,
   "id": "89414422",
   "metadata": {},
   "outputs": [
    {
     "data": {
      "text/plain": [
       "Text(0.5, 1.0, 'What are the Top 10 Companies that own the servers the A records point to?')"
      ]
     },
     "execution_count": 203,
     "metadata": {},
     "output_type": "execute_result"
    },
    {
     "data": {
      "image/png": "[encoded data removed]",
      "text/plain": [
       "<Figure size 432x288 with 1 Axes>"
      ]
     },
     "metadata": {},
     "output_type": "display_data"
    }
   ],
   "source": [
    "sns.set_theme(style=\"whitegrid\")\n",
    "g=sns.barplot(data=top_companies_p,x=\"autonomous_system_organization\",y=\"count\", palette=\"Blues_d\")\n",
    "g.set_xticklabels(g.get_xticklabels(),rotation=90)\n",
    "g.set_title(\"What are the Top 10 Companies that own the servers the A records point to?\")"
   ]
  },
  {
   "cell_type": "markdown",
   "id": "295ca534",
   "metadata": {},
   "source": [
    "## Where are these companys located?"
   ]
  },
  {
   "cell_type": "code",
   "execution_count": 103,
   "id": "7bacba65",
   "metadata": {
    "scrolled": true
   },
   "outputs": [
    {
     "name": "stdout",
     "output_type": "stream",
     "text": [
      "+------------------------------+-------------+-----+\n",
      "|autonomous_system_organization| country_name|count|\n",
      "+------------------------------+-------------+-----+\n",
      "|                     SEDO GmbH|   no Country|  714|\n",
      "|                 CLOUDFLARENET|   no Country|  162|\n",
      "|           Hetzner Online GmbH|      Germany|  127|\n",
      "|           Hetzner Online GmbH|      Finland|  127|\n",
      "|                     Strato AG|      Germany|  108|\n",
      "|                  1&1 Ionos Se|      Germany|   92|\n",
      "|          Neue Medien Muenn...|      Germany|   84|\n",
      "|                     AMAZON-02|      Germany|   78|\n",
      "|                     AMAZON-02|United States|   78|\n",
      "|                     AMAZON-02|      Ireland|   78|\n",
      "|              Host Europe GmbH|      Germany|   63|\n",
      "|              Host Europe GmbH|       France|   63|\n",
      "|                   netcup GmbH|      Germany|   54|\n",
      "|           Deutsche Telekom AG|      Germany|   45|\n",
      "+------------------------------+-------------+-----+\n",
      "\n"
     ]
    }
   ],
   "source": [
    "top_locate=df_joint_all.join(top_companies,\"autonomous_system_organization\",\"right\").select(\"autonomous_system_organization\",\"country_name\",\"count\").distinct().sort(desc(\"count\"))\n",
    "top_locate=top_locate.na.fill(\"no Country\",[\"country_name\"])\n",
    "top_locate.show()"
   ]
  },
  {
   "cell_type": "code",
   "execution_count": 204,
   "id": "4a660702",
   "metadata": {},
   "outputs": [
    {
     "data": {
      "text/plain": [
       "Text(0.5, 1.0, 'Top 10 Companies that own the servers the A records point to, location of A-record IPs')"
      ]
     },
     "execution_count": 204,
     "metadata": {},
     "output_type": "execute_result"
    },
    {
     "data": {
      "image/png": "[encoded data removed]",
      "text/plain": [
       "<Figure size 432x288 with 1 Axes>"
      ]
     },
     "metadata": {},
     "output_type": "display_data"
    }
   ],
   "source": [
    "top_locate_p=top_locate.toPandas()\n",
    "sns.set_palette('Set1')\n",
    "g=sns.barplot(x=\"autonomous_system_organization\",y=\"count\",hue=\"country_name\",data=top_locate_p)\n",
    "g.set_xticklabels(g.get_xticklabels(),rotation=90)\n",
    "g.set_title(\"Top 10 Companies that own the servers the A records point to, location of A-record IPs\")\n"
   ]
  },
  {
   "cell_type": "markdown",
   "id": "bc2b03e9",
   "metadata": {
    "id": "54b902ec"
   },
   "source": [
    "## How many websites use Cloudflare?\n"
   ]
  },
  {
   "cell_type": "code",
   "execution_count": 106,
   "id": "fd67b1af",
   "metadata": {
    "id": "d62591c7",
    "scrolled": true
   },
   "outputs": [
    {
     "name": "stdout",
     "output_type": "stream",
     "text": [
      "+------------------+--------------------+--------------------+-----+-------------+--------------+------------------------+------------------------------+--------------+------------+\n",
      "|  Top level domain|           MX-Record|            A-Record|pos_A|        val_A|       network|autonomous_system_number|autonomous_system_organization|network_adress|subnetzmaske|\n",
      "+------------------+--------------------+--------------------+-----+-------------+--------------+------------------------+------------------------------+--------------+------------+\n",
      "|   030hoodmerch.de|\"[\"\"mx01.ionos.de...|      [23.227.38.32]|    0| 23.227.38.32|23.227.38.0/23|                   13335|                 CLOUDFLARENET|   23.227.38.0|          23|\n",
      "|   069-clothing.de|\"[\"\"mx.069-clothi...|      [23.227.38.72]|    0| 23.227.38.72|23.227.38.0/23|                   13335|                 CLOUDFLARENET|   23.227.38.0|          23|\n",
      "|    0711-gaming.de|\"[\"\"w015c1e6.kass...|      [23.227.38.65]|    0| 23.227.38.65|23.227.38.0/23|                   13335|                 CLOUDFLARENET|   23.227.38.0|          23|\n",
      "|      0711-shop.de|\"[\"\"mx.0711-shop....|      [23.227.38.73]|    0| 23.227.38.73|23.227.38.0/23|                   13335|                 CLOUDFLARENET|   23.227.38.0|          23|\n",
      "|     080studios.de|\"[\"\"mx01.udag.de\"...|      [23.227.38.65]|    0| 23.227.38.65|23.227.38.0/23|                   13335|                 CLOUDFLARENET|   23.227.38.0|          23|\n",
      "| 089-onlineshop.de|\"[\"\"mx01.ionos.de...|      [23.227.38.32]|    0| 23.227.38.32|23.227.38.0/23|                   13335|                 CLOUDFLARENET|   23.227.38.0|          23|\n",
      "|         0-9a-z.de|\"[\"\"mail.0-9a-z.d...|[104.24.103.72,10...|    0|104.24.103.72| 104.16.0.0/12|                   13335|                 CLOUDFLARENET|    104.16.0.0|          12|\n",
      "|         0-9a-z.de|\"[\"\"mail.0-9a-z.d...|[104.24.103.72,10...|    1|104.24.102.72| 104.16.0.0/12|                   13335|                 CLOUDFLARENET|    104.16.0.0|          12|\n",
      "|0-euro-flatrate.de|                  []|[104.27.165.83,10...|    0|104.27.165.83| 104.16.0.0/12|                   13335|                 CLOUDFLARENET|    104.16.0.0|          12|\n",
      "|0-euro-flatrate.de|                  []|[104.27.165.83,10...|    1|104.27.164.83| 104.16.0.0/12|                   13335|                 CLOUDFLARENET|    104.16.0.0|          12|\n",
      "|   000000ffffff.de|                  []|[172.67.182.199,1...|    1|104.28.22.167| 104.16.0.0/12|                   13335|                 CLOUDFLARENET|    104.16.0.0|          12|\n",
      "|   000000ffffff.de|                  []|[172.67.182.199,1...|    2|104.28.23.167| 104.16.0.0/12|                   13335|                 CLOUDFLARENET|    104.16.0.0|          12|\n",
      "|       00100100.de|                  []|[104.31.90.64,104...|    0| 104.31.90.64| 104.16.0.0/12|                   13335|                 CLOUDFLARENET|    104.16.0.0|          12|\n",
      "|       00100100.de|                  []|[104.31.90.64,104...|    1| 104.31.91.64| 104.16.0.0/12|                   13335|                 CLOUDFLARENET|    104.16.0.0|          12|\n",
      "|         001101.de|\"[\"\"dc-2868acfe95...|[172.67.142.214,1...|    1|104.24.107.79| 104.16.0.0/12|                   13335|                 CLOUDFLARENET|    104.16.0.0|          12|\n",
      "|         001101.de|\"[\"\"dc-2868acfe95...|[172.67.142.214,1...|    2|104.24.106.79| 104.16.0.0/12|                   13335|                 CLOUDFLARENET|    104.16.0.0|          12|\n",
      "|  0049einkaufen.de|                  []|[104.18.38.180,17...|    0|104.18.38.180| 104.16.0.0/12|                   13335|                 CLOUDFLARENET|    104.16.0.0|          12|\n",
      "|  0049einkaufen.de|                  []|[104.18.38.180,17...|    2|104.18.39.180| 104.16.0.0/12|                   13335|                 CLOUDFLARENET|    104.16.0.0|          12|\n",
      "|  007management.de|                  []|[104.27.147.73,10...|    0|104.27.147.73| 104.16.0.0/12|                   13335|                 CLOUDFLARENET|    104.16.0.0|          12|\n",
      "|  007management.de|                  []|[104.27.147.73,10...|    1|104.27.146.73| 104.16.0.0/12|                   13335|                 CLOUDFLARENET|    104.16.0.0|          12|\n",
      "+------------------+--------------------+--------------------+-----+-------------+--------------+------------------------+------------------------------+--------------+------------+\n",
      "only showing top 20 rows\n",
      "\n"
     ]
    }
   ],
   "source": [
    "dfJoinA.filter(dfJoinA.autonomous_system_organization=='CLOUDFLARENET').show()\n"
   ]
  },
  {
   "cell_type": "code",
   "execution_count": 107,
   "id": "6d623706",
   "metadata": {
    "id": "d3bb104e"
   },
   "outputs": [
    {
     "data": {
      "text/plain": [
       "162"
      ]
     },
     "execution_count": 107,
     "metadata": {},
     "output_type": "execute_result"
    }
   ],
   "source": [
    "dfJoinA.filter(dfJoinA.autonomous_system_organization=='CLOUDFLARENET').count()\n"
   ]
  },
  {
   "cell_type": "markdown",
   "id": "ab29d46e",
   "metadata": {},
   "source": [
    "* 6 von 50 Domains nutzen Cloudflare (berechnet mit den ersten 50 Zeilen).\n",
    "* 12 von 100 Domains nutzen Cloudflare (berechnet mit den ersten 100 Zeilen).\n",
    "* 162 von 2000 Domains nutzen Cloudflare (berechnet mit den ersten 2000 Zeilen)"
   ]
  },
  {
   "cell_type": "markdown",
   "id": "618bc950",
   "metadata": {
    "id": "b6c6c087"
   },
   "source": [
    "## How many German websites use German hosting providers?\n"
   ]
  },
  {
   "cell_type": "code",
   "execution_count": 92,
   "id": "477c7dbc",
   "metadata": {},
   "outputs": [
    {
     "data": {
      "text/plain": [
       "5"
      ]
     },
     "execution_count": 92,
     "metadata": {},
     "output_type": "execute_result"
    }
   ],
   "source": [
    "df_joint_all.filter(df_joint_all.country_name==\"Germany\").count()"
   ]
  },
  {
   "cell_type": "code",
   "execution_count": 97,
   "id": "fb233bcd",
   "metadata": {},
   "outputs": [
    {
     "name": "stdout",
     "output_type": "stream",
     "text": [
      "+----------------+--------------------+-----------------+-----+---------------+---------------+------------------------+------------------------------+--------------+------------+---------------+----------+-----------------------------+------------------------------+------------------+---------------------+----------+------------+\n",
      "|Top level domain|           MX-Record|         A-Record|pos_A|          val_A|        network|autonomous_system_number|autonomous_system_organization|network_adress|subnetzmaske|        network|geoname_id|registered_country_geoname_id|represented_country_geoname_id|is_anonymous_proxy|is_satellite_provider|geoname_id|country_name|\n",
      "+----------------+--------------------+-----------------+-----+---------------+---------------+------------------------+------------------------------+--------------+------------+---------------+----------+-----------------------------+------------------------------+------------------+---------------------+----------+------------+\n",
      "|         0--1.de|\"[\"\"mail.0--1.de\"...|  [46.38.249.145]|    0|  46.38.249.145| 46.38.224.0/19|                  197540|                   netcup GmbH|   46.38.224.0|          19| 46.38.224.0/19|   2921044|                      2921044|                          null|                 0|                    0|   2921044|     Germany|\n",
      "|     0-100kmh.de|\"[\"\"smtpin.rzone....|  [81.169.145.95]|    0|  81.169.145.95|81.169.128.0/17|                    6724|                     Strato AG|  81.169.128.0|          17|81.169.128.0/17|   2921044|                      2921044|                          null|                 0|                    0|   2921044|     Germany|\n",
      "|          0-0.de|                  []|  [185.53.178.13]|    0|  185.53.178.13|185.53.176.0/22|                   61969|              Team Internet AG|  185.53.176.0|          22|185.53.176.0/22|   2921044|                      2921044|                          null|                 0|                    0|   2921044|     Germany|\n",
      "|         0-01.de|\"[\"\"mail.0-01.de\"\"]\"| [193.34.145.200]|    0| 193.34.145.200|193.34.144.0/23|                   51167|                  Contabo GmbH|  193.34.144.0|          23|193.34.144.0/23|   2921044|                      2921044|                          null|                 0|                    0|   2921044|     Germany|\n",
      "|         0--2.de|\"[\"\"mxf993.netcup...|[212.227.212.163]|    0|212.227.212.163| 212.227.0.0/16|                    8560|                  1&1 Ionos Se|   212.227.0.0|          16| 212.227.0.0/16|   2921044|                      2921044|                          null|                 0|                    0|   2921044|     Germany|\n",
      "+----------------+--------------------+-----------------+-----+---------------+---------------+------------------------+------------------------------+--------------+------------+---------------+----------+-----------------------------+------------------------------+------------------+---------------------+----------+------------+\n",
      "\n"
     ]
    }
   ],
   "source": [
    "df_joint_all.filter(df_joint_all.country_name==\"Germany\").show()"
   ]
  },
  {
   "cell_type": "markdown",
   "id": "5576d211",
   "metadata": {},
   "source": [
    "# Aus welchen Ländern sind die anderen Hosting-Provider?"
   ]
  },
  {
   "cell_type": "code",
   "execution_count": 108,
   "id": "f13166c1",
   "metadata": {},
   "outputs": [
    {
     "name": "stdout",
     "output_type": "stream",
     "text": [
      "+--------------------+-----+\n",
      "|country_name        |count|\n",
      "+--------------------+-----+\n",
      "|Germany             |528  |\n",
      "|France              |54   |\n",
      "|Finland             |2    |\n",
      "|United States       |10   |\n",
      "|Denmark             |20   |\n",
      "|Ireland             |36   |\n",
      "|Switzerland         |8    |\n",
      "|United Arab Emirates|1    |\n",
      "|Australia           |3    |\n",
      "|Romania             |1    |\n",
      "|Austria             |11   |\n",
      "|Hungary             |1    |\n",
      "|United Kingdom      |2    |\n",
      "|Netherlands         |7    |\n",
      "+--------------------+-----+\n",
      "\n"
     ]
    }
   ],
   "source": [
    "countries_hosting=df_joint_all.groupBy(\"country_name\").count()\n",
    "countries_hosting.show(20,False)\n"
   ]
  },
  {
   "cell_type": "markdown",
   "id": "46d32fd3",
   "metadata": {},
   "source": [
    "Nach Deutschland kommen die meisten Hosting-Provider aus Irland, Ungarn und den Niederlanden für die ersten 50 Zeilen des Datensatzes.\n",
    "Nach Deutschland kommen die meisten Hosting-Provider aus Finnland, Dänemark, Irland, Schweiz, Österreich, Ungarn und den Niederlanden für die ersten 100 Zeilen des Datensatzes."
   ]
  },
  {
   "cell_type": "markdown",
   "id": "1645ad2e",
   "metadata": {
    "id": "0e3bd96b"
   },
   "source": [
    "# Which email provider are used (MX record)?\n"
   ]
  },
  {
   "cell_type": "code",
   "execution_count": 139,
   "id": "725570bb",
   "metadata": {
    "scrolled": false
   },
   "outputs": [
    {
     "name": "stdout",
     "output_type": "stream",
     "text": [
      "+-----------------------+------+\n",
      "|val_MX                 |count |\n",
      "+-----------------------+------+\n",
      "|                       |634443|\n",
      "|smtpin.rzone.de        |509331|\n",
      "|mx01.kundenserver.de   |359139|\n",
      "|mx00.kundenserver.de   |358404|\n",
      "|localhost              |303841|\n",
      "|mx1.jimdo.com          |162813|\n",
      "|mx2.jimdo.com          |162795|\n",
      "|mx00.ionos.de          |156544|\n",
      "|mx01.ionos.de          |156482|\n",
      "|smtp-02.tld.t-online.de|150254|\n",
      "+-----------------------+------+\n",
      "only showing top 10 rows\n",
      "\n"
     ]
    }
   ],
   "source": [
    "email_provider=df_MXSplit.groupBy(\"val_MX\").count()\n",
    "email_provider.orderBy(col(\"count\").desc()).show(10, False)"
   ]
  },
  {
   "cell_type": "code",
   "execution_count": 140,
   "id": "e71904de",
   "metadata": {},
   "outputs": [],
   "source": [
    "email_provider_p=email_provider.toPandas()"
   ]
  },
  {
   "cell_type": "code",
   "execution_count": 141,
   "id": "83cd69b3",
   "metadata": {},
   "outputs": [
    {
     "data": {
      "text/html": [
       "<div>\n",
       "<style scoped>\n",
       "    .dataframe tbody tr th:only-of-type {\n",
       "        vertical-align: middle;\n",
       "    }\n",
       "\n",
       "    .dataframe tbody tr th {\n",
       "        vertical-align: top;\n",
       "    }\n",
       "\n",
       "    .dataframe thead th {\n",
       "        text-align: right;\n",
       "    }\n",
       "</style>\n",
       "<table border=\"1\" class=\"dataframe\">\n",
       "  <thead>\n",
       "    <tr style=\"text-align: right;\">\n",
       "      <th></th>\n",
       "      <th>val_MX</th>\n",
       "      <th>count</th>\n",
       "    </tr>\n",
       "  </thead>\n",
       "  <tbody>\n",
       "    <tr>\n",
       "      <th>0</th>\n",
       "      <td>mx1.webhoster.de</td>\n",
       "      <td>2622</td>\n",
       "    </tr>\n",
       "    <tr>\n",
       "      <th>1</th>\n",
       "      <td>mail.0815club.de</td>\n",
       "      <td>1</td>\n",
       "    </tr>\n",
       "    <tr>\n",
       "      <th>2</th>\n",
       "      <td>mail.0x40.de</td>\n",
       "      <td>1</td>\n",
       "    </tr>\n",
       "    <tr>\n",
       "      <th>3</th>\n",
       "      <td>mail.0x777.de</td>\n",
       "      <td>1</td>\n",
       "    </tr>\n",
       "    <tr>\n",
       "      <th>4</th>\n",
       "      <td>mail.1-vp.de</td>\n",
       "      <td>1</td>\n",
       "    </tr>\n",
       "  </tbody>\n",
       "</table>\n",
       "</div>"
      ],
      "text/plain": [
       "             val_MX  count\n",
       "0  mx1.webhoster.de   2622\n",
       "1  mail.0815club.de      1\n",
       "2      mail.0x40.de      1\n",
       "3     mail.0x777.de      1\n",
       "4      mail.1-vp.de      1"
      ]
     },
     "execution_count": 141,
     "metadata": {},
     "output_type": "execute_result"
    }
   ],
   "source": [
    "email_provider_p.head()"
   ]
  },
  {
   "cell_type": "code",
   "execution_count": 142,
   "id": "25f3f6b5",
   "metadata": {},
   "outputs": [
    {
     "data": {
      "text/plain": [
       "val_MX    1322702\n",
       "count     1322702\n",
       "dtype: int64"
      ]
     },
     "execution_count": 142,
     "metadata": {},
     "output_type": "execute_result"
    }
   ],
   "source": [
    "email_provider_p.count()"
   ]
  },
  {
   "cell_type": "code",
   "execution_count": 143,
   "id": "02adea90",
   "metadata": {},
   "outputs": [
    {
     "data": {
      "text/plain": [
       "5.331026943332663"
      ]
     },
     "execution_count": 143,
     "metadata": {},
     "output_type": "execute_result"
    }
   ],
   "source": [
    "email_provider_p[\"count\"].mean()"
   ]
  },
  {
   "cell_type": "code",
   "execution_count": 144,
   "id": "4956f3a7",
   "metadata": {},
   "outputs": [
    {
     "data": {
      "text/plain": [
       "<AxesSubplot:xlabel='count', ylabel='Count'>"
      ]
     },
     "execution_count": 144,
     "metadata": {},
     "output_type": "execute_result"
    },
    {
     "data": {
      "image/png": "[encoded data removed]",
      "text/plain": [
       "<Figure size 432x288 with 1 Axes>"
      ]
     },
     "metadata": {
      "needs_background": "light"
     },
     "output_type": "display_data"
    }
   ],
   "source": [
    "sns.histplot(data=email_provider_p, x=\"count\",bins=20)"
   ]
  },
  {
   "cell_type": "code",
   "execution_count": 145,
   "id": "50b097ad",
   "metadata": {},
   "outputs": [
    {
     "data": {
      "text/plain": [
       "<AxesSubplot:xlabel='count'>"
      ]
     },
     "execution_count": 145,
     "metadata": {},
     "output_type": "execute_result"
    },
    {
     "data": {
      "image/png": "[encoded data removed]",
      "text/plain": [
       "<Figure size 432x288 with 1 Axes>"
      ]
     },
     "metadata": {
      "needs_background": "light"
     },
     "output_type": "display_data"
    }
   ],
   "source": [
    "sns.boxplot(data=email_provider_p,x=\"count\")"
   ]
  },
  {
   "cell_type": "code",
   "execution_count": 146,
   "id": "d1dfa724",
   "metadata": {},
   "outputs": [],
   "source": [
    "email_provider_high=email_provider_p[email_provider_p[\"count\"]>5]"
   ]
  },
  {
   "cell_type": "code",
   "execution_count": 147,
   "id": "0dc45dd7",
   "metadata": {},
   "outputs": [
    {
     "data": {
      "text/plain": [
       "val_MX    22963\n",
       "count     22963\n",
       "dtype: int64"
      ]
     },
     "execution_count": 147,
     "metadata": {},
     "output_type": "execute_result"
    }
   ],
   "source": [
    "email_provider_high.count()"
   ]
  },
  {
   "cell_type": "code",
   "execution_count": 148,
   "id": "a759eec6",
   "metadata": {},
   "outputs": [
    {
     "data": {
      "text/plain": [
       "<AxesSubplot:xlabel='count', ylabel='Count'>"
      ]
     },
     "execution_count": 148,
     "metadata": {},
     "output_type": "execute_result"
    },
    {
     "data": {
      "image/png": "[encoded data removed]",
      "text/plain": [
       "<Figure size 432x288 with 1 Axes>"
      ]
     },
     "metadata": {
      "needs_background": "light"
     },
     "output_type": "display_data"
    }
   ],
   "source": [
    "sns.histplot(data=email_provider_high, x=\"count\",bins=20)"
   ]
  },
  {
   "cell_type": "code",
   "execution_count": 161,
   "id": "c5bb54d3",
   "metadata": {},
   "outputs": [
    {
     "name": "stdout",
     "output_type": "stream",
     "text": [
      "+----------------+--------------------+--------------------+------+--------------------+------+\n",
      "|Top level domain|            A-Record|           MX-Record|pos_MX|              val_MX|domain|\n",
      "+----------------+--------------------+--------------------+------+--------------------+------+\n",
      "|         0--1.de|\"[\"\"46.38.249.145...|[mail.0--1.de, mx...|     0|        mail.0--1.de|  null|\n",
      "|         0--1.de|\"[\"\"46.38.249.145...|[mail.0--1.de, mx...|     1|   mxf993.netcup.net|  null|\n",
      "|         0--2.de|\"[\"\"212.227.212.1...|[mxf993.netcup.ne...|     0|   mxf993.netcup.net|  null|\n",
      "|         0--2.de|\"[\"\"212.227.212.1...|[mxf993.netcup.ne...|     1|        mail.0--2.de|  null|\n",
      "|    0-0-0-0-0.de|\"[\"\"80.150.6.143\"\"]\"|[smtp-02.tld.t-on...|     0|smtp-02.tld.t-onl...|  null|\n",
      "|    0-0-0-0-0.de|\"[\"\"80.150.6.143\"\"]\"|[smtp-02.tld.t-on...|     1|smtp-01.tld.t-onl...|  null|\n",
      "|      0-0-0-1.de|\"[\"\"80.150.6.143\"\"]\"|[smtp-02.tld.t-on...|     0|smtp-02.tld.t-onl...|  null|\n",
      "|      0-0-0-1.de|\"[\"\"80.150.6.143\"\"]\"|[smtp-02.tld.t-on...|     1|smtp-01.tld.t-onl...|  null|\n",
      "|          0-0.de|\"[\"\"185.53.178.13...|                  []|     0|                    |  null|\n",
      "|         0-01.de|\"[\"\"193.34.145.20...|      [mail.0-01.de]|     0|        mail.0-01.de|  null|\n",
      "|          0-1.de|\"[\"\"91.195.241.13...|         [localhost]|     0|           localhost|  null|\n",
      "|         0-10.de|                  []|                  []|     0|                    |  null|\n",
      "|       0-1000.de|\"[\"\"91.195.241.13...|         [localhost]|     0|           localhost|  null|\n",
      "|     0-100kmh.de|\"[\"\"81.169.145.95...|   [smtpin.rzone.de]|     0|     smtpin.rzone.de|  null|\n",
      "|         0-12.de|\"[\"\"91.195.241.13...|         [localhost]|     0|           localhost|  null|\n",
      "|         0-17.de|\"[\"\"91.195.241.13...|         [localhost]|     0|           localhost|  null|\n",
      "|          0-2.de|   \"[\"\"127.0.0.1\"\"]\"|         [localhost]|     0|           localhost|  null|\n",
      "|   0-24domain.de|\"[\"\"194.38.104.22...|[pmx.bestcpanel.e...|     0|   pmx.bestcpanel.eu|  null|\n",
      "|   0-24domain.de|\"[\"\"194.38.104.22...|[pmx.bestcpanel.e...|     1|   smx.bestcpanel.eu|  null|\n",
      "|   0-24domain.de|\"[\"\"194.38.104.22...|[pmx.bestcpanel.e...|     2|   bmx.bestcpanel.eu|  null|\n",
      "+----------------+--------------------+--------------------+------+--------------------+------+\n",
      "only showing top 20 rows\n",
      "\n"
     ]
    }
   ],
   "source": [
    "df_MXSplit.withColumn(\"domain\", split(col(\"val_mX\"), \"-\").getItem(-1)).show()"
   ]
  },
  {
   "cell_type": "code",
   "execution_count": 175,
   "id": "95d389c3",
   "metadata": {},
   "outputs": [],
   "source": [
    "#df_MXSplit=df_MXSplit.filter(df_MXSplit.val_MX!=\"\")\n",
    "#df_MXSplit=df_MXSplit.filter(df_MXSplit.val_MX!=\"localhost\")"
   ]
  },
  {
   "cell_type": "code",
   "execution_count": 180,
   "id": "20e78d0c",
   "metadata": {},
   "outputs": [],
   "source": [
    "#dfsplit=f.split(df_MXSplit.val_MX, '.')\n",
    "#df_MXSplit = df_MXSplit.withColumn('domain', dfsplit.getItem(0))\n"
   ]
  },
  {
   "cell_type": "code",
   "execution_count": 182,
   "id": "83b2aa78",
   "metadata": {},
   "outputs": [],
   "source": [
    "#df_MXSplit.show()"
   ]
  },
  {
   "cell_type": "code",
   "execution_count": 183,
   "id": "116f8a36",
   "metadata": {},
   "outputs": [],
   "source": [
    "#df_MXSplit.select(\"val_MX\",split(df_MXSplit[\"val_MX\"], '.')[0].alias('domain')).show()"
   ]
  },
  {
   "cell_type": "code",
   "execution_count": 184,
   "id": "5be64d79",
   "metadata": {},
   "outputs": [],
   "source": [
    "#df_MXSplit.withColumn('domain', split(df_MXSplit.val_MX, '.')).select(element_at(col('domain'), -1)).show()"
   ]
  },
  {
   "cell_type": "code",
   "execution_count": 185,
   "id": "3f2775ce",
   "metadata": {},
   "outputs": [],
   "source": [
    "email_provider_p[\"domain\"] = email_provider_p['val_MX'].str.rsplit('.',1).str[-1]"
   ]
  },
  {
   "cell_type": "code",
   "execution_count": 186,
   "id": "3935419a",
   "metadata": {
    "scrolled": true
   },
   "outputs": [
    {
     "data": {
      "text/html": [
       "<div>\n",
       "<style scoped>\n",
       "    .dataframe tbody tr th:only-of-type {\n",
       "        vertical-align: middle;\n",
       "    }\n",
       "\n",
       "    .dataframe tbody tr th {\n",
       "        vertical-align: top;\n",
       "    }\n",
       "\n",
       "    .dataframe thead th {\n",
       "        text-align: right;\n",
       "    }\n",
       "</style>\n",
       "<table border=\"1\" class=\"dataframe\">\n",
       "  <thead>\n",
       "    <tr style=\"text-align: right;\">\n",
       "      <th></th>\n",
       "      <th>val_MX</th>\n",
       "      <th>count</th>\n",
       "      <th>provider</th>\n",
       "      <th>domain</th>\n",
       "    </tr>\n",
       "  </thead>\n",
       "  <tbody>\n",
       "    <tr>\n",
       "      <th>0</th>\n",
       "      <td>mx1.webhoster.de</td>\n",
       "      <td>2622</td>\n",
       "      <td>NaN</td>\n",
       "      <td>de</td>\n",
       "    </tr>\n",
       "    <tr>\n",
       "      <th>1</th>\n",
       "      <td>mail.0815club.de</td>\n",
       "      <td>1</td>\n",
       "      <td>NaN</td>\n",
       "      <td>de</td>\n",
       "    </tr>\n",
       "    <tr>\n",
       "      <th>2</th>\n",
       "      <td>mail.0x40.de</td>\n",
       "      <td>1</td>\n",
       "      <td>NaN</td>\n",
       "      <td>de</td>\n",
       "    </tr>\n",
       "    <tr>\n",
       "      <th>3</th>\n",
       "      <td>mail.0x777.de</td>\n",
       "      <td>1</td>\n",
       "      <td>NaN</td>\n",
       "      <td>de</td>\n",
       "    </tr>\n",
       "    <tr>\n",
       "      <th>4</th>\n",
       "      <td>mail.1-vp.de</td>\n",
       "      <td>1</td>\n",
       "      <td>NaN</td>\n",
       "      <td>de</td>\n",
       "    </tr>\n",
       "  </tbody>\n",
       "</table>\n",
       "</div>"
      ],
      "text/plain": [
       "             val_MX  count  provider domain\n",
       "0  mx1.webhoster.de   2622       NaN     de\n",
       "1  mail.0815club.de      1       NaN     de\n",
       "2      mail.0x40.de      1       NaN     de\n",
       "3     mail.0x777.de      1       NaN     de\n",
       "4      mail.1-vp.de      1       NaN     de"
      ]
     },
     "execution_count": 186,
     "metadata": {},
     "output_type": "execute_result"
    }
   ],
   "source": [
    "email_provider_p.head()"
   ]
  },
  {
   "cell_type": "code",
   "execution_count": 193,
   "id": "c9f7f89a",
   "metadata": {},
   "outputs": [
    {
     "data": {
      "text/plain": [
       "de         963785\n",
       "com        331606\n",
       "net          8168\n",
       "eu           2471\n",
       "org          2142\n",
       "invalid      1887\n",
       "nl           1312\n",
       "at            674\n",
       "ch            578\n",
       "info          575\n",
       "Name: domain, dtype: int64"
      ]
     },
     "execution_count": 193,
     "metadata": {},
     "output_type": "execute_result"
    }
   ],
   "source": [
    "email_domain_countb=email_provider_p[\"domain\"].value_counts()\n",
    "#email_domain_count.sort_values(\"count\",ascending=False).head()\n",
    "email_domain_count.head(10)"
   ]
  },
  {
   "cell_type": "code",
   "execution_count": 197,
   "id": "5230c42f",
   "metadata": {
    "scrolled": true
   },
   "outputs": [
    {
     "data": {
      "text/html": [
       "<div>\n",
       "<style scoped>\n",
       "    .dataframe tbody tr th:only-of-type {\n",
       "        vertical-align: middle;\n",
       "    }\n",
       "\n",
       "    .dataframe tbody tr th {\n",
       "        vertical-align: top;\n",
       "    }\n",
       "\n",
       "    .dataframe thead th {\n",
       "        text-align: right;\n",
       "    }\n",
       "</style>\n",
       "<table border=\"1\" class=\"dataframe\">\n",
       "  <thead>\n",
       "    <tr style=\"text-align: right;\">\n",
       "      <th></th>\n",
       "      <th>domain</th>\n",
       "      <th>count</th>\n",
       "    </tr>\n",
       "  </thead>\n",
       "  <tbody>\n",
       "    <tr>\n",
       "      <th>0</th>\n",
       "      <td>de</td>\n",
       "      <td>963785</td>\n",
       "    </tr>\n",
       "    <tr>\n",
       "      <th>1</th>\n",
       "      <td>com</td>\n",
       "      <td>331606</td>\n",
       "    </tr>\n",
       "    <tr>\n",
       "      <th>2</th>\n",
       "      <td>net</td>\n",
       "      <td>8168</td>\n",
       "    </tr>\n",
       "    <tr>\n",
       "      <th>3</th>\n",
       "      <td>eu</td>\n",
       "      <td>2471</td>\n",
       "    </tr>\n",
       "    <tr>\n",
       "      <th>4</th>\n",
       "      <td>org</td>\n",
       "      <td>2142</td>\n",
       "    </tr>\n",
       "    <tr>\n",
       "      <th>...</th>\n",
       "      <td>...</td>\n",
       "      <td>...</td>\n",
       "    </tr>\n",
       "    <tr>\n",
       "      <th>715</th>\n",
       "      <td>farm</td>\n",
       "      <td>1</td>\n",
       "    </tr>\n",
       "    <tr>\n",
       "      <th>716</th>\n",
       "      <td>dx</td>\n",
       "      <td>1</td>\n",
       "    </tr>\n",
       "    <tr>\n",
       "      <th>717</th>\n",
       "      <td>center</td>\n",
       "      <td>1</td>\n",
       "    </tr>\n",
       "    <tr>\n",
       "      <th>718</th>\n",
       "      <td>jobs</td>\n",
       "      <td>1</td>\n",
       "    </tr>\n",
       "    <tr>\n",
       "      <th>719</th>\n",
       "      <td></td>\n",
       "      <td>1</td>\n",
       "    </tr>\n",
       "  </tbody>\n",
       "</table>\n",
       "<p>720 rows × 2 columns</p>\n",
       "</div>"
      ],
      "text/plain": [
       "     domain   count\n",
       "0        de  963785\n",
       "1       com  331606\n",
       "2       net    8168\n",
       "3        eu    2471\n",
       "4       org    2142\n",
       "..      ...     ...\n",
       "715    farm       1\n",
       "716      dx       1\n",
       "717  center       1\n",
       "718    jobs       1\n",
       "719               1\n",
       "\n",
       "[720 rows x 2 columns]"
      ]
     },
     "execution_count": 197,
     "metadata": {},
     "output_type": "execute_result"
    }
   ],
   "source": [
    "value_counts=email_provider_p[\"domain\"].value_counts()\n",
    "\n",
    "# converting to df and assigning new names to the columns\n",
    "email_domain_count = pd.DataFrame(value_counts)\n",
    "email_domain_count = email_domain_count.reset_index()\n",
    "email_domain_count.columns = ['domain', 'count'] # change column names\n",
    "email_domain_count"
   ]
  },
  {
   "cell_type": "code",
   "execution_count": 199,
   "id": "b6ad0639",
   "metadata": {
    "scrolled": true
   },
   "outputs": [
    {
     "data": {
      "text/plain": [
       "<AxesSubplot:xlabel='count'>"
      ]
     },
     "execution_count": 199,
     "metadata": {},
     "output_type": "execute_result"
    },
    {
     "data": {
      "image/png": "[encoded data removed]",
      "text/plain": [
       "<Figure size 432x288 with 1 Axes>"
      ]
     },
     "metadata": {
      "needs_background": "light"
     },
     "output_type": "display_data"
    }
   ],
   "source": [
    "sns.boxplot(data=email_domain_count,x=\"count\")"
   ]
  },
  {
   "cell_type": "code",
   "execution_count": 201,
   "id": "ad78b8d1",
   "metadata": {},
   "outputs": [
    {
     "data": {
      "text/plain": [
       "domain    504\n",
       "count     504\n",
       "dtype: int64"
      ]
     },
     "execution_count": 201,
     "metadata": {},
     "output_type": "execute_result"
    }
   ],
   "source": [
    "email_domain_count[email_domain_count[\"count\"]>1].count()"
   ]
  },
  {
   "cell_type": "code",
   "execution_count": 202,
   "id": "3411b0c3",
   "metadata": {},
   "outputs": [
    {
     "data": {
      "text/plain": [
       "<AxesSubplot:xlabel='domain', ylabel='count'>"
      ]
     },
     "execution_count": 202,
     "metadata": {},
     "output_type": "execute_result"
    },
    {
     "data": {
      "image/png": "[encoded data removed]",
      "text/plain": [
       "<Figure size 432x288 with 1 Axes>"
      ]
     },
     "metadata": {
      "needs_background": "light"
     },
     "output_type": "display_data"
    }
   ],
   "source": [
    "sns.barplot(data=email_domain_count[:10],x=\"domain\",y=\"count\")"
   ]
  }
 ],
 "metadata": {
  "colab": {
   "name": "BDA_2.ipynb",
   "provenance": []
  },
  "kernelspec": {
   "display_name": "Python 3",
   "language": "python",
   "name": "python3"
  },
  "language_info": {
   "codemirror_mode": {
    "name": "ipython",
    "version": 3
   },
   "file_extension": ".py",
   "mimetype": "text/x-python",
   "name": "python",
   "nbconvert_exporter": "python",
   "pygments_lexer": "ipython3",
   "version": "3.9.5"
  }
 },
 "nbformat": 4,
 "nbformat_minor": 5
}
