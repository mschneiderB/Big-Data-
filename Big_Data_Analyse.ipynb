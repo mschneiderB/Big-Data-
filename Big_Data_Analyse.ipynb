{
 "cells": [
  {
   "cell_type": "code",
   "execution_count": 1,
   "id": "2297882c",
   "metadata": {
    "id": "43f37e56"
   },
   "outputs": [],
   "source": [
    "from pyspark import SparkContext\n",
    "from pyspark.sql import SparkSession\n",
    "from pyspark.sql import Row\n",
    "from pyspark.sql.types import StructType, StructField, IntegerType, StringType, StructType, BooleanType, ArrayType\n",
    "import pyspark\n",
    "import pyspark.sql.functions as f\n",
    "from pyspark.sql.functions import *\n",
    "from pyspark.sql.functions import struct\n",
    "from pyspark.sql.functions import monotonically_increasing_id\n",
    "from pyspark.sql.functions import udf\n",
    "from pyspark.sql.functions import col\n",
    "import re\n",
    "import ipaddress\n",
    "from ipaddress import ip_network, ip_address\n",
    "import time\n",
    "import pandas as pd\n",
    "import seaborn as sns\n",
    "#import envspark\n",
    "\n",
    "#Starten ohne Spark-Cluster\n",
    "spark = SparkSession.builder.getOrCreate()"
   ]
  },
  {
   "cell_type": "code",
   "execution_count": 3,
   "id": "26195efe",
   "metadata": {
    "id": "8198c047"
   },
   "outputs": [],
   "source": [
    "# Verbindung zu Minio\n",
    "spark.sparkContext.setSystemProperty(\"com.amazonaws.services.s3.enableV4\", \"true\")\n",
    "spark.sparkContext._jsc.hadoopConfiguration().set(\"fs.s3a.access.key\", \"minio\")\n",
    "spark.sparkContext._jsc.hadoopConfiguration().set(\"fs.s3a.secret.key\", \"minio123\")\n",
    "spark.sparkContext._jsc.hadoopConfiguration().set(\"com.amazonaws.services.s3.enableV4\", \"true\")\n",
    "spark.sparkContext._jsc.hadoopConfiguration().set(\"fs.s3a.impl\", \"org.apache.hadoop.fs.s3a.S3AFileSystem\")\n",
    "spark.sparkContext._jsc.hadoopConfiguration().set(\"fs.s3a.path.style.access\", \"true\")\n",
    "spark.sparkContext._jsc.hadoopConfiguration().set(\"fs.s3a.endpoint\", \"http://minio1:9000\")"
   ]
  },
  {
   "cell_type": "code",
   "execution_count": 4,
   "id": "37313443",
   "metadata": {
    "id": "2958adb5"
   },
   "outputs": [],
   "source": [
    "schema = StructType([\n",
    "    StructField(\"Top level domain\", StringType(), True),\n",
    "    StructField(\"MX-Record from the name server\", StringType(), True),\n",
    "    StructField(\"A-Record of the specific domain\", StringType(), True),\n",
    "    StructField(\"Timestamp\", StringType(), True)])\n",
    "\n",
    "df = spark.read.csv(\"s3a://bucket/real_new.csv\",header=False,sep=\";\",schema=schema).persist()"
   ]
  },
  {
   "cell_type": "markdown",
   "id": "91c65465",
   "metadata": {
    "id": "0385f596"
   },
   "source": [
    "# Datenbeschreibung"
   ]
  },
  {
   "cell_type": "markdown",
   "id": "0f1aabb0",
   "metadata": {
    "id": "1384cf25"
   },
   "source": [
    "## real_domains"
   ]
  },
  {
   "cell_type": "markdown",
   "id": "aced1292",
   "metadata": {
    "id": "e449ac5e"
   },
   "source": [
    "### Allgemein"
   ]
  },
  {
   "cell_type": "code",
   "execution_count": 5,
   "id": "274b02c2",
   "metadata": {
    "id": "4aad1d6d",
    "outputId": "0d211dc2-2b63-4a62-8009-d10ef3e650bd",
    "scrolled": false
   },
   "outputs": [
    {
     "name": "stdout",
     "output_type": "stream",
     "text": [
      "+----------------+------------------------------+-------------------------------+-------------------+\n",
      "|Top level domain|MX-Record from the name server|A-Record of the specific domain|          Timestamp|\n",
      "+----------------+------------------------------+-------------------------------+-------------------+\n",
      "|         0--1.de|          \"[\"\"mail.0--1.de\"...|           \"[\"\"46.38.249.145...|2020-12-13 15:36:05|\n",
      "|         0--2.de|          \"[\"\"mxf993.netcup...|           \"[\"\"212.227.212.1...|2020-12-13 15:36:05|\n",
      "|    0-0-0-0-0.de|          \"[\"\"smtp-02.tld.t...|           \"[\"\"80.150.6.143\"\"]\"|2020-12-13 15:36:05|\n",
      "|      0-0-0-1.de|          \"[\"\"smtp-02.tld.t...|           \"[\"\"80.150.6.143\"\"]\"|2020-12-13 15:36:05|\n",
      "|          0-0.de|                            []|           \"[\"\"185.53.178.13...|2020-12-13 15:36:05|\n",
      "+----------------+------------------------------+-------------------------------+-------------------+\n",
      "only showing top 5 rows\n",
      "\n"
     ]
    }
   ],
   "source": [
    "df.show(5)"
   ]
  },
  {
   "cell_type": "markdown",
   "id": "ef3db428",
   "metadata": {
    "id": "a0e494be"
   },
   "source": [
    "* Top level domain: Namensserver; das, was Personen sich merken können\n",
    "* Ein MX Resource Record weist einem Namen einen Mailserver zu. Er stellt eine Besonderheit dar, da er sich auf einen speziellen Dienst im Internet, nämlich die E-Mailzustellung mittels SMTP, bezieht. Alle anderen Dienste nutzen CNAME, A und AAAA Resource Records für die Namensauflösung.\n",
    "* Ein A Resource Record weist einem Namen eine IPv4-Adresse zu."
   ]
  },
  {
   "cell_type": "code",
   "execution_count": 6,
   "id": "86ae2307",
   "metadata": {
    "id": "acd62a51"
   },
   "outputs": [],
   "source": [
    "df= df.withColumn(\"id\", monotonically_increasing_id())"
   ]
  },
  {
   "cell_type": "code",
   "execution_count": 7,
   "id": "eceb6b4d",
   "metadata": {
    "id": "61334fba"
   },
   "outputs": [],
   "source": [
    "df=df.select(\"Top level domain\",\"MX-Record from the name server\",\"A-Record of the specific domain\")"
   ]
  },
  {
   "cell_type": "markdown",
   "id": "bb978beb",
   "metadata": {
    "id": "c0653bcc"
   },
   "source": [
    "* die Spalte Timestamp wird nicht benötigt"
   ]
  },
  {
   "cell_type": "code",
   "execution_count": 8,
   "id": "d7ad00b5",
   "metadata": {
    "id": "babc4fdb"
   },
   "outputs": [],
   "source": [
    "df=df.withColumnRenamed(\"MX-Record from the name server\", \"MX-Record\")"
   ]
  },
  {
   "cell_type": "code",
   "execution_count": 9,
   "id": "29e52300",
   "metadata": {
    "id": "1c05186b"
   },
   "outputs": [],
   "source": [
    "df=df.withColumnRenamed(\"A-Record of the specific domain\", \"A-Record\")"
   ]
  },
  {
   "cell_type": "code",
   "execution_count": 10,
   "id": "67fab8a2",
   "metadata": {
    "id": "da0996af",
    "outputId": "559bf01c-4346-4359-af96-6d54706a9259",
    "scrolled": true
   },
   "outputs": [
    {
     "data": {
      "text/plain": [
       "pyspark.sql.dataframe.DataFrame"
      ]
     },
     "execution_count": 10,
     "metadata": {},
     "output_type": "execute_result"
    }
   ],
   "source": [
    "type(df)"
   ]
  },
  {
   "cell_type": "code",
   "execution_count": 11,
   "id": "631a5ad9",
   "metadata": {
    "id": "14d9dc3c",
    "outputId": "22e0734a-2833-44fa-a388-b9681fb67120",
    "scrolled": true
   },
   "outputs": [
    {
     "data": {
      "text/plain": [
       "4860885"
      ]
     },
     "execution_count": 11,
     "metadata": {},
     "output_type": "execute_result"
    }
   ],
   "source": [
    "df.count()"
   ]
  },
  {
   "cell_type": "code",
   "execution_count": 12,
   "id": "c0398757",
   "metadata": {
    "id": "0d60e8f1",
    "outputId": "6d4b0a7d-08cf-4a75-972c-bc17566bd629"
   },
   "outputs": [
    {
     "data": {
      "text/plain": [
       "4860885"
      ]
     },
     "execution_count": 12,
     "metadata": {},
     "output_type": "execute_result"
    }
   ],
   "source": [
    "df.dropDuplicates().count()"
   ]
  },
  {
   "cell_type": "markdown",
   "id": "a07c958c",
   "metadata": {
    "id": "01e12b86"
   },
   "source": [
    "* es gibt keine Duplikate in dem Datensatz"
   ]
  },
  {
   "cell_type": "code",
   "execution_count": 15,
   "id": "87059ae2",
   "metadata": {
    "id": "c70f3c4c",
    "outputId": "4c4e7e09-9a95-4f04-d351-76aabd5817e4"
   },
   "outputs": [
    {
     "name": "stdout",
     "output_type": "stream",
     "text": [
      "root\n",
      " |-- Top level domain: string (nullable = true)\n",
      " |-- MX-Record: string (nullable = true)\n",
      " |-- A-Record: string (nullable = true)\n",
      "\n"
     ]
    }
   ],
   "source": [
    "df.printSchema()"
   ]
  },
  {
   "cell_type": "code",
   "execution_count": 16,
   "id": "7d1ab82a",
   "metadata": {},
   "outputs": [
    {
     "name": "stdout",
     "output_type": "stream",
     "text": [
      "+----------------+---------+--------+\n",
      "|Top level domain|MX-Record|A-Record|\n",
      "+----------------+---------+--------+\n",
      "|               0|        0|       0|\n",
      "+----------------+---------+--------+\n",
      "\n"
     ]
    }
   ],
   "source": [
    "df.select([count(when(isnan(c) | col(c).isNull(), c)).alias(c) for c in df.columns]).show()"
   ]
  },
  {
   "cell_type": "markdown",
   "id": "399d3605",
   "metadata": {
    "id": "0937bbbe"
   },
   "source": [
    "### Top Level Domain"
   ]
  },
  {
   "cell_type": "code",
   "execution_count": 17,
   "id": "d4aaa266",
   "metadata": {
    "id": "e4777ed5",
    "outputId": "c97e0487-1265-49a3-deff-7ba99ba4462c",
    "scrolled": true
   },
   "outputs": [
    {
     "data": {
      "text/plain": [
       "0"
      ]
     },
     "execution_count": 17,
     "metadata": {},
     "output_type": "execute_result"
    }
   ],
   "source": [
    "df.filter(df[\"Top level domain\"]==\"null\").count()"
   ]
  },
  {
   "cell_type": "markdown",
   "id": "297a5855",
   "metadata": {
    "id": "db1b60f1"
   },
   "source": [
    "* keine Null Values"
   ]
  },
  {
   "cell_type": "code",
   "execution_count": 18,
   "id": "069ed93c",
   "metadata": {
    "id": "1007ddf3",
    "outputId": "c5e768d3-1c18-45c2-a71c-6bff4a981542"
   },
   "outputs": [
    {
     "name": "stdout",
     "output_type": "stream",
     "text": [
      "+--------------------+-----+\n",
      "|    Top level domain|count|\n",
      "+--------------------+-----+\n",
      "|      0-provision.de|    1|\n",
      "|         01041977.de|    1|\n",
      "|0180-call-through.de|    1|\n",
      "|            03423.de|    1|\n",
      "|            03g17.de|    1|\n",
      "+--------------------+-----+\n",
      "only showing top 5 rows\n",
      "\n"
     ]
    }
   ],
   "source": [
    "dfTCount=df.groupBy(\"Top level domain\").count()\n",
    "dfTCount.orderBy(col(\"count\").desc()).show(5)"
   ]
  },
  {
   "cell_type": "markdown",
   "id": "56590048",
   "metadata": {
    "id": "d1a166c9"
   },
   "source": [
    "* es gibt keine doppelte TLD"
   ]
  },
  {
   "cell_type": "markdown",
   "id": "6d415030",
   "metadata": {
    "id": "1a6e56fc"
   },
   "source": [
    "### MX Records"
   ]
  },
  {
   "cell_type": "code",
   "execution_count": 19,
   "id": "4f3c8d1e",
   "metadata": {
    "id": "12f9653f",
    "outputId": "70e5abd7-b86a-49dd-8241-83beab2f9b20",
    "scrolled": true
   },
   "outputs": [
    {
     "data": {
      "text/plain": [
       "0"
      ]
     },
     "execution_count": 19,
     "metadata": {},
     "output_type": "execute_result"
    }
   ],
   "source": [
    "df.filter(df[\"MX-Record\"]==\"null\").count()"
   ]
  },
  {
   "cell_type": "markdown",
   "id": "dbcd385a",
   "metadata": {
    "id": "2bb53989"
   },
   "source": [
    "* keine Null Values"
   ]
  },
  {
   "cell_type": "code",
   "execution_count": 20,
   "id": "945c7930",
   "metadata": {
    "id": "63216dbd",
    "outputId": "b4984250-e2a9-40bf-e1c3-28a032fa4e1d"
   },
   "outputs": [
    {
     "name": "stdout",
     "output_type": "stream",
     "text": [
      "+-----------------------------------------------------+------+\n",
      "|MX-Record                                            |count |\n",
      "+-----------------------------------------------------+------+\n",
      "|[]                                                   |633040|\n",
      "|\"[\"\"smtpin.rzone.de\"\"]\"                              |509127|\n",
      "|\"[\"\"localhost\"\"]\"                                    |303839|\n",
      "|\"[\"\"mx01.kundenserver.de\"\",\"\"mx00.kundenserver.de\"\"]\"|176491|\n",
      "|\"[\"\"mx00.kundenserver.de\"\",\"\"mx01.kundenserver.de\"\"]\"|176182|\n",
      "+-----------------------------------------------------+------+\n",
      "only showing top 5 rows\n",
      "\n"
     ]
    }
   ],
   "source": [
    "dfMxCount=df.groupBy(\"MX-Record\").count()\n",
    "dfMxCount.orderBy(col(\"count\").desc()).show(5,False)"
   ]
  },
  {
   "cell_type": "markdown",
   "id": "9aeb1deb",
   "metadata": {
    "id": "6f365831"
   },
   "source": [
    "### A Records"
   ]
  },
  {
   "cell_type": "code",
   "execution_count": 21,
   "id": "60d8f8a6",
   "metadata": {
    "id": "26357e64",
    "outputId": "322e2146-7a7d-4135-ca5e-879af912fb0a",
    "scrolled": false
   },
   "outputs": [
    {
     "data": {
      "text/plain": [
       "10732"
      ]
     },
     "execution_count": 21,
     "metadata": {},
     "output_type": "execute_result"
    }
   ],
   "source": [
    "df.filter(df[\"A-Record\"]==\"null\").count()"
   ]
  },
  {
   "cell_type": "markdown",
   "id": "8be05da9",
   "metadata": {
    "id": "7e0c21ec"
   },
   "source": [
    "* es gibt 10.732 Null Values\n",
    "* diese können mit [] ersetzt werde"
   ]
  },
  {
   "cell_type": "code",
   "execution_count": 22,
   "id": "c970baf7",
   "metadata": {
    "id": "1bbf940e"
   },
   "outputs": [],
   "source": [
    "df=df.na.replace({\"null\": \"[]\"})"
   ]
  },
  {
   "cell_type": "code",
   "execution_count": 23,
   "id": "a7cb868e",
   "metadata": {
    "id": "1b343d82",
    "outputId": "6edd4eb5-7d56-4aaa-d6bb-709c66e0e8a8",
    "scrolled": true
   },
   "outputs": [
    {
     "name": "stdout",
     "output_type": "stream",
     "text": [
      "+----------------------+------+\n",
      "|A-Record              |count |\n",
      "+----------------------+------+\n",
      "|\"[\"\"91.195.241.137\"\"]\"|303204|\n",
      "|[]                    |172019|\n",
      "|\"[\"\"80.150.6.143\"\"]\"  |150156|\n",
      "|\"[\"\"23.236.62.147\"\"]\" |59034 |\n",
      "|\"[\"\"52.58.78.16\"\"]\"   |49200 |\n",
      "+----------------------+------+\n",
      "only showing top 5 rows\n",
      "\n"
     ]
    }
   ],
   "source": [
    "dfACount=df.groupBy(\"A-Record\").count()\n",
    "dfACount.orderBy(col(\"count\").desc()).show(5, False)"
   ]
  },
  {
   "cell_type": "markdown",
   "id": "43a76830",
   "metadata": {
    "id": "82698d50"
   },
   "source": [
    "## asn ip4 Blocks"
   ]
  },
  {
   "cell_type": "code",
   "execution_count": 24,
   "id": "e7b1fc79",
   "metadata": {
    "id": "bf0cc010"
   },
   "outputs": [],
   "source": [
    "schema_blocks = StructType([\n",
    "    StructField(\"network\", StringType(), True),\n",
    "    StructField(\"autonomous_system_number\", IntegerType(), True),\n",
    "    StructField(\"autonomous_system_organization\", StringType(), True)\n",
    "])\n",
    "\n",
    "df_asn_blocks_ipv4 = spark.read.csv(\"s3a://bucket/GeoLite2-ASN-Blocks-IPv4.csv\", header=True, schema=schema_blocks).persist()"
   ]
  },
  {
   "cell_type": "code",
   "execution_count": 25,
   "id": "3db074bb",
   "metadata": {
    "id": "03cd5152",
    "outputId": "d6cab5bf-2d97-4bc7-f07d-f3e51de0dfba"
   },
   "outputs": [
    {
     "name": "stdout",
     "output_type": "stream",
     "text": [
      "+------------+------------------------+------------------------------+\n",
      "|     network|autonomous_system_number|autonomous_system_organization|\n",
      "+------------+------------------------+------------------------------+\n",
      "|  1.0.0.0/24|                   13335|                 CLOUDFLARENET|\n",
      "|  1.0.4.0/22|                   38803|          Wirefreebroadband...|\n",
      "| 1.0.64.0/18|                   18144|          Energia Communica...|\n",
      "|1.0.128.0/17|                   23969|          TOT Public Compan...|\n",
      "|  1.1.1.0/24|                   13335|                 CLOUDFLARENET|\n",
      "+------------+------------------------+------------------------------+\n",
      "only showing top 5 rows\n",
      "\n"
     ]
    }
   ],
   "source": [
    "df_asn_blocks_ipv4.show(5)"
   ]
  },
  {
   "cell_type": "code",
   "execution_count": 26,
   "id": "63ea79d1",
   "metadata": {
    "id": "53ede5d7",
    "outputId": "53172ed0-31ea-46f0-e3b9-616f2afaab6f"
   },
   "outputs": [
    {
     "data": {
      "text/plain": [
       "461902"
      ]
     },
     "execution_count": 26,
     "metadata": {},
     "output_type": "execute_result"
    }
   ],
   "source": [
    "df_asn_blocks_ipv4.count()"
   ]
  },
  {
   "cell_type": "code",
   "execution_count": 27,
   "id": "6ad9bc6f",
   "metadata": {
    "id": "e86dc5e1",
    "outputId": "173f5426-da59-4283-e7d3-95ee5d612958"
   },
   "outputs": [
    {
     "data": {
      "text/plain": [
       "461902"
      ]
     },
     "execution_count": 27,
     "metadata": {},
     "output_type": "execute_result"
    }
   ],
   "source": [
    "df_asn_blocks_ipv4.dropDuplicates().count()"
   ]
  },
  {
   "cell_type": "markdown",
   "id": "c77a9384",
   "metadata": {
    "id": "bd85820c"
   },
   "source": [
    "* es gibt keine Duplikate in dem Datensatz"
   ]
  },
  {
   "cell_type": "code",
   "execution_count": 28,
   "id": "d1c911bf",
   "metadata": {
    "id": "71b043c8",
    "outputId": "630b17b7-5063-4048-c7a7-c131a3b1be39"
   },
   "outputs": [
    {
     "name": "stdout",
     "output_type": "stream",
     "text": [
      "root\n",
      " |-- network: string (nullable = true)\n",
      " |-- autonomous_system_number: integer (nullable = true)\n",
      " |-- autonomous_system_organization: string (nullable = true)\n",
      "\n"
     ]
    }
   ],
   "source": [
    "df_asn_blocks_ipv4.printSchema()"
   ]
  },
  {
   "cell_type": "code",
   "execution_count": 29,
   "id": "b20dc143",
   "metadata": {},
   "outputs": [
    {
     "name": "stdout",
     "output_type": "stream",
     "text": [
      "+-------+------------------------+------------------------------+\n",
      "|network|autonomous_system_number|autonomous_system_organization|\n",
      "+-------+------------------------+------------------------------+\n",
      "|      0|                       0|                             0|\n",
      "+-------+------------------------+------------------------------+\n",
      "\n"
     ]
    }
   ],
   "source": [
    "df_asn_blocks_ipv4.select([count(when(isnan(c) | col(c).isNull(), c)).alias(c) for c in df_asn_blocks_ipv4.columns]).show()"
   ]
  },
  {
   "cell_type": "markdown",
   "id": "62d9163d",
   "metadata": {
    "id": "f045456f"
   },
   "source": [
    "## GeoLite2-Country-Locations-en"
   ]
  },
  {
   "cell_type": "code",
   "execution_count": 30,
   "id": "6ee894b5",
   "metadata": {
    "id": "3752be46"
   },
   "outputs": [],
   "source": [
    "schema_country = StructType([\n",
    "    StructField(\"geoname_id\", IntegerType(), True),\n",
    "    StructField(\"locale_code\", StringType(), True),\n",
    "    StructField(\"continent_code\", StringType(), True),\n",
    "    StructField(\"continent_name\", StringType(), True),\n",
    "    StructField(\"country_iso_code\", StringType(), True),\n",
    "    StructField(\"country_name\", StringType(), True),\n",
    "    StructField(\"is_in_european_union\", StringType(), True)\n",
    "])\n",
    "\n",
    "df_country = spark.read.csv(\"s3a://bucket/GeoLite2-Country-Locations-en.csv\", header=True, schema=schema_country).persist()"
   ]
  },
  {
   "cell_type": "code",
   "execution_count": 31,
   "id": "fa6ffffc",
   "metadata": {
    "id": "3fdd4a92",
    "outputId": "97bea168-0cff-430b-9d14-0db8a11108e4"
   },
   "outputs": [
    {
     "name": "stdout",
     "output_type": "stream",
     "text": [
      "+----------+-----------+--------------+--------------+----------------+------------+--------------------+\n",
      "|geoname_id|locale_code|continent_code|continent_name|country_iso_code|country_name|is_in_european_union|\n",
      "+----------+-----------+--------------+--------------+----------------+------------+--------------------+\n",
      "|     49518|         en|            AF|        Africa|              RW|      Rwanda|                   0|\n",
      "|     51537|         en|            AF|        Africa|              SO|     Somalia|                   0|\n",
      "|     69543|         en|            AS|          Asia|              YE|       Yemen|                   0|\n",
      "|     99237|         en|            AS|          Asia|              IQ|        Iraq|                   0|\n",
      "|    102358|         en|            AS|          Asia|              SA|Saudi Arabia|                   0|\n",
      "+----------+-----------+--------------+--------------+----------------+------------+--------------------+\n",
      "only showing top 5 rows\n",
      "\n"
     ]
    }
   ],
   "source": [
    "df_country.show(5)"
   ]
  },
  {
   "cell_type": "code",
   "execution_count": 32,
   "id": "01c3f068",
   "metadata": {
    "id": "bf96c56c",
    "outputId": "68a8290b-3de8-41e0-a0c3-400a5cab7165",
    "scrolled": true
   },
   "outputs": [
    {
     "name": "stdout",
     "output_type": "stream",
     "text": [
      "root\n",
      " |-- geoname_id: integer (nullable = true)\n",
      " |-- locale_code: string (nullable = true)\n",
      " |-- continent_code: string (nullable = true)\n",
      " |-- continent_name: string (nullable = true)\n",
      " |-- country_iso_code: string (nullable = true)\n",
      " |-- country_name: string (nullable = true)\n",
      " |-- is_in_european_union: string (nullable = true)\n",
      "\n"
     ]
    }
   ],
   "source": [
    "df_country.printSchema()"
   ]
  },
  {
   "cell_type": "code",
   "execution_count": 33,
   "id": "7374e60a",
   "metadata": {
    "id": "2c370c0f",
    "outputId": "fe686eba-8eb6-44e7-e1fb-daa7ba254abc"
   },
   "outputs": [
    {
     "data": {
      "text/plain": [
       "252"
      ]
     },
     "execution_count": 33,
     "metadata": {},
     "output_type": "execute_result"
    }
   ],
   "source": [
    "df_country.count()"
   ]
  },
  {
   "cell_type": "code",
   "execution_count": 34,
   "id": "a15f2cc8",
   "metadata": {
    "id": "3bf3f3a8",
    "outputId": "0d067e03-1dc3-413d-9ee8-e77eb31eaaa7",
    "scrolled": true
   },
   "outputs": [
    {
     "data": {
      "text/plain": [
       "252"
      ]
     },
     "execution_count": 34,
     "metadata": {},
     "output_type": "execute_result"
    }
   ],
   "source": [
    "df_country.dropDuplicates().count()"
   ]
  },
  {
   "cell_type": "markdown",
   "id": "ae7baca6",
   "metadata": {
    "id": "125816b9"
   },
   "source": [
    "* es gibt keine Duplikate in dem Datensatz"
   ]
  },
  {
   "cell_type": "code",
   "execution_count": 35,
   "id": "e9d5c0aa",
   "metadata": {},
   "outputs": [
    {
     "name": "stdout",
     "output_type": "stream",
     "text": [
      "+----------+-----------+--------------+--------------+----------------+------------+--------------------+\n",
      "|geoname_id|locale_code|continent_code|continent_name|country_iso_code|country_name|is_in_european_union|\n",
      "+----------+-----------+--------------+--------------+----------------+------------+--------------------+\n",
      "|         0|          0|             0|             0|               2|           2|                   0|\n",
      "+----------+-----------+--------------+--------------+----------------+------------+--------------------+\n",
      "\n"
     ]
    }
   ],
   "source": [
    "df_country.select([count(when(isnan(c) | col(c).isNull(), c)).alias(c) for c in df_country.columns]).show()"
   ]
  },
  {
   "cell_type": "markdown",
   "id": "5f6e66dc",
   "metadata": {
    "id": "9f681a5c"
   },
   "source": [
    "* keine Null Values"
   ]
  },
  {
   "cell_type": "markdown",
   "id": "30a9436d",
   "metadata": {
    "id": "4b51e142"
   },
   "source": [
    "### Unbenötigte Spalten im Datensatz asn ip4 country entfernen "
   ]
  },
  {
   "cell_type": "code",
   "execution_count": 36,
   "id": "26cfdb53",
   "metadata": {
    "id": "4d1b11cb",
    "outputId": "dc6959f6-aab4-4ff1-e2df-4ad096277660"
   },
   "outputs": [],
   "source": [
    "df_country = df_country.drop(\"locale_code\", \"continent_code\", \"continent_name\", \"country_iso_code\", \"is_in_european_union\")"
   ]
  },
  {
   "cell_type": "code",
   "execution_count": 37,
   "id": "7f4cdf0d",
   "metadata": {
    "id": "161c8f0b",
    "outputId": "f8c6a3dc-7900-42bb-8a70-51e497401a61",
    "scrolled": true
   },
   "outputs": [
    {
     "name": "stdout",
     "output_type": "stream",
     "text": [
      "+----------+--------------------+\n",
      "|geoname_id|        country_name|\n",
      "+----------+--------------------+\n",
      "|     49518|              Rwanda|\n",
      "|     51537|             Somalia|\n",
      "|     69543|               Yemen|\n",
      "|     99237|                Iraq|\n",
      "|    102358|        Saudi Arabia|\n",
      "|    130758|                Iran|\n",
      "|    146669|              Cyprus|\n",
      "|    149590|            Tanzania|\n",
      "|    163843|               Syria|\n",
      "|    174982|             Armenia|\n",
      "|    192950|               Kenya|\n",
      "|    203312|            DR Congo|\n",
      "|    223816|            Djibouti|\n",
      "|    226074|              Uganda|\n",
      "|    239880|Central African R...|\n",
      "|    241170|          Seychelles|\n",
      "|    248816|              Jordan|\n",
      "|    272103|             Lebanon|\n",
      "|    285570|              Kuwait|\n",
      "|    286963|                Oman|\n",
      "+----------+--------------------+\n",
      "only showing top 20 rows\n",
      "\n"
     ]
    }
   ],
   "source": [
    "df_country.show()"
   ]
  },
  {
   "cell_type": "markdown",
   "id": "0425d291",
   "metadata": {},
   "source": [
    "# GeoLite2-Country-Blocks-IPv4"
   ]
  },
  {
   "cell_type": "code",
   "execution_count": 52,
   "id": "23f6ee35",
   "metadata": {},
   "outputs": [],
   "source": [
    "schema_country_blocks = StructType([\n",
    "    StructField(\"network\", StringType(), True),\n",
    "    StructField(\"geoname_id\", IntegerType(), True),\n",
    "    StructField(\"registered_country_geoname_id\", IntegerType(), True),\n",
    "    StructField(\"represented_country_geoname_id\", IntegerType(), True),\n",
    "    StructField(\"is_anonymous_proxy\", StringType(), True),\n",
    "    StructField(\"is_satellite_provider\", StringType(), True)\n",
    "])\n",
    "\n",
    "df_country_blocks = spark.read.csv(\"s3a://bucket/GeoLite2-Country-Blocks-IPv4.csv\", header=True, schema=schema_country_blocks).persist()"
   ]
  },
  {
   "cell_type": "code",
   "execution_count": 53,
   "id": "f6d68b03",
   "metadata": {},
   "outputs": [
    {
     "name": "stdout",
     "output_type": "stream",
     "text": [
      "+----------+----------+-----------------------------+------------------------------+------------------+---------------------+\n",
      "|   network|geoname_id|registered_country_geoname_id|represented_country_geoname_id|is_anonymous_proxy|is_satellite_provider|\n",
      "+----------+----------+-----------------------------+------------------------------+------------------+---------------------+\n",
      "|1.0.0.0/24|   2077456|                      2077456|                          null|                 0|                    0|\n",
      "|1.0.1.0/24|   1814991|                      1814991|                          null|                 0|                    0|\n",
      "|1.0.2.0/23|   1814991|                      1814991|                          null|                 0|                    0|\n",
      "|1.0.4.0/22|   2077456|                      2077456|                          null|                 0|                    0|\n",
      "|1.0.8.0/21|   1814991|                      1814991|                          null|                 0|                    0|\n",
      "+----------+----------+-----------------------------+------------------------------+------------------+---------------------+\n",
      "only showing top 5 rows\n",
      "\n"
     ]
    }
   ],
   "source": [
    "df_country_blocks.show(5)"
   ]
  },
  {
   "cell_type": "code",
   "execution_count": 54,
   "id": "9f3121b6",
   "metadata": {},
   "outputs": [
    {
     "data": {
      "text/plain": [
       "334879"
      ]
     },
     "execution_count": 54,
     "metadata": {},
     "output_type": "execute_result"
    }
   ],
   "source": [
    "df_country_blocks.count()"
   ]
  },
  {
   "cell_type": "code",
   "execution_count": 55,
   "id": "a0023b3a",
   "metadata": {
    "scrolled": true
   },
   "outputs": [
    {
     "data": {
      "text/plain": [
       "334879"
      ]
     },
     "execution_count": 55,
     "metadata": {},
     "output_type": "execute_result"
    }
   ],
   "source": [
    "df_country_blocks.dropDuplicates().count()"
   ]
  },
  {
   "cell_type": "markdown",
   "id": "1939ec4a",
   "metadata": {},
   "source": [
    "* es gibt keine Duplikate in diesem Datensatz"
   ]
  },
  {
   "cell_type": "code",
   "execution_count": 56,
   "id": "5a6b4ea4",
   "metadata": {
    "scrolled": true
   },
   "outputs": [
    {
     "name": "stdout",
     "output_type": "stream",
     "text": [
      "+-------+----------+-----------------------------+------------------------------+------------------+---------------------+\n",
      "|network|geoname_id|registered_country_geoname_id|represented_country_geoname_id|is_anonymous_proxy|is_satellite_provider|\n",
      "+-------+----------+-----------------------------+------------------------------+------------------+---------------------+\n",
      "|      0|      1909|                          783|                        334697|                 0|                    0|\n",
      "+-------+----------+-----------------------------+------------------------------+------------------+---------------------+\n",
      "\n"
     ]
    }
   ],
   "source": [
    "df_country_blocks.select([count(when(isnan(c) | col(c).isNull(), c)).alias(c) for c in df_country_blocks.columns]).show()"
   ]
  },
  {
   "cell_type": "markdown",
   "id": "470a779b",
   "metadata": {},
   "source": [
    "* es gibt häufiger Null-Werte in diesem Datensatz. Dies ist der Grund warum in der späteren Analyse weniger Datensätze zur Verfügung stehen als in dem Domain Datensatz"
   ]
  },
  {
   "cell_type": "code",
   "execution_count": 57,
   "id": "a4e7ca73",
   "metadata": {},
   "outputs": [
    {
     "name": "stdout",
     "output_type": "stream",
     "text": [
      "root\n",
      " |-- network: string (nullable = true)\n",
      " |-- geoname_id: integer (nullable = true)\n",
      " |-- registered_country_geoname_id: integer (nullable = true)\n",
      " |-- represented_country_geoname_id: integer (nullable = true)\n",
      " |-- is_anonymous_proxy: string (nullable = true)\n",
      " |-- is_satellite_provider: string (nullable = true)\n",
      "\n"
     ]
    }
   ],
   "source": [
    "df_country_blocks.printSchema()"
   ]
  },
  {
   "cell_type": "markdown",
   "id": "0ae990dc",
   "metadata": {
    "id": "b1540534"
   },
   "source": [
    "# Data Cleaning"
   ]
  },
  {
   "cell_type": "markdown",
   "id": "41699989",
   "metadata": {
    "id": "a4d81780"
   },
   "source": [
    "## Entfernen von Sonderzeichen im Datensatz real Domains"
   ]
  },
  {
   "cell_type": "code",
   "execution_count": 114,
   "id": "bc161015",
   "metadata": {
    "id": "3fddb3d0"
   },
   "outputs": [],
   "source": [
    "commaRep = udf(lambda x: re.sub('\"','', x))\n",
    "commaRep2 = udf(lambda x: re.sub(']','', x))\n",
    "commaRep3 = udf(lambda x: re.sub('\\[','', x))\n",
    "commaRep5 = udf(lambda x: re.sub('\\.','', x))"
   ]
  },
  {
   "cell_type": "code",
   "execution_count": 115,
   "id": "5683f0d1",
   "metadata": {
    "id": "31f773c8",
    "outputId": "c00ae093-df3b-4cac-b263-d68b563a9c23"
   },
   "outputs": [
    {
     "name": "stdout",
     "output_type": "stream",
     "text": [
      "+----------------+-----------------------------------------------+-----------------------+\n",
      "|Top level domain|MX-Record                                      |A-Record               |\n",
      "+----------------+-----------------------------------------------+-----------------------+\n",
      "|0--1.de         |mail.0--1.de,mxf993.netcup.net                 |\"[\"\"46.38.249.145\"\"]\"  |\n",
      "|0--2.de         |mxf993.netcup.net,mail.0--2.de                 |\"[\"\"212.227.212.163\"\"]\"|\n",
      "|0-0-0-0-0.de    |smtp-02.tld.t-online.de,smtp-01.tld.t-online.de|\"[\"\"80.150.6.143\"\"]\"   |\n",
      "+----------------+-----------------------------------------------+-----------------------+\n",
      "only showing top 3 rows\n",
      "\n"
     ]
    }
   ],
   "source": [
    "df_MXClean=df.withColumn('MX-Record',commaRep('MX-Record'))\n",
    "df_MXClean=df_MXClean.withColumn('MX-Record',commaRep2('MX-Record'))\n",
    "df_MXClean=df_MXClean.withColumn('MX-Record',commaRep3('MX-Record'))\n",
    "df_MXClean.show(3, False)"
   ]
  },
  {
   "cell_type": "code",
   "execution_count": 60,
   "id": "2d417f66",
   "metadata": {
    "id": "b5bad9c7",
    "outputId": "f59107b6-6608-4ec1-9852-4f895ba51f22"
   },
   "outputs": [
    {
     "name": "stdout",
     "output_type": "stream",
     "text": [
      "+----------------+-----------------------------------------------------------+---------------+\n",
      "|Top level domain|MX-Record                                                  |A-Record       |\n",
      "+----------------+-----------------------------------------------------------+---------------+\n",
      "|0--1.de         |\"[\"\"mail.0--1.de\"\",\"\"mxf993.netcup.net\"\"]\"                 |46.38.249.145  |\n",
      "|0--2.de         |\"[\"\"mxf993.netcup.net\"\",\"\"mail.0--2.de\"\"]\"                 |212.227.212.163|\n",
      "|0-0-0-0-0.de    |\"[\"\"smtp-02.tld.t-online.de\"\",\"\"smtp-01.tld.t-online.de\"\"]\"|80.150.6.143   |\n",
      "+----------------+-----------------------------------------------------------+---------------+\n",
      "only showing top 3 rows\n",
      "\n"
     ]
    }
   ],
   "source": [
    "df_AClean=df.withColumn('A-Record',commaRep('A-Record'))\n",
    "df_AClean=df_AClean.withColumn('A-Record',commaRep2('A-Record'))\n",
    "df_AClean=df_AClean.withColumn('A-Record',commaRep3('A-Record'))\n",
    "df_AClean.show(3, False)"
   ]
  },
  {
   "cell_type": "markdown",
   "id": "79bf030d",
   "metadata": {
    "id": "47819ed3"
   },
   "source": [
    " ## Splitten der Spalten im Datensatz real_domains"
   ]
  },
  {
   "cell_type": "code",
   "execution_count": 274,
   "id": "e53d766d",
   "metadata": {
    "id": "acb746f5",
    "outputId": "a26fc5ed-d5f5-4f05-a0a5-3aea5fbb065b",
    "scrolled": true
   },
   "outputs": [
    {
     "name": "stdout",
     "output_type": "stream",
     "text": [
      "+----------------+--------------------+--------------------+------+--------------------+\n",
      "|Top level domain|            A-Record|           MX-Record|pos_MX|              val_MX|\n",
      "+----------------+--------------------+--------------------+------+--------------------+\n",
      "|         0--1.de|\"[\"\"46.38.249.145...|[mail.0--1.de, mx...|     0|        mail.0--1.de|\n",
      "|         0--1.de|\"[\"\"46.38.249.145...|[mail.0--1.de, mx...|     1|   mxf993.netcup.net|\n",
      "|         0--2.de|\"[\"\"212.227.212.1...|[mxf993.netcup.ne...|     0|   mxf993.netcup.net|\n",
      "|         0--2.de|\"[\"\"212.227.212.1...|[mxf993.netcup.ne...|     1|        mail.0--2.de|\n",
      "|    0-0-0-0-0.de|\"[\"\"80.150.6.143\"\"]\"|[smtp-02.tld.t-on...|     0|smtp-02.tld.t-onl...|\n",
      "|    0-0-0-0-0.de|\"[\"\"80.150.6.143\"\"]\"|[smtp-02.tld.t-on...|     1|smtp-01.tld.t-onl...|\n",
      "|      0-0-0-1.de|\"[\"\"80.150.6.143\"\"]\"|[smtp-02.tld.t-on...|     0|smtp-02.tld.t-onl...|\n",
      "|      0-0-0-1.de|\"[\"\"80.150.6.143\"\"]\"|[smtp-02.tld.t-on...|     1|smtp-01.tld.t-onl...|\n",
      "|          0-0.de|\"[\"\"185.53.178.13...|                  []|     0|                    |\n",
      "|         0-01.de|\"[\"\"193.34.145.20...|      [mail.0-01.de]|     0|        mail.0-01.de|\n",
      "|          0-1.de|\"[\"\"91.195.241.13...|         [localhost]|     0|           localhost|\n",
      "|         0-10.de|                  []|                  []|     0|                    |\n",
      "|       0-1000.de|\"[\"\"91.195.241.13...|         [localhost]|     0|           localhost|\n",
      "|     0-100kmh.de|\"[\"\"81.169.145.95...|   [smtpin.rzone.de]|     0|     smtpin.rzone.de|\n",
      "|         0-12.de|\"[\"\"91.195.241.13...|         [localhost]|     0|           localhost|\n",
      "|         0-17.de|\"[\"\"91.195.241.13...|         [localhost]|     0|           localhost|\n",
      "|          0-2.de|   \"[\"\"127.0.0.1\"\"]\"|         [localhost]|     0|           localhost|\n",
      "|   0-24domain.de|\"[\"\"194.38.104.22...|[pmx.bestcpanel.e...|     0|   pmx.bestcpanel.eu|\n",
      "|   0-24domain.de|\"[\"\"194.38.104.22...|[pmx.bestcpanel.e...|     1|   smx.bestcpanel.eu|\n",
      "|   0-24domain.de|\"[\"\"194.38.104.22...|[pmx.bestcpanel.e...|     2|   bmx.bestcpanel.eu|\n",
      "+----------------+--------------------+--------------------+------+--------------------+\n",
      "only showing top 20 rows\n",
      "\n"
     ]
    }
   ],
   "source": [
    "df_MXSplit=df_MXClean.select(\n",
    "        \"Top level domain\", \"A-Record\",\n",
    "        f.split(\"MX-Record\", \",\").alias(\"MX-Record\"),\n",
    "        f.posexplode(f.split(\"MX-Record\", \",\")).alias(\"pos_MX\", \"val_MX\")\n",
    "    )\n",
    "df_MXSplit.show(20)"
   ]
  },
  {
   "cell_type": "code",
   "execution_count": 209,
   "id": "914c482c",
   "metadata": {},
   "outputs": [
    {
     "name": "stdout",
     "output_type": "stream",
     "text": [
      "root\n",
      " |-- Top level domain: string (nullable = true)\n",
      " |-- A-Record: string (nullable = true)\n",
      " |-- MX-Record: array (nullable = true)\n",
      " |    |-- element: string (containsNull = true)\n",
      " |-- pos_MX: integer (nullable = false)\n",
      " |-- val_MX: string (nullable = true)\n",
      " |-- domain: string (nullable = true)\n",
      "\n"
     ]
    }
   ],
   "source": [
    "df_MXSplit.printSchema()"
   ]
  },
  {
   "cell_type": "code",
   "execution_count": 206,
   "id": "c302281b",
   "metadata": {
    "id": "1a9cfea3",
    "outputId": "fae0df60-c8b0-4eb4-c188-e6e7c57cb6b6",
    "scrolled": true
   },
   "outputs": [
    {
     "name": "stdout",
     "output_type": "stream",
     "text": [
      "+-------------------+--------------------+-----------------+-----+---------------+\n",
      "|   Top level domain|           MX-Record|         A-Record|pos_A|          val_A|\n",
      "+-------------------+--------------------+-----------------+-----+---------------+\n",
      "|            0--1.de|\"[\"\"mail.0--1.de\"...|  [46.38.249.145]|    0|  46.38.249.145|\n",
      "|            0--2.de|\"[\"\"mxf993.netcup...|[212.227.212.163]|    0|212.227.212.163|\n",
      "|       0-0-0-0-0.de|\"[\"\"smtp-02.tld.t...|   [80.150.6.143]|    0|   80.150.6.143|\n",
      "|         0-0-0-1.de|\"[\"\"smtp-02.tld.t...|   [80.150.6.143]|    0|   80.150.6.143|\n",
      "|             0-0.de|                  []|  [185.53.178.13]|    0|  185.53.178.13|\n",
      "|            0-01.de|\"[\"\"mail.0-01.de\"\"]\"| [193.34.145.200]|    0| 193.34.145.200|\n",
      "|             0-1.de|   \"[\"\"localhost\"\"]\"| [91.195.241.137]|    0| 91.195.241.137|\n",
      "|            0-10.de|                  []|               []|    0|               |\n",
      "|          0-1000.de|   \"[\"\"localhost\"\"]\"| [91.195.241.137]|    0| 91.195.241.137|\n",
      "|        0-100kmh.de|\"[\"\"smtpin.rzone....|  [81.169.145.95]|    0|  81.169.145.95|\n",
      "|            0-12.de|   \"[\"\"localhost\"\"]\"| [91.195.241.137]|    0| 91.195.241.137|\n",
      "|            0-17.de|   \"[\"\"localhost\"\"]\"| [91.195.241.137]|    0| 91.195.241.137|\n",
      "|             0-2.de|   \"[\"\"localhost\"\"]\"|      [127.0.0.1]|    0|      127.0.0.1|\n",
      "|      0-24domain.de|\"[\"\"pmx.bestcpane...| [194.38.104.220]|    0| 194.38.104.220|\n",
      "|           0-24h.de|\"[\"\"mxlb.ispgatew...|[134.209.177.247]|    0|134.209.177.247|\n",
      "|     0-24leasing.de|                  []|               []|    0|               |\n",
      "|0-24versicherung.de|                  []|               []|    0|               |\n",
      "|        0-263475.de|                  []|   [176.9.76.101]|    0|   176.9.76.101|\n",
      "|           0-3-0.de|                  []|               []|    0|               |\n",
      "|             0-3.de|\"[\"\"teller.ggeg.e...|[185.163.116.240]|    0|185.163.116.240|\n",
      "+-------------------+--------------------+-----------------+-----+---------------+\n",
      "only showing top 20 rows\n",
      "\n"
     ]
    }
   ],
   "source": [
    "df_ASplit=df_AClean.select(\n",
    "        \"Top level domain\", \"MX-Record\",\n",
    "        f.split(\"A-Record\", \", \").alias(\"A-Record\"),\n",
    "        f.posexplode(f.split(\"A-Record\", \",\")).alias(\"pos_A\", \"val_A\")\n",
    "    )\n",
    "df_ASplit.show(20)"
   ]
  },
  {
   "cell_type": "code",
   "execution_count": 208,
   "id": "0680bea4",
   "metadata": {
    "id": "98f9fed8",
    "outputId": "0e9eb8c4-3f5d-41e3-ebd7-de64ad2ae593",
    "scrolled": true
   },
   "outputs": [
    {
     "data": {
      "text/plain": [
       "5540060"
      ]
     },
     "execution_count": 208,
     "metadata": {},
     "output_type": "execute_result"
    }
   ],
   "source": [
    "df_ASplit.count()"
   ]
  },
  {
   "cell_type": "code",
   "execution_count": 66,
   "id": "7cc46dcb",
   "metadata": {
    "id": "4b647a59",
    "scrolled": false
   },
   "outputs": [],
   "source": [
    "#für den späteren Join müssen diese Null Werte entfernt werden. \n",
    "#Im MX Datensatz wird kein Join benötigt, weshalb die Null Werte dort erhalen bleiben.\n",
    "df_ASplit=df_ASplit.filter(df_ASplit.val_A!=\"\")"
   ]
  },
  {
   "cell_type": "code",
   "execution_count": 67,
   "id": "b6eda6cf",
   "metadata": {
    "id": "b152a75a",
    "outputId": "7dd54095-c146-4227-b40e-bfacc98d4acf"
   },
   "outputs": [
    {
     "data": {
      "text/plain": [
       "5368041"
      ]
     },
     "execution_count": 67,
     "metadata": {},
     "output_type": "execute_result"
    }
   ],
   "source": [
    "df_ASplit.count()"
   ]
  },
  {
   "cell_type": "code",
   "execution_count": 68,
   "id": "4dfee57a",
   "metadata": {
    "id": "b84b9d52",
    "outputId": "13741639-1705-47b4-8748-5de6814e7b1f"
   },
   "outputs": [
    {
     "name": "stdout",
     "output_type": "stream",
     "text": [
      "root\n",
      " |-- Top level domain: string (nullable = true)\n",
      " |-- MX-Record: string (nullable = true)\n",
      " |-- A-Record: array (nullable = true)\n",
      " |    |-- element: string (containsNull = true)\n",
      " |-- pos_A: integer (nullable = false)\n",
      " |-- val_A: string (nullable = true)\n",
      "\n"
     ]
    }
   ],
   "source": [
    "df_ASplit.printSchema()"
   ]
  },
  {
   "cell_type": "markdown",
   "id": "b688bdd3",
   "metadata": {
    "id": "ee468b85"
   },
   "source": [
    "# Joining"
   ]
  },
  {
   "cell_type": "markdown",
   "id": "9288b3b5",
   "metadata": {
    "id": "4e9eefee"
   },
   "source": [
    "## Joining von Tabelle real_new und asn_blocks_ipv4"
   ]
  },
  {
   "cell_type": "code",
   "execution_count": 82,
   "id": "152f75df",
   "metadata": {
    "colab": {
     "base_uri": "https://localhost:8080/",
     "height": 226
    },
    "executionInfo": {
     "elapsed": 701,
     "status": "error",
     "timestamp": 1624866445907,
     "user": {
      "displayName": "Miriam Schneider",
      "photoUrl": "",
      "userId": "12431475822727460382"
     },
     "user_tz": -120
    },
    "id": "d435e250",
    "outputId": "783d2d63-3660-4672-ca78-b33eb3587730"
   },
   "outputs": [],
   "source": [
    "def ip_range(ip, network_range):\n",
    "    return ipaddress.IPv4Address(str(ip)) in ipaddress.ip_network(str(network_range))\n",
    "\n",
    "pred = udf(lambda ip, network_range:ipaddress.IPv4Address(str(ip)) in ipaddress.ip_network(str(network_range)), BooleanType())"
   ]
  },
  {
   "cell_type": "code",
   "execution_count": 83,
   "id": "8155e986",
   "metadata": {},
   "outputs": [],
   "source": [
    "startzeit=time.time()"
   ]
  },
  {
   "cell_type": "markdown",
   "id": "0571c3b7",
   "metadata": {},
   "source": [
    "* Auswahl der ersten 2000 Daten aus dem ursprünglichen Datensatz"
   ]
  },
  {
   "cell_type": "code",
   "execution_count": 85,
   "id": "6a11f4e1",
   "metadata": {},
   "outputs": [],
   "source": [
    "#Für eine Analyse des ganzen Datensatzes verwendet man\n",
    "#dfJoinATest=df_ASplit\n",
    "#anstatt der folgenden Zeile\n",
    "\n",
    "\n",
    "dfJoinATest=df_ASplit.limit(2000)"
   ]
  },
  {
   "cell_type": "code",
   "execution_count": 88,
   "id": "794a38b3",
   "metadata": {},
   "outputs": [],
   "source": [
    "dfJoinA=dfJoinATest.join(df_asn_blocks_ipv4,how=\"right\").where(pred(dfJoinATest.val_A, df_asn_blocks_ipv4.network)).cache()"
   ]
  },
  {
   "cell_type": "code",
   "execution_count": null,
   "id": "a7f887ec",
   "metadata": {},
   "outputs": [],
   "source": [
    "dfJoinA.show()"
   ]
  },
  {
   "cell_type": "code",
   "execution_count": 89,
   "id": "abfdd724",
   "metadata": {},
   "outputs": [],
   "source": [
    "zeitende=time.time()"
   ]
  },
  {
   "cell_type": "code",
   "execution_count": 90,
   "id": "e8635d79",
   "metadata": {},
   "outputs": [
    {
     "data": {
      "text/plain": [
       "0.03683681488037109"
      ]
     },
     "execution_count": 90,
     "metadata": {},
     "output_type": "execute_result"
    }
   ],
   "source": [
    "(zeitende-startzeit)/60"
   ]
  },
  {
   "cell_type": "markdown",
   "id": "5a7c5e3d",
   "metadata": {
    "id": "3d8b2d78"
   },
   "source": [
    "## Joining von dfjoinA mit df_city_blocks"
   ]
  },
  {
   "cell_type": "code",
   "execution_count": 92,
   "id": "bf81ea98",
   "metadata": {
    "id": "cf7d01d1"
   },
   "outputs": [],
   "source": [
    "df_joint_JoinA_mitBlocks = dfJoinA\\\n",
    "            .join(df_country_blocks, dfJoinA[\"network\"] == df_country_blocks[\"network\"])"
   ]
  },
  {
   "cell_type": "code",
   "execution_count": 93,
   "id": "76a0f577",
   "metadata": {
    "id": "239e738b"
   },
   "outputs": [
    {
     "name": "stdout",
     "output_type": "stream",
     "text": [
      "+----------------+--------------------+--------------+-----+------------+-------------+------------------------+------------------------------+--------------+------------+-------------+----------+-----------------------------+------------------------------+------------------+---------------------+\n",
      "|Top level domain|           MX-Record|      A-Record|pos_A|       val_A|      network|autonomous_system_number|autonomous_system_organization|network_adress|subnetzmaske|      network|geoname_id|registered_country_geoname_id|represented_country_geoname_id|is_anonymous_proxy|is_satellite_provider|\n",
      "+----------------+--------------------+--------------+-----+------------+-------------+------------------------+------------------------------+--------------+------------+-------------+----------+-----------------------------+------------------------------+------------------+---------------------+\n",
      "|  01759354151.de|\"[\"\"mx.0175935415...|  [2.56.97.57]|    0|  2.56.97.57| 2.56.96.0/22|                  197540|                   netcup GmbH|     2.56.96.0|          22| 2.56.96.0/22|   2921044|                      2921044|                          null|                 0|                    0|\n",
      "|       010102.de|\"[\"\"mxlb.ispgatew...| [2.56.97.216]|    0| 2.56.97.216| 2.56.96.0/22|                  197540|                   netcup GmbH|     2.56.96.0|          22| 2.56.96.0/22|   2921044|                      2921044|                          null|                 0|                    0|\n",
      "|  030-service.de|\"[\"\"mx0.030-servi...|[5.35.225.136]|    0|5.35.225.136|5.35.225.0/24|                   20773|              Host Europe GmbH|    5.35.225.0|          24|5.35.225.0/24|   2921044|                      2921044|                          null|                 0|                    0|\n",
      "|          08o.de| \"[\"\"mail.08o.de\"\"]\"|[5.35.255.101]|    0|5.35.255.101|5.35.240.0/20|                    8972|              Host Europe GmbH|    5.35.240.0|          20|5.35.240.0/20|   3017382|                      2921044|                          null|                 0|                    0|\n",
      "|007-nightclub.de|\"[\"\"mail.network5...|[5.35.248.139]|    0|5.35.248.139|5.35.240.0/20|                    8972|              Host Europe GmbH|    5.35.240.0|          20|5.35.240.0/20|   3017382|                      2921044|                          null|                 0|                    0|\n",
      "+----------------+--------------------+--------------+-----+------------+-------------+------------------------+------------------------------+--------------+------------+-------------+----------+-----------------------------+------------------------------+------------------+---------------------+\n",
      "only showing top 5 rows\n",
      "\n"
     ]
    }
   ],
   "source": [
    "df_joint_JoinA_mitBlocks.show(5)"
   ]
  },
  {
   "cell_type": "markdown",
   "id": "200bdc9f",
   "metadata": {},
   "source": [
    "## Joining der Blocks mit den Ländern"
   ]
  },
  {
   "cell_type": "code",
   "execution_count": 94,
   "id": "b477f438",
   "metadata": {},
   "outputs": [],
   "source": [
    "df_joint_all = df_joint_JoinA_mitBlocks\\\n",
    "            .join(df_country, df_joint_JoinA_mitBlocks[\"geoname_id\"] == df_country[\"geoname_id\"])"
   ]
  },
  {
   "cell_type": "code",
   "execution_count": 95,
   "id": "053f4cd4",
   "metadata": {},
   "outputs": [
    {
     "name": "stdout",
     "output_type": "stream",
     "text": [
      "+----------------+--------------------+--------------+-----+------------+-------------+------------------------+------------------------------+--------------+------------+-------------+----------+-----------------------------+------------------------------+------------------+---------------------+----------+------------+\n",
      "|Top level domain|           MX-Record|      A-Record|pos_A|       val_A|      network|autonomous_system_number|autonomous_system_organization|network_adress|subnetzmaske|      network|geoname_id|registered_country_geoname_id|represented_country_geoname_id|is_anonymous_proxy|is_satellite_provider|geoname_id|country_name|\n",
      "+----------------+--------------------+--------------+-----+------------+-------------+------------------------+------------------------------+--------------+------------+-------------+----------+-----------------------------+------------------------------+------------------+---------------------+----------+------------+\n",
      "|  01759354151.de|\"[\"\"mx.0175935415...|  [2.56.97.57]|    0|  2.56.97.57| 2.56.96.0/22|                  197540|                   netcup GmbH|     2.56.96.0|          22| 2.56.96.0/22|   2921044|                      2921044|                          null|                 0|                    0|   2921044|     Germany|\n",
      "|       010102.de|\"[\"\"mxlb.ispgatew...| [2.56.97.216]|    0| 2.56.97.216| 2.56.96.0/22|                  197540|                   netcup GmbH|     2.56.96.0|          22| 2.56.96.0/22|   2921044|                      2921044|                          null|                 0|                    0|   2921044|     Germany|\n",
      "|  030-service.de|\"[\"\"mx0.030-servi...|[5.35.225.136]|    0|5.35.225.136|5.35.225.0/24|                   20773|              Host Europe GmbH|    5.35.225.0|          24|5.35.225.0/24|   2921044|                      2921044|                          null|                 0|                    0|   2921044|     Germany|\n",
      "|          08o.de| \"[\"\"mail.08o.de\"\"]\"|[5.35.255.101]|    0|5.35.255.101|5.35.240.0/20|                    8972|              Host Europe GmbH|    5.35.240.0|          20|5.35.240.0/20|   3017382|                      2921044|                          null|                 0|                    0|   3017382|      France|\n",
      "|007-nightclub.de|\"[\"\"mail.network5...|[5.35.248.139]|    0|5.35.248.139|5.35.240.0/20|                    8972|              Host Europe GmbH|    5.35.240.0|          20|5.35.240.0/20|   3017382|                      2921044|                          null|                 0|                    0|   3017382|      France|\n",
      "+----------------+--------------------+--------------+-----+------------+-------------+------------------------+------------------------------+--------------+------------+-------------+----------+-----------------------------+------------------------------+------------------+---------------------+----------+------------+\n",
      "only showing top 5 rows\n",
      "\n"
     ]
    }
   ],
   "source": [
    "df_joint_all.show(5)"
   ]
  },
  {
   "cell_type": "markdown",
   "id": "35e1c4d3",
   "metadata": {
    "id": "3e0b7d2b"
   },
   "source": [
    "## Checken Joining-Datensatz"
   ]
  },
  {
   "cell_type": "code",
   "execution_count": 91,
   "id": "e3d90350",
   "metadata": {},
   "outputs": [
    {
     "data": {
      "text/plain": [
       "1997"
      ]
     },
     "execution_count": 91,
     "metadata": {},
     "output_type": "execute_result"
    }
   ],
   "source": [
    "dfJoinA.count()"
   ]
  },
  {
   "cell_type": "code",
   "execution_count": 96,
   "id": "b2b209fb",
   "metadata": {},
   "outputs": [
    {
     "data": {
      "text/plain": [
       "684"
      ]
     },
     "execution_count": 96,
     "metadata": {},
     "output_type": "execute_result"
    }
   ],
   "source": [
    "df_joint_JoinA_mitBlocks.count()"
   ]
  },
  {
   "cell_type": "code",
   "execution_count": 97,
   "id": "c734d32a",
   "metadata": {},
   "outputs": [
    {
     "data": {
      "text/plain": [
       "684"
      ]
     },
     "execution_count": 97,
     "metadata": {},
     "output_type": "execute_result"
    }
   ],
   "source": [
    "df_joint_all.count()"
   ]
  },
  {
   "cell_type": "markdown",
   "id": "35a76a9c",
   "metadata": {},
   "source": [
    "* bei unseren gejointen Netzwerken scheinen überproportional viele unbekannte Länder dabei zu sein"
   ]
  },
  {
   "cell_type": "markdown",
   "id": "1d636e37",
   "metadata": {
    "id": "179caa37"
   },
   "source": [
    "# Analyse"
   ]
  },
  {
   "cell_type": "markdown",
   "id": "bcea6795",
   "metadata": {},
   "source": [
    "* die Analyse wurde teilweise mit dem kompletten und teilweise mit dem gejointen begrenzten Datensatz durchgeführt\n",
    "* bei Analysen mit dem berenzten Datensatz wurden 2000 Werte genutzt und daraufhin die Ergebnisse ermittelt\n",
    "* durch die Joins bedeutet das es wurde entweder mit 1997 oder 684 Datensätzen gearbeitet\n",
    "* dies bedeutet die Ergebnisse könnten von einer Analyse mit dem kompletten Datensatz abweichen"
   ]
  },
  {
   "cell_type": "code",
   "execution_count": 234,
   "id": "bad5d02d",
   "metadata": {},
   "outputs": [],
   "source": [
    "sns.set_theme(style=\"whitegrid\")\n",
    "sns.set_palette(\"tab10\")"
   ]
  },
  {
   "cell_type": "markdown",
   "id": "51560cc8",
   "metadata": {},
   "source": [
    "## How many A records does a top level domain usually have?"
   ]
  },
  {
   "cell_type": "markdown",
   "id": "6f2cab09",
   "metadata": {},
   "source": [
    "* Analyse mit: dem gesamten Datensatz"
   ]
  },
  {
   "cell_type": "code",
   "execution_count": 211,
   "id": "6f296161",
   "metadata": {},
   "outputs": [
    {
     "name": "stdout",
     "output_type": "stream",
     "text": [
      "+--------------------------+-----+\n",
      "|Top level domain          |count|\n",
      "+--------------------------+-----+\n",
      "|def-service.de            |20   |\n",
      "|bnw-music.de              |20   |\n",
      "|contentchoice.de          |20   |\n",
      "|def-platform.de           |20   |\n",
      "|content-choice.de         |20   |\n",
      "|addefend-platform.de      |20   |\n",
      "|ourschoolnet.de           |16   |\n",
      "|harmlessnoize.de          |16   |\n",
      "|berlinsbi.de              |15   |\n",
      "|chunksofco.de             |13   |\n",
      "|lasthit.de                |12   |\n",
      "|politischer-hintergrund.de|12   |\n",
      "|frozenice.de              |12   |\n",
      "|remotees.de               |12   |\n",
      "|skablog.de                |12   |\n",
      "|aktion-mensch.de          |12   |\n",
      "|dickens-lesen.de          |12   |\n",
      "|gott-im-abseits.de        |12   |\n",
      "|infrastructureasco.de     |12   |\n",
      "|winewonder.de             |12   |\n",
      "+--------------------------+-----+\n",
      "only showing top 20 rows\n",
      "\n"
     ]
    }
   ],
   "source": [
    "df_ASplit_Grouped=df_ASplit.groupBy(\"Top level domain\").count()\n",
    "df_ASplit_Grouped.orderBy(col(\"count\").desc()).show(20, False)\n"
   ]
  },
  {
   "cell_type": "code",
   "execution_count": 212,
   "id": "a308c577",
   "metadata": {},
   "outputs": [
    {
     "name": "stdout",
     "output_type": "stream",
     "text": [
      "+-------+----------------+------------------+\n",
      "|summary|Top level domain|             count|\n",
      "+-------+----------------+------------------+\n",
      "|  count|         4860885|           4860885|\n",
      "|   mean|            null|1.1397224990922434|\n",
      "| stddev|            null|0.5434283628481107|\n",
      "|    min|         0--1.de|                 1|\n",
      "|    max|   zzzzzzzzzz.de|                20|\n",
      "+-------+----------------+------------------+\n",
      "\n"
     ]
    }
   ],
   "source": [
    "df_ASplit_Grouped.describe().show()"
   ]
  },
  {
   "cell_type": "markdown",
   "id": "18a615a1",
   "metadata": {},
   "source": [
    "* die meisten Top Level Domains haben nur ein A-record"
   ]
  },
  {
   "cell_type": "code",
   "execution_count": 235,
   "id": "c365365b",
   "metadata": {
    "scrolled": false
   },
   "outputs": [
    {
     "data": {
      "text/plain": [
       "Text(0.5, 1.1, 'Häufigkeit der Anzahl der A-Records pro Top Level Domain')"
      ]
     },
     "execution_count": 235,
     "metadata": {},
     "output_type": "execute_result"
    },
    {
     "data": {
      "image/png": "[encoded data removed]",
      "text/plain": [
       "<Figure size 432x288 with 1 Axes>"
      ]
     },
     "metadata": {},
     "output_type": "display_data"
    }
   ],
   "source": [
    "Adf_pandas_all = df_ASplit_Grouped.toPandas()\n",
    "g=sns.histplot(data=Adf_pandas_all, x=\"count\",bins=20)\n",
    "g.set(xlabel=\"Anzahl der A-Records pro Top Level Domain\",ylabel=\"Häufigkeit\")\n",
    "g.set_title(\"Häufigkeit der Anzahl der A-Records pro Top Level Domain\",y=1.1)"
   ]
  },
  {
   "cell_type": "markdown",
   "id": "524d58c6",
   "metadata": {},
   "source": [
    "* auch hier wird deutlich, dass extrem viele Top Level Domains nur ein A-Record haben"
   ]
  },
  {
   "cell_type": "code",
   "execution_count": 236,
   "id": "bccb5ccf",
   "metadata": {
    "scrolled": true
   },
   "outputs": [
    {
     "data": {
      "text/plain": [
       "Text(0.5, 1.1, 'Häufigkeit der Anzahl der A-Records pro Top Level Domain (>1)')"
      ]
     },
     "execution_count": 236,
     "metadata": {},
     "output_type": "execute_result"
    },
    {
     "data": {
      "image/png": "[encoded data removed]",
      "text/plain": [
       "<Figure size 432x288 with 1 Axes>"
      ]
     },
     "metadata": {},
     "output_type": "display_data"
    }
   ],
   "source": [
    "df_ASplit_Grouped_high=df_ASplit_Grouped.filter(df_ASplit_Grouped[\"count\"]>1)\n",
    "Adf_pandas_high = df_ASplit_Grouped_high.toPandas()\n",
    "g=sns.histplot(data=Adf_pandas_high, x=\"count\",bins=20)\n",
    "g.set(xlabel=\"Anzahl der A-Records pro Top Level Domain\",ylabel=\"Häufigkeit\")\n",
    "g.set_title(\"Häufigkeit der Anzahl der A-Records pro Top Level Domain (>1)\",y=1.1)"
   ]
  },
  {
   "cell_type": "markdown",
   "id": "d17474b5",
   "metadata": {},
   "source": [
    "* nimmt man alle Domains mit nur einem A-Record aus der Visualisierung heraus erkennt man, dass bis zu 5 Records manchmal vorkommen, alles darüber jedoch extrem selten ist"
   ]
  },
  {
   "cell_type": "markdown",
   "id": "bacbd58b",
   "metadata": {
    "id": "0e3bd96b"
   },
   "source": [
    "## Which A- Records are used?\n"
   ]
  },
  {
   "cell_type": "markdown",
   "id": "677a3478",
   "metadata": {},
   "source": [
    "* Analyse mit: dem gesamten Datensatz"
   ]
  },
  {
   "cell_type": "code",
   "execution_count": 300,
   "id": "725570bb",
   "metadata": {
    "scrolled": true
   },
   "outputs": [
    {
     "name": "stdout",
     "output_type": "stream",
     "text": [
      "+--------------+------+------------------+\n",
      "|val_A         |count |percent           |\n",
      "+--------------+------+------------------+\n",
      "|91.195.241.137|303205|5.472955166550543 |\n",
      "|              |172019|3.1050024728974055|\n",
      "|80.150.6.143  |150197|2.711107821936946 |\n",
      "|23.236.62.147 |59295 |1.070295267560279 |\n",
      "|54.171.90.223 |51534 |0.9302065320592195|\n",
      "|52.48.64.111  |51532 |0.9301704313671694|\n",
      "|52.58.78.16   |49200 |0.8880770244365584|\n",
      "|81.169.145.143|42000 |0.7581145330555987|\n",
      "|54.229.198.190|38567 |0.696147695151316 |\n",
      "|52.50.104.40  |38566 |0.6961296448052909|\n",
      "+--------------+------+------------------+\n",
      "only showing top 10 rows\n",
      "\n"
     ]
    }
   ],
   "source": [
    "email_provider=df_ASplit.groupBy(\"val_A\").agg(f.count('*')).withColumnRenamed(\"count(1)\", \"count\")\n",
    "email_provider=email_provider.withColumn(\"percent\", (col(\"count\") / df_ASplit.count())*100 )\n",
    "email_provider.orderBy(col(\"count(1)\").desc()).show(10, False)"
   ]
  },
  {
   "cell_type": "markdown",
   "id": "0765f0fc",
   "metadata": {},
   "source": [
    "* rund 3% der Datensätze haben keine E-Mail Provider\n",
    "* dies ist die 2. größte Gruppe"
   ]
  },
  {
   "cell_type": "code",
   "execution_count": 301,
   "id": "92edeeab",
   "metadata": {},
   "outputs": [],
   "source": [
    "email_provider_p=email_provider.toPandas()"
   ]
  },
  {
   "cell_type": "code",
   "execution_count": 302,
   "id": "3b1b6c6b",
   "metadata": {},
   "outputs": [
    {
     "data": {
      "text/html": [
       "<div>\n",
       "<style scoped>\n",
       "    .dataframe tbody tr th:only-of-type {\n",
       "        vertical-align: middle;\n",
       "    }\n",
       "\n",
       "    .dataframe tbody tr th {\n",
       "        vertical-align: top;\n",
       "    }\n",
       "\n",
       "    .dataframe thead th {\n",
       "        text-align: right;\n",
       "    }\n",
       "</style>\n",
       "<table border=\"1\" class=\"dataframe\">\n",
       "  <thead>\n",
       "    <tr style=\"text-align: right;\">\n",
       "      <th></th>\n",
       "      <th>val_A</th>\n",
       "      <th>count</th>\n",
       "      <th>percent</th>\n",
       "    </tr>\n",
       "  </thead>\n",
       "  <tbody>\n",
       "    <tr>\n",
       "      <th>0</th>\n",
       "      <td>89.22.102.214</td>\n",
       "      <td>192</td>\n",
       "      <td>0.003466</td>\n",
       "    </tr>\n",
       "    <tr>\n",
       "      <th>1</th>\n",
       "      <td>185.53.177.14</td>\n",
       "      <td>3626</td>\n",
       "      <td>0.065451</td>\n",
       "    </tr>\n",
       "    <tr>\n",
       "      <th>2</th>\n",
       "      <td>85.13.152.182</td>\n",
       "      <td>43</td>\n",
       "      <td>0.000776</td>\n",
       "    </tr>\n",
       "    <tr>\n",
       "      <th>3</th>\n",
       "      <td>172.67.213.49</td>\n",
       "      <td>9</td>\n",
       "      <td>0.000162</td>\n",
       "    </tr>\n",
       "    <tr>\n",
       "      <th>4</th>\n",
       "      <td>85.13.131.69</td>\n",
       "      <td>80</td>\n",
       "      <td>0.001444</td>\n",
       "    </tr>\n",
       "  </tbody>\n",
       "</table>\n",
       "</div>"
      ],
      "text/plain": [
       "           val_A  count   percent\n",
       "0  89.22.102.214    192  0.003466\n",
       "1  185.53.177.14   3626  0.065451\n",
       "2  85.13.152.182     43  0.000776\n",
       "3  172.67.213.49      9  0.000162\n",
       "4   85.13.131.69     80  0.001444"
      ]
     },
     "execution_count": 302,
     "metadata": {},
     "output_type": "execute_result"
    }
   ],
   "source": [
    "email_provider_p.head()"
   ]
  },
  {
   "cell_type": "code",
   "execution_count": 303,
   "id": "3ddc7425",
   "metadata": {},
   "outputs": [
    {
     "data": {
      "text/plain": [
       "val_A      420904\n",
       "count      420904\n",
       "percent    420904\n",
       "dtype: int64"
      ]
     },
     "execution_count": 303,
     "metadata": {},
     "output_type": "execute_result"
    }
   ],
   "source": [
    "email_provider_p.count()"
   ]
  },
  {
   "cell_type": "code",
   "execution_count": 304,
   "id": "414985d8",
   "metadata": {
    "scrolled": true
   },
   "outputs": [
    {
     "data": {
      "text/plain": [
       "13.162288787942144"
      ]
     },
     "execution_count": 304,
     "metadata": {},
     "output_type": "execute_result"
    }
   ],
   "source": [
    "email_provider_p[\"count\"].mean()"
   ]
  },
  {
   "cell_type": "markdown",
   "id": "4d16aaff",
   "metadata": {},
   "source": [
    "* ein MX-Record kommt durchnittlich 5x im Datensatz vor"
   ]
  },
  {
   "cell_type": "code",
   "execution_count": 306,
   "id": "5c93eadc",
   "metadata": {
    "scrolled": true
   },
   "outputs": [
    {
     "data": {
      "text/plain": [
       "Text(0.5, 1.1, 'Häufigkeit der Anzahl eines Datensatzes')"
      ]
     },
     "execution_count": 306,
     "metadata": {},
     "output_type": "execute_result"
    },
    {
     "data": {
      "image/png": "[encoded data removed]",
      "text/plain": [
       "<Figure size 432x288 with 1 Axes>"
      ]
     },
     "metadata": {},
     "output_type": "display_data"
    }
   ],
   "source": [
    "g=sns.histplot(data=email_provider_p, x=\"count\",bins=20)\n",
    "g.set(xlabel=\"Anzahl eines A-Records im Datensatz\",ylabel=\"Häufigkeit\")\n",
    "g.set_title(\"Häufigkeit der Anzahl eines Datensatzes\", y=1.1)"
   ]
  },
  {
   "cell_type": "markdown",
   "id": "3bcb0f71",
   "metadata": {},
   "source": [
    "* hier ist kaum etwas erkennbar, da die alles meisten A-Records nur sehr selten vorkommen"
   ]
  },
  {
   "cell_type": "code",
   "execution_count": 307,
   "id": "088153f8",
   "metadata": {
    "scrolled": false
   },
   "outputs": [
    {
     "data": {
      "text/plain": [
       "Text(0.5, 1.1, 'Häufigkeit der Anzahl eines A-Records im Datensatz')"
      ]
     },
     "execution_count": 307,
     "metadata": {},
     "output_type": "execute_result"
    },
    {
     "data": {
      "image/png": "[encoded data removed]",
      "text/plain": [
       "<Figure size 432x288 with 1 Axes>"
      ]
     },
     "metadata": {},
     "output_type": "display_data"
    }
   ],
   "source": [
    "g=sns.boxplot(data=email_provider_p,x=\"count\")\n",
    "g.set(xlabel=\"Anzahl eines A-Records im Datensatz\")\n",
    "g.set_title(\"Häufigkeit der Anzahl eines A-Records im Datensatz\", y=1.1)"
   ]
  },
  {
   "cell_type": "markdown",
   "id": "aee4a48c",
   "metadata": {},
   "source": [
    "* hier sieht man, dass es einige Ausreißer im Datensatz gibt"
   ]
  },
  {
   "cell_type": "markdown",
   "id": "b3ae4799",
   "metadata": {
    "id": "144ae606"
   },
   "source": [
    "## What are the Top 10 Companies that own the servers the A records point to?\n"
   ]
  },
  {
   "cell_type": "markdown",
   "id": "763a5923",
   "metadata": {},
   "source": [
    "* Analyse mit: dem begrenzten Datensatz (1997)"
   ]
  },
  {
   "cell_type": "code",
   "execution_count": 100,
   "id": "5d5cf6a0",
   "metadata": {
    "id": "f9b756e7",
    "scrolled": false
   },
   "outputs": [
    {
     "name": "stdout",
     "output_type": "stream",
     "text": [
      "+------------------------------+-----+\n",
      "|autonomous_system_organization|count|\n",
      "+------------------------------+-----+\n",
      "|SEDO GmbH                     |714  |\n",
      "|CLOUDFLARENET                 |162  |\n",
      "|Hetzner Online GmbH           |127  |\n",
      "|Strato AG                     |108  |\n",
      "|1&1 Ionos Se                  |92   |\n",
      "|Neue Medien Muennich GmbH     |84   |\n",
      "|AMAZON-02                     |78   |\n",
      "|Host Europe GmbH              |63   |\n",
      "|netcup GmbH                   |54   |\n",
      "|Deutsche Telekom AG           |45   |\n",
      "+------------------------------+-----+\n",
      "\n"
     ]
    }
   ],
   "source": [
    "top_companies=dfJoinA.groupBy(\"autonomous_system_organization\").count()\n",
    "top_companies=top_companies.orderBy(col(\"count\").desc()).limit(10)\n",
    "top_companies.show(20,False)"
   ]
  },
  {
   "cell_type": "markdown",
   "id": "462d2f9d",
   "metadata": {},
   "source": [
    "* die am häufigsten vorkommende Organisation ist die SEDO GmbH"
   ]
  },
  {
   "cell_type": "code",
   "execution_count": 239,
   "id": "4192512f",
   "metadata": {
    "scrolled": true
   },
   "outputs": [
    {
     "data": {
      "text/plain": [
       "Text(0.5, 1.1, 'Häufigkeit der Anzahl einer Organisation')"
      ]
     },
     "execution_count": 239,
     "metadata": {},
     "output_type": "execute_result"
    },
    {
     "data": {
      "image/png": "[encoded data removed]",
      "text/plain": [
       "<Figure size 432x288 with 1 Axes>"
      ]
     },
     "metadata": {},
     "output_type": "display_data"
    }
   ],
   "source": [
    "top_companies_p=top_companies.toPandas()\n",
    "g=sns.histplot(data=top_companies_p, x=\"count\",bins=10)\n",
    "g.set(xlabel=\"Anzahl einer Organisation im Datensatz\",ylabel=\"Häufigkeit\")\n",
    "g.set_title(\"Häufigkeit der Anzahl einer Organisation\",y=1.1)"
   ]
  },
  {
   "cell_type": "markdown",
   "id": "b84d9674",
   "metadata": {},
   "source": [
    "* nur SEDO kommt sehr häufig vor"
   ]
  },
  {
   "cell_type": "code",
   "execution_count": 242,
   "id": "89414422",
   "metadata": {},
   "outputs": [
    {
     "data": {
      "text/plain": [
       "Text(0.5, 1.1, 'What are the Top 10 Companies that own the servers the A records point to?')"
      ]
     },
     "execution_count": 242,
     "metadata": {},
     "output_type": "execute_result"
    },
    {
     "data": {
      "image/png": "[encoded data removed]",
      "text/plain": [
       "<Figure size 432x288 with 1 Axes>"
      ]
     },
     "metadata": {},
     "output_type": "display_data"
    }
   ],
   "source": [
    "g=sns.barplot(data=top_companies_p,x=\"autonomous_system_organization\",y=\"count\")\n",
    "g.set_xticklabels(g.get_xticklabels(),rotation=90)\n",
    "g.set(xlabel=\"autonome Systemorganisationen\",ylabel=\"Häufigkeit\")\n",
    "g.set_title(\"What are the Top 10 Companies that own the servers the A records point to?\",y=1.1)"
   ]
  },
  {
   "cell_type": "markdown",
   "id": "295ca534",
   "metadata": {},
   "source": [
    "## Where are these companys located?"
   ]
  },
  {
   "cell_type": "markdown",
   "id": "6e6c9267",
   "metadata": {},
   "source": [
    "* Analyse mit: dem berenzten Datensatz (1997)"
   ]
  },
  {
   "cell_type": "code",
   "execution_count": 262,
   "id": "7bacba65",
   "metadata": {
    "scrolled": false
   },
   "outputs": [
    {
     "name": "stdout",
     "output_type": "stream",
     "text": [
      "+------------------------------+-------------+-----+\n",
      "|autonomous_system_organization| country_name|count|\n",
      "+------------------------------+-------------+-----+\n",
      "|                     SEDO GmbH|   no Country|  714|\n",
      "|                 CLOUDFLARENET|   no Country|  162|\n",
      "|           Hetzner Online GmbH|      Finland|  127|\n",
      "|           Hetzner Online GmbH|      Germany|  127|\n",
      "|                     Strato AG|      Germany|  108|\n",
      "|                  1&1 Ionos Se|      Germany|   92|\n",
      "|          Neue Medien Muenn...|      Germany|   84|\n",
      "|                     AMAZON-02|United States|   78|\n",
      "|                     AMAZON-02|      Germany|   78|\n",
      "|                     AMAZON-02|      Ireland|   78|\n",
      "|              Host Europe GmbH|      Germany|   63|\n",
      "|              Host Europe GmbH|       France|   63|\n",
      "|                   netcup GmbH|      Germany|   54|\n",
      "|           Deutsche Telekom AG|      Germany|   45|\n",
      "+------------------------------+-------------+-----+\n",
      "\n"
     ]
    }
   ],
   "source": [
    "top_locate=df_joint_all.join(top_companies,\"autonomous_system_organization\",\"right\").select(\"autonomous_system_organization\",\"country_name\",\"count\").distinct().sort(desc(\"count\"))\n",
    "top_locate=top_locate.na.fill(\"no Country\",[\"country_name\"])\n",
    "top_locate.show()"
   ]
  },
  {
   "cell_type": "code",
   "execution_count": 245,
   "id": "23143d4c",
   "metadata": {},
   "outputs": [],
   "source": [
    "top_locate_p=top_locate.toPandas()"
   ]
  },
  {
   "cell_type": "code",
   "execution_count": 246,
   "id": "472b27a3",
   "metadata": {},
   "outputs": [
    {
     "data": {
      "text/plain": [
       "Text(0.5, 1.1, 'Top 10 Companies that own the servers the A records point to, location of A-record IPs')"
      ]
     },
     "execution_count": 246,
     "metadata": {},
     "output_type": "execute_result"
    },
    {
     "data": {
      "image/png": "[encoded data removed]",
      "text/plain": [
       "<Figure size 432x288 with 1 Axes>"
      ]
     },
     "metadata": {},
     "output_type": "display_data"
    }
   ],
   "source": [
    "g=sns.barplot(x=\"autonomous_system_organization\",y=\"count\",hue=\"country_name\",data=top_locate_p)\n",
    "g.set(xlabel=\"autonome Systemorganisationen\",ylabel=\"Häufigkeit\")\n",
    "g.set_xticklabels(g.get_xticklabels(),rotation=90)\n",
    "g.set_title(\"Top 10 Companies that own the servers the A records point to, location of A-record IPs\", y=1.1)"
   ]
  },
  {
   "cell_type": "markdown",
   "id": "a64b7e87",
   "metadata": {},
   "source": [
    "* die großten Firmen haben A-Records in Deutschland, Finland, USA, Irland und Frankreich\n",
    "* die meisten Standorte sind jedoch unbekannt"
   ]
  },
  {
   "cell_type": "markdown",
   "id": "bc2b03e9",
   "metadata": {
    "id": "54b902ec"
   },
   "source": [
    "## How many websites use Cloudflare?\n"
   ]
  },
  {
   "cell_type": "markdown",
   "id": "55ebaffd",
   "metadata": {},
   "source": [
    "* Analyse mit: dem begrenzten Datensatz (1997)"
   ]
  },
  {
   "cell_type": "code",
   "execution_count": 106,
   "id": "fd67b1af",
   "metadata": {
    "id": "d62591c7",
    "scrolled": true
   },
   "outputs": [
    {
     "name": "stdout",
     "output_type": "stream",
     "text": [
      "+------------------+--------------------+--------------------+-----+-------------+--------------+------------------------+------------------------------+--------------+------------+\n",
      "|  Top level domain|           MX-Record|            A-Record|pos_A|        val_A|       network|autonomous_system_number|autonomous_system_organization|network_adress|subnetzmaske|\n",
      "+------------------+--------------------+--------------------+-----+-------------+--------------+------------------------+------------------------------+--------------+------------+\n",
      "|   030hoodmerch.de|\"[\"\"mx01.ionos.de...|      [23.227.38.32]|    0| 23.227.38.32|23.227.38.0/23|                   13335|                 CLOUDFLARENET|   23.227.38.0|          23|\n",
      "|   069-clothing.de|\"[\"\"mx.069-clothi...|      [23.227.38.72]|    0| 23.227.38.72|23.227.38.0/23|                   13335|                 CLOUDFLARENET|   23.227.38.0|          23|\n",
      "|    0711-gaming.de|\"[\"\"w015c1e6.kass...|      [23.227.38.65]|    0| 23.227.38.65|23.227.38.0/23|                   13335|                 CLOUDFLARENET|   23.227.38.0|          23|\n",
      "|      0711-shop.de|\"[\"\"mx.0711-shop....|      [23.227.38.73]|    0| 23.227.38.73|23.227.38.0/23|                   13335|                 CLOUDFLARENET|   23.227.38.0|          23|\n",
      "|     080studios.de|\"[\"\"mx01.udag.de\"...|      [23.227.38.65]|    0| 23.227.38.65|23.227.38.0/23|                   13335|                 CLOUDFLARENET|   23.227.38.0|          23|\n",
      "| 089-onlineshop.de|\"[\"\"mx01.ionos.de...|      [23.227.38.32]|    0| 23.227.38.32|23.227.38.0/23|                   13335|                 CLOUDFLARENET|   23.227.38.0|          23|\n",
      "|         0-9a-z.de|\"[\"\"mail.0-9a-z.d...|[104.24.103.72,10...|    0|104.24.103.72| 104.16.0.0/12|                   13335|                 CLOUDFLARENET|    104.16.0.0|          12|\n",
      "|         0-9a-z.de|\"[\"\"mail.0-9a-z.d...|[104.24.103.72,10...|    1|104.24.102.72| 104.16.0.0/12|                   13335|                 CLOUDFLARENET|    104.16.0.0|          12|\n",
      "|0-euro-flatrate.de|                  []|[104.27.165.83,10...|    0|104.27.165.83| 104.16.0.0/12|                   13335|                 CLOUDFLARENET|    104.16.0.0|          12|\n",
      "|0-euro-flatrate.de|                  []|[104.27.165.83,10...|    1|104.27.164.83| 104.16.0.0/12|                   13335|                 CLOUDFLARENET|    104.16.0.0|          12|\n",
      "|   000000ffffff.de|                  []|[172.67.182.199,1...|    1|104.28.22.167| 104.16.0.0/12|                   13335|                 CLOUDFLARENET|    104.16.0.0|          12|\n",
      "|   000000ffffff.de|                  []|[172.67.182.199,1...|    2|104.28.23.167| 104.16.0.0/12|                   13335|                 CLOUDFLARENET|    104.16.0.0|          12|\n",
      "|       00100100.de|                  []|[104.31.90.64,104...|    0| 104.31.90.64| 104.16.0.0/12|                   13335|                 CLOUDFLARENET|    104.16.0.0|          12|\n",
      "|       00100100.de|                  []|[104.31.90.64,104...|    1| 104.31.91.64| 104.16.0.0/12|                   13335|                 CLOUDFLARENET|    104.16.0.0|          12|\n",
      "|         001101.de|\"[\"\"dc-2868acfe95...|[172.67.142.214,1...|    1|104.24.107.79| 104.16.0.0/12|                   13335|                 CLOUDFLARENET|    104.16.0.0|          12|\n",
      "|         001101.de|\"[\"\"dc-2868acfe95...|[172.67.142.214,1...|    2|104.24.106.79| 104.16.0.0/12|                   13335|                 CLOUDFLARENET|    104.16.0.0|          12|\n",
      "|  0049einkaufen.de|                  []|[104.18.38.180,17...|    0|104.18.38.180| 104.16.0.0/12|                   13335|                 CLOUDFLARENET|    104.16.0.0|          12|\n",
      "|  0049einkaufen.de|                  []|[104.18.38.180,17...|    2|104.18.39.180| 104.16.0.0/12|                   13335|                 CLOUDFLARENET|    104.16.0.0|          12|\n",
      "|  007management.de|                  []|[104.27.147.73,10...|    0|104.27.147.73| 104.16.0.0/12|                   13335|                 CLOUDFLARENET|    104.16.0.0|          12|\n",
      "|  007management.de|                  []|[104.27.147.73,10...|    1|104.27.146.73| 104.16.0.0/12|                   13335|                 CLOUDFLARENET|    104.16.0.0|          12|\n",
      "+------------------+--------------------+--------------------+-----+-------------+--------------+------------------------+------------------------------+--------------+------------+\n",
      "only showing top 20 rows\n",
      "\n"
     ]
    }
   ],
   "source": [
    "dfJoinA.filter(dfJoinA.autonomous_system_organization=='CLOUDFLARENET').show()\n"
   ]
  },
  {
   "cell_type": "code",
   "execution_count": 107,
   "id": "6d623706",
   "metadata": {
    "id": "d3bb104e"
   },
   "outputs": [
    {
     "data": {
      "text/plain": [
       "162"
      ]
     },
     "execution_count": 107,
     "metadata": {},
     "output_type": "execute_result"
    }
   ],
   "source": [
    "dfJoinA.filter(dfJoinA.autonomous_system_organization=='CLOUDFLARENET').count()\n"
   ]
  },
  {
   "cell_type": "markdown",
   "id": "06b717c6",
   "metadata": {},
   "source": [
    "* 162 von 2000 Domains nutzen Cloudflare"
   ]
  },
  {
   "cell_type": "markdown",
   "id": "618bc950",
   "metadata": {
    "id": "b6c6c087"
   },
   "source": [
    "## How many German websites use German hosting providers?\n"
   ]
  },
  {
   "cell_type": "markdown",
   "id": "99725e66",
   "metadata": {},
   "source": [
    "* Analyse mit: dem begrenzten Datensatz (684)"
   ]
  },
  {
   "cell_type": "code",
   "execution_count": 256,
   "id": "bb82e9a7",
   "metadata": {},
   "outputs": [],
   "source": [
    "dfcountry=df_joint_all.select(\"Top level domain\",\"country_name\")"
   ]
  },
  {
   "cell_type": "code",
   "execution_count": 257,
   "id": "c168219d",
   "metadata": {},
   "outputs": [
    {
     "data": {
      "text/plain": [
       "684"
      ]
     },
     "execution_count": 257,
     "metadata": {},
     "output_type": "execute_result"
    }
   ],
   "source": [
    "dfcountry.count()"
   ]
  },
  {
   "cell_type": "code",
   "execution_count": 258,
   "id": "b645f18b",
   "metadata": {
    "scrolled": true
   },
   "outputs": [
    {
     "name": "stdout",
     "output_type": "stream",
     "text": [
      "+------------+-----+\n",
      "|country_name|count|\n",
      "+------------+-----+\n",
      "|Germany     |528  |\n",
      "|France      |54   |\n",
      "|Ireland     |36   |\n",
      "|Denmark     |20   |\n",
      "|Austria     |11   |\n",
      "+------------+-----+\n",
      "only showing top 5 rows\n",
      "\n"
     ]
    }
   ],
   "source": [
    "dfcountryCount=dfcountry.groupBy(\"country_name\").count()\n",
    "dfcountryCount.orderBy(col(\"count\").desc()).show(5,False)"
   ]
  },
  {
   "cell_type": "markdown",
   "id": "faf82c57",
   "metadata": {},
   "source": [
    "* diese Analyse bezieht sich auf die A-Records. Um sie auf die Websites zu beziehen müssen die Dublikate der Top Level Domains entfernt werden"
   ]
  },
  {
   "cell_type": "code",
   "execution_count": 260,
   "id": "ae8cd4ae",
   "metadata": {},
   "outputs": [
    {
     "data": {
      "text/plain": [
       "662"
      ]
     },
     "execution_count": 260,
     "metadata": {},
     "output_type": "execute_result"
    }
   ],
   "source": [
    "dfCountryDrop=dfcountry.dropDuplicates()\n",
    "dfCountryDrop.count()"
   ]
  },
  {
   "cell_type": "code",
   "execution_count": 263,
   "id": "1bb10c00",
   "metadata": {
    "scrolled": true
   },
   "outputs": [
    {
     "name": "stdout",
     "output_type": "stream",
     "text": [
      "+------------+-----+------------------+\n",
      "|country_name|count|percent           |\n",
      "+------------+-----+------------------+\n",
      "|Germany     |524  |79.15407854984893 |\n",
      "|France      |54   |8.157099697885197 |\n",
      "|Ireland     |22   |3.3232628398791544|\n",
      "|Denmark     |20   |3.0211480362537766|\n",
      "|Austria     |11   |1.6616314199395772|\n",
      "+------------+-----+------------------+\n",
      "only showing top 5 rows\n",
      "\n"
     ]
    }
   ],
   "source": [
    "dfCountryDropCount=dfCountryDrop.groupBy(\"country_name\").count()\n",
    "dfCountryDropCount=dfCountryDropCount.withColumn(\"percent\", (col(\"count\") / 662)*100 )\n",
    "dfCountryDropCount.orderBy(col(\"count\").desc()).show(5,False)"
   ]
  },
  {
   "cell_type": "markdown",
   "id": "63443be3",
   "metadata": {},
   "source": [
    "* 524 von 662 Websiten haben einen deutschen Hosting Provider. Dies entspricht einem Anteil von fast 80 %"
   ]
  },
  {
   "cell_type": "markdown",
   "id": "5576d211",
   "metadata": {},
   "source": [
    "## From which countries are the other Hosting-Providers?"
   ]
  },
  {
   "cell_type": "markdown",
   "id": "4336adfd",
   "metadata": {},
   "source": [
    "* Analyse mit: dem begrenzten Datensatz (684)"
   ]
  },
  {
   "cell_type": "code",
   "execution_count": 264,
   "id": "f13166c1",
   "metadata": {},
   "outputs": [
    {
     "name": "stdout",
     "output_type": "stream",
     "text": [
      "+--------------------+-----+\n",
      "|country_name        |count|\n",
      "+--------------------+-----+\n",
      "|France              |54   |\n",
      "|Finland             |2    |\n",
      "|United States       |10   |\n",
      "|Denmark             |20   |\n",
      "|Ireland             |36   |\n",
      "|Switzerland         |8    |\n",
      "|United Arab Emirates|1    |\n",
      "|Australia           |3    |\n",
      "|Romania             |1    |\n",
      "|Austria             |11   |\n",
      "|Hungary             |1    |\n",
      "|United Kingdom      |2    |\n",
      "|Netherlands         |7    |\n",
      "+--------------------+-----+\n",
      "\n"
     ]
    }
   ],
   "source": [
    "df_joint_all_nongerman=df_joint_all.filter(df_joint_all.country_name!=\"Germany\")\n",
    "countries_hosting=df_joint_all_nongerman.groupBy(\"country_name\").count()\n",
    "countries_hosting.show(20,False)"
   ]
  },
  {
   "cell_type": "code",
   "execution_count": 279,
   "id": "ca0e7dd0",
   "metadata": {},
   "outputs": [
    {
     "name": "stdout",
     "output_type": "stream",
     "text": [
      "+--------------------+-----+-------------------+\n",
      "|country_name        |count|percent            |\n",
      "+--------------------+-----+-------------------+\n",
      "|France              |54   |7.894736842105263  |\n",
      "|Ireland             |36   |5.263157894736842  |\n",
      "|Denmark             |20   |2.923976608187134  |\n",
      "|Austria             |11   |1.608187134502924  |\n",
      "|United States       |10   |1.461988304093567  |\n",
      "|Switzerland         |8    |1.1695906432748537 |\n",
      "|Netherlands         |7    |1.023391812865497  |\n",
      "|Australia           |3    |0.43859649122807015|\n",
      "|Finland             |2    |0.29239766081871343|\n",
      "|United Kingdom      |2    |0.29239766081871343|\n",
      "|United Arab Emirates|1    |0.14619883040935672|\n",
      "|Romania             |1    |0.14619883040935672|\n",
      "|Hungary             |1    |0.14619883040935672|\n",
      "+--------------------+-----+-------------------+\n",
      "\n"
     ]
    }
   ],
   "source": [
    "countries_hosting=countries_hosting.withColumn(\"percent\", (col(\"count\") / df_joint_all.count())*100 )\n",
    "countries_hosting=countries_hosting.orderBy(col(\"count\").desc())\n",
    "countries_hosting.show(20,False) "
   ]
  },
  {
   "cell_type": "markdown",
   "id": "46d32fd3",
   "metadata": {},
   "source": [
    "* Nach Deutschland kommen die meisten Hosting Provider aud Frankreich, Irland und Dänemark"
   ]
  },
  {
   "cell_type": "code",
   "execution_count": 267,
   "id": "01b9a9ed",
   "metadata": {},
   "outputs": [],
   "source": [
    "countries_hosting_p=countries_hosting.toPandas()"
   ]
  },
  {
   "cell_type": "code",
   "execution_count": 286,
   "id": "8ae993ca",
   "metadata": {
    "scrolled": true
   },
   "outputs": [
    {
     "data": {
      "text/plain": [
       "Text(0.5, 1.1, 'Häufigkeit mit welcher eine Wesite einen Hosting Provider aus einem Land nutzt')"
      ]
     },
     "execution_count": 286,
     "metadata": {},
     "output_type": "execute_result"
    },
    {
     "data": {
      "image/png": "[encoded data removed]",
      "text/plain": [
       "<Figure size 432x288 with 1 Axes>"
      ]
     },
     "metadata": {},
     "output_type": "display_data"
    }
   ],
   "source": [
    "g=sns.boxplot(data=countries_hosting_p,x=\"count\")\n",
    "g.set(xlabel=\"Anzahl\")\n",
    "g.set_title(\"Häufigkeit mit welcher eine Wesite einen Hosting Provider aus einem Land nutzt\", y=1.1)"
   ]
  },
  {
   "cell_type": "markdown",
   "id": "c001db4c",
   "metadata": {},
   "source": [
    "## How many MX records does a top level domain usually have?"
   ]
  },
  {
   "cell_type": "markdown",
   "id": "b3b22cc5",
   "metadata": {},
   "source": [
    "* Analyse mit: dem gesamten Datensatz"
   ]
  },
  {
   "cell_type": "code",
   "execution_count": 308,
   "id": "db2c61b5",
   "metadata": {},
   "outputs": [
    {
     "name": "stdout",
     "output_type": "stream",
     "text": [
      "+--------------------+-----+\n",
      "|Top level domain    |count|\n",
      "+--------------------+-----+\n",
      "|domservice.de       |21   |\n",
      "|derproviderserver.de|18   |\n",
      "|liebesort.de        |17   |\n",
      "|redleadsmarketing.de|16   |\n",
      "|mysmartshop.de      |16   |\n",
      "+--------------------+-----+\n",
      "only showing top 5 rows\n",
      "\n"
     ]
    }
   ],
   "source": [
    "df_MXSplit_Grouped=df_MXSplit.groupBy(\"Top level domain\").count()\n",
    "df_MXSplit_Grouped.orderBy(col(\"count\").desc()).show(5, False)"
   ]
  },
  {
   "cell_type": "code",
   "execution_count": 309,
   "id": "24f844e7",
   "metadata": {
    "scrolled": true
   },
   "outputs": [
    {
     "name": "stdout",
     "output_type": "stream",
     "text": [
      "+-------+----------------+------------------+\n",
      "|summary|Top level domain|             count|\n",
      "+-------+----------------+------------------+\n",
      "|  count|         4860885|           4860885|\n",
      "|   mean|            null|1.4506329608702941|\n",
      "| stddev|            null|0.7938619534327868|\n",
      "|    min|         0--1.de|                 1|\n",
      "|    max|   zzzzzzzzzz.de|                21|\n",
      "+-------+----------------+------------------+\n",
      "\n"
     ]
    }
   ],
   "source": [
    "df_MXSplit_Grouped.describe().show()"
   ]
  },
  {
   "cell_type": "markdown",
   "id": "399e3f24",
   "metadata": {},
   "source": [
    "* die meisten Top Level Domains haben nur ein MX Record"
   ]
  },
  {
   "cell_type": "code",
   "execution_count": 237,
   "id": "c2f0b72d",
   "metadata": {
    "scrolled": true
   },
   "outputs": [
    {
     "data": {
      "text/plain": [
       "Text(0.5, 1.1, 'Häufigkeit der Anzahl der MX-Records pro Top Level Domain')"
      ]
     },
     "execution_count": 237,
     "metadata": {},
     "output_type": "execute_result"
    },
    {
     "data": {
      "image/png": "[encoded data removed]",
      "text/plain": [
       "<Figure size 432x288 with 1 Axes>"
      ]
     },
     "metadata": {},
     "output_type": "display_data"
    }
   ],
   "source": [
    "MXdf_pandas_all = df_MXSplit_Grouped.toPandas()\n",
    "g=sns.histplot(data=MXdf_pandas_all, x=\"count\",bins=20)\n",
    "g.set(xlabel=\"Anzahl der MX-Records pro Top Level Domain\",ylabel=\"Häufigkeit\")\n",
    "g.set_title(\"Häufigkeit der Anzahl der MX-Records pro Top Level Domain\",y=1.1)"
   ]
  },
  {
   "cell_type": "markdown",
   "id": "0149faf4",
   "metadata": {},
   "source": [
    "* auch hier wird deutlich, dass extrem viele Top Level Domains nur ein MX-Record haben"
   ]
  },
  {
   "cell_type": "code",
   "execution_count": 238,
   "id": "61bfd928",
   "metadata": {
    "scrolled": true
   },
   "outputs": [
    {
     "data": {
      "text/plain": [
       "Text(0.5, 1.1, 'Häufigkeit der Anzahl der MX-Records pro Top Level Domain (>1)')"
      ]
     },
     "execution_count": 238,
     "metadata": {},
     "output_type": "execute_result"
    },
    {
     "data": {
      "image/png": "[encoded data removed]",
      "text/plain": [
       "<Figure size 432x288 with 1 Axes>"
      ]
     },
     "metadata": {},
     "output_type": "display_data"
    }
   ],
   "source": [
    "df_MXSplit_Grouped_high=df_MXSplit_Grouped.filter(df_MXSplit_Grouped[\"count\"]>2)\n",
    "MXdf_pandas_high = df_MXSplit_Grouped_high.toPandas()\n",
    "g=sns.histplot(data=MXdf_pandas_high, x=\"count\",bins=20)\n",
    "g.set(xlabel=\"Anzahl der MX-Records pro Top Level Domain\",ylabel=\"Häufigkeit\")\n",
    "g.set_title(\"Häufigkeit der Anzahl der MX-Records pro Top Level Domain (>1)\",y=1.1)"
   ]
  },
  {
   "cell_type": "markdown",
   "id": "bedfe9c0",
   "metadata": {},
   "source": [
    "* nimmt man alle Domains mit nur einem MX-Record aus der Visualisierung heraus erkennt man, dass bis zu 6 Records manchmal vorkommen, alles darüber jedoch extrem selten ist"
   ]
  },
  {
   "cell_type": "markdown",
   "id": "d7eef1f2",
   "metadata": {
    "id": "0e3bd96b"
   },
   "source": [
    "## Which email provider are used (MX record)?\n"
   ]
  },
  {
   "cell_type": "markdown",
   "id": "f22aa40c",
   "metadata": {},
   "source": [
    "* Analyse mit: dem gesamten Datensatz"
   ]
  },
  {
   "cell_type": "code",
   "execution_count": 278,
   "id": "0d4b32b8",
   "metadata": {
    "scrolled": true
   },
   "outputs": [
    {
     "name": "stdout",
     "output_type": "stream",
     "text": [
      "+-----------------------+------+------------------+\n",
      "|val_MX                 |count |percent           |\n",
      "+-----------------------+------+------------------+\n",
      "|                       |634443|8.997455809943046 |\n",
      "|smtpin.rzone.de        |509331|7.223159787615439 |\n",
      "|mx01.kundenserver.de   |359139|5.093187697125093 |\n",
      "|mx00.kundenserver.de   |358404|5.082764175988745 |\n",
      "|localhost              |303841|4.308970184475052 |\n",
      "|mx1.jimdo.com          |162813|2.308958839145924 |\n",
      "|mx2.jimdo.com          |162795|2.3087035692405435|\n",
      "|mx00.ionos.de          |156544|2.2200540037666494|\n",
      "|mx01.ionos.de          |156482|2.2191747407592293|\n",
      "|smtp-02.tld.t-online.de|150254|2.130851353497765 |\n",
      "+-----------------------+------+------------------+\n",
      "only showing top 10 rows\n",
      "\n"
     ]
    }
   ],
   "source": [
    "email_provider=df_MXSplit.groupBy(\"val_MX\").agg(f.count('*')).withColumnRenamed(\"count(1)\", \"count\")\n",
    "email_provider=email_provider.withColumn(\"percent\", (col(\"count\") / df_MXSplit.count())*100 )\n",
    "email_provider.orderBy(col(\"count(1)\").desc()).show(10, False)"
   ]
  },
  {
   "cell_type": "markdown",
   "id": "2de9c9ba",
   "metadata": {},
   "source": [
    "* rund 9% der Datensätze haben keine E-Mail Provider\n",
    "* dies ist die größte Gruppe"
   ]
  },
  {
   "cell_type": "code",
   "execution_count": 280,
   "id": "ced1490a",
   "metadata": {},
   "outputs": [],
   "source": [
    "email_provider_p=email_provider.toPandas()"
   ]
  },
  {
   "cell_type": "code",
   "execution_count": 281,
   "id": "7b5d9a32",
   "metadata": {},
   "outputs": [
    {
     "data": {
      "text/html": [
       "<div>\n",
       "<style scoped>\n",
       "    .dataframe tbody tr th:only-of-type {\n",
       "        vertical-align: middle;\n",
       "    }\n",
       "\n",
       "    .dataframe tbody tr th {\n",
       "        vertical-align: top;\n",
       "    }\n",
       "\n",
       "    .dataframe thead th {\n",
       "        text-align: right;\n",
       "    }\n",
       "</style>\n",
       "<table border=\"1\" class=\"dataframe\">\n",
       "  <thead>\n",
       "    <tr style=\"text-align: right;\">\n",
       "      <th></th>\n",
       "      <th>val_MX</th>\n",
       "      <th>count</th>\n",
       "      <th>percent</th>\n",
       "    </tr>\n",
       "  </thead>\n",
       "  <tbody>\n",
       "    <tr>\n",
       "      <th>0</th>\n",
       "      <td>mx1.webhoster.de</td>\n",
       "      <td>2622</td>\n",
       "      <td>0.037184</td>\n",
       "    </tr>\n",
       "    <tr>\n",
       "      <th>1</th>\n",
       "      <td>mail.0815club.de</td>\n",
       "      <td>1</td>\n",
       "      <td>0.000014</td>\n",
       "    </tr>\n",
       "    <tr>\n",
       "      <th>2</th>\n",
       "      <td>mail.0x40.de</td>\n",
       "      <td>1</td>\n",
       "      <td>0.000014</td>\n",
       "    </tr>\n",
       "    <tr>\n",
       "      <th>3</th>\n",
       "      <td>mail.0x777.de</td>\n",
       "      <td>1</td>\n",
       "      <td>0.000014</td>\n",
       "    </tr>\n",
       "    <tr>\n",
       "      <th>4</th>\n",
       "      <td>mail.1-vp.de</td>\n",
       "      <td>1</td>\n",
       "      <td>0.000014</td>\n",
       "    </tr>\n",
       "  </tbody>\n",
       "</table>\n",
       "</div>"
      ],
      "text/plain": [
       "             val_MX  count   percent\n",
       "0  mx1.webhoster.de   2622  0.037184\n",
       "1  mail.0815club.de      1  0.000014\n",
       "2      mail.0x40.de      1  0.000014\n",
       "3     mail.0x777.de      1  0.000014\n",
       "4      mail.1-vp.de      1  0.000014"
      ]
     },
     "execution_count": 281,
     "metadata": {},
     "output_type": "execute_result"
    }
   ],
   "source": [
    "email_provider_p.head()"
   ]
  },
  {
   "cell_type": "code",
   "execution_count": 282,
   "id": "5db2f546",
   "metadata": {},
   "outputs": [
    {
     "data": {
      "text/plain": [
       "val_MX     1322702\n",
       "count      1322702\n",
       "percent    1322702\n",
       "dtype: int64"
      ]
     },
     "execution_count": 282,
     "metadata": {},
     "output_type": "execute_result"
    }
   ],
   "source": [
    "email_provider_p.count()"
   ]
  },
  {
   "cell_type": "code",
   "execution_count": 283,
   "id": "b3429643",
   "metadata": {
    "scrolled": true
   },
   "outputs": [
    {
     "data": {
      "text/plain": [
       "5.331026943332663"
      ]
     },
     "execution_count": 283,
     "metadata": {},
     "output_type": "execute_result"
    }
   ],
   "source": [
    "email_provider_p[\"count\"].mean()"
   ]
  },
  {
   "cell_type": "markdown",
   "id": "3200bb70",
   "metadata": {},
   "source": [
    "* ein MX-Record kommt durchnittlich 5x im Datensatz vor"
   ]
  },
  {
   "cell_type": "code",
   "execution_count": 284,
   "id": "5fdd1685",
   "metadata": {
    "scrolled": true
   },
   "outputs": [
    {
     "data": {
      "text/plain": [
       "Text(0.5, 1.1, 'Häufigkeit der Anzahl eines Datensatzes')"
      ]
     },
     "execution_count": 284,
     "metadata": {},
     "output_type": "execute_result"
    },
    {
     "data": {
      "image/png": "[encoded data removed]",
      "text/plain": [
       "<Figure size 432x288 with 1 Axes>"
      ]
     },
     "metadata": {},
     "output_type": "display_data"
    }
   ],
   "source": [
    "g=sns.histplot(data=email_provider_p, x=\"count\",bins=20)\n",
    "g.set(xlabel=\"Anzahl eines MX-Records im Datensatz\",ylabel=\"Häufigkeit\")\n",
    "g.set_title(\"Häufigkeit der Anzahl eines Datensatzes\", y=1.1)"
   ]
  },
  {
   "cell_type": "markdown",
   "id": "3c73ef14",
   "metadata": {},
   "source": [
    "* hier ist kaum etwas erkennbar, da die alles meisten MX-Records nur sehr selten vorkommen"
   ]
  },
  {
   "cell_type": "code",
   "execution_count": 287,
   "id": "af005fd9",
   "metadata": {
    "scrolled": true
   },
   "outputs": [
    {
     "data": {
      "text/plain": [
       "Text(0.5, 1.1, 'Häufigkeit der Anzahl eines MX_Records im Datensatz')"
      ]
     },
     "execution_count": 287,
     "metadata": {},
     "output_type": "execute_result"
    },
    {
     "data": {
      "image/png": "[encoded data removed]",
      "text/plain": [
       "<Figure size 432x288 with 1 Axes>"
      ]
     },
     "metadata": {},
     "output_type": "display_data"
    }
   ],
   "source": [
    "g=sns.boxplot(data=email_provider_p,x=\"count\")\n",
    "g.set(xlabel=\"Anzahl eines MX-Records im Datensatz\")\n",
    "g.set_title(\"Häufigkeit der Anzahl eines MX-Records im Datensatz\", y=1.1)"
   ]
  },
  {
   "cell_type": "markdown",
   "id": "27bdf19e",
   "metadata": {},
   "source": [
    "* hier sieht man, dass es einige Ausreißer im Datensatz gibt"
   ]
  },
  {
   "cell_type": "markdown",
   "id": "e5aba5e2",
   "metadata": {},
   "source": [
    "## Which Domains are used by the MX-Records?"
   ]
  },
  {
   "cell_type": "markdown",
   "id": "37e5e7f9",
   "metadata": {},
   "source": [
    "* Analyse mit: dem gesamten Datensatz"
   ]
  },
  {
   "cell_type": "code",
   "execution_count": 289,
   "id": "d04dfa66",
   "metadata": {},
   "outputs": [],
   "source": [
    "email_provider_p[\"domain\"] = email_provider_p['val_MX'].str.rsplit('.',1).str[-1]"
   ]
  },
  {
   "cell_type": "code",
   "execution_count": 290,
   "id": "5b0869e4",
   "metadata": {
    "scrolled": true
   },
   "outputs": [
    {
     "data": {
      "text/html": [
       "<div>\n",
       "<style scoped>\n",
       "    .dataframe tbody tr th:only-of-type {\n",
       "        vertical-align: middle;\n",
       "    }\n",
       "\n",
       "    .dataframe tbody tr th {\n",
       "        vertical-align: top;\n",
       "    }\n",
       "\n",
       "    .dataframe thead th {\n",
       "        text-align: right;\n",
       "    }\n",
       "</style>\n",
       "<table border=\"1\" class=\"dataframe\">\n",
       "  <thead>\n",
       "    <tr style=\"text-align: right;\">\n",
       "      <th></th>\n",
       "      <th>val_MX</th>\n",
       "      <th>count</th>\n",
       "      <th>percent</th>\n",
       "      <th>domain</th>\n",
       "    </tr>\n",
       "  </thead>\n",
       "  <tbody>\n",
       "    <tr>\n",
       "      <th>0</th>\n",
       "      <td>mx1.webhoster.de</td>\n",
       "      <td>2622</td>\n",
       "      <td>0.037184</td>\n",
       "      <td>de</td>\n",
       "    </tr>\n",
       "    <tr>\n",
       "      <th>1</th>\n",
       "      <td>mail.0815club.de</td>\n",
       "      <td>1</td>\n",
       "      <td>0.000014</td>\n",
       "      <td>de</td>\n",
       "    </tr>\n",
       "    <tr>\n",
       "      <th>2</th>\n",
       "      <td>mail.0x40.de</td>\n",
       "      <td>1</td>\n",
       "      <td>0.000014</td>\n",
       "      <td>de</td>\n",
       "    </tr>\n",
       "    <tr>\n",
       "      <th>3</th>\n",
       "      <td>mail.0x777.de</td>\n",
       "      <td>1</td>\n",
       "      <td>0.000014</td>\n",
       "      <td>de</td>\n",
       "    </tr>\n",
       "    <tr>\n",
       "      <th>4</th>\n",
       "      <td>mail.1-vp.de</td>\n",
       "      <td>1</td>\n",
       "      <td>0.000014</td>\n",
       "      <td>de</td>\n",
       "    </tr>\n",
       "  </tbody>\n",
       "</table>\n",
       "</div>"
      ],
      "text/plain": [
       "             val_MX  count   percent domain\n",
       "0  mx1.webhoster.de   2622  0.037184     de\n",
       "1  mail.0815club.de      1  0.000014     de\n",
       "2      mail.0x40.de      1  0.000014     de\n",
       "3     mail.0x777.de      1  0.000014     de\n",
       "4      mail.1-vp.de      1  0.000014     de"
      ]
     },
     "execution_count": 290,
     "metadata": {},
     "output_type": "execute_result"
    }
   ],
   "source": [
    "email_provider_p.head()"
   ]
  },
  {
   "cell_type": "code",
   "execution_count": 296,
   "id": "f74e85c9",
   "metadata": {
    "scrolled": true
   },
   "outputs": [
    {
     "data": {
      "text/html": [
       "<div>\n",
       "<style scoped>\n",
       "    .dataframe tbody tr th:only-of-type {\n",
       "        vertical-align: middle;\n",
       "    }\n",
       "\n",
       "    .dataframe tbody tr th {\n",
       "        vertical-align: top;\n",
       "    }\n",
       "\n",
       "    .dataframe thead th {\n",
       "        text-align: right;\n",
       "    }\n",
       "</style>\n",
       "<table border=\"1\" class=\"dataframe\">\n",
       "  <thead>\n",
       "    <tr style=\"text-align: right;\">\n",
       "      <th></th>\n",
       "      <th>domain</th>\n",
       "      <th>count</th>\n",
       "    </tr>\n",
       "  </thead>\n",
       "  <tbody>\n",
       "    <tr>\n",
       "      <th>0</th>\n",
       "      <td>de</td>\n",
       "      <td>963785</td>\n",
       "    </tr>\n",
       "    <tr>\n",
       "      <th>1</th>\n",
       "      <td>com</td>\n",
       "      <td>331606</td>\n",
       "    </tr>\n",
       "    <tr>\n",
       "      <th>2</th>\n",
       "      <td>net</td>\n",
       "      <td>8168</td>\n",
       "    </tr>\n",
       "    <tr>\n",
       "      <th>3</th>\n",
       "      <td>eu</td>\n",
       "      <td>2471</td>\n",
       "    </tr>\n",
       "    <tr>\n",
       "      <th>4</th>\n",
       "      <td>org</td>\n",
       "      <td>2142</td>\n",
       "    </tr>\n",
       "    <tr>\n",
       "      <th>...</th>\n",
       "      <td>...</td>\n",
       "      <td>...</td>\n",
       "    </tr>\n",
       "    <tr>\n",
       "      <th>715</th>\n",
       "      <td>farm</td>\n",
       "      <td>1</td>\n",
       "    </tr>\n",
       "    <tr>\n",
       "      <th>716</th>\n",
       "      <td>dx</td>\n",
       "      <td>1</td>\n",
       "    </tr>\n",
       "    <tr>\n",
       "      <th>717</th>\n",
       "      <td>center</td>\n",
       "      <td>1</td>\n",
       "    </tr>\n",
       "    <tr>\n",
       "      <th>718</th>\n",
       "      <td>jobs</td>\n",
       "      <td>1</td>\n",
       "    </tr>\n",
       "    <tr>\n",
       "      <th>719</th>\n",
       "      <td></td>\n",
       "      <td>1</td>\n",
       "    </tr>\n",
       "  </tbody>\n",
       "</table>\n",
       "<p>720 rows × 2 columns</p>\n",
       "</div>"
      ],
      "text/plain": [
       "     domain   count\n",
       "0        de  963785\n",
       "1       com  331606\n",
       "2       net    8168\n",
       "3        eu    2471\n",
       "4       org    2142\n",
       "..      ...     ...\n",
       "715    farm       1\n",
       "716      dx       1\n",
       "717  center       1\n",
       "718    jobs       1\n",
       "719               1\n",
       "\n",
       "[720 rows x 2 columns]"
      ]
     },
     "execution_count": 296,
     "metadata": {},
     "output_type": "execute_result"
    }
   ],
   "source": [
    "value_counts=email_provider_p[\"domain\"].value_counts()\n",
    "\n",
    "email_domain_count = pd.DataFrame(value_counts)\n",
    "email_domain_count = email_domain_count.reset_index()\n",
    "email_domain_count.columns = ['domain', 'count'] # change column names\n",
    "email_domain_count"
   ]
  },
  {
   "cell_type": "code",
   "execution_count": 297,
   "id": "f9bb4e6f",
   "metadata": {},
   "outputs": [
    {
     "data": {
      "text/plain": [
       "domain    720\n",
       "count     720\n",
       "dtype: int64"
      ]
     },
     "execution_count": 297,
     "metadata": {},
     "output_type": "execute_result"
    }
   ],
   "source": [
    "email_domain_count.count()"
   ]
  },
  {
   "cell_type": "code",
   "execution_count": 294,
   "id": "2e62f5f6",
   "metadata": {
    "scrolled": false
   },
   "outputs": [
    {
     "data": {
      "text/plain": [
       "Text(0.5, 1.1, 'Häufigkeit der Domains im Datensatz')"
      ]
     },
     "execution_count": 294,
     "metadata": {},
     "output_type": "execute_result"
    },
    {
     "data": {
      "image/png": "[encoded data removed]",
      "text/plain": [
       "<Figure size 432x288 with 1 Axes>"
      ]
     },
     "metadata": {},
     "output_type": "display_data"
    }
   ],
   "source": [
    "g=sns.boxplot(data=email_domain_count,x=\"count\")\n",
    "g.set(xlabel=\"Häufigkeit\")\n",
    "g.set_title(\"Häufigkeit der Domains im Datensatz\", y=1.1)"
   ]
  },
  {
   "cell_type": "markdown",
   "id": "f37b4bcd",
   "metadata": {},
   "source": [
    "* die Domains de und com überwiegen in diesem Datensatz"
   ]
  },
  {
   "cell_type": "code",
   "execution_count": 201,
   "id": "8c3780b5",
   "metadata": {
    "scrolled": true
   },
   "outputs": [
    {
     "data": {
      "text/plain": [
       "domain    504\n",
       "count     504\n",
       "dtype: int64"
      ]
     },
     "execution_count": 201,
     "metadata": {},
     "output_type": "execute_result"
    }
   ],
   "source": [
    "email_domain_count[email_domain_count[\"count\"]>1].count()"
   ]
  },
  {
   "cell_type": "markdown",
   "id": "ea1f256a",
   "metadata": {},
   "source": [
    "* nur 504 von 720 Domains sind häufiger als 1x vorhanden"
   ]
  },
  {
   "cell_type": "code",
   "execution_count": 298,
   "id": "fd2ad0e9",
   "metadata": {},
   "outputs": [
    {
     "data": {
      "text/plain": [
       "Text(0.5, 1.1, 'Top 10 Domains')"
      ]
     },
     "execution_count": 298,
     "metadata": {},
     "output_type": "execute_result"
    },
    {
     "data": {
      "image/png": "[encoded data removed]",
      "text/plain": [
       "<Figure size 432x288 with 1 Axes>"
      ]
     },
     "metadata": {},
     "output_type": "display_data"
    }
   ],
   "source": [
    "g= sns.barplot(data=email_domain_count[:10],x=\"domain\",y=\"count\")\n",
    "g.set(xlabel=\"Domains\",ylabel=\"Häufigkeit\")\n",
    "g.set_title(\"Top 10 Domains\", y=1.1)"
   ]
  }
 ],
 "metadata": {
  "colab": {
   "name": "BDA_2.ipynb",
   "provenance": []
  },
  "kernelspec": {
   "display_name": "Python 3",
   "language": "python",
   "name": "python3"
  },
  "language_info": {
   "codemirror_mode": {
    "name": "ipython",
    "version": 3
   },
   "file_extension": ".py",
   "mimetype": "text/x-python",
   "name": "python",
   "nbconvert_exporter": "python",
   "pygments_lexer": "ipython3",
   "version": "3.9.5"
  }
 },
 "nbformat": 4,
 "nbformat_minor": 5
}
