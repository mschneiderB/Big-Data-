{
 "cells": [
  {
   "cell_type": "code",
   "execution_count": 23,
   "id": "6a56a10d",
   "metadata": {},
   "outputs": [],
   "source": [
    "from pyspark import SparkContext\n",
    "from pyspark.sql import SparkSession\n",
    "from pyspark.sql.types import StructType, StructField, IntegerType, StringType\n",
    "from pyspark.sql.functions import *\n",
    "import pyspark\n",
    "from pyspark.sql.functions import struct\n",
    "from pyspark.sql.functions import monotonically_increasing_id\n",
    "import pyspark.sql.functions as f\n",
    "import re\n",
    "\n",
    "\n",
    "#Starten ohne Spark-Cluster\n",
    "spark = SparkSession.builder.getOrCreate()"
   ]
  },
  {
   "cell_type": "code",
   "execution_count": 24,
   "id": "e497c77c",
   "metadata": {},
   "outputs": [],
   "source": [
    "# Verbindung zu Minio\n",
    "spark.sparkContext.setSystemProperty(\"com.amazonaws.services.s3.enableV4\", \"true\")\n",
    "spark.sparkContext._jsc.hadoopConfiguration().set(\"fs.s3a.access.key\", \"minio\")\n",
    "spark.sparkContext._jsc.hadoopConfiguration().set(\"fs.s3a.secret.key\", \"minio123\")\n",
    "spark.sparkContext._jsc.hadoopConfiguration().set(\"com.amazonaws.services.s3.enableV4\", \"true\")\n",
    "spark.sparkContext._jsc.hadoopConfiguration().set(\"fs.s3a.impl\", \"org.apache.hadoop.fs.s3a.S3AFileSystem\")\n",
    "spark.sparkContext._jsc.hadoopConfiguration().set(\"fs.s3a.path.style.access\", \"true\")\n",
    "spark.sparkContext._jsc.hadoopConfiguration().set(\"fs.s3a.endpoint\", \"http://minio1:9000\")"
   ]
  },
  {
   "cell_type": "code",
   "execution_count": 25,
   "id": "bb54a6d9",
   "metadata": {},
   "outputs": [],
   "source": [
    "schema = StructType([\n",
    "    StructField(\"Top level domain\", StringType(), True),\n",
    "    StructField(\"MX-Record\", StringType(), True),\n",
    "    StructField(\"A-Record\", StringType(), True),\n",
    "    StructField(\"Timestamp\", StringType(), True)])\n",
    "\n",
    "df = spark.read.csv(\"s3a://bucket/real_new.csv\",header=False,sep=\";\",schema=schema)"
   ]
  },
  {
   "cell_type": "markdown",
   "id": "aba89af6",
   "metadata": {},
   "source": [
    "#### Allgemein"
   ]
  },
  {
   "cell_type": "code",
   "execution_count": 26,
   "id": "ad7b28bc",
   "metadata": {
    "scrolled": true
   },
   "outputs": [
    {
     "name": "stdout",
     "output_type": "stream",
     "text": [
      "+----------------+--------------------+--------------------+-------------------+\n",
      "|Top level domain|           MX-Record|            A-Record|          Timestamp|\n",
      "+----------------+--------------------+--------------------+-------------------+\n",
      "|         0--1.de|\"[\"\"mail.0--1.de\"...|\"[\"\"46.38.249.145...|2020-12-13 15:36:05|\n",
      "|         0--2.de|\"[\"\"mxf993.netcup...|\"[\"\"212.227.212.1...|2020-12-13 15:36:05|\n",
      "|    0-0-0-0-0.de|\"[\"\"smtp-02.tld.t...|\"[\"\"80.150.6.143\"\"]\"|2020-12-13 15:36:05|\n",
      "|      0-0-0-1.de|\"[\"\"smtp-02.tld.t...|\"[\"\"80.150.6.143\"\"]\"|2020-12-13 15:36:05|\n",
      "|          0-0.de|                  []|\"[\"\"185.53.178.13...|2020-12-13 15:36:05|\n",
      "+----------------+--------------------+--------------------+-------------------+\n",
      "only showing top 5 rows\n",
      "\n"
     ]
    }
   ],
   "source": [
    "df.show(5)"
   ]
  },
  {
   "cell_type": "markdown",
   "id": "5d78ba19",
   "metadata": {},
   "source": [
    "* Top level domain: Namensserver; das, was Personen sich merken können\n",
    "* Ein MX Resource Record weist einem Namen einen Mailserver zu. Er stellt eine Besonderheit dar, da er sich auf einen speziellen Dienst im Internet, nämlich die E-Mailzustellung mittels SMTP, bezieht. Alle anderen Dienste nutzen CNAME, A und AAAA Resource Records für die Namensauflösung.\n",
    "* Ein A Resource Record weist einem Namen eine IPv4-Adresse zu."
   ]
  },
  {
   "cell_type": "markdown",
   "id": "b7ffdeb2",
   "metadata": {},
   "source": [
    "# Entfernen von Sonderzeichen im Datensatz"
   ]
  },
  {
   "cell_type": "code",
   "execution_count": 28,
   "id": "0ff9e679",
   "metadata": {},
   "outputs": [
    {
     "name": "stdout",
     "output_type": "stream",
     "text": [
      "+----------------+-------------------------------------------------+-----------------------+-------------------+\n",
      "|Top level domain|MX-Record                                        |A-Record               |Timestamp          |\n",
      "+----------------+-------------------------------------------------+-----------------------+-------------------+\n",
      "|0--1.de         |[mail.0--1.de,mxf993.netcup.net]                 |\"[\"\"46.38.249.145\"\"]\"  |2020-12-13 15:36:05|\n",
      "|0--2.de         |[mxf993.netcup.net,mail.0--2.de]                 |\"[\"\"212.227.212.163\"\"]\"|2020-12-13 15:36:05|\n",
      "|0-0-0-0-0.de    |[smtp-02.tld.t-online.de,smtp-01.tld.t-online.de]|\"[\"\"80.150.6.143\"\"]\"   |2020-12-13 15:36:05|\n",
      "+----------------+-------------------------------------------------+-----------------------+-------------------+\n",
      "only showing top 3 rows\n",
      "\n"
     ]
    }
   ],
   "source": [
    "commaRep = udf(lambda x: re.sub('\"','', x))\n",
    "df2=df.withColumn('MX-Record',commaRep('MX-Record'))\n",
    "df2.show(3, False)"
   ]
  },
  {
   "cell_type": "code",
   "execution_count": 52,
   "id": "457d4b44",
   "metadata": {},
   "outputs": [
    {
     "name": "stdout",
     "output_type": "stream",
     "text": [
      "+----------------+------------------------------------------------+-----------------------+-------------------+\n",
      "|Top level domain|MX-Record                                       |A-Record               |Timestamp          |\n",
      "+----------------+------------------------------------------------+-----------------------+-------------------+\n",
      "|0--1.de         |[mail.0--1.de,mxf993.netcup.net                 |\"[\"\"46.38.249.145\"\"]\"  |2020-12-13 15:36:05|\n",
      "|0--2.de         |[mxf993.netcup.net,mail.0--2.de                 |\"[\"\"212.227.212.163\"\"]\"|2020-12-13 15:36:05|\n",
      "|0-0-0-0-0.de    |[smtp-02.tld.t-online.de,smtp-01.tld.t-online.de|\"[\"\"80.150.6.143\"\"]\"   |2020-12-13 15:36:05|\n",
      "+----------------+------------------------------------------------+-----------------------+-------------------+\n",
      "only showing top 3 rows\n",
      "\n"
     ]
    }
   ],
   "source": [
    "commaRep2 = udf(lambda x: re.sub(']','', x))\n",
    "df3=df2.withColumn('MX-Record',commaRep2('MX-Record'))\n",
    "df3.show(3, False)"
   ]
  },
  {
   "cell_type": "code",
   "execution_count": 54,
   "id": "c3ec83bd",
   "metadata": {},
   "outputs": [
    {
     "ename": "PythonException",
     "evalue": "\n  An exception was thrown from the Python worker. Please see the stack trace below.\nTraceback (most recent call last):\n  File \"/usr/local/spark/python/lib/pyspark.zip/pyspark/worker.py\", line 604, in main\n    process()\n  File \"/usr/local/spark/python/lib/pyspark.zip/pyspark/worker.py\", line 596, in process\n    serializer.dump_stream(out_iter, outfile)\n  File \"/usr/local/spark/python/lib/pyspark.zip/pyspark/serializers.py\", line 211, in dump_stream\n    self.serializer.dump_stream(self._batched(iterator), stream)\n  File \"/usr/local/spark/python/lib/pyspark.zip/pyspark/serializers.py\", line 132, in dump_stream\n    for obj in iterator:\n  File \"/usr/local/spark/python/lib/pyspark.zip/pyspark/serializers.py\", line 200, in _batched\n    for item in iterator:\n  File \"/usr/local/spark/python/lib/pyspark.zip/pyspark/worker.py\", line 450, in mapper\n    result = tuple(f(*[a[o] for o in arg_offsets]) for (arg_offsets, f) in udfs)\n  File \"/usr/local/spark/python/lib/pyspark.zip/pyspark/worker.py\", line 450, in <genexpr>\n    result = tuple(f(*[a[o] for o in arg_offsets]) for (arg_offsets, f) in udfs)\n  File \"/usr/local/spark/python/lib/pyspark.zip/pyspark/worker.py\", line 85, in <lambda>\n    return lambda *a: f(*a)\n  File \"/usr/local/spark/python/lib/pyspark.zip/pyspark/util.py\", line 73, in wrapper\n    return f(*args, **kwargs)\n  File \"/usr/local/spark/python/lib/pyspark.zip/pyspark/worker.py\", line 77, in <lambda>\n    return lambda *a: g(f(*a))\n  File \"<ipython-input-54-ae2cb89f9ff1>\", line 1, in <lambda>\n  File \"/opt/conda/lib/python3.9/re.py\", line 210, in sub\n    return _compile(pattern, flags).sub(repl, string, count)\n  File \"/opt/conda/lib/python3.9/re.py\", line 304, in _compile\n    p = sre_compile.compile(pattern, flags)\n  File \"/opt/conda/lib/python3.9/sre_compile.py\", line 764, in compile\n    p = sre_parse.parse(p, flags)\n  File \"/opt/conda/lib/python3.9/sre_parse.py\", line 948, in parse\n    p = _parse_sub(source, state, flags & SRE_FLAG_VERBOSE, 0)\n  File \"/opt/conda/lib/python3.9/sre_parse.py\", line 443, in _parse_sub\n    itemsappend(_parse(source, state, verbose, nested + 1,\n  File \"/opt/conda/lib/python3.9/sre_parse.py\", line 549, in _parse\n    raise source.error(\"unterminated character set\",\nre.error: unterminated character set at position 0\n",
     "output_type": "error",
     "traceback": [
      "\u001b[0;31m---------------------------------------------------------------------------\u001b[0m",
      "\u001b[0;31mPythonException\u001b[0m                           Traceback (most recent call last)",
      "\u001b[0;32m<ipython-input-54-ae2cb89f9ff1>\u001b[0m in \u001b[0;36m<module>\u001b[0;34m\u001b[0m\n\u001b[1;32m      1\u001b[0m \u001b[0mcommaRep3\u001b[0m \u001b[0;34m=\u001b[0m \u001b[0mudf\u001b[0m\u001b[0;34m(\u001b[0m\u001b[0;32mlambda\u001b[0m \u001b[0mx\u001b[0m\u001b[0;34m:\u001b[0m \u001b[0mre\u001b[0m\u001b[0;34m.\u001b[0m\u001b[0msub\u001b[0m\u001b[0;34m(\u001b[0m\u001b[0;34m'['\u001b[0m\u001b[0;34m,\u001b[0m\u001b[0;34m''\u001b[0m\u001b[0;34m,\u001b[0m \u001b[0mx\u001b[0m\u001b[0;34m)\u001b[0m\u001b[0;34m)\u001b[0m\u001b[0;34m\u001b[0m\u001b[0;34m\u001b[0m\u001b[0m\n\u001b[1;32m      2\u001b[0m \u001b[0mdf3\u001b[0m\u001b[0;34m=\u001b[0m\u001b[0mdf2\u001b[0m\u001b[0;34m.\u001b[0m\u001b[0mwithColumn\u001b[0m\u001b[0;34m(\u001b[0m\u001b[0;34m'MX-Record'\u001b[0m\u001b[0;34m,\u001b[0m\u001b[0mcommaRep3\u001b[0m\u001b[0;34m(\u001b[0m\u001b[0;34m'MX-Record'\u001b[0m\u001b[0;34m)\u001b[0m\u001b[0;34m)\u001b[0m\u001b[0;34m\u001b[0m\u001b[0;34m\u001b[0m\u001b[0m\n\u001b[0;32m----> 3\u001b[0;31m \u001b[0mdf3\u001b[0m\u001b[0;34m.\u001b[0m\u001b[0mshow\u001b[0m\u001b[0;34m(\u001b[0m\u001b[0;36m3\u001b[0m\u001b[0;34m,\u001b[0m \u001b[0;32mFalse\u001b[0m\u001b[0;34m)\u001b[0m\u001b[0;34m\u001b[0m\u001b[0;34m\u001b[0m\u001b[0m\n\u001b[0m",
      "\u001b[0;32m/usr/local/spark/python/pyspark/sql/dataframe.py\u001b[0m in \u001b[0;36mshow\u001b[0;34m(self, n, truncate, vertical)\u001b[0m\n\u001b[1;32m    484\u001b[0m             \u001b[0mprint\u001b[0m\u001b[0;34m(\u001b[0m\u001b[0mself\u001b[0m\u001b[0;34m.\u001b[0m\u001b[0m_jdf\u001b[0m\u001b[0;34m.\u001b[0m\u001b[0mshowString\u001b[0m\u001b[0;34m(\u001b[0m\u001b[0mn\u001b[0m\u001b[0;34m,\u001b[0m \u001b[0;36m20\u001b[0m\u001b[0;34m,\u001b[0m \u001b[0mvertical\u001b[0m\u001b[0;34m)\u001b[0m\u001b[0;34m)\u001b[0m\u001b[0;34m\u001b[0m\u001b[0;34m\u001b[0m\u001b[0m\n\u001b[1;32m    485\u001b[0m         \u001b[0;32melse\u001b[0m\u001b[0;34m:\u001b[0m\u001b[0;34m\u001b[0m\u001b[0;34m\u001b[0m\u001b[0m\n\u001b[0;32m--> 486\u001b[0;31m             \u001b[0mprint\u001b[0m\u001b[0;34m(\u001b[0m\u001b[0mself\u001b[0m\u001b[0;34m.\u001b[0m\u001b[0m_jdf\u001b[0m\u001b[0;34m.\u001b[0m\u001b[0mshowString\u001b[0m\u001b[0;34m(\u001b[0m\u001b[0mn\u001b[0m\u001b[0;34m,\u001b[0m \u001b[0mint\u001b[0m\u001b[0;34m(\u001b[0m\u001b[0mtruncate\u001b[0m\u001b[0;34m)\u001b[0m\u001b[0;34m,\u001b[0m \u001b[0mvertical\u001b[0m\u001b[0;34m)\u001b[0m\u001b[0;34m)\u001b[0m\u001b[0;34m\u001b[0m\u001b[0;34m\u001b[0m\u001b[0m\n\u001b[0m\u001b[1;32m    487\u001b[0m \u001b[0;34m\u001b[0m\u001b[0m\n\u001b[1;32m    488\u001b[0m     \u001b[0;32mdef\u001b[0m \u001b[0m__repr__\u001b[0m\u001b[0;34m(\u001b[0m\u001b[0mself\u001b[0m\u001b[0;34m)\u001b[0m\u001b[0;34m:\u001b[0m\u001b[0;34m\u001b[0m\u001b[0;34m\u001b[0m\u001b[0m\n",
      "\u001b[0;32m/usr/local/spark/python/lib/py4j-0.10.9-src.zip/py4j/java_gateway.py\u001b[0m in \u001b[0;36m__call__\u001b[0;34m(self, *args)\u001b[0m\n\u001b[1;32m   1302\u001b[0m \u001b[0;34m\u001b[0m\u001b[0m\n\u001b[1;32m   1303\u001b[0m         \u001b[0manswer\u001b[0m \u001b[0;34m=\u001b[0m \u001b[0mself\u001b[0m\u001b[0;34m.\u001b[0m\u001b[0mgateway_client\u001b[0m\u001b[0;34m.\u001b[0m\u001b[0msend_command\u001b[0m\u001b[0;34m(\u001b[0m\u001b[0mcommand\u001b[0m\u001b[0;34m)\u001b[0m\u001b[0;34m\u001b[0m\u001b[0;34m\u001b[0m\u001b[0m\n\u001b[0;32m-> 1304\u001b[0;31m         return_value = get_return_value(\n\u001b[0m\u001b[1;32m   1305\u001b[0m             answer, self.gateway_client, self.target_id, self.name)\n\u001b[1;32m   1306\u001b[0m \u001b[0;34m\u001b[0m\u001b[0m\n",
      "\u001b[0;32m/usr/local/spark/python/pyspark/sql/utils.py\u001b[0m in \u001b[0;36mdeco\u001b[0;34m(*a, **kw)\u001b[0m\n\u001b[1;32m    115\u001b[0m                 \u001b[0;31m# Hide where the exception came from that shows a non-Pythonic\u001b[0m\u001b[0;34m\u001b[0m\u001b[0;34m\u001b[0m\u001b[0;34m\u001b[0m\u001b[0m\n\u001b[1;32m    116\u001b[0m                 \u001b[0;31m# JVM exception message.\u001b[0m\u001b[0;34m\u001b[0m\u001b[0;34m\u001b[0m\u001b[0;34m\u001b[0m\u001b[0m\n\u001b[0;32m--> 117\u001b[0;31m                 \u001b[0;32mraise\u001b[0m \u001b[0mconverted\u001b[0m \u001b[0;32mfrom\u001b[0m \u001b[0;32mNone\u001b[0m\u001b[0;34m\u001b[0m\u001b[0;34m\u001b[0m\u001b[0m\n\u001b[0m\u001b[1;32m    118\u001b[0m             \u001b[0;32melse\u001b[0m\u001b[0;34m:\u001b[0m\u001b[0;34m\u001b[0m\u001b[0;34m\u001b[0m\u001b[0m\n\u001b[1;32m    119\u001b[0m                 \u001b[0;32mraise\u001b[0m\u001b[0;34m\u001b[0m\u001b[0;34m\u001b[0m\u001b[0m\n",
      "\u001b[0;31mPythonException\u001b[0m: \n  An exception was thrown from the Python worker. Please see the stack trace below.\nTraceback (most recent call last):\n  File \"/usr/local/spark/python/lib/pyspark.zip/pyspark/worker.py\", line 604, in main\n    process()\n  File \"/usr/local/spark/python/lib/pyspark.zip/pyspark/worker.py\", line 596, in process\n    serializer.dump_stream(out_iter, outfile)\n  File \"/usr/local/spark/python/lib/pyspark.zip/pyspark/serializers.py\", line 211, in dump_stream\n    self.serializer.dump_stream(self._batched(iterator), stream)\n  File \"/usr/local/spark/python/lib/pyspark.zip/pyspark/serializers.py\", line 132, in dump_stream\n    for obj in iterator:\n  File \"/usr/local/spark/python/lib/pyspark.zip/pyspark/serializers.py\", line 200, in _batched\n    for item in iterator:\n  File \"/usr/local/spark/python/lib/pyspark.zip/pyspark/worker.py\", line 450, in mapper\n    result = tuple(f(*[a[o] for o in arg_offsets]) for (arg_offsets, f) in udfs)\n  File \"/usr/local/spark/python/lib/pyspark.zip/pyspark/worker.py\", line 450, in <genexpr>\n    result = tuple(f(*[a[o] for o in arg_offsets]) for (arg_offsets, f) in udfs)\n  File \"/usr/local/spark/python/lib/pyspark.zip/pyspark/worker.py\", line 85, in <lambda>\n    return lambda *a: f(*a)\n  File \"/usr/local/spark/python/lib/pyspark.zip/pyspark/util.py\", line 73, in wrapper\n    return f(*args, **kwargs)\n  File \"/usr/local/spark/python/lib/pyspark.zip/pyspark/worker.py\", line 77, in <lambda>\n    return lambda *a: g(f(*a))\n  File \"<ipython-input-54-ae2cb89f9ff1>\", line 1, in <lambda>\n  File \"/opt/conda/lib/python3.9/re.py\", line 210, in sub\n    return _compile(pattern, flags).sub(repl, string, count)\n  File \"/opt/conda/lib/python3.9/re.py\", line 304, in _compile\n    p = sre_compile.compile(pattern, flags)\n  File \"/opt/conda/lib/python3.9/sre_compile.py\", line 764, in compile\n    p = sre_parse.parse(p, flags)\n  File \"/opt/conda/lib/python3.9/sre_parse.py\", line 948, in parse\n    p = _parse_sub(source, state, flags & SRE_FLAG_VERBOSE, 0)\n  File \"/opt/conda/lib/python3.9/sre_parse.py\", line 443, in _parse_sub\n    itemsappend(_parse(source, state, verbose, nested + 1,\n  File \"/opt/conda/lib/python3.9/sre_parse.py\", line 549, in _parse\n    raise source.error(\"unterminated character set\",\nre.error: unterminated character set at position 0\n"
     ]
    }
   ],
   "source": [
    "#Entfernen von [ wirft noch Fehler\n",
    "\n",
    "# commaRep3 = udf(lambda x: re.sub('[','', x))\n",
    "# df3=df2.withColumn('MX-Record',commaRep3('MX-Record'))\n",
    "# df3.show(3, False)"
   ]
  },
  {
   "cell_type": "code",
   "execution_count": 59,
   "id": "6572440b",
   "metadata": {},
   "outputs": [
    {
     "name": "stdout",
     "output_type": "stream",
     "text": [
      "+----------------+-----------------------------------------------------------+-----------------+-------------------+---+\n",
      "|Top level domain|MX-Record                                                  |A-Record         |Timestamp          |id |\n",
      "+----------------+-----------------------------------------------------------+-----------------+-------------------+---+\n",
      "|0--1.de         |\"[\"\"mail.0--1.de\"\",\"\"mxf993.netcup.net\"\"]\"                 |[46.38.249.145]  |2020-12-13 15:36:05|0  |\n",
      "|0--2.de         |\"[\"\"mxf993.netcup.net\"\",\"\"mail.0--2.de\"\"]\"                 |[212.227.212.163]|2020-12-13 15:36:05|1  |\n",
      "|0-0-0-0-0.de    |\"[\"\"smtp-02.tld.t-online.de\"\",\"\"smtp-01.tld.t-online.de\"\"]\"|[80.150.6.143]   |2020-12-13 15:36:05|2  |\n",
      "+----------------+-----------------------------------------------------------+-----------------+-------------------+---+\n",
      "only showing top 3 rows\n",
      "\n"
     ]
    }
   ],
   "source": [
    "#Entfernen von Symbolen in A-Record wirft noch Fehler\n",
    "\n",
    "\n",
    "\n",
    "commaRep4 = udf(lambda x: re.sub('\"','', x))\n",
    "df5=df.withColumn('A-Record',commaRep4('A-Record'))\n",
    "df5.show(3, False)"
   ]
  },
  {
   "cell_type": "markdown",
   "id": "c9aae680",
   "metadata": {},
   "source": [
    "# Splitten der Spalten in A-Record"
   ]
  },
  {
   "cell_type": "code",
   "execution_count": 73,
   "id": "d8e66d84",
   "metadata": {},
   "outputs": [],
   "source": [
    "split_cols = pyspark.sql.functions.split(df['A-Record'], ',')\n"
   ]
  },
  {
   "cell_type": "code",
   "execution_count": 74,
   "id": "63901682",
   "metadata": {},
   "outputs": [
    {
     "name": "stdout",
     "output_type": "stream",
     "text": [
      "+-------------------+--------------------+--------------------+-------------------+---+--------------------+---------+---------+---------+---------+---------+---------+\n",
      "|   Top level domain|           MX-Record|            A-Record|          Timestamp| id|           a-record1|a-record2|a-record3|a-record4|a-record5|a-record6|a-record7|\n",
      "+-------------------+--------------------+--------------------+-------------------+---+--------------------+---------+---------+---------+---------+---------+---------+\n",
      "|            0--1.de|\"[\"\"mail.0--1.de\"...|\"[\"\"46.38.249.145...|2020-12-13 15:36:05|  0|\"[\"\"46.38.249.145...|     null|     null|     null|     null|     null|     null|\n",
      "|            0--2.de|\"[\"\"mxf993.netcup...|\"[\"\"212.227.212.1...|2020-12-13 15:36:05|  1|\"[\"\"212.227.212.1...|     null|     null|     null|     null|     null|     null|\n",
      "|       0-0-0-0-0.de|\"[\"\"smtp-02.tld.t...|\"[\"\"80.150.6.143\"\"]\"|2020-12-13 15:36:05|  2|\"[\"\"80.150.6.143\"\"]\"|     null|     null|     null|     null|     null|     null|\n",
      "|         0-0-0-1.de|\"[\"\"smtp-02.tld.t...|\"[\"\"80.150.6.143\"\"]\"|2020-12-13 15:36:05|  3|\"[\"\"80.150.6.143\"\"]\"|     null|     null|     null|     null|     null|     null|\n",
      "|             0-0.de|                  []|\"[\"\"185.53.178.13...|2020-12-13 15:36:05|  4|\"[\"\"185.53.178.13...|     null|     null|     null|     null|     null|     null|\n",
      "|            0-01.de|\"[\"\"mail.0-01.de\"\"]\"|\"[\"\"193.34.145.20...|2020-12-13 15:36:05|  5|\"[\"\"193.34.145.20...|     null|     null|     null|     null|     null|     null|\n",
      "|             0-1.de|   \"[\"\"localhost\"\"]\"|\"[\"\"91.195.241.13...|2020-12-13 15:36:05|  6|\"[\"\"91.195.241.13...|     null|     null|     null|     null|     null|     null|\n",
      "|            0-10.de|                  []|                  []|2020-12-13 15:36:05|  7|                  []|     null|     null|     null|     null|     null|     null|\n",
      "|          0-1000.de|   \"[\"\"localhost\"\"]\"|\"[\"\"91.195.241.13...|2020-12-13 15:36:06|  8|\"[\"\"91.195.241.13...|     null|     null|     null|     null|     null|     null|\n",
      "|        0-100kmh.de|\"[\"\"smtpin.rzone....|\"[\"\"81.169.145.95...|2020-12-13 15:36:06|  9|\"[\"\"81.169.145.95...|     null|     null|     null|     null|     null|     null|\n",
      "|            0-12.de|   \"[\"\"localhost\"\"]\"|\"[\"\"91.195.241.13...|2020-12-13 15:36:06| 10|\"[\"\"91.195.241.13...|     null|     null|     null|     null|     null|     null|\n",
      "|            0-17.de|   \"[\"\"localhost\"\"]\"|\"[\"\"91.195.241.13...|2020-12-13 15:36:06| 11|\"[\"\"91.195.241.13...|     null|     null|     null|     null|     null|     null|\n",
      "|             0-2.de|   \"[\"\"localhost\"\"]\"|   \"[\"\"127.0.0.1\"\"]\"|2020-12-13 15:36:07| 12|   \"[\"\"127.0.0.1\"\"]\"|     null|     null|     null|     null|     null|     null|\n",
      "|      0-24domain.de|\"[\"\"pmx.bestcpane...|\"[\"\"194.38.104.22...|2020-12-13 15:36:07| 13|\"[\"\"194.38.104.22...|     null|     null|     null|     null|     null|     null|\n",
      "|           0-24h.de|\"[\"\"mxlb.ispgatew...|\"[\"\"134.209.177.2...|2020-12-13 15:36:07| 14|\"[\"\"134.209.177.2...|     null|     null|     null|     null|     null|     null|\n",
      "|     0-24leasing.de|                  []|                  []|2020-12-13 15:36:07| 15|                  []|     null|     null|     null|     null|     null|     null|\n",
      "|0-24versicherung.de|                  []|                  []|2020-12-13 15:36:07| 16|                  []|     null|     null|     null|     null|     null|     null|\n",
      "|        0-263475.de|                  []|\"[\"\"176.9.76.101\"\"]\"|2020-12-13 15:36:07| 17|\"[\"\"176.9.76.101\"\"]\"|     null|     null|     null|     null|     null|     null|\n",
      "|           0-3-0.de|                  []|                  []|2020-12-13 15:36:07| 18|                  []|     null|     null|     null|     null|     null|     null|\n",
      "|             0-3.de|\"[\"\"teller.ggeg.e...|\"[\"\"185.163.116.2...|2020-12-13 15:36:07| 19|\"[\"\"185.163.116.2...|     null|     null|     null|     null|     null|     null|\n",
      "+-------------------+--------------------+--------------------+-------------------+---+--------------------+---------+---------+---------+---------+---------+---------+\n",
      "only showing top 20 rows\n",
      "\n"
     ]
    }
   ],
   "source": [
    "df10 = df.withColumn('a-record1', split_cols.getItem(0)) \\\n",
    "    .withColumn('a-record2', split_cols.getItem(1)) \\\n",
    "    .withColumn('a-record3', split_cols.getItem(2)) \\\n",
    "    .withColumn('a-record4', split_cols.getItem(3)) \\\n",
    "    .withColumn('a-record5', split_cols.getItem(4)) \\\n",
    "    .withColumn('a-record6', split_cols.getItem(5)) \\\n",
    "    .withColumn('a-record7', split_cols.getItem(6))\n",
    "\n",
    "df10.show(20)"
   ]
  },
  {
   "cell_type": "code",
   "execution_count": 75,
   "id": "0ab8c6fa",
   "metadata": {},
   "outputs": [
    {
     "name": "stdout",
     "output_type": "stream",
     "text": [
      "+--------------------+\n",
      "|           a-record3|\n",
      "+--------------------+\n",
      "|                null|\n",
      "|                null|\n",
      "|                null|\n",
      "|                null|\n",
      "|                null|\n",
      "|                null|\n",
      "|                null|\n",
      "|                null|\n",
      "|                null|\n",
      "|                null|\n",
      "|                null|\n",
      "|                null|\n",
      "|                null|\n",
      "|                null|\n",
      "|                null|\n",
      "|                null|\n",
      "|                null|\n",
      "|                null|\n",
      "|                null|\n",
      "|                null|\n",
      "|                null|\n",
      "|                null|\n",
      "|                null|\n",
      "|                null|\n",
      "|                null|\n",
      "|                null|\n",
      "| \"\"172.67.208.86\"\"]\"|\n",
      "|                null|\n",
      "|                null|\n",
      "|                null|\n",
      "|                null|\n",
      "|                null|\n",
      "|                null|\n",
      "|                null|\n",
      "|                null|\n",
      "|                null|\n",
      "|                null|\n",
      "| \"\"172.67.143.97\"\"]\"|\n",
      "|\"\"185.230.63.186\"\"]\"|\n",
      "|                null|\n",
      "|                null|\n",
      "|                null|\n",
      "|                null|\n",
      "|                null|\n",
      "|                null|\n",
      "|                null|\n",
      "|                null|\n",
      "|                null|\n",
      "|                null|\n",
      "|                null|\n",
      "|                null|\n",
      "|                null|\n",
      "|                null|\n",
      "|                null|\n",
      "|                null|\n",
      "|                null|\n",
      "|                null|\n",
      "|                null|\n",
      "|                null|\n",
      "|                null|\n",
      "|                null|\n",
      "|                null|\n",
      "|                null|\n",
      "|                null|\n",
      "|                null|\n",
      "|                null|\n",
      "|                null|\n",
      "|                null|\n",
      "|                null|\n",
      "|                null|\n",
      "|                null|\n",
      "|                null|\n",
      "|                null|\n",
      "|                null|\n",
      "|                null|\n",
      "|                null|\n",
      "|                null|\n",
      "|                null|\n",
      "|                null|\n",
      "| \"\"104.28.23.167\"\"]\"|\n",
      "|                null|\n",
      "|                null|\n",
      "|                null|\n",
      "|                null|\n",
      "|                null|\n",
      "|                null|\n",
      "|                null|\n",
      "|                null|\n",
      "|                null|\n",
      "|                null|\n",
      "|                null|\n",
      "|                null|\n",
      "|                null|\n",
      "|                null|\n",
      "|                null|\n",
      "|                null|\n",
      "|                null|\n",
      "|\"\"172.67.209.114\"\"]\"|\n",
      "|                null|\n",
      "|                null|\n",
      "|                null|\n",
      "|                null|\n",
      "|                null|\n",
      "|                null|\n",
      "| \"\"104.24.106.79\"\"]\"|\n",
      "|                null|\n",
      "|                null|\n",
      "|                null|\n",
      "|                null|\n",
      "|                null|\n",
      "|                null|\n",
      "|                null|\n",
      "|                null|\n",
      "|                null|\n",
      "|                null|\n",
      "|                null|\n",
      "|                null|\n",
      "|                null|\n",
      "|                null|\n",
      "|                null|\n",
      "|                null|\n",
      "|                null|\n",
      "|                null|\n",
      "|                null|\n",
      "|                null|\n",
      "|                null|\n",
      "|                null|\n",
      "|                null|\n",
      "|                null|\n",
      "|                null|\n",
      "|                null|\n",
      "|                null|\n",
      "|                null|\n",
      "|                null|\n",
      "|                null|\n",
      "|                null|\n",
      "|                null|\n",
      "|                null|\n",
      "|                null|\n",
      "|                null|\n",
      "|                null|\n",
      "|                null|\n",
      "|                null|\n",
      "|                null|\n",
      "|                null|\n",
      "|                null|\n",
      "|                null|\n",
      "|                null|\n",
      "| \"\"104.18.39.180\"\"]\"|\n",
      "|                null|\n",
      "|                null|\n",
      "|                null|\n",
      "|                null|\n",
      "|                null|\n",
      "|                null|\n",
      "|                null|\n",
      "|                null|\n",
      "|                null|\n",
      "|                null|\n",
      "|                null|\n",
      "|                null|\n",
      "|                null|\n",
      "|                null|\n",
      "|                null|\n",
      "|                null|\n",
      "|                null|\n",
      "|                null|\n",
      "|                null|\n",
      "|                null|\n",
      "|                null|\n",
      "|                null|\n",
      "|                null|\n",
      "|                null|\n",
      "|                null|\n",
      "|                null|\n",
      "|                null|\n",
      "|                null|\n",
      "|                null|\n",
      "|                null|\n",
      "|                null|\n",
      "|                null|\n",
      "|                null|\n",
      "|                null|\n",
      "|                null|\n",
      "|                null|\n",
      "|                null|\n",
      "|                null|\n",
      "|                null|\n",
      "|                null|\n",
      "|                null|\n",
      "|                null|\n",
      "|                null|\n",
      "|                null|\n",
      "|                null|\n",
      "|                null|\n",
      "|                null|\n",
      "|                null|\n",
      "|                null|\n",
      "|                null|\n",
      "|\"\"172.67.142.143\"\"]\"|\n",
      "+--------------------+\n",
      "only showing top 200 rows\n",
      "\n"
     ]
    }
   ],
   "source": [
    "#checking ob es bis zu 3 a-records gibt? Ja\n",
    "df10.select('a-record3').show(200)"
   ]
  },
  {
   "cell_type": "code",
   "execution_count": 78,
   "id": "35a221ad",
   "metadata": {},
   "outputs": [
    {
     "name": "stdout",
     "output_type": "stream",
     "text": [
      "+---------+\n",
      "|a-record4|\n",
      "+---------+\n",
      "|     null|\n",
      "|     null|\n",
      "|     null|\n",
      "|     null|\n",
      "|     null|\n",
      "|     null|\n",
      "|     null|\n",
      "|     null|\n",
      "|     null|\n",
      "|     null|\n",
      "|     null|\n",
      "|     null|\n",
      "|     null|\n",
      "|     null|\n",
      "|     null|\n",
      "|     null|\n",
      "|     null|\n",
      "|     null|\n",
      "|     null|\n",
      "|     null|\n",
      "|     null|\n",
      "|     null|\n",
      "|     null|\n",
      "|     null|\n",
      "|     null|\n",
      "|     null|\n",
      "|     null|\n",
      "|     null|\n",
      "|     null|\n",
      "|     null|\n",
      "|     null|\n",
      "|     null|\n",
      "|     null|\n",
      "|     null|\n",
      "|     null|\n",
      "|     null|\n",
      "|     null|\n",
      "|     null|\n",
      "|     null|\n",
      "|     null|\n",
      "|     null|\n",
      "|     null|\n",
      "|     null|\n",
      "|     null|\n",
      "|     null|\n",
      "|     null|\n",
      "|     null|\n",
      "|     null|\n",
      "|     null|\n",
      "|     null|\n",
      "|     null|\n",
      "|     null|\n",
      "|     null|\n",
      "|     null|\n",
      "|     null|\n",
      "|     null|\n",
      "|     null|\n",
      "|     null|\n",
      "|     null|\n",
      "|     null|\n",
      "|     null|\n",
      "|     null|\n",
      "|     null|\n",
      "|     null|\n",
      "|     null|\n",
      "|     null|\n",
      "|     null|\n",
      "|     null|\n",
      "|     null|\n",
      "|     null|\n",
      "|     null|\n",
      "|     null|\n",
      "|     null|\n",
      "|     null|\n",
      "|     null|\n",
      "|     null|\n",
      "|     null|\n",
      "|     null|\n",
      "|     null|\n",
      "|     null|\n",
      "|     null|\n",
      "|     null|\n",
      "|     null|\n",
      "|     null|\n",
      "|     null|\n",
      "|     null|\n",
      "|     null|\n",
      "|     null|\n",
      "|     null|\n",
      "|     null|\n",
      "|     null|\n",
      "|     null|\n",
      "|     null|\n",
      "|     null|\n",
      "|     null|\n",
      "|     null|\n",
      "|     null|\n",
      "|     null|\n",
      "|     null|\n",
      "|     null|\n",
      "|     null|\n",
      "|     null|\n",
      "|     null|\n",
      "|     null|\n",
      "|     null|\n",
      "|     null|\n",
      "|     null|\n",
      "|     null|\n",
      "|     null|\n",
      "|     null|\n",
      "|     null|\n",
      "|     null|\n",
      "|     null|\n",
      "|     null|\n",
      "|     null|\n",
      "|     null|\n",
      "|     null|\n",
      "|     null|\n",
      "|     null|\n",
      "|     null|\n",
      "|     null|\n",
      "|     null|\n",
      "|     null|\n",
      "|     null|\n",
      "|     null|\n",
      "|     null|\n",
      "|     null|\n",
      "|     null|\n",
      "|     null|\n",
      "|     null|\n",
      "|     null|\n",
      "|     null|\n",
      "|     null|\n",
      "|     null|\n",
      "|     null|\n",
      "|     null|\n",
      "|     null|\n",
      "|     null|\n",
      "|     null|\n",
      "|     null|\n",
      "|     null|\n",
      "|     null|\n",
      "|     null|\n",
      "|     null|\n",
      "|     null|\n",
      "|     null|\n",
      "|     null|\n",
      "|     null|\n",
      "|     null|\n",
      "|     null|\n",
      "|     null|\n",
      "|     null|\n",
      "|     null|\n",
      "|     null|\n",
      "|     null|\n",
      "|     null|\n",
      "|     null|\n",
      "|     null|\n",
      "|     null|\n",
      "|     null|\n",
      "|     null|\n",
      "|     null|\n",
      "|     null|\n",
      "|     null|\n",
      "|     null|\n",
      "|     null|\n",
      "|     null|\n",
      "|     null|\n",
      "|     null|\n",
      "|     null|\n",
      "|     null|\n",
      "|     null|\n",
      "|     null|\n",
      "|     null|\n",
      "|     null|\n",
      "|     null|\n",
      "|     null|\n",
      "|     null|\n",
      "|     null|\n",
      "|     null|\n",
      "|     null|\n",
      "|     null|\n",
      "|     null|\n",
      "|     null|\n",
      "|     null|\n",
      "|     null|\n",
      "|     null|\n",
      "|     null|\n",
      "|     null|\n",
      "|     null|\n",
      "|     null|\n",
      "|     null|\n",
      "|     null|\n",
      "|     null|\n",
      "|     null|\n",
      "|     null|\n",
      "|     null|\n",
      "|     null|\n",
      "|     null|\n",
      "|     null|\n",
      "+---------+\n",
      "only showing top 200 rows\n",
      "\n"
     ]
    }
   ],
   "source": [
    "#checking ob es bis zu 4 a.records gibt? In den ersten 200 Reihen nein.\n",
    "df10.select('a-record4').show(200)"
   ]
  },
  {
   "cell_type": "code",
   "execution_count": 61,
   "id": "4c5042f2",
   "metadata": {},
   "outputs": [
    {
     "ename": "SyntaxError",
     "evalue": "closing parenthesis ']' does not match opening parenthesis '(' (<ipython-input-61-1e3dd3d54b59>, line 3)",
     "output_type": "error",
     "traceback": [
      "\u001b[0;36m  File \u001b[0;32m\"<ipython-input-61-1e3dd3d54b59>\"\u001b[0;36m, line \u001b[0;32m3\u001b[0m\n\u001b[0;31m    df.filter(df[\"A-Record\"]==\"\"]\"\").count()\u001b[0m\n\u001b[0m                                ^\u001b[0m\n\u001b[0;31mSyntaxError\u001b[0m\u001b[0;31m:\u001b[0m closing parenthesis ']' does not match opening parenthesis '('\n"
     ]
    }
   ],
   "source": [
    "# Wie viele IPs max. in der Spalte A-Record?\n",
    "#tobedone\n",
    "\n"
   ]
  },
  {
   "cell_type": "markdown",
   "id": "28e42b57",
   "metadata": {},
   "source": [
    "# Splitten der Spalten in MX-Record"
   ]
  },
  {
   "cell_type": "code",
   "execution_count": 58,
   "id": "0be456ee",
   "metadata": {},
   "outputs": [
    {
     "name": "stdout",
     "output_type": "stream",
     "text": [
      "+----------------+-----------------------------------------------------------+-----------------------+-------------------+---+---------------------------+---------------------------+----------+\n",
      "|Top level domain|MX-Record                                                  |A-Record               |Timestamp          |id |mx-record1                 |mx-record2                 |mx-record3|\n",
      "+----------------+-----------------------------------------------------------+-----------------------+-------------------+---+---------------------------+---------------------------+----------+\n",
      "|0--1.de         |\"[\"\"mail.0--1.de\"\",\"\"mxf993.netcup.net\"\"]\"                 |\"[\"\"46.38.249.145\"\"]\"  |2020-12-13 15:36:05|0  |\"[\"\"mail.0--1.de           |mxf993.netcup.net\"\"]\"      |null      |\n",
      "|0--2.de         |\"[\"\"mxf993.netcup.net\"\",\"\"mail.0--2.de\"\"]\"                 |\"[\"\"212.227.212.163\"\"]\"|2020-12-13 15:36:05|1  |\"[\"\"mxf993.netcup.net      |mail.0--2.de\"\"]\"           |null      |\n",
      "|0-0-0-0-0.de    |\"[\"\"smtp-02.tld.t-online.de\"\",\"\"smtp-01.tld.t-online.de\"\"]\"|\"[\"\"80.150.6.143\"\"]\"   |2020-12-13 15:36:05|2  |\"[\"\"smtp-02.tld.t-online.de|smtp-01.tld.t-online.de\"\"]\"|null      |\n",
      "+----------------+-----------------------------------------------------------+-----------------------+-------------------+---+---------------------------+---------------------------+----------+\n",
      "only showing top 3 rows\n",
      "\n"
     ]
    }
   ],
   "source": [
    "split_cols = pyspark.sql.functions.split(df['MX-Record'], '\"\",\"\"')\n",
    "df11 = df.withColumn('mx-record1', split_cols.getItem(0)) \\\n",
    "    .withColumn('mx-record2', split_cols.getItem(1)) \\\n",
    "    .withColumn('mx-record3', split_cols.getItem(2))\n",
    "df11.show(3, False)"
   ]
  },
  {
   "cell_type": "code",
   "execution_count": 34,
   "id": "d01a10b3",
   "metadata": {},
   "outputs": [],
   "source": [
    "df= df.withColumn(\"id\", monotonically_increasing_id())"
   ]
  },
  {
   "cell_type": "code",
   "execution_count": 6,
   "id": "21821b43",
   "metadata": {},
   "outputs": [],
   "source": [
    "df=df.select(\"Top level domain\",\"MX-Record from the name server\",\"A-Record of the specific domain\")"
   ]
  },
  {
   "cell_type": "markdown",
   "id": "a71636c6",
   "metadata": {},
   "source": [
    "* die Spalte Timestamp wird nicht benötigt"
   ]
  },
  {
   "cell_type": "code",
   "execution_count": 7,
   "id": "c051290c",
   "metadata": {
    "scrolled": true
   },
   "outputs": [
    {
     "data": {
      "text/plain": [
       "pyspark.sql.dataframe.DataFrame"
      ]
     },
     "execution_count": 7,
     "metadata": {},
     "output_type": "execute_result"
    }
   ],
   "source": [
    "type(df)"
   ]
  },
  {
   "cell_type": "code",
   "execution_count": 8,
   "id": "7e5824cf",
   "metadata": {},
   "outputs": [
    {
     "data": {
      "text/plain": [
       "4860885"
      ]
     },
     "execution_count": 8,
     "metadata": {},
     "output_type": "execute_result"
    }
   ],
   "source": [
    "df.count()"
   ]
  },
  {
   "cell_type": "code",
   "execution_count": 9,
   "id": "453ad177",
   "metadata": {},
   "outputs": [
    {
     "name": "stdout",
     "output_type": "stream",
     "text": [
      "root\n",
      " |-- Top level domain: string (nullable = true)\n",
      " |-- MX-Record from the name server: string (nullable = true)\n",
      " |-- A-Record of the specific domain: string (nullable = true)\n",
      "\n"
     ]
    }
   ],
   "source": [
    "df.printSchema()"
   ]
  },
  {
   "cell_type": "markdown",
   "id": "ab494b0e",
   "metadata": {},
   "source": [
    "#### Top Level Domain"
   ]
  },
  {
   "cell_type": "code",
   "execution_count": 10,
   "id": "2eb3caa8",
   "metadata": {
    "scrolled": true
   },
   "outputs": [
    {
     "data": {
      "text/plain": [
       "0"
      ]
     },
     "execution_count": 10,
     "metadata": {},
     "output_type": "execute_result"
    }
   ],
   "source": [
    "df.filter(df[\"Top level domain\"]==\"null\").count()"
   ]
  },
  {
   "cell_type": "markdown",
   "id": "a048c65a",
   "metadata": {},
   "source": [
    "* keine Null Values"
   ]
  },
  {
   "cell_type": "code",
   "execution_count": 11,
   "id": "6203e85e",
   "metadata": {},
   "outputs": [
    {
     "name": "stdout",
     "output_type": "stream",
     "text": [
      "+----------------+-----+\n",
      "|Top level domain|count|\n",
      "+----------------+-----+\n",
      "|     007kaess.de|    1|\n",
      "|        01307.de|    1|\n",
      "|        01800.de|    1|\n",
      "|     030pizza.de|    1|\n",
      "|        04179.de|    1|\n",
      "+----------------+-----+\n",
      "only showing top 5 rows\n",
      "\n"
     ]
    }
   ],
   "source": [
    "dfTCount=df.groupBy(\"Top level domain\").count()\n",
    "dfTCount.orderBy(col(\"count\").desc()).show(5)"
   ]
  },
  {
   "cell_type": "markdown",
   "id": "82f8677c",
   "metadata": {},
   "source": [
    "* es gibt keine doppelte TLD"
   ]
  },
  {
   "cell_type": "markdown",
   "id": "a7c40dad",
   "metadata": {},
   "source": [
    "#### MX Records"
   ]
  },
  {
   "cell_type": "code",
   "execution_count": 12,
   "id": "3896d76d",
   "metadata": {
    "scrolled": true
   },
   "outputs": [
    {
     "data": {
      "text/plain": [
       "0"
      ]
     },
     "execution_count": 12,
     "metadata": {},
     "output_type": "execute_result"
    }
   ],
   "source": [
    "df.filter(df[\"MX-Record from the name server\"]==\"null\").count()"
   ]
  },
  {
   "cell_type": "markdown",
   "id": "fb768318",
   "metadata": {},
   "source": [
    "* keine Null Values"
   ]
  },
  {
   "cell_type": "code",
   "execution_count": 14,
   "id": "b43a7edf",
   "metadata": {},
   "outputs": [
    {
     "name": "stdout",
     "output_type": "stream",
     "text": [
      "+------------------------------+------+\n",
      "|MX-Record from the name server| count|\n",
      "+------------------------------+------+\n",
      "|                            []|633040|\n",
      "|          \"[\"\"smtpin.rzone....|509127|\n",
      "|             \"[\"\"localhost\"\"]\"|303839|\n",
      "|          \"[\"\"mx01.kundense...|176491|\n",
      "|          \"[\"\"mx00.kundense...|176182|\n",
      "+------------------------------+------+\n",
      "only showing top 5 rows\n",
      "\n"
     ]
    }
   ],
   "source": [
    "dfMxCount=df.groupBy(\"MX-Record from the name server\").count()\n",
    "dfMxCount.orderBy(col(\"count\").desc()).show(5)"
   ]
  },
  {
   "cell_type": "markdown",
   "id": "76cfa582",
   "metadata": {},
   "source": [
    "#### A Records"
   ]
  },
  {
   "cell_type": "code",
   "execution_count": 15,
   "id": "64533d1f",
   "metadata": {
    "scrolled": false
   },
   "outputs": [
    {
     "data": {
      "text/plain": [
       "10732"
      ]
     },
     "execution_count": 15,
     "metadata": {},
     "output_type": "execute_result"
    }
   ],
   "source": [
    "df.filter(df[\"A-Record of the specific domain\"]==\"null\").count()"
   ]
  },
  {
   "cell_type": "markdown",
   "id": "40597996",
   "metadata": {},
   "source": [
    "* es gibt 10.732 Null Values\n",
    "* diese können mit [] ersetzt werde"
   ]
  },
  {
   "cell_type": "code",
   "execution_count": 16,
   "id": "22275573",
   "metadata": {},
   "outputs": [],
   "source": [
    "#df = df.withColumn('A-Record of the specific domain', regexp_replace('A-Record of the specific domain', 'null', '[]'))\n",
    "df=df.na.replace({\"null\": \"[]\"})"
   ]
  },
  {
   "cell_type": "code",
   "execution_count": 17,
   "id": "d451422e",
   "metadata": {},
   "outputs": [
    {
     "name": "stdout",
     "output_type": "stream",
     "text": [
      "+-------------------------------+------+\n",
      "|A-Record of the specific domain| count|\n",
      "+-------------------------------+------+\n",
      "|           \"[\"\"91.195.241.13...|303204|\n",
      "|                             []|172019|\n",
      "|           \"[\"\"80.150.6.143\"\"]\"|150156|\n",
      "|           \"[\"\"23.236.62.147...| 59034|\n",
      "|            \"[\"\"52.58.78.16\"\"]\"| 49200|\n",
      "+-------------------------------+------+\n",
      "only showing top 5 rows\n",
      "\n"
     ]
    }
   ],
   "source": [
    "dfACount=df.groupBy(\"A-Record of the specific domain\").count()\n",
    "dfACount.orderBy(col(\"count\").desc()).show(5)"
   ]
  },
  {
   "cell_type": "code",
   "execution_count": null,
   "id": "e8bb164f",
   "metadata": {},
   "outputs": [],
   "source": []
  }
 ],
 "metadata": {
  "kernelspec": {
   "display_name": "Python 3",
   "language": "python",
   "name": "python3"
  },
  "language_info": {
   "codemirror_mode": {
    "name": "ipython",
    "version": 3
   },
   "file_extension": ".py",
   "mimetype": "text/x-python",
   "name": "python",
   "nbconvert_exporter": "python",
   "pygments_lexer": "ipython3",
   "version": "3.9.4"
  }
 },
 "nbformat": 4,
 "nbformat_minor": 5
}
