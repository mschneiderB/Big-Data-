{
 "cells": [
  {
   "cell_type": "code",
   "execution_count": 2,
   "id": "9ed6e312",
   "metadata": {},
   "outputs": [],
   "source": [
    "import pandas as pd\n",
    "Domains=\"real_domains.csv\"\n",
    "df=pd.read_csv(Domains,names=['top_level_domain','mx_record','a_record','timestamp'])\n",
    "df.columns=['top_level_domain','mx_record','a_record','timestamp']\n"
   ]
  },
  {
   "cell_type": "code",
   "execution_count": 6,
   "id": "ebaafcdd",
   "metadata": {},
   "outputs": [
    {
     "name": "stdout",
     "output_type": "stream",
     "text": [
      "        top_level_domain                                          mx_record  \\\n",
      "0                0--1.de               [\"mail.0--1.de\",\"mxf993.netcup.net\"]   \n",
      "1                0--2.de               [\"mxf993.netcup.net\",\"mail.0--2.de\"]   \n",
      "2           0-0-0-0-0.de  [\"smtp-02.tld.t-online.de\",\"smtp-01.tld.t-onli...   \n",
      "3             0-0-0-1.de  [\"smtp-02.tld.t-online.de\",\"smtp-01.tld.t-onli...   \n",
      "4                 0-0.de                                                 []   \n",
      "...                  ...                                                ...   \n",
      "4860880          zzzw.de                                   [\"mail.zzzw.de\"]   \n",
      "4860881        zzzwei.de  [\"smtp-02.tld.t-online.de\",\"smtp-01.tld.t-onli...   \n",
      "4860882       zzzzzzz.de                                      [\"localhost\"]   \n",
      "4860883     zzzzzzzzz.de                                      [\"localhost\"]   \n",
      "4860884    zzzzzzzzzz.de                             [\"mail.zzzzzzzzzz.de\"]   \n",
      "\n",
      "                                                  a_record  \\\n",
      "0                                        [\"46.38.249.145\"]   \n",
      "1                                      [\"212.227.212.163\"]   \n",
      "2                                         [\"80.150.6.143\"]   \n",
      "3                                         [\"80.150.6.143\"]   \n",
      "4                                        [\"185.53.178.13\"]   \n",
      "...                                                    ...   \n",
      "4860880  [\"104.27.159.32\",\"104.27.158.32\",\"172.67.216.93\"]   \n",
      "4860881                                   [\"80.150.6.143\"]   \n",
      "4860882                                 [\"91.195.241.137\"]   \n",
      "4860883                                 [\"91.195.241.137\"]   \n",
      "4860884                                  [\"217.11.48.203\"]   \n",
      "\n",
      "                   timestamp  \n",
      "0        2020-12-13 15:36:05  \n",
      "1        2020-12-13 15:36:05  \n",
      "2        2020-12-13 15:36:05  \n",
      "3        2020-12-13 15:36:05  \n",
      "4        2020-12-13 15:36:05  \n",
      "...                      ...  \n",
      "4860880  2020-12-13 15:36:04  \n",
      "4860881  2020-12-13 15:36:04  \n",
      "4860882  2020-12-13 15:36:05  \n",
      "4860883  2020-12-13 15:36:05  \n",
      "4860884  2020-12-13 15:36:05  \n",
      "\n",
      "[4860885 rows x 4 columns]\n"
     ]
    }
   ],
   "source": [
    "df.head()\n",
    "print(df)\n"
   ]
  },
  {
   "cell_type": "code",
   "execution_count": 5,
   "id": "9f4be511",
   "metadata": {},
   "outputs": [
    {
     "data": {
      "text/html": [
       "<div>\n",
       "<style scoped>\n",
       "    .dataframe tbody tr th:only-of-type {\n",
       "        vertical-align: middle;\n",
       "    }\n",
       "\n",
       "    .dataframe tbody tr th {\n",
       "        vertical-align: top;\n",
       "    }\n",
       "\n",
       "    .dataframe thead th {\n",
       "        text-align: right;\n",
       "    }\n",
       "</style>\n",
       "<table border=\"1\" class=\"dataframe\">\n",
       "  <thead>\n",
       "    <tr style=\"text-align: right;\">\n",
       "      <th></th>\n",
       "      <th>top_level_domain</th>\n",
       "      <th>mx_record</th>\n",
       "      <th>a_record</th>\n",
       "      <th>timestamp</th>\n",
       "    </tr>\n",
       "  </thead>\n",
       "  <tbody>\n",
       "  </tbody>\n",
       "</table>\n",
       "</div>"
      ],
      "text/plain": [
       "Empty DataFrame\n",
       "Columns: [top_level_domain, mx_record, a_record, timestamp]\n",
       "Index: []"
      ]
     },
     "execution_count": 5,
     "metadata": {},
     "output_type": "execute_result"
    }
   ],
   "source": [
    "df[df['mx_record'].str.match('^localhost.*')==True]"
   ]
  },
  {
   "cell_type": "code",
   "execution_count": null,
   "id": "07e1e1b5",
   "metadata": {},
   "outputs": [],
   "source": []
  },
  {
   "cell_type": "code",
   "execution_count": null,
   "id": "6ef66025",
   "metadata": {},
   "outputs": [],
   "source": []
  },
  {
   "cell_type": "code",
   "execution_count": null,
   "id": "18d5587c",
   "metadata": {},
   "outputs": [],
   "source": [
    "\n"
   ]
  },
  {
   "cell_type": "code",
   "execution_count": null,
   "id": "a3ba6ea4",
   "metadata": {},
   "outputs": [],
   "source": []
  },
  {
   "cell_type": "code",
   "execution_count": null,
   "id": "b980ecb1",
   "metadata": {},
   "outputs": [],
   "source": []
  }
 ],
 "metadata": {
  "kernelspec": {
   "display_name": "Python 3",
   "language": "python",
   "name": "python3"
  },
  "language_info": {
   "codemirror_mode": {
    "name": "ipython",
    "version": 3
   },
   "file_extension": ".py",
   "mimetype": "text/x-python",
   "name": "python",
   "nbconvert_exporter": "python",
   "pygments_lexer": "ipython3",
   "version": "3.9.5"
  }
 },
 "nbformat": 4,
 "nbformat_minor": 5
}
